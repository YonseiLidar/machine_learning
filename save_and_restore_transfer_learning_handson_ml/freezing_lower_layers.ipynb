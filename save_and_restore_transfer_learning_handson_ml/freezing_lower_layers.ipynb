{
 "cells": [
  {
   "cell_type": "code",
   "execution_count": 1,
   "metadata": {},
   "outputs": [],
   "source": [
    "import tensorflow as tf\n",
    "import numpy as np\n",
    "(x_train, y_train), (x_test, y_test) = tf.keras.datasets.mnist.load_data()\n",
    "x_train = x_train.astype(np.float32).reshape(-1, 28*28) / 255.0\n",
    "x_test = x_test.astype(np.float32).reshape(-1, 28*28) / 255.0\n",
    "y_train = y_train.astype(np.int32)\n",
    "y_test = y_test.astype(np.int32)\n",
    "x_valid, x_train = x_train[:5000], x_train[5000:]\n",
    "y_valid, y_train = y_train[:5000], y_train[5000:]"
   ]
  },
  {
   "cell_type": "code",
   "execution_count": 2,
   "metadata": {},
   "outputs": [],
   "source": [
    "def shuffle_batch(x, y, batch_size):\n",
    "    rnd_idx = np.random.permutation(len(x))\n",
    "    n_batches = len(x) // batch_size\n",
    "    for batch_idx in np.array_split(rnd_idx, n_batches):\n",
    "        x_batch, y_batch = x[batch_idx], y[batch_idx]\n",
    "        yield x_batch, y_batch"
   ]
  },
  {
   "cell_type": "code",
   "execution_count": 3,
   "metadata": {},
   "outputs": [],
   "source": [
    "import tensorflow as tf\n",
    "import numpy as np\n",
    "tf.reset_default_graph()\n",
    "tf.set_random_seed(0)\n",
    "np.random.seed(0)"
   ]
  },
  {
   "cell_type": "code",
   "execution_count": 4,
   "metadata": {},
   "outputs": [],
   "source": [
    "lr = 0.01\n",
    "epoch = 20\n",
    "batch_size = 200\n",
    "threshold = 1.0"
   ]
  },
  {
   "cell_type": "code",
   "execution_count": 5,
   "metadata": {},
   "outputs": [
    {
     "name": "stdout",
     "output_type": "stream",
     "text": [
      "WARNING:tensorflow:From <ipython-input-5-827d00df7efd>:12: dense (from tensorflow.python.layers.core) is deprecated and will be removed in a future version.\n",
      "Instructions for updating:\n",
      "Use keras.layers.Dense instead.\n",
      "WARNING:tensorflow:From /Users/sungchullee/anaconda3/lib/python3.6/site-packages/tensorflow_core/python/layers/core.py:187: Layer.apply (from tensorflow.python.keras.engine.base_layer) is deprecated and will be removed in a future version.\n",
      "Instructions for updating:\n",
      "Please use `layer.__call__` method instead.\n"
     ]
    }
   ],
   "source": [
    "n_inputs = 28 * 28  # MNIST\n",
    "n_hidden1 = 300 # reused\n",
    "n_hidden2 = 50  # reused\n",
    "n_hidden3 = 50  # reused\n",
    "n_hidden4 = 20  # new!\n",
    "n_outputs = 10  # new!\n",
    "\n",
    "x = tf.placeholder(tf.float32, shape=(None, n_inputs), name=\"x\")\n",
    "y = tf.placeholder(tf.int32, shape=(None), name=\"y\")\n",
    "\n",
    "with tf.name_scope(\"dnn\"):\n",
    "    hidden1 = tf.layers.dense(x, n_hidden1, activation=tf.nn.relu, name=\"hidden1\")       # reused\n",
    "    hidden2 = tf.layers.dense(hidden1, n_hidden2, activation=tf.nn.relu, name=\"hidden2\") # reused\n",
    "    hidden3 = tf.layers.dense(hidden2, n_hidden3, activation=tf.nn.relu, name=\"hidden3\") # reused\n",
    "    hidden4 = tf.layers.dense(hidden3, n_hidden4, activation=tf.nn.relu, name=\"hidden4\") # new!\n",
    "    logits = tf.layers.dense(hidden4, n_outputs, name=\"outputs\")                         # new!\n",
    "\n",
    "with tf.name_scope(\"loss\"):\n",
    "    entropy = tf.nn.sparse_softmax_cross_entropy_with_logits(labels=y, logits=logits)\n",
    "    loss = tf.reduce_mean(entropy, name=\"loss\")\n",
    "\n",
    "with tf.name_scope(\"eval\"):\n",
    "    correct = tf.nn.in_top_k(logits, y, 1)\n",
    "    accuracy = tf.reduce_mean(tf.cast(correct, tf.float32), name=\"accuracy\")\n",
    "\n",
    "with tf.name_scope(\"train\"):\n",
    "    opt = tf.train.GradientDescentOptimizer(lr)\n",
    "    var_list = tf.get_collection(tf.GraphKeys.TRAINABLE_VARIABLES,\n",
    "                                   scope=\"hidden[34]|outputs\")\n",
    "    train = opt.minimize(loss, var_list=var_list)"
   ]
  },
  {
   "cell_type": "code",
   "execution_count": 6,
   "metadata": {},
   "outputs": [
    {
     "data": {
      "text/plain": [
       "[<tf.Variable 'hidden3/kernel:0' shape=(50, 50) dtype=float32_ref>,\n",
       " <tf.Variable 'hidden3/bias:0' shape=(50,) dtype=float32_ref>,\n",
       " <tf.Variable 'hidden4/kernel:0' shape=(50, 20) dtype=float32_ref>,\n",
       " <tf.Variable 'hidden4/bias:0' shape=(20,) dtype=float32_ref>,\n",
       " <tf.Variable 'outputs/kernel:0' shape=(20, 10) dtype=float32_ref>,\n",
       " <tf.Variable 'outputs/bias:0' shape=(10,) dtype=float32_ref>]"
      ]
     },
     "execution_count": 6,
     "metadata": {},
     "output_type": "execute_result"
    }
   ],
   "source": [
    "tf.get_collection(tf.GraphKeys.TRAINABLE_VARIABLES,\n",
    "                                   scope=\"hidden[34]|outputs\")"
   ]
  },
  {
   "cell_type": "code",
   "execution_count": 7,
   "metadata": {},
   "outputs": [
    {
     "data": {
      "text/plain": [
       "[<tf.Variable 'hidden3/kernel:0' shape=(50, 50) dtype=float32_ref>,\n",
       " <tf.Variable 'hidden3/bias:0' shape=(50,) dtype=float32_ref>,\n",
       " <tf.Variable 'hidden4/kernel:0' shape=(50, 20) dtype=float32_ref>,\n",
       " <tf.Variable 'hidden4/bias:0' shape=(20,) dtype=float32_ref>]"
      ]
     },
     "execution_count": 7,
     "metadata": {},
     "output_type": "execute_result"
    }
   ],
   "source": [
    "tf.get_collection(tf.GraphKeys.TRAINABLE_VARIABLES,\n",
    "                                   scope=\"hidden[34]\")"
   ]
  },
  {
   "cell_type": "code",
   "execution_count": 8,
   "metadata": {},
   "outputs": [
    {
     "data": {
      "text/plain": [
       "'variables'"
      ]
     },
     "execution_count": 8,
     "metadata": {},
     "output_type": "execute_result"
    }
   ],
   "source": [
    "tf.GraphKeys.GLOBAL_VARIABLES"
   ]
  },
  {
   "cell_type": "code",
   "execution_count": 9,
   "metadata": {},
   "outputs": [
    {
     "data": {
      "text/plain": [
       "[<tf.Variable 'hidden1/kernel:0' shape=(784, 300) dtype=float32_ref>,\n",
       " <tf.Variable 'hidden1/bias:0' shape=(300,) dtype=float32_ref>,\n",
       " <tf.Variable 'hidden2/kernel:0' shape=(300, 50) dtype=float32_ref>,\n",
       " <tf.Variable 'hidden2/bias:0' shape=(50,) dtype=float32_ref>,\n",
       " <tf.Variable 'hidden3/kernel:0' shape=(50, 50) dtype=float32_ref>,\n",
       " <tf.Variable 'hidden3/bias:0' shape=(50,) dtype=float32_ref>]"
      ]
     },
     "execution_count": 9,
     "metadata": {},
     "output_type": "execute_result"
    }
   ],
   "source": [
    "reuse_vars = tf.get_collection(tf.GraphKeys.GLOBAL_VARIABLES,\n",
    "                               scope=\"hidden[123]\") # regular expression\n",
    "reuse_vars"
   ]
  },
  {
   "cell_type": "code",
   "execution_count": 10,
   "metadata": {},
   "outputs": [],
   "source": [
    "restore_saver = tf.train.Saver(reuse_vars) # to restore layers 1-3"
   ]
  },
  {
   "cell_type": "code",
   "execution_count": 11,
   "metadata": {},
   "outputs": [],
   "source": [
    "init = tf.global_variables_initializer()"
   ]
  },
  {
   "cell_type": "code",
   "execution_count": 12,
   "metadata": {},
   "outputs": [],
   "source": [
    "saver = tf.train.Saver()"
   ]
  },
  {
   "cell_type": "code",
   "execution_count": 13,
   "metadata": {},
   "outputs": [
    {
     "name": "stdout",
     "output_type": "stream",
     "text": [
      "INFO:tensorflow:Restoring parameters from ./save/my_model_final.ckpt\n",
      "0 Validation accuracy: 0.7826\n",
      "1 Validation accuracy: 0.9198\n",
      "2 Validation accuracy: 0.9372\n",
      "3 Validation accuracy: 0.9448\n",
      "4 Validation accuracy: 0.949\n",
      "5 Validation accuracy: 0.9528\n",
      "6 Validation accuracy: 0.9544\n",
      "7 Validation accuracy: 0.955\n",
      "8 Validation accuracy: 0.956\n",
      "9 Validation accuracy: 0.9562\n",
      "10 Validation accuracy: 0.9572\n",
      "11 Validation accuracy: 0.9568\n",
      "12 Validation accuracy: 0.956\n",
      "13 Validation accuracy: 0.9572\n",
      "14 Validation accuracy: 0.9566\n",
      "15 Validation accuracy: 0.9556\n",
      "16 Validation accuracy: 0.956\n",
      "17 Validation accuracy: 0.9576\n",
      "18 Validation accuracy: 0.9574\n",
      "19 Validation accuracy: 0.9584\n"
     ]
    }
   ],
   "source": [
    "with tf.Session() as sess:\n",
    "    init.run()\n",
    "    restore_saver.restore(sess, \"./save/my_model_final.ckpt\")\n",
    "\n",
    "    for i in range(epoch):                                            # not shown in the book\n",
    "        for x_batch, y_batch in shuffle_batch(x_train, y_train, batch_size): # not shown\n",
    "            sess.run(train, feed_dict={x: x_batch, y: y_batch})        # not shown\n",
    "        accuracy_val = accuracy.eval(feed_dict={x: x_valid, y: y_valid})     # not shown\n",
    "        print(i, \"Validation accuracy:\", accuracy_val)                   # not shown\n",
    "\n",
    "    save_path = saver.save(sess, \"./save/my_new_model_final.ckpt\")"
   ]
  },
  {
   "cell_type": "code",
   "execution_count": null,
   "metadata": {},
   "outputs": [],
   "source": []
  }
 ],
 "metadata": {
  "kernelspec": {
   "display_name": "Python 3",
   "language": "python",
   "name": "python3"
  },
  "language_info": {
   "codemirror_mode": {
    "name": "ipython",
    "version": 3
   },
   "file_extension": ".py",
   "mimetype": "text/x-python",
   "name": "python",
   "nbconvert_exporter": "python",
   "pygments_lexer": "ipython3",
   "version": "3.6.9"
  }
 },
 "nbformat": 4,
 "nbformat_minor": 2
}
