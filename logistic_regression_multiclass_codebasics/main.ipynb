{
 "cells": [
  {
   "cell_type": "markdown",
   "metadata": {},
   "source": [
    "[codebasics](https://www.youtube.com/watch?v=J5bXOOmkopc&list=PLeo1K3hjS3uvCeTYTeyfe0-rN5r8zn9rw&index=9)"
   ]
  },
  {
   "cell_type": "code",
   "execution_count": 1,
   "metadata": {},
   "outputs": [],
   "source": [
    "%matplotlib inline"
   ]
  },
  {
   "cell_type": "code",
   "execution_count": 2,
   "metadata": {},
   "outputs": [
    {
     "name": "stdout",
     "output_type": "stream",
     "text": [
      "[ 0.  0.  5. 13.  9.  1.  0.  0.  0.  0. 13. 15. 10. 15.  5.  0.  0.  3.\n",
      " 15.  2.  0. 11.  8.  0.  0.  4. 12.  0.  0.  8.  8.  0.  0.  5.  8.  0.\n",
      "  0.  9.  8.  0.  0.  4. 11.  0.  1. 12.  7.  0.  0.  2. 14.  5. 10. 12.\n",
      "  0.  0.  0.  0.  6. 13. 10.  0.  0.  0.]\n",
      "[[ 0.  0.  5. 13.  9.  1.  0.  0.]\n",
      " [ 0.  0. 13. 15. 10. 15.  5.  0.]\n",
      " [ 0.  3. 15.  2.  0. 11.  8.  0.]\n",
      " [ 0.  4. 12.  0.  0.  8.  8.  0.]\n",
      " [ 0.  5.  8.  0.  0.  9.  8.  0.]\n",
      " [ 0.  4. 11.  0.  1. 12.  7.  0.]\n",
      " [ 0.  2. 14.  5. 10. 12.  0.  0.]\n",
      " [ 0.  0.  6. 13. 10.  0.  0.  0.]]\n",
      "2\n",
      "[0 1 2 3 4 5 6 7 8 9]\n"
     ]
    }
   ],
   "source": [
    "from sklearn.datasets import load_digits\n",
    "import matplotlib.pyplot as plt\n",
    "\n",
    "digits = load_digits()\n",
    "# print(type(digits))\n",
    "# print(dir(digits))\n",
    "# print()\n",
    "\n",
    "# print(digits.DESCR)\n",
    "# print()\n",
    "\n",
    "# print(type(digits.data))\n",
    "# print(type(digits.images))\n",
    "# print(type(digits.target))\n",
    "# print(type(digits.target_names))\n",
    "# print()\n",
    "\n",
    "# print(digits.data.shape)\n",
    "# print(digits.images.shape)\n",
    "# print(digits.target.shape)\n",
    "# print(digits.target_names.shape)\n",
    "# print()\n",
    "\n",
    "# print(type(digits.data[0]))\n",
    "# print(type(digits.images[0]))\n",
    "# print(type(digits.target[0]))\n",
    "# print(type(digits.target_names[0]))\n",
    "# print()\n",
    "\n",
    "# print(digits.data[0].shape)\n",
    "# print(digits.images[0].shape)\n",
    "# print(digits.target[100])\n",
    "# print(digits.target_names)\n",
    "\n",
    "# for i in range(5):\n",
    "#     plt.imshow(digits.images[i])\n",
    "#     plt.show()\n",
    "    \n",
    "print(digits.data[0])\n",
    "print(digits.images[0])\n",
    "print(digits.target[2])\n",
    "print(digits.target_names)"
   ]
  },
  {
   "cell_type": "code",
   "execution_count": 3,
   "metadata": {},
   "outputs": [],
   "source": [
    "from sklearn.model_selection import train_test_split\n",
    "x_train, x_test, y_train, y_test = train_test_split(digits.data, digits.target, test_size=0.2)"
   ]
  },
  {
   "cell_type": "code",
   "execution_count": 7,
   "metadata": {},
   "outputs": [
    {
     "name": "stderr",
     "output_type": "stream",
     "text": [
      "/Users/sungchul/anaconda3/lib/python3.7/site-packages/sklearn/linear_model/logistic.py:469: FutureWarning: Default multi_class will be changed to 'auto' in 0.22. Specify the multi_class option to silence this warning.\n",
      "  \"this warning.\", FutureWarning)\n"
     ]
    },
    {
     "data": {
      "image/png": "[encoded data removed]",
      "text/plain": [
       "<Figure size 432x288 with 1 Axes>"
      ]
     },
     "metadata": {
      "needs_background": "light"
     },
     "output_type": "display_data"
    },
    {
     "name": "stdout",
     "output_type": "stream",
     "text": [
      "[ 0.  5. 15. 16.  6.  0.  0.  0.  0. 11. 16. 16. 11.  0.  0.  0.  0.  6.\n",
      " 10. 11. 14.  0.  0.  0.  0.  0.  0.  7. 15.  0.  0.  0.  0.  0.  0. 11.\n",
      " 11.  0.  0.  0.  0.  0.  3. 16.  6.  0.  0.  0.  0.  0. 13. 16. 15. 12.\n",
      " 11.  0.  0.  6. 16. 16. 16. 13.  3.  0.]\n",
      "2\n",
      "2\n",
      "[6.39048955e-16 1.23447274e-09 9.99988675e-01 1.82678566e-11\n",
      " 2.05796411e-15 5.35136322e-06 9.91872168e-13 9.49630495e-20\n",
      " 5.97253367e-06 9.32963614e-17]\n",
      "0.975\n"
     ]
    }
   ],
   "source": [
    "from sklearn.linear_model import LogisticRegression\n",
    "\n",
    "model = LogisticRegression(solver='lbfgs', max_iter=1000)\n",
    "model.fit(x_train, y_train)\n",
    "y_pred = model.predict(x_test)\n",
    "y_pred_prob = model.predict_proba(x_test)\n",
    "\n",
    "plt.imshow(x_test[0].reshape((8, 8)))\n",
    "plt.show()\n",
    "\n",
    "print(x_test[0])\n",
    "print(y_test[0])\n",
    "print(y_pred[0])\n",
    "print(y_pred_prob[0])\n",
    "print(model.score(x_test, y_test))"
   ]
  },
  {
   "cell_type": "code",
   "execution_count": 8,
   "metadata": {},
   "outputs": [
    {
     "name": "stdout",
     "output_type": "stream",
     "text": [
      "0.975\n",
      "[[36  0  0  0  0  0  0  0  0  0]\n",
      " [ 0 43  0  1  0  0  0  0  0  0]\n",
      " [ 0  0 41  2  0  0  0  0  0  0]\n",
      " [ 0  0  0 24  0  1  0  0  2  0]\n",
      " [ 0  0  0  0 38  0  0  0  0  0]\n",
      " [ 0  0  0  0  0 39  0  0  0  0]\n",
      " [ 0  0  0  0  0  0 43  0  0  0]\n",
      " [ 0  0  0  0  0  0  0 32  0  0]\n",
      " [ 0  1  0  1  0  0  0  0 29  0]\n",
      " [ 0  0  0  1  0  0  0  0  0 26]]\n"
     ]
    }
   ],
   "source": [
    "from sklearn.metrics import confusion_matrix\n",
    "\n",
    "print(model.score(x_test,y_test))\n",
    "cm = confusion_matrix(y_test, y_pred)\n",
    "print(cm)"
   ]
  },
  {
   "cell_type": "markdown",
   "metadata": {},
   "source": [
    "**Exercise**"
   ]
  },
  {
   "cell_type": "markdown",
   "metadata": {},
   "source": [
    "Use sklearn.datasets iris flower dataset to train your model using logistic regression. You need to figure out accuracy \n",
    "of your model and use that to predict different samples in your test dataset. In iris dataset there are 150 samples containing following features,\n",
    "\n",
    "1. Sepal Length\n",
    "2. Sepal Width \n",
    "3. Petal Length \n",
    "4. Petal Width\n",
    "\n",
    "Using above 4 features you will clasify a flower in one of the three categories,\n",
    "\n",
    "1. Setosa\n",
    "2. Versicolour\n",
    "3. Virginica"
   ]
  },
  {
   "cell_type": "markdown",
   "metadata": {},
   "source": [
    "<img height=300 width=300 src=\"iris_petal_sepal.png\" />"
   ]
  }
 ],
 "metadata": {
  "kernelspec": {
   "display_name": "Python 3",
   "language": "python",
   "name": "python3"
  },
  "language_info": {
   "codemirror_mode": {
    "name": "ipython",
    "version": 3
   },
   "file_extension": ".py",
   "mimetype": "text/x-python",
   "name": "python",
   "nbconvert_exporter": "python",
   "pygments_lexer": "ipython3",
   "version": "3.7.3"
  }
 },
 "nbformat": 4,
 "nbformat_minor": 2
}
