{
 "cells": [
  {
   "cell_type": "code",
   "execution_count": 1,
   "metadata": {},
   "outputs": [],
   "source": [
    "import tensorflow as tf\n",
    "import numpy as np\n",
    "tf.reset_default_graph()\n",
    "tf.set_random_seed(0)\n",
    "np.random.seed(0)"
   ]
  },
  {
   "cell_type": "code",
   "execution_count": 2,
   "metadata": {},
   "outputs": [],
   "source": [
    "lr = 1e-2\n",
    "epoch = int(1e3)\n",
    "batch_size = 100"
   ]
  },
  {
   "cell_type": "code",
   "execution_count": 3,
   "metadata": {},
   "outputs": [
    {
     "name": "stdout",
     "output_type": "stream",
     "text": [
      "(60000, 784) (10000, 784)\n",
      "(60000, 10) (10000, 10)\n",
      "(60000,) (10000,)\n"
     ]
    }
   ],
   "source": [
    "import tensorflow as tf\n",
    "import numpy as np\n",
    "import copy\n",
    "mnist = tf.keras.datasets.mnist\n",
    "(x_train, y_train), (x_test, y_test) = mnist.load_data()\n",
    "x_train, x_test = x_train / 255.0, x_test / 255.0\n",
    "x_train, x_test = x_train.reshape((-1, 784)), x_test.reshape((-1, 784))\n",
    "x_train, x_test = x_train.astype(np.float32), x_test.astype(np.float32)\n",
    "y_train_cls = copy.copy(y_train).astype(np.int32) \n",
    "y_test_cls = copy.copy(y_test).astype(np.int32)\n",
    "y_train = np.eye(10)[y_train].astype(np.float32)\n",
    "y_test = np.eye(10)[y_test].astype(np.float32)\n",
    "print(x_train.shape, x_test.shape)\n",
    "print(y_train.shape, y_test.shape)\n",
    "print(y_train_cls.shape, y_test_cls.shape)"
   ]
  },
  {
   "cell_type": "code",
   "execution_count": 4,
   "metadata": {},
   "outputs": [],
   "source": [
    "activation = tf.nn.leaky_relu"
   ]
  },
  {
   "cell_type": "code",
   "execution_count": 5,
   "metadata": {},
   "outputs": [
    {
     "name": "stdout",
     "output_type": "stream",
     "text": [
      "(?, 10) (?,) ()\n",
      "(?,) (?,) ()\n",
      "<dtype: 'int32'> <dtype: 'bool'> <dtype: 'float32'>\n"
     ]
    }
   ],
   "source": [
    "x = tf.placeholder(tf.float32, (None,784)) # (?, 784)\n",
    "y = tf.placeholder(tf.float32, (None,10)) # (?, 10)\n",
    "y_cls = tf.placeholder(tf.int32, (None,)) # (?,)\n",
    "\n",
    "b1 = tf.get_variable('b1', (100,), tf.float32, tf.keras.initializers.constant(0.0))\n",
    "w1 = tf.get_variable('w1', (784,100), tf.float32, tf.keras.initializers.he_normal())\n",
    "\n",
    "b2 = tf.get_variable('b2', (10,), tf.float32, tf.keras.initializers.constant(0.0))\n",
    "w2 = tf.get_variable('w2', (100,10), tf.float32, tf.keras.initializers.he_normal())\n",
    "\n",
    "x1 = activation(x @ w1 + b1) # (?,100) = (?,784) @ (784,100) + (100,) \n",
    "logits = x1 @ w2 + b2 # (?,10) = (?,100) @ (100,10) + (10,) \n",
    "entropy = tf.nn.softmax_cross_entropy_with_logits_v2(labels=y, logits=logits) # (?,)\n",
    "loss = tf.reduce_mean(entropy) # ()\n",
    "train = tf.train.GradientDescentOptimizer(learning_rate=lr).minimize(loss)\n",
    "print(logits.shape, entropy.shape, loss.shape)\n",
    "\n",
    "y_pred_cls = tf.cast(tf.argmax(logits, axis=1), tf.int32, name='y_pred_cls') # (?,) int32\n",
    "correct_bool = tf.equal(y_pred_cls, y_cls, name='correct_bool') # (?,) bool\n",
    "accuracy = tf.reduce_mean(tf.cast(correct_bool, tf.float32), name='accuracy') # () float32\n",
    "print(y_pred_cls.shape, correct_bool.shape, accuracy.shape)\n",
    "print(y_pred_cls.dtype, correct_bool.dtype, accuracy.dtype)"
   ]
  },
  {
   "cell_type": "code",
   "execution_count": 6,
   "metadata": {},
   "outputs": [],
   "source": [
    "with tf.Session() as sess:\n",
    "    \n",
    "    tf.global_variables_initializer().run()\n",
    "    \n",
    "    loss_trace = []\n",
    "    accuracy_trace = []\n",
    "\n",
    "    for i in range(epoch):\n",
    "        idx = np.arange(x_train.shape[0])\n",
    "        np.random.shuffle(idx)\n",
    "        x_epoch = x_train[idx]\n",
    "        y_epoch = y_train[idx]\n",
    "        y_cls_epoch = y_train_cls[idx]\n",
    "        for k in range(x_train.shape[0]//batch_size):\n",
    "            x_batch = x_epoch[k*batch_size:(k+1)*batch_size]\n",
    "            y_batch = y_epoch[k*batch_size:(k+1)*batch_size]\n",
    "            y_cls_batch = y_cls_epoch[k*batch_size:(k+1)*batch_size]\n",
    "            feed_dict = {x:x_batch, y:y_batch, y_cls:y_cls_batch}\n",
    "            loss_run, accuracy_run, _ = sess.run([loss, accuracy, train], feed_dict=feed_dict)\n",
    "            loss_trace.append(loss_run)\n",
    "            accuracy_trace.append(accuracy_run)\n",
    "    \n",
    "    feed_dict = {x:x_test, y:y_test, y_cls:y_test_cls}\n",
    "    accuracy_run, y_test_cls_pred = sess.run([accuracy, y_pred_cls], feed_dict=feed_dict)"
   ]
  },
  {
   "cell_type": "code",
   "execution_count": 7,
   "metadata": {},
   "outputs": [
    {
     "data": {
      "image/png": "[encoded data removed]",
      "text/plain": [
       "<Figure size 432x288 with 2 Axes>"
      ]
     },
     "metadata": {
      "needs_background": "light"
     },
     "output_type": "display_data"
    }
   ],
   "source": [
    "%matplotlib inline\n",
    "import matplotlib.pyplot as plt\n",
    "fig, (ax1, ax2) = plt.subplots(1, 2)\n",
    "ax1.plot(loss_trace)\n",
    "ax2.plot(accuracy_trace)\n",
    "ax1.set_title('loss')\n",
    "ax2.set_title('accuracy')\n",
    "ax1.set_xlabel('grad_step')\n",
    "ax2.set_xlabel('grad_step')\n",
    "plt.tight_layout()\n",
    "plt.show()"
   ]
  },
  {
   "cell_type": "code",
   "execution_count": 8,
   "metadata": {},
   "outputs": [
    {
     "name": "stdout",
     "output_type": "stream",
     "text": [
      "Test Accuracy : 0.9775\n"
     ]
    }
   ],
   "source": [
    "print('Test Accuracy :', accuracy_run)"
   ]
  },
  {
   "cell_type": "code",
   "execution_count": 9,
   "metadata": {},
   "outputs": [
    {
     "name": "stdout",
     "output_type": "stream",
     "text": [
      "[[ 967    1    0    1    1    1    2    2    2    3]\n",
      " [   0 1124    3    1    0    1    2    1    3    0]\n",
      " [   4    4 1000    4    3    1    3    7    5    1]\n",
      " [   0    0    4  990    0    7    0    2    6    1]\n",
      " [   2    0    7    0  957    0    1    2    0   13]\n",
      " [   3    0    0    4    2  869    5    1    7    1]\n",
      " [   4    2    1    1    4    5  938    0    3    0]\n",
      " [   0    3    8    4    1    0    0 1003    2    7]\n",
      " [   4    0    3    6    5    3    4    4  943    2]\n",
      " [   3    3    0    5    5    1    1    4    3  984]]\n"
     ]
    }
   ],
   "source": [
    "from sklearn.metrics import confusion_matrix \n",
    "cm = confusion_matrix(y_true=y_test_cls, y_pred=y_test_cls_pred)\n",
    "print(cm)"
   ]
  },
  {
   "cell_type": "code",
   "execution_count": 10,
   "metadata": {},
   "outputs": [
    {
     "data": {
      "image/png": "[encoded data removed]",
      "text/plain": [
       "<Figure size 720x216 with 20 Axes>"
      ]
     },
     "metadata": {
      "needs_background": "light"
     },
     "output_type": "display_data"
    }
   ],
   "source": [
    "%matplotlib inline\n",
    "import matplotlib.pyplot as plt\n",
    "fig, axes = plt.subplots(2, 10, figsize=(10,3))\n",
    "idx = 0\n",
    "for ax in axes.reshape((-1,)):\n",
    "    while True:\n",
    "        if y_test_cls[idx]==y_test_cls_pred[idx]:\n",
    "            idx += 1\n",
    "        else:\n",
    "            ax.imshow(x_test[idx].reshape((28,28)), cmap=plt.cm.gray)\n",
    "            ax.set_title('True: {}\\nPred: {}'.format(y_test_cls[idx], y_test_cls_pred[idx]))\n",
    "            ax.axis('off')\n",
    "            idx += 1\n",
    "            break\n",
    "plt.tight_layout()\n",
    "plt.show()"
   ]
  },
  {
   "cell_type": "code",
   "execution_count": null,
   "metadata": {},
   "outputs": [],
   "source": []
  }
 ],
 "metadata": {
  "kernelspec": {
   "display_name": "Python 3",
   "language": "python",
   "name": "python3"
  },
  "language_info": {
   "codemirror_mode": {
    "name": "ipython",
    "version": 3
   },
   "file_extension": ".py",
   "mimetype": "text/x-python",
   "name": "python",
   "nbconvert_exporter": "python",
   "pygments_lexer": "ipython3",
   "version": "3.6.9"
  }
 },
 "nbformat": 4,
 "nbformat_minor": 2
}
