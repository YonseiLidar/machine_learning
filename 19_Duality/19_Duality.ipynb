{
 "cells": [
  {
   "cell_type": "markdown",
   "metadata": {},
   "source": [
    "[Zibulevsky](https://www.youtube.com/watch?v=Xu4Tmq2ZGKk) \n",
    "[RGB_mathematics](https://www.youtube.com/watch?v=pJsekSDXDlU)\n",
    "wikipedia\n",
    "[Duality](https://en.wikipedia.org/wiki/Duality_(optimization%29)\n",
    "[Convex_optimization](https://en.wikipedia.org/wiki/Convex_optimization)\n",
    "[Slater's_condition](https://en.wikipedia.org/wiki/Slater%27s_condition)\n",
    "Boyd\n",
    "[pdf](http://localhost:8888/notebooks/Dropbox/Paper/Convex_optimization_Book.pdf)\n",
    "[exercise](http://localhost:8888/notebooks/Dropbox/Paper/Convex_optimization_Extra_exercise.pdf)\n",
    "[slide](http://localhost:8888/notebooks/Dropbox/Paper/Convex_optimization_Slide.pdf)"
   ]
  },
  {
   "cell_type": "markdown",
   "metadata": {},
   "source": [
    "<div align=\"center\"><img src=\"img/Screen Shot 2018-03-21 at 2.18.32 PM.png\" width=\"100%\"></div>"
   ]
  },
  {
   "cell_type": "markdown",
   "metadata": {},
   "source": [
    "<div align=\"center\"><img src=\"img/Screen Shot 2018-03-21 at 2.18.47 PM.png\" width=\"100%\"></div>"
   ]
  },
  {
   "cell_type": "markdown",
   "metadata": {},
   "source": [
    "<div align=\"center\"><img src=\"img/Screen Shot 2018-03-20 at 2.21.20 PM.png\" width=\"100%\"></div>"
   ]
  },
  {
   "cell_type": "code",
   "execution_count": null,
   "metadata": {
    "collapsed": true
   },
   "outputs": [],
   "source": []
  }
 ],
 "metadata": {
  "kernelspec": {
   "display_name": "Python 3",
   "language": "python",
   "name": "python3"
  },
  "language_info": {
   "codemirror_mode": {
    "name": "ipython",
    "version": 3
   },
   "file_extension": ".py",
   "mimetype": "text/x-python",
   "name": "python",
   "nbconvert_exporter": "python",
   "pygments_lexer": "ipython3",
   "version": "3.7.4"
  }
 },
 "nbformat": 4,
 "nbformat_minor": 2
}
