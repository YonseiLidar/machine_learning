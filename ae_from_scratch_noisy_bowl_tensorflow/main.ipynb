{
 "cells": [
  {
   "cell_type": "code",
   "execution_count": 1,
   "metadata": {},
   "outputs": [
    {
     "name": "stdout",
     "output_type": "stream",
     "text": [
      "WARNING:tensorflow:From /Users/sungchullee/anaconda3/lib/python3.6/site-packages/tensorflow_core/python/keras/initializers.py:143: calling RandomNormal.__init__ (from tensorflow.python.ops.init_ops) with dtype is deprecated and will be removed in a future version.\n",
      "Instructions for updating:\n",
      "Call initializer instance with the dtype argument instead of passing it to the constructor\n"
     ]
    },
    {
     "data": {
      "image/png": "[encoded data removed]",
      "text/plain": [
       "<Figure size 432x288 with 1 Axes>"
      ]
     },
     "metadata": {
      "needs_background": "light"
     },
     "output_type": "display_data"
    }
   ],
   "source": [
    "%matplotlib inline\n",
    "import tensorflow as tf\n",
    "import numpy as np\n",
    "import pandas as pd\n",
    "import matplotlib.pyplot as plt\n",
    "\n",
    "lr = 1e-4  #1e-2\n",
    "epoch = int(1e5)\n",
    "batch_size = 1000\n",
    "\n",
    "np.random.seed(0)\n",
    "tf.set_random_seed(0)\n",
    "\n",
    "def data_load():\n",
    "    x = np.linspace(-1, 1)\n",
    "    y = np.linspace(-1, 1)\n",
    "    \n",
    "    X, Y = np.meshgrid(x, y)\n",
    "    noise = np.random.normal(size=X.shape)\n",
    "    Z = X**2 + Y**2 + noise\n",
    "    \n",
    "    X_ = X.reshape((-1,1))\n",
    "    Y_ = Y.reshape((-1,1)) \n",
    "    Z_ = Z.reshape((-1,1)) \n",
    "    data = np.concatenate([X_,Y_,Z_], axis=1)\n",
    "    return data\n",
    "\n",
    "def shuffle_data(*args):\n",
    "    idx = np.arange(args[0].shape[0])\n",
    "    np.random.shuffle(idx)\n",
    "    list_to_return = []\n",
    "    for arg in args:\n",
    "        list_to_return.append(arg[idx])\n",
    "    return list_to_return\n",
    "\n",
    "x_data = data_load()\n",
    "\n",
    "x = tf.placeholder(tf.float32, shape=(None,3)) # (?,3)\n",
    "\n",
    "W1 = tf.get_variable('W1', (3, 10), dtype=tf.float32, initializer=tf.keras.initializers.RandomNormal())\n",
    "W2 = tf.get_variable('W2', (10, 10), dtype=tf.float32, initializer=tf.keras.initializers.RandomNormal())\n",
    "W3 = tf.get_variable('W3', (10, 2), dtype=tf.float32, initializer=tf.keras.initializers.RandomNormal())\n",
    "W4 = tf.get_variable('W4', (2, 10), dtype=tf.float32, initializer=tf.keras.initializers.RandomNormal())\n",
    "W5 = tf.get_variable('W5', (10, 10), dtype=tf.float32, initializer=tf.keras.initializers.RandomNormal())\n",
    "W6 = tf.get_variable('W6', (10, 3), dtype=tf.float32, initializer=tf.keras.initializers.RandomNormal())\n",
    "\n",
    "b1 = tf.get_variable('b1', (10,), dtype=tf.float32, initializer=tf.keras.initializers.constant(0.0))\n",
    "b2 = tf.get_variable('b2', (10,), dtype=tf.float32, initializer=tf.keras.initializers.constant(0.0))\n",
    "b3 = tf.get_variable('b3', (2,), dtype=tf.float32, initializer=tf.keras.initializers.constant(0.0))\n",
    "b4 = tf.get_variable('b4', (10,), dtype=tf.float32, initializer=tf.keras.initializers.constant(0.0))\n",
    "b5 = tf.get_variable('b5', (10,), dtype=tf.float32, initializer=tf.keras.initializers.constant(0.0))\n",
    "b6 = tf.get_variable('b6', (3,), dtype=tf.float32, initializer=tf.keras.initializers.constant(0.0))\n",
    "\n",
    "x1 = tf.nn.relu(x@W1+b1) \n",
    "x2 = tf.nn.relu(x1@W2+b2) \n",
    "z = x2@W3+b3 \n",
    "x4 = tf.nn.relu(z@W4+b4) \n",
    "x5 = tf.nn.relu(x4@W5+b5) \n",
    "x_ae = x5@W6+b6 \n",
    "\n",
    "loss = tf.nn.l2_loss(x - x_ae)\n",
    "train = tf.train.AdamOptimizer(learning_rate=lr).minimize(loss)\n",
    "\n",
    "with tf.Session() as sess:\n",
    "    \n",
    "    tf.global_variables_initializer().run()\n",
    "    \n",
    "    loss_trace = []\n",
    "    gradiant_step = -1\n",
    "    for i in range(epoch):\n",
    "        x_data_ = np.array(shuffle_data(x_data)).reshape((2500, 3))\n",
    "        for k in range(int(x_data.shape[0]/batch_size)):\n",
    "            gradiant_step += 1\n",
    "            x_batch = x_data_[k * batch_size:(k + 1) * batch_size]\n",
    "            feed_dict = {x: x_batch}\n",
    "            if gradiant_step % 100 == 0:\n",
    "                loss_run, _ = sess.run([loss, train], feed_dict=feed_dict)\n",
    "                loss_trace.append(loss_run) \n",
    "            else:\n",
    "                sess.run(train, feed_dict=feed_dict)\n",
    "        \n",
    "plt.plot(loss_trace)\n",
    "plt.show()"
   ]
  },
  {
   "cell_type": "code",
   "execution_count": null,
   "metadata": {},
   "outputs": [],
   "source": []
  }
 ],
 "metadata": {
  "kernelspec": {
   "display_name": "Python 3",
   "language": "python",
   "name": "python3"
  },
  "language_info": {
   "codemirror_mode": {
    "name": "ipython",
    "version": 3
   },
   "file_extension": ".py",
   "mimetype": "text/x-python",
   "name": "python",
   "nbconvert_exporter": "python",
   "pygments_lexer": "ipython3",
   "version": "3.6.9"
  }
 },
 "nbformat": 4,
 "nbformat_minor": 2
}
