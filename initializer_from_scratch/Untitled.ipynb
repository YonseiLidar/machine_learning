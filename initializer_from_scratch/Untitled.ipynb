{
 "cells": [
  {
   "cell_type": "markdown",
   "metadata": {},
   "source": [
    "# Constant Initializers\n",
    "```\n",
    "tf.keras.initializers.constant\n",
    "tf.keras.initializers.ones\n",
    "tf.keras.initializers.zeros\n",
    "tf.keras.initializers.identity\n",
    "```"
   ]
  },
  {
   "cell_type": "code",
   "execution_count": 4,
   "metadata": {},
   "outputs": [
    {
     "name": "stdout",
     "output_type": "stream",
     "text": [
      "[[7. 7. 7. 7. 7.]\n",
      " [7. 7. 7. 7. 7.]\n",
      " [7. 7. 7. 7. 7.]]\n",
      "<tf.Variable 'w:0' shape=(3, 5) dtype=float32_ref>\n"
     ]
    }
   ],
   "source": [
    "import tensorflow as tf\n",
    "import numpy as np\n",
    "tf.reset_default_graph()\n",
    "tf.set_random_seed(0)\n",
    "np.random.seed(0)\n",
    "init = tf.keras.initializers.constant(7.0)\n",
    "w = tf.get_variable('w', (3, 5), dtype=tf.float32, initializer=init)\n",
    "with tf.Session() as sess:\n",
    "    tf.global_variables_initializer().run()\n",
    "    w_run = sess.run(w)\n",
    "print(w_run)\n",
    "print(w)"
   ]
  },
  {
   "cell_type": "code",
   "execution_count": 5,
   "metadata": {},
   "outputs": [
    {
     "name": "stdout",
     "output_type": "stream",
     "text": [
      "[[1. 1. 1. 1. 1.]\n",
      " [1. 1. 1. 1. 1.]\n",
      " [1. 1. 1. 1. 1.]]\n"
     ]
    }
   ],
   "source": [
    "import tensorflow as tf\n",
    "import numpy as np\n",
    "tf.reset_default_graph()\n",
    "tf.set_random_seed(0)\n",
    "np.random.seed(0)\n",
    "init = tf.keras.initializers.ones()\n",
    "w = tf.get_variable('w', (3, 5), dtype=tf.float32, initializer=init)\n",
    "with tf.Session() as sess:\n",
    "    tf.global_variables_initializer().run()\n",
    "    w_run = sess.run(w)\n",
    "print(w_run)"
   ]
  },
  {
   "cell_type": "code",
   "execution_count": 6,
   "metadata": {},
   "outputs": [
    {
     "name": "stdout",
     "output_type": "stream",
     "text": [
      "[[0. 0. 0. 0. 0.]\n",
      " [0. 0. 0. 0. 0.]\n",
      " [0. 0. 0. 0. 0.]]\n"
     ]
    }
   ],
   "source": [
    "import tensorflow as tf\n",
    "import numpy as np\n",
    "tf.reset_default_graph()\n",
    "tf.set_random_seed(0)\n",
    "np.random.seed(0)\n",
    "init = tf.keras.initializers.zeros()\n",
    "w = tf.get_variable('w', (3, 5), dtype=tf.float32, initializer=init)\n",
    "with tf.Session() as sess:\n",
    "    tf.global_variables_initializer().run()\n",
    "    w_run = sess.run(w)\n",
    "print(w_run)"
   ]
  },
  {
   "cell_type": "code",
   "execution_count": 7,
   "metadata": {},
   "outputs": [
    {
     "name": "stdout",
     "output_type": "stream",
     "text": [
      "[[1. 0. 0. 0. 0.]\n",
      " [0. 1. 0. 0. 0.]\n",
      " [0. 0. 1. 0. 0.]]\n"
     ]
    }
   ],
   "source": [
    "import tensorflow as tf\n",
    "import numpy as np\n",
    "tf.reset_default_graph()\n",
    "tf.set_random_seed(0)\n",
    "np.random.seed(0)\n",
    "init = tf.keras.initializers.identity()\n",
    "w = tf.get_variable('w', (3,5), dtype=tf.float32, initializer=init)\n",
    "with tf.Session() as sess:\n",
    "    tf.global_variables_initializer().run()\n",
    "    w_run = sess.run(w)\n",
    "print(w_run)"
   ]
  },
  {
   "cell_type": "code",
   "execution_count": 8,
   "metadata": {},
   "outputs": [
    {
     "name": "stdout",
     "output_type": "stream",
     "text": [
      "[[1. 0. 0.]\n",
      " [0. 1. 0.]\n",
      " [0. 0. 1.]\n",
      " [0. 0. 0.]\n",
      " [0. 0. 0.]]\n"
     ]
    }
   ],
   "source": [
    "import tensorflow as tf\n",
    "import numpy as np\n",
    "tf.reset_default_graph()\n",
    "tf.set_random_seed(0)\n",
    "np.random.seed(0)\n",
    "init = tf.keras.initializers.identity()\n",
    "w = tf.get_variable('w', (5,3), dtype=tf.float32, initializer=init)\n",
    "with tf.Session() as sess:\n",
    "    tf.global_variables_initializer().run()\n",
    "    w_run = sess.run(w)\n",
    "print(w_run)"
   ]
  },
  {
   "cell_type": "markdown",
   "metadata": {},
   "source": [
    "# Distribution Initializers\n",
    "```\n",
    "tf.keras.initializers.RandomNormal # mean=0.0, stddev=0.05\n",
    "tf.keras.initializers.TruncatedNormal # mean=0.0, (before_truncation_)stddev=0.05\n",
    "tf.keras.initializers.RandomUniform # minval=-0.05, maxval=0.05\n",
    "tf.keras.initializers.Orthogonal\n",
    "```"
   ]
  },
  {
   "cell_type": "code",
   "execution_count": 9,
   "metadata": {},
   "outputs": [
    {
     "name": "stdout",
     "output_type": "stream",
     "text": [
      "WARNING:tensorflow:From /Users/sungchullee/anaconda3/lib/python3.6/site-packages/tensorflow_core/python/keras/initializers.py:143: calling RandomNormal.__init__ (from tensorflow.python.ops.init_ops) with dtype is deprecated and will be removed in a future version.\n",
      "Instructions for updating:\n",
      "Call initializer instance with the dtype argument instead of passing it to the constructor\n"
     ]
    },
    {
     "data": {
      "image/png": "[encoded data removed]",
      "text/plain": [
       "<Figure size 432x288 with 1 Axes>"
      ]
     },
     "metadata": {
      "needs_background": "light"
     },
     "output_type": "display_data"
    },
    {
     "name": "stdout",
     "output_type": "stream",
     "text": [
      "7.192324e-05 0.04981757\n"
     ]
    }
   ],
   "source": [
    "%matplotlib inline\n",
    "import tensorflow as tf\n",
    "import numpy as np\n",
    "import matplotlib.pyplot as plt\n",
    "tf.reset_default_graph()\n",
    "tf.set_random_seed(0)\n",
    "np.random.seed(0)\n",
    "init = tf.keras.initializers.RandomNormal()\n",
    "w = tf.get_variable('w', (100,100), dtype=tf.float32, initializer=init)\n",
    "with tf.Session() as sess:\n",
    "    tf.global_variables_initializer().run()\n",
    "    w_run = sess.run(w)\n",
    "plt.hist(w_run.reshape((-1,)), bins=100, density=True)\n",
    "plt.show()\n",
    "print(w_run.reshape((-1,)).mean(), w_run.reshape((-1,)).std())"
   ]
  },
  {
   "cell_type": "code",
   "execution_count": 10,
   "metadata": {},
   "outputs": [
    {
     "name": "stdout",
     "output_type": "stream",
     "text": [
      "WARNING:tensorflow:From /Users/sungchullee/anaconda3/lib/python3.6/site-packages/tensorflow_core/python/keras/initializers.py:94: calling TruncatedNormal.__init__ (from tensorflow.python.ops.init_ops) with dtype is deprecated and will be removed in a future version.\n",
      "Instructions for updating:\n",
      "Call initializer instance with the dtype argument instead of passing it to the constructor\n"
     ]
    },
    {
     "data": {
      "image/png": "[encoded data removed]",
      "text/plain": [
       "<Figure size 432x288 with 1 Axes>"
      ]
     },
     "metadata": {
      "needs_background": "light"
     },
     "output_type": "display_data"
    },
    {
     "name": "stdout",
     "output_type": "stream",
     "text": [
      "-0.00029095943 0.044134874\n"
     ]
    }
   ],
   "source": [
    "%matplotlib inline\n",
    "import tensorflow as tf\n",
    "import numpy as np\n",
    "import matplotlib.pyplot as plt\n",
    "tf.reset_default_graph()\n",
    "tf.set_random_seed(0)\n",
    "np.random.seed(0)\n",
    "init = tf.keras.initializers.TruncatedNormal()\n",
    "w = tf.get_variable('w', (100,100), dtype=tf.float32, initializer=init)\n",
    "with tf.Session() as sess:\n",
    "    tf.global_variables_initializer().run()\n",
    "    w_run = sess.run(w)\n",
    "plt.hist(w_run.reshape((-1,)), bins=100, density=True)\n",
    "plt.show()\n",
    "print(w_run.mean(), w_run.std())"
   ]
  },
  {
   "cell_type": "code",
   "execution_count": 11,
   "metadata": {},
   "outputs": [
    {
     "name": "stdout",
     "output_type": "stream",
     "text": [
      "WARNING:tensorflow:From /Users/sungchullee/anaconda3/lib/python3.6/site-packages/tensorflow_core/python/keras/initializers.py:119: calling RandomUniform.__init__ (from tensorflow.python.ops.init_ops) with dtype is deprecated and will be removed in a future version.\n",
      "Instructions for updating:\n",
      "Call initializer instance with the dtype argument instead of passing it to the constructor\n"
     ]
    },
    {
     "data": {
      "image/png": "[encoded data removed]",
      "text/plain": [
       "<Figure size 432x288 with 1 Axes>"
      ]
     },
     "metadata": {
      "needs_background": "light"
     },
     "output_type": "display_data"
    }
   ],
   "source": [
    "%matplotlib inline\n",
    "import tensorflow as tf\n",
    "import numpy as np\n",
    "import matplotlib.pyplot as plt\n",
    "tf.reset_default_graph()\n",
    "tf.set_random_seed(0)\n",
    "np.random.seed(0)\n",
    "init = tf.keras.initializers.RandomUniform()\n",
    "w = tf.get_variable('w', (100,100), dtype=tf.float32, initializer=init)\n",
    "with tf.Session() as sess:\n",
    "    tf.global_variables_initializer().run()\n",
    "    w_run = sess.run(w)\n",
    "plt.hist(w_run.reshape((-1,)), bins=100, density=True)\n",
    "plt.show()"
   ]
  },
  {
   "cell_type": "code",
   "execution_count": 18,
   "metadata": {},
   "outputs": [
    {
     "name": "stdout",
     "output_type": "stream",
     "text": [
      "[[-0.5990809   0.22366214  0.3427638   0.456043    0.51537836]\n",
      " [-0.5813119  -0.04706053 -0.678316   -0.41583806  0.16379218]\n",
      " [-0.35729867  0.39061365  0.49307507 -0.52542967 -0.44783822]]\n",
      "0.99999976\n",
      "-5.9604645e-08\n",
      "-5.9604645e-08\n",
      "-5.9604645e-08\n",
      "0.99999994\n",
      "2.9802322e-08\n",
      "-5.9604645e-08\n",
      "2.9802322e-08\n",
      "0.9999998\n"
     ]
    }
   ],
   "source": [
    "%matplotlib inline\n",
    "import tensorflow as tf\n",
    "import numpy as np\n",
    "import matplotlib.pyplot as plt\n",
    "tf.reset_default_graph()\n",
    "tf.set_random_seed(0)\n",
    "np.random.seed(0)\n",
    "init = tf.keras.initializers.Orthogonal()\n",
    "w = tf.get_variable('w', (3,5), dtype=tf.float32, initializer=init)\n",
    "with tf.Session() as sess:\n",
    "    tf.global_variables_initializer().run()\n",
    "    w_run = sess.run(w)\n",
    "print(w_run)\n",
    "for i in range(3):\n",
    "    for j in range(3):\n",
    "        print(np.sum(w_run[i]*w_run[j]))"
   ]
  },
  {
   "cell_type": "code",
   "execution_count": 19,
   "metadata": {},
   "outputs": [
    {
     "name": "stdout",
     "output_type": "stream",
     "text": [
      "[[-0.5990809  -0.5813119  -0.35729867]\n",
      " [ 0.22366214 -0.04706053  0.39061365]\n",
      " [ 0.3427638  -0.678316    0.49307507]\n",
      " [ 0.456043   -0.41583806 -0.52542967]\n",
      " [ 0.51537836  0.16379218 -0.44783822]]\n",
      "0.99999976\n",
      "-5.9604645e-08\n",
      "-5.9604645e-08\n",
      "-5.9604645e-08\n",
      "0.99999994\n",
      "2.9802322e-08\n",
      "-5.9604645e-08\n",
      "2.9802322e-08\n",
      "0.9999998\n"
     ]
    }
   ],
   "source": [
    "%matplotlib inline\n",
    "import tensorflow as tf\n",
    "import numpy as np\n",
    "import matplotlib.pyplot as plt\n",
    "tf.reset_default_graph()\n",
    "tf.set_random_seed(0)\n",
    "np.random.seed(0)\n",
    "init = tf.keras.initializers.Orthogonal()\n",
    "w = tf.get_variable('w', (5,3), dtype=tf.float32, initializer=init)\n",
    "with tf.Session() as sess:\n",
    "    tf.global_variables_initializer().run()\n",
    "    w_run = sess.run(w)\n",
    "print(w_run)\n",
    "for i in range(3):\n",
    "    for j in range(3):\n",
    "        print(np.sum(w_run[:,i]*w_run[:,j]))"
   ]
  },
  {
   "cell_type": "markdown",
   "metadata": {},
   "source": [
    "# Xavier Initializers\n",
    "```\n",
    "tf.keras.initializers.glorot_normal # mean=0.0, (after_truncation_)stddev=sqrt(1/fan_avg)\n",
    "tf.keras.initializers.glorot_uniform # mean=0.0, limit=sqrt(3/fan_avg)\n",
    "```"
   ]
  },
  {
   "cell_type": "code",
   "execution_count": 21,
   "metadata": {},
   "outputs": [
    {
     "data": {
      "image/png": "[encoded data removed]",
      "text/plain": [
       "<Figure size 432x288 with 1 Axes>"
      ]
     },
     "metadata": {
      "needs_background": "light"
     },
     "output_type": "display_data"
    },
    {
     "name": "stdout",
     "output_type": "stream",
     "text": [
      "-0.0006615531 0.100349225\n",
      "0.1\n"
     ]
    }
   ],
   "source": [
    "%matplotlib inline\n",
    "import tensorflow as tf\n",
    "import numpy as np\n",
    "import matplotlib.pyplot as plt\n",
    "tf.reset_default_graph()\n",
    "tf.set_random_seed(0)\n",
    "np.random.seed(0)\n",
    "init = tf.keras.initializers.glorot_normal()\n",
    "w = tf.get_variable('w', (100,100), dtype=tf.float32, initializer=init)\n",
    "with tf.Session() as sess:\n",
    "    tf.global_variables_initializer().run()\n",
    "    w_run = sess.run(w)\n",
    "plt.hist(w_run.reshape((-1,)), bins=100, density=True)\n",
    "plt.show()\n",
    "print(w_run.reshape((-1,)).mean(), w_run.reshape((-1,)).std())\n",
    "print(np.sqrt(1/((100+100)/2)))"
   ]
  },
  {
   "cell_type": "code",
   "execution_count": 22,
   "metadata": {},
   "outputs": [
    {
     "data": {
      "image/png": "[encoded data removed]",
      "text/plain": [
       "<Figure size 432x288 with 1 Axes>"
      ]
     },
     "metadata": {
      "needs_background": "light"
     },
     "output_type": "display_data"
    },
    {
     "name": "stdout",
     "output_type": "stream",
     "text": [
      "0.0011821778 0.09993661\n",
      "0.17320508075688773\n"
     ]
    }
   ],
   "source": [
    "%matplotlib inline\n",
    "import tensorflow as tf\n",
    "import numpy as np\n",
    "import matplotlib.pyplot as plt\n",
    "tf.reset_default_graph()\n",
    "tf.set_random_seed(0)\n",
    "np.random.seed(0)\n",
    "init = tf.keras.initializers.glorot_uniform()\n",
    "w = tf.get_variable('w', (100,100), dtype=tf.float32, initializer=init)\n",
    "with tf.Session() as sess:\n",
    "    tf.global_variables_initializer().run()\n",
    "    w_run = sess.run(w)\n",
    "plt.hist(w_run.reshape((-1,)), bins=100, density=True)\n",
    "plt.show()\n",
    "print(w_run.reshape((-1,)).mean(), w_run.reshape((-1,)).std())\n",
    "print(np.sqrt(3/((100+100)/2)))"
   ]
  },
  {
   "cell_type": "markdown",
   "metadata": {},
   "source": [
    "# He Initializers\n",
    "```\n",
    "tf.keras.initializers.he_normal # mean=0.0, (after_truncation_)stddev=sqrt(2/fan_in)\n",
    "tf.keras.initializers.he_uniform # mean=0.0, limit=sqrt(6/fan_in)\n",
    "```"
   ]
  },
  {
   "cell_type": "code",
   "execution_count": 23,
   "metadata": {},
   "outputs": [
    {
     "data": {
      "image/png": "[encoded data removed]",
      "text/plain": [
       "<Figure size 432x288 with 1 Axes>"
      ]
     },
     "metadata": {
      "needs_background": "light"
     },
     "output_type": "display_data"
    },
    {
     "name": "stdout",
     "output_type": "stream",
     "text": [
      "-0.00093557703 0.14191523\n",
      "0.1414213562373095\n"
     ]
    }
   ],
   "source": [
    "%matplotlib inline\n",
    "import tensorflow as tf\n",
    "import numpy as np\n",
    "import matplotlib.pyplot as plt\n",
    "tf.reset_default_graph()\n",
    "tf.set_random_seed(0)\n",
    "np.random.seed(0)\n",
    "init = tf.keras.initializers.he_normal()\n",
    "w = tf.get_variable('w', (100,100), dtype=tf.float32, initializer=init)\n",
    "with tf.Session() as sess:\n",
    "    tf.global_variables_initializer().run()\n",
    "    w_run = sess.run(w)\n",
    "plt.hist(w_run.reshape((-1,)), bins=100, density=True)\n",
    "plt.show()\n",
    "print(w_run.reshape((-1,)).mean(), w_run.reshape((-1,)).std())\n",
    "print(np.sqrt(2/100))"
   ]
  },
  {
   "cell_type": "code",
   "execution_count": 24,
   "metadata": {},
   "outputs": [
    {
     "data": {
      "image/png": "[encoded data removed]",
      "text/plain": [
       "<Figure size 432x288 with 1 Axes>"
      ]
     },
     "metadata": {
      "needs_background": "light"
     },
     "output_type": "display_data"
    },
    {
     "name": "stdout",
     "output_type": "stream",
     "text": [
      "0.0016718521 0.14133172\n",
      "0.2449489742783178\n"
     ]
    }
   ],
   "source": [
    "%matplotlib inline\n",
    "import tensorflow as tf\n",
    "import numpy as np\n",
    "import matplotlib.pyplot as plt\n",
    "tf.reset_default_graph()\n",
    "tf.set_random_seed(0)\n",
    "np.random.seed(0)\n",
    "init = tf.keras.initializers.he_uniform()\n",
    "w = tf.get_variable('w', (100,100), dtype=tf.float32, initializer=init)\n",
    "with tf.Session() as sess:\n",
    "    tf.global_variables_initializer().run()\n",
    "    w_run = sess.run(w)\n",
    "plt.hist(w_run.reshape((-1,)), bins=100, density=True)\n",
    "plt.show()\n",
    "print(w_run.reshape((-1,)).mean(), w_run.reshape((-1,)).std())\n",
    "print(np.sqrt(6/100))"
   ]
  },
  {
   "cell_type": "markdown",
   "metadata": {},
   "source": [
    "# Lecun Initializers\n",
    "```\n",
    "tf.keras.initializers.lecun_normal # mean=0.0, (after_truncation_)stddev=sqrt(1/fan_in)\n",
    "tf.keras.initializers.lecun_uniform # mean=0.0, limit=sqrt(3/fan_in)\n",
    "```"
   ]
  },
  {
   "cell_type": "code",
   "execution_count": 25,
   "metadata": {},
   "outputs": [
    {
     "data": {
      "image/png": "[encoded data removed]",
      "text/plain": [
       "<Figure size 432x288 with 1 Axes>"
      ]
     },
     "metadata": {
      "needs_background": "light"
     },
     "output_type": "display_data"
    },
    {
     "name": "stdout",
     "output_type": "stream",
     "text": [
      "-0.0006615531 0.100349225\n",
      "0.1\n"
     ]
    }
   ],
   "source": [
    "%matplotlib inline\n",
    "import tensorflow as tf\n",
    "import numpy as np\n",
    "import matplotlib.pyplot as plt\n",
    "tf.reset_default_graph()\n",
    "tf.set_random_seed(0)\n",
    "np.random.seed(0)\n",
    "init = tf.keras.initializers.lecun_normal()\n",
    "w = tf.get_variable('w', (100,100), dtype=tf.float32, initializer=init)\n",
    "with tf.Session() as sess:\n",
    "    tf.global_variables_initializer().run()\n",
    "    w_run = sess.run(w)\n",
    "plt.hist(w_run.reshape((-1,)), bins=100, density=True)\n",
    "plt.show()\n",
    "print(w_run.reshape((-1,)).mean(), w_run.reshape((-1,)).std())\n",
    "print(np.sqrt(1/100))"
   ]
  },
  {
   "cell_type": "code",
   "execution_count": 26,
   "metadata": {},
   "outputs": [
    {
     "data": {
      "image/png": "[encoded data removed]",
      "text/plain": [
       "<Figure size 432x288 with 1 Axes>"
      ]
     },
     "metadata": {
      "needs_background": "light"
     },
     "output_type": "display_data"
    },
    {
     "name": "stdout",
     "output_type": "stream",
     "text": [
      "0.0011821778 0.09993661\n",
      "0.17320508075688773\n"
     ]
    }
   ],
   "source": [
    "%matplotlib inline\n",
    "import tensorflow as tf\n",
    "import numpy as np\n",
    "import matplotlib.pyplot as plt\n",
    "tf.reset_default_graph()\n",
    "tf.set_random_seed(0)\n",
    "np.random.seed(0)\n",
    "init = tf.keras.initializers.lecun_uniform()\n",
    "w = tf.get_variable('w', (100,100), dtype=tf.float32, initializer=init)\n",
    "with tf.Session() as sess:\n",
    "    tf.global_variables_initializer().run()\n",
    "    w_run = sess.run(w)\n",
    "plt.hist(w_run.reshape((-1,)), bins=100, density=True)\n",
    "plt.show()\n",
    "print(w_run.reshape((-1,)).mean(), w_run.reshape((-1,)).std())\n",
    "print(np.sqrt(3/100))"
   ]
  },
  {
   "cell_type": "markdown",
   "metadata": {},
   "source": [
    "# VarianceScaling Initializers\n",
    "```\n",
    "tf.keras.initializers.VarianceScaling\n",
    "```\n",
    "\n",
    "With distribution=\"truncated_normal\" or \"untruncated_normal\", samples are drawn from a truncated/untruncated normal distribution with a mean of zero and a standard deviation (after truncation, if used) stddev = sqrt(scale / n) where n is: - number of input units in the weight tensor, if mode = \"fan_in\" - number of output units, if mode = \"fan_out\" - average of the numbers of input and output units, if mode = \"fan_avg\"\n",
    "\n",
    "With distribution=\"uniform\", samples are drawn from a uniform distribution within [-limit, limit], with limit = sqrt(3 * scale / n).\n",
    "\n",
    "##### default (lecun)\n",
    "\n",
    "```\n",
    "__init__(\n",
    "    scale=1.0,\n",
    "    mode='fan_in', \n",
    "    distribution='truncated_normal', \n",
    "    seed=None\n",
    ")\n",
    "```\n",
    "##### Xavier\n",
    "\n",
    "```\n",
    "__init__(\n",
    "    scale=1.0,\n",
    "    mode='fan_avg', \n",
    "    distribution='truncated_normal' or 'uniform' \n",
    "    seed=None\n",
    ")\n",
    "```\n",
    "\n",
    "##### he\n",
    "\n",
    "```\n",
    "__init__(\n",
    "    scale=2.0,\n",
    "    mode='fan_in', \n",
    "    distribution='truncated_normal' or 'uniform' \n",
    "    seed=None\n",
    ")\n",
    "```"
   ]
  },
  {
   "cell_type": "code",
   "execution_count": 27,
   "metadata": {},
   "outputs": [
    {
     "data": {
      "image/png": "[encoded data removed]",
      "text/plain": [
       "<Figure size 432x288 with 1 Axes>"
      ]
     },
     "metadata": {
      "needs_background": "light"
     },
     "output_type": "display_data"
    }
   ],
   "source": [
    "%matplotlib inline\n",
    "import tensorflow as tf\n",
    "import numpy as np\n",
    "import matplotlib.pyplot as plt\n",
    "tf.reset_default_graph()\n",
    "tf.set_random_seed(0)\n",
    "np.random.seed(0)\n",
    "init = tf.keras.initializers.VarianceScaling()\n",
    "w = tf.get_variable('w', (100,100), dtype=tf.float32, initializer=init)\n",
    "with tf.Session() as sess:\n",
    "    tf.global_variables_initializer().run()\n",
    "    w_run = sess.run(w)\n",
    "plt.hist(w_run.reshape((-1,)), bins=100, density=True)\n",
    "plt.show()"
   ]
  },
  {
   "cell_type": "code",
   "execution_count": 28,
   "metadata": {},
   "outputs": [
    {
     "data": {
      "image/png": "[encoded data removed]",
      "text/plain": [
       "<Figure size 432x288 with 1 Axes>"
      ]
     },
     "metadata": {
      "needs_background": "light"
     },
     "output_type": "display_data"
    }
   ],
   "source": [
    "%matplotlib inline\n",
    "import tensorflow as tf\n",
    "import numpy as np\n",
    "import matplotlib.pyplot as plt\n",
    "tf.reset_default_graph()\n",
    "tf.set_random_seed(0)\n",
    "np.random.seed(0)\n",
    "init = tf.keras.initializers.VarianceScaling(distribution='untruncated_normal')\n",
    "w = tf.get_variable('w', (100,100), dtype=tf.float32, initializer=init)\n",
    "with tf.Session() as sess:\n",
    "    tf.global_variables_initializer().run()\n",
    "    w_run = sess.run(w)\n",
    "plt.hist(w_run.reshape((-1,)), bins=100, density=True)\n",
    "plt.show()"
   ]
  },
  {
   "cell_type": "code",
   "execution_count": 29,
   "metadata": {},
   "outputs": [
    {
     "data": {
      "image/png": "[encoded data removed]",
      "text/plain": [
       "<Figure size 432x288 with 1 Axes>"
      ]
     },
     "metadata": {
      "needs_background": "light"
     },
     "output_type": "display_data"
    }
   ],
   "source": [
    "%matplotlib inline\n",
    "import tensorflow as tf\n",
    "import numpy as np\n",
    "import matplotlib.pyplot as plt\n",
    "tf.reset_default_graph()\n",
    "tf.set_random_seed(0)\n",
    "np.random.seed(0)\n",
    "init = tf.keras.initializers.VarianceScaling(distribution='uniform')\n",
    "w = tf.get_variable('w', (100,100), dtype=tf.float32, initializer=init)\n",
    "with tf.Session() as sess:\n",
    "    tf.global_variables_initializer().run()\n",
    "    w_run = sess.run(w)\n",
    "plt.hist(w_run.reshape((-1,)), bins=100, density=True)\n",
    "plt.show()"
   ]
  },
  {
   "cell_type": "code",
   "execution_count": 30,
   "metadata": {},
   "outputs": [
    {
     "data": {
      "image/png": "[encoded data removed]",
      "text/plain": [
       "<Figure size 432x288 with 1 Axes>"
      ]
     },
     "metadata": {
      "needs_background": "light"
     },
     "output_type": "display_data"
    }
   ],
   "source": [
    "%matplotlib inline\n",
    "import tensorflow as tf\n",
    "import numpy as np\n",
    "import matplotlib.pyplot as plt\n",
    "tf.reset_default_graph()\n",
    "tf.set_random_seed(0)\n",
    "np.random.seed(0)\n",
    "init = tf.keras.initializers.VarianceScaling(distribution='uniform',\n",
    "                                             mode='fan_in')\n",
    "w = tf.get_variable('w', (100,100), dtype=tf.float32, initializer=init)\n",
    "with tf.Session() as sess:\n",
    "    tf.global_variables_initializer().run()\n",
    "    w_run = sess.run(w)\n",
    "plt.hist(w_run.reshape((-1,)), bins=100, density=True)\n",
    "plt.show()"
   ]
  },
  {
   "cell_type": "code",
   "execution_count": 31,
   "metadata": {},
   "outputs": [
    {
     "data": {
      "image/png": "[encoded data removed]",
      "text/plain": [
       "<Figure size 432x288 with 1 Axes>"
      ]
     },
     "metadata": {
      "needs_background": "light"
     },
     "output_type": "display_data"
    }
   ],
   "source": [
    "%matplotlib inline\n",
    "import tensorflow as tf\n",
    "import numpy as np\n",
    "import matplotlib.pyplot as plt\n",
    "tf.reset_default_graph()\n",
    "tf.set_random_seed(0)\n",
    "np.random.seed(0)\n",
    "init = tf.keras.initializers.VarianceScaling(distribution='uniform',\n",
    "                                             mode='fan_out')\n",
    "w = tf.get_variable('w', (100,100), dtype=tf.float32, initializer=init)\n",
    "with tf.Session() as sess:\n",
    "    tf.global_variables_initializer().run()\n",
    "    w_run = sess.run(w)\n",
    "plt.hist(w_run.reshape((-1,)), bins=100, density=True)\n",
    "plt.show()"
   ]
  },
  {
   "cell_type": "code",
   "execution_count": 32,
   "metadata": {},
   "outputs": [
    {
     "data": {
      "image/png": "[encoded data removed]",
      "text/plain": [
       "<Figure size 432x288 with 1 Axes>"
      ]
     },
     "metadata": {
      "needs_background": "light"
     },
     "output_type": "display_data"
    }
   ],
   "source": [
    "%matplotlib inline\n",
    "import tensorflow as tf\n",
    "import numpy as np\n",
    "import matplotlib.pyplot as plt\n",
    "tf.reset_default_graph()\n",
    "tf.set_random_seed(0)\n",
    "np.random.seed(0)\n",
    "init = tf.keras.initializers.VarianceScaling(distribution='uniform',\n",
    "                                             mode='fan_avg')\n",
    "w = tf.get_variable('w', (100,100), dtype=tf.float32, initializer=init)\n",
    "with tf.Session() as sess:\n",
    "    tf.global_variables_initializer().run()\n",
    "    w_run = sess.run(w)\n",
    "plt.hist(w_run.reshape((-1,)), bins=100, density=True)\n",
    "plt.show()"
   ]
  },
  {
   "cell_type": "code",
   "execution_count": null,
   "metadata": {},
   "outputs": [],
   "source": []
  }
 ],
 "metadata": {
  "kernelspec": {
   "display_name": "Python 3",
   "language": "python",
   "name": "python3"
  },
  "language_info": {
   "codemirror_mode": {
    "name": "ipython",
    "version": 3
   },
   "file_extension": ".py",
   "mimetype": "text/x-python",
   "name": "python",
   "nbconvert_exporter": "python",
   "pygments_lexer": "ipython3",
   "version": "3.6.9"
  }
 },
 "nbformat": 4,
 "nbformat_minor": 2
}
