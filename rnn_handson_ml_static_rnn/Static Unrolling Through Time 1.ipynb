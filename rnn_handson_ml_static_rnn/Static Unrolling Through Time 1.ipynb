{
 "cells": [
  {
   "cell_type": "code",
   "execution_count": 1,
   "metadata": {},
   "outputs": [],
   "source": [
    "import numpy as np\n",
    "\n",
    "# t = 0\n",
    "# batch_size = 4\n",
    "# n_features = 3\n",
    "x_0_batch = np.array(\n",
    "    [[0, 1, 2], \n",
    "     [3, 4, 5], \n",
    "     [6, 7, 8], \n",
    "     [9, 0, 1]]) "
   ]
  },
  {
   "cell_type": "code",
   "execution_count": 2,
   "metadata": {},
   "outputs": [],
   "source": [
    "# t = 1\n",
    "# batch_size = 4\n",
    "# n_features = 3\n",
    "x_1_batch = np.array(\n",
    "    [[9, 8, 7], \n",
    "     [0, 0, 0], \n",
    "     [6, 5, 4], \n",
    "     [3, 2, 1]]) "
   ]
  },
  {
   "cell_type": "code",
   "execution_count": 3,
   "metadata": {},
   "outputs": [],
   "source": [
    "import tensorflow as tf\n",
    "import numpy as np\n",
    "tf.reset_default_graph()\n",
    "tf.set_random_seed(0)\n",
    "np.random.seed(0)"
   ]
  },
  {
   "cell_type": "code",
   "execution_count": 4,
   "metadata": {},
   "outputs": [],
   "source": [
    "# for a time series data of batch_size = 1\n",
    "# at each time t\n",
    "# observation.shape = (n_inputs,)\n",
    "n_inputs = 3"
   ]
  },
  {
   "cell_type": "code",
   "execution_count": 5,
   "metadata": {},
   "outputs": [],
   "source": [
    "# internally current state is represented by neurons \n",
    "# n_neurons.shape = (n_neurons,)\n",
    "n_neurons = 5"
   ]
  },
  {
   "cell_type": "code",
   "execution_count": 6,
   "metadata": {},
   "outputs": [],
   "source": [
    "# placehoder to feed batch data of time 0\n",
    "x_0 = tf.placeholder(tf.float32, [None, n_inputs])"
   ]
  },
  {
   "cell_type": "code",
   "execution_count": 7,
   "metadata": {},
   "outputs": [],
   "source": [
    "# placehoder to feed batch data of time 1\n",
    "x_1 = tf.placeholder(tf.float32, [None, n_inputs])"
   ]
  },
  {
   "cell_type": "code",
   "execution_count": 8,
   "metadata": {},
   "outputs": [],
   "source": [
    "init_w = tf.keras.initializers.VarianceScaling(mode='fan_avg')\n",
    "init_b = tf.keras.initializers.zeros()\n",
    "\n",
    "w_x = tf.get_variable('w_x', [n_inputs, n_neurons], tf.float32, init_w)\n",
    "w_y = tf.get_variable('w_y', [n_neurons,n_neurons], tf.float32, init_w)\n",
    "b = tf.get_variable('b', [1, n_neurons], tf.float32, init_b)"
   ]
  },
  {
   "cell_type": "markdown",
   "metadata": {},
   "source": [
    "$$\n",
    "y_t = \\varphi\\left(y_{t-1}W_y+x_tW_x+b\\right)\n",
    "$$"
   ]
  },
  {
   "cell_type": "code",
   "execution_count": 9,
   "metadata": {},
   "outputs": [],
   "source": [
    "y__1 = tf.constant([[0., 0., 0., 0., 0.]]) # output at t = -1\n",
    "y_0 = tf.tanh(y__1@w_y+x_0@w_x+b)          # output at t = 0\n",
    "y_1 = tf.tanh(y_0@w_y+x_1@w_x+b)           # output at t = 1"
   ]
  },
  {
   "cell_type": "code",
   "execution_count": 10,
   "metadata": {},
   "outputs": [
    {
     "name": "stdout",
     "output_type": "stream",
     "text": [
      "WARNING:tensorflow:From <ipython-input-10-4cee744c89ec>:2: BasicRNNCell.__init__ (from tensorflow.python.ops.rnn_cell_impl) is deprecated and will be removed in a future version.\n",
      "Instructions for updating:\n",
      "This class is equivalent as tf.keras.layers.SimpleRNNCell, and will be replaced by that in Tensorflow 2.0.\n",
      "WARNING:tensorflow:From <ipython-input-10-4cee744c89ec>:6: static_rnn (from tensorflow.python.ops.rnn) is deprecated and will be removed in a future version.\n",
      "Instructions for updating:\n",
      "Please use `keras.layers.RNN(cell, unroll=True)`, which is equivalent to this API\n",
      "WARNING:tensorflow:From /Users/sungchullee/anaconda3/lib/python3.6/site-packages/tensorflow_core/python/ops/rnn_cell_impl.py:456: Layer.add_variable (from tensorflow.python.keras.engine.base_layer) is deprecated and will be removed in a future version.\n",
      "Instructions for updating:\n",
      "Please use `layer.add_weight` method instead.\n",
      "WARNING:tensorflow:From /Users/sungchullee/anaconda3/lib/python3.6/site-packages/tensorflow_core/python/ops/rnn_cell_impl.py:460: calling Zeros.__init__ (from tensorflow.python.ops.init_ops) with dtype is deprecated and will be removed in a future version.\n",
      "Instructions for updating:\n",
      "Call initializer instance with the dtype argument instead of passing it to the constructor\n"
     ]
    }
   ],
   "source": [
    "# a factory that creates copies of the cell to build the unrolled RNN\n",
    "basic_cell = tf.nn.rnn_cell.BasicRNNCell(num_units=n_neurons)\n",
    "\n",
    "# output: a Python list containing the output tensors for each time step.\n",
    "# states: a tensor containing the final states of the network.\n",
    "output, states = tf.nn.static_rnn(basic_cell, [x_0, x_1], dtype=tf.float32)"
   ]
  },
  {
   "cell_type": "code",
   "execution_count": 11,
   "metadata": {},
   "outputs": [],
   "source": [
    "init = tf.global_variables_initializer()"
   ]
  },
  {
   "cell_type": "code",
   "execution_count": 12,
   "metadata": {},
   "outputs": [],
   "source": [
    "with tf.Session() as sess:\n",
    "    \n",
    "    init.run()\n",
    "    \n",
    "    feed_dict = {x_0: x_0_batch, x_1: x_1_batch}\n",
    "    output_val = sess.run(output, feed_dict=feed_dict)"
   ]
  },
  {
   "cell_type": "code",
   "execution_count": 13,
   "metadata": {},
   "outputs": [],
   "source": [
    "# print(output.shape) # AttributeError: 'list' object has no attribute 'shape'\n",
    "# print(output_val.shape) # AttributeError: 'list' object has no attribute 'shape'"
   ]
  },
  {
   "cell_type": "code",
   "execution_count": 14,
   "metadata": {},
   "outputs": [
    {
     "name": "stdout",
     "output_type": "stream",
     "text": [
      "[[-0.816316    0.48939312 -0.31682497  0.63428956 -0.83109623]\n",
      " [-0.8589758   0.8326569   0.10448586  0.99602646 -0.93487126]\n",
      " [-0.8923153   0.9525135   0.4913596   0.99996465 -0.97573155]\n",
      " [ 0.99899584 -0.9497187   0.5536328   0.9933496   0.9990816 ]]\n"
     ]
    }
   ],
   "source": [
    "print(output_val[0]) # output at t = 0"
   ]
  },
  {
   "cell_type": "code",
   "execution_count": 15,
   "metadata": {},
   "outputs": [
    {
     "name": "stdout",
     "output_type": "stream",
     "text": [
      "[[ 0.86336017  0.71697336  0.86756456  0.9999967  -0.6551463 ]\n",
      " [ 0.63544226 -0.7937349  -0.264276    0.48043317 -0.29379207]\n",
      " [ 0.9292934  -0.5168714   0.76162595  0.9997505  -0.01624893]\n",
      " [ 0.58046395 -0.06621899  0.8626206   0.97334087  0.68243587]]\n"
     ]
    }
   ],
   "source": [
    "print(output_val[1]) # output at t = 1"
   ]
  },
  {
   "cell_type": "code",
   "execution_count": null,
   "metadata": {},
   "outputs": [],
   "source": []
  },
  {
   "cell_type": "code",
   "execution_count": null,
   "metadata": {},
   "outputs": [],
   "source": []
  },
  {
   "cell_type": "code",
   "execution_count": null,
   "metadata": {},
   "outputs": [],
   "source": []
  },
  {
   "cell_type": "code",
   "execution_count": null,
   "metadata": {},
   "outputs": [],
   "source": []
  }
 ],
 "metadata": {
  "kernelspec": {
   "display_name": "Python 3",
   "language": "python",
   "name": "python3"
  },
  "language_info": {
   "codemirror_mode": {
    "name": "ipython",
    "version": 3
   },
   "file_extension": ".py",
   "mimetype": "text/x-python",
   "name": "python",
   "nbconvert_exporter": "python",
   "pygments_lexer": "ipython3",
   "version": "3.6.9"
  }
 },
 "nbformat": 4,
 "nbformat_minor": 2
}
