{
 "cells": [
  {
   "cell_type": "markdown",
   "metadata": {},
   "source": [
    "[codebasics](https://www.youtube.com/watch?v=EItlUEPCIzM&list=PLeo1K3hjS3uvCeTYTeyfe0-rN5r8zn9rw&index=14)"
   ]
  },
  {
   "cell_type": "code",
   "execution_count": 1,
   "metadata": {},
   "outputs": [],
   "source": [
    "%matplotlib inline"
   ]
  },
  {
   "cell_type": "code",
   "execution_count": 2,
   "metadata": {},
   "outputs": [],
   "source": [
    "from sklearn.cluster import KMeans\n",
    "import pandas as pd\n",
    "import numpy as np\n",
    "from matplotlib import pyplot as plt"
   ]
  },
  {
   "cell_type": "code",
   "execution_count": 3,
   "metadata": {
    "scrolled": true
   },
   "outputs": [
    {
     "name": "stdout",
     "output_type": "stream",
     "text": [
      "      Name  Age  Income($)\n",
      "0      Rob   27      70000\n",
      "1  Michael   29      90000\n",
      "2    Mohan   29      61000\n",
      "3   Ismail   28      60000\n",
      "4     Kory   42     150000\n",
      "\n",
      "      Name       Age  Income($)\n",
      "0      Rob -1.324878  -0.469633\n",
      "1  Michael -0.985955  -0.009925\n",
      "2    Mohan -0.985955  -0.676501\n",
      "3   Ismail -1.155416  -0.699486\n",
      "4     Kory  1.217039   1.369196\n"
     ]
    },
    {
     "data": {
      "image/png": "[encoded data removed]",
      "text/plain": [
       "<Figure size 432x288 with 1 Axes>"
      ]
     },
     "metadata": {
      "needs_background": "light"
     },
     "output_type": "display_data"
    }
   ],
   "source": [
    "df = pd.read_csv(\"income.csv\")\n",
    "print(df.head())\n",
    "print()\n",
    "\n",
    "dg = df[['Age', 'Income($)']]\n",
    "df[['Age', 'Income($)']] = (dg - dg.mean()) /dg.std()\n",
    "print(df.head())\n",
    "\n",
    "plt.scatter(df['Age'], df['Income($)'])\n",
    "plt.xlabel('Age')\n",
    "plt.ylabel('Income($)')\n",
    "plt.show()"
   ]
  },
  {
   "cell_type": "code",
   "execution_count": 4,
   "metadata": {
    "scrolled": true
   },
   "outputs": [
    {
     "name": "stdout",
     "output_type": "stream",
     "text": [
      "[0 0 0 0 2 2 2 2 2 2 2 0 0 0 0 0 1 1 1 1 1 1]\n",
      "      Name       Age  Income($)  cluster\n",
      "0      Rob -1.324878  -0.469633        0\n",
      "1  Michael -0.985955  -0.009925        0\n",
      "2    Mohan -0.985955  -0.676501        0\n",
      "3   Ismail -1.155416  -0.699486        0\n",
      "4     Kory  1.217039   1.369196        2\n",
      "[[-1.0989294  -0.73141022]\n",
      " [ 0.96284702 -0.50027972]\n",
      " [ 0.58761178  1.36919576]]\n"
     ]
    },
    {
     "data": {
      "image/png": "[encoded data removed]",
      "text/plain": [
       "<Figure size 432x288 with 1 Axes>"
      ]
     },
     "metadata": {
      "needs_background": "light"
     },
     "output_type": "display_data"
    }
   ],
   "source": [
    "km = KMeans(n_clusters=3, random_state=0)\n",
    "y_pred = km.fit_predict(df[['Age','Income($)']])\n",
    "print(y_pred)\n",
    "\n",
    "df['cluster'] = y_pred\n",
    "print(df.head())\n",
    "\n",
    "print(km.cluster_centers_)\n",
    "\n",
    "df1 = df[df.cluster==0]\n",
    "df2 = df[df.cluster==1]\n",
    "df3 = df[df.cluster==2]\n",
    "plt.scatter(df1.Age, df1['Income($)'], color='r')\n",
    "plt.scatter(df2.Age, df2['Income($)'], color='g')\n",
    "plt.scatter(df3.Age, df3['Income($)'], color='b')\n",
    "plt.scatter(km.cluster_centers_[:,0], km.cluster_centers_[:,1], color='k', marker='*', label='centroid', alpha=0.5)\n",
    "plt.xlabel('Age')\n",
    "plt.ylabel('Income ($)')\n",
    "plt.legend()\n",
    "plt.show()"
   ]
  },
  {
   "cell_type": "markdown",
   "metadata": {},
   "source": [
    "<h4 style='color:purple'>Elbow Plot</h4>"
   ]
  },
  {
   "cell_type": "code",
   "execution_count": 5,
   "metadata": {
    "scrolled": true
   },
   "outputs": [],
   "source": [
    "sse = []\n",
    "k_rng = range(1,10)\n",
    "for k in k_rng:\n",
    "    km = KMeans(n_clusters=k)\n",
    "    km.fit(df[['Age','Income($)']])\n",
    "    sse.append(km.inertia_)"
   ]
  },
  {
   "cell_type": "code",
   "execution_count": 6,
   "metadata": {
    "scrolled": true
   },
   "outputs": [
    {
     "data": {
      "image/png": "[encoded data removed]",
      "text/plain": [
       "<Figure size 432x288 with 1 Axes>"
      ]
     },
     "metadata": {
      "needs_background": "light"
     },
     "output_type": "display_data"
    }
   ],
   "source": [
    "plt.xlabel('number of clusters')\n",
    "plt.ylabel('sum of squared error')\n",
    "plt.plot(k_rng, sse)\n",
    "plt.show()"
   ]
  },
  {
   "cell_type": "markdown",
   "metadata": {},
   "source": [
    "<h4 style='color:purple'>Exercise</h4>"
   ]
  },
  {
   "cell_type": "markdown",
   "metadata": {},
   "source": [
    "<img src='iris.png' width=200 height=200>"
   ]
  },
  {
   "cell_type": "markdown",
   "metadata": {},
   "source": [
    "1. Use iris flower dataset from sklearn library and try to form clusters of flowers using petal width and length features. Drop other two features for simplicity.\n",
    "2. Figure out if any preprocessing such as scaling would help here\n",
    "3. Draw elbow plot and from that figure out optimal value of k"
   ]
  }
 ],
 "metadata": {
  "kernelspec": {
   "display_name": "Python 3",
   "language": "python",
   "name": "python3"
  },
  "language_info": {
   "codemirror_mode": {
    "name": "ipython",
    "version": 3
   },
   "file_extension": ".py",
   "mimetype": "text/x-python",
   "name": "python",
   "nbconvert_exporter": "python",
   "pygments_lexer": "ipython3",
   "version": "3.7.3"
  }
 },
 "nbformat": 4,
 "nbformat_minor": 2
}
