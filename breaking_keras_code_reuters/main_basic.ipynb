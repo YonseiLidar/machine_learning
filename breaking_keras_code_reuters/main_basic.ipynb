{
 "cells": [
  {
   "cell_type": "code",
   "execution_count": 1,
   "metadata": {},
   "outputs": [],
   "source": [
    "if 1:\n",
    "    import tensorflow as tf\n",
    "elif 1:\n",
    "    import tensorflow.compat.v1 as tf\n",
    "    tf.disable_v2_behavior() "
   ]
  },
  {
   "cell_type": "code",
   "execution_count": 1,
   "metadata": {},
   "outputs": [],
   "source": [
    "epochs = 20\n",
    "batch_size = 512\n",
    "lr = 1e-3"
   ]
  },
  {
   "cell_type": "code",
   "execution_count": 2,
   "metadata": {},
   "outputs": [
    {
     "name": "stdout",
     "output_type": "stream",
     "text": [
      "<class 'tuple'>\n"
     ]
    }
   ],
   "source": [
    "import tensorflow as tf\n",
    "import numpy as np\n",
    "# num_words=10000 only keep the top 10,000 most frequently occurring words in the data\n",
    "a = tf.keras.datasets.reuters.load_data(num_words=10000)\n",
    "print(type(a))"
   ]
  },
  {
   "cell_type": "code",
   "execution_count": 3,
   "metadata": {},
   "outputs": [
    {
     "name": "stdout",
     "output_type": "stream",
     "text": [
      "<class 'tuple'> <class 'tuple'>\n"
     ]
    }
   ],
   "source": [
    "b, c = a\n",
    "print(type(b), type(c))"
   ]
  },
  {
   "cell_type": "code",
   "execution_count": 4,
   "metadata": {},
   "outputs": [
    {
     "name": "stdout",
     "output_type": "stream",
     "text": [
      "(8982,) (8982,) (2246,) (2246,)\n"
     ]
    }
   ],
   "source": [
    "x_train, y_train_cls = b\n",
    "x_test, y_test_cls = c\n",
    "print(x_train.shape, y_train_cls.shape, x_test.shape, y_test_cls.shape)"
   ]
  },
  {
   "cell_type": "code",
   "execution_count": 5,
   "metadata": {},
   "outputs": [
    {
     "name": "stdout",
     "output_type": "stream",
     "text": [
      "<class 'list'> <class 'list'>\n"
     ]
    }
   ],
   "source": [
    "print(type(x_train[0]), type(x_test[0]))"
   ]
  },
  {
   "cell_type": "code",
   "execution_count": 6,
   "metadata": {},
   "outputs": [
    {
     "name": "stdout",
     "output_type": "stream",
     "text": [
      "0 0\n"
     ]
    }
   ],
   "source": [
    "print(y_train_cls.min(), y_test_cls.min())"
   ]
  },
  {
   "cell_type": "code",
   "execution_count": 7,
   "metadata": {},
   "outputs": [
    {
     "name": "stdout",
     "output_type": "stream",
     "text": [
      "45 45\n"
     ]
    }
   ],
   "source": [
    "print(y_train_cls.max(), y_test_cls.max())"
   ]
  },
  {
   "cell_type": "code",
   "execution_count": 10,
   "metadata": {},
   "outputs": [
    {
     "name": "stdout",
     "output_type": "stream",
     "text": [
      "<class 'numpy.int32'>\n"
     ]
    }
   ],
   "source": [
    "print(type(y_test_cls[0]))"
   ]
  },
  {
   "cell_type": "code",
   "execution_count": null,
   "metadata": {},
   "outputs": [],
   "source": [
    "import tensorflow as tf\n",
    "import numpy as np\n",
    "# num_words=10000 only keep the top 10,000 most frequently occurring words in the data\n",
    "(x_train, y_train_cls), (x_test, y_test_cls) = tf.keras.datasets.reuters.load_data(num_words=10000)"
   ]
  },
  {
   "cell_type": "code",
   "execution_count": 8,
   "metadata": {},
   "outputs": [
    {
     "name": "stdout",
     "output_type": "stream",
     "text": [
      "(8982,) (8982,) (2246,) (2246,)\n"
     ]
    }
   ],
   "source": [
    "# y_train_cls = y_train_cls.astype(np.int32)\n",
    "# y_test_cls = y_test_cls.astype(np.int32)\n",
    "word2int = tf.keras.datasets.reuters.get_word_index(path='reuters_word_index.json')\n",
    "int2word = dict([(value, key) for (key, value) in word2int.items()])\n",
    "print(x_train.shape, y_train_cls.shape, x_test.shape, y_test_cls.shape)"
   ]
  },
  {
   "cell_type": "code",
   "execution_count": 11,
   "metadata": {},
   "outputs": [
    {
     "name": "stdout",
     "output_type": "stream",
     "text": [
      "[1, 2, 2, 8, 43, 10, 447, 5, 25, 207, 270, 5, 3095, 111, 16, 369, 186, 90, 67, 7, 89, 5, 19, 102, 6, 19, 124, 15, 90, 67, 84, 22, 482, 26, 7, 48, 4, 49, 8, 864, 39, 209, 154, 6, 151, 6, 83, 11, 15, 22, 155, 11, 15, 7, 48, 9, 4579, 1005, 504, 6, 258, 6, 272, 11, 15, 22, 134, 44, 11, 15, 16, 8, 197, 1245, 90, 67, 52, 29, 209, 30, 32, 132, 6, 109, 15, 17, 12]\n",
      "? ? ? said as a result of its december acquisition of space co it expects earnings per share in 1987 of 1 15 to 1 30 dlrs per share up from 70 cts in 1986 the company said pretax net should rise to nine to 10 mln dlrs from six mln dlrs in 1986 and rental operation revenues to 19 to 22 mln dlrs from 12 5 mln dlrs it said cash flow per share this year should be 2 50 to three dlrs reuter 3\n",
      "3\n"
     ]
    }
   ],
   "source": [
    "# We decode the review; note that our indices were offset by 3 because\n",
    "# 0 - \"padding\"\n",
    "# 1 - \"start of sequence\"\n",
    "# 2 - \"unknown\".\n",
    "print(x_train[0])\n",
    "print(' '.join([int2word.get(i - 3, '?') for i in x_train[0]]))\n",
    "print(y_train_cls[0])"
   ]
  },
  {
   "cell_type": "code",
   "execution_count": 12,
   "metadata": {},
   "outputs": [
    {
     "name": "stderr",
     "output_type": "stream",
     "text": [
      "Using TensorFlow backend.\n"
     ]
    }
   ],
   "source": [
    "# https://github.com/SteffenBauer/KerasTools/blob/master/Notebooks/09%201b%20Reuters%20Dataset.ipynb\n",
    "\n",
    "import os, sys\n",
    "import keras\n",
    "import numpy as np\n",
    "import collections\n",
    "import statistics\n",
    "\n",
    "import tensorflow as tf\n",
    "tf.get_logger().setLevel('ERROR')"
   ]
  },
  {
   "cell_type": "code",
   "execution_count": 13,
   "metadata": {},
   "outputs": [
    {
     "name": "stdout",
     "output_type": "stream",
     "text": [
      "(8982,)\n",
      "(2246,)\n",
      "2376\n"
     ]
    }
   ],
   "source": [
    "# Step 1\n",
    "\n",
    "# Load the Reuters dataset, Dataset of 11,228 newswires from Reuters, labeled over 46 topics.\n",
    "# \n",
    "# It is split into training and test set of 8982 / 2246 entries.\n",
    "# The words are tokenized into integer encoding.\n",
    "\n",
    "(train_data, train_labels), (test_data, test_labels) = keras.datasets.reuters.load_data()\n",
    "\n",
    "print(train_data.shape)\n",
    "print(test_data.shape)\n",
    "print(max(len(e) for e in train_data))"
   ]
  },
  {
   "cell_type": "code",
   "execution_count": 14,
   "metadata": {},
   "outputs": [
    {
     "name": "stdout",
     "output_type": "stream",
     "text": [
      "Raw training entry No 0: [1, 27595, 28842, 8, 43, 10, 447, 5, 25, 207, 270, 5, 3095, 111, 16, 369, 186, 90, 67, 7, 89, 5, 19, 102, 6, 19, 124, 15, 90, 67, 84, 22, 482, 26, 7, 48, 4, 49, 8, 864, 39, 209, 154, 6, 151, 6, 83, 11, 15, 22, 155, 11, 15, 7, 48, 9, 4579, 1005, 504, 6, 258, 6, 272, 11, 15, 22, 134, 44, 11, 15, 16, 8, 197, 1245, 90, 67, 52, 29, 209, 30, 32, 132, 6, 109, 15, 17, 12]\n",
      "Raw training label No 0: '3'\n"
     ]
    }
   ],
   "source": [
    "# Step 2\n",
    "\n",
    "# Show raw data of training set entry '0'\n",
    "# train_data: Tokenized newswire entry\n",
    "# train_label: Category of newswire\n",
    "\n",
    "print(\"Raw training entry No 0: {}\".format(train_data[0]))\n",
    "print\n",
    "print(\"Raw training label No 0: '{}'\".format(train_labels[0]))"
   ]
  },
  {
   "cell_type": "code",
   "execution_count": 15,
   "metadata": {},
   "outputs": [
    {
     "name": "stdout",
     "output_type": "stream",
     "text": [
      "Newswire category: 21\n",
      "-START- high labour costs and slower corporate investment could hinder sweden's economic growth after 1987 the organisation for economic cooperation and development oecd said the swedish economy grew at a slower rate in 1986 than in previous years gdp rose about 1 7 pct in 1986 compared with 2 2 pct in 1985 but this growth depended largely on external factors particularly lower oil prices the oecd secretariat said in its latest annual report on sweden it warned that labour costs had risen more rapidly in sweden than in other oecd countries because of high labour costs swedish industry which largely relies upon export markets was losing market share wages in the manufacturing sector grew by seven pct in 1986 in line with 1985 increases while public sector wages rose an estimated 9 2 pct in 1986 up from six pct in 1985 this was significantly higher than average wage increases of 3 75 pct for the seven largest members of the oecd in 1986 the report said wage moderation was central to maintaining economic growth in sweden it suggested that wage negotiations should be at least partly centralised to control the total wages bill and hold down inflation and unemployment levels helped by low oil prices and the government's tight fiscal policy inflation fell to just over three pct in 1986 from almost six pct in 1985 but remained higher than in most other oecd countries the report said unemployment a principal policy target was at 2 7 pct in 1986 in line with 1985's 2 8 pct and well below the oecd average of 8 6 pct the report said sweden's employment policies accounted for the high levels of wage inflation it also said that economic growth in 1986 relied increasingly on private consumption because corporate investment in machinery and equipment had shrunk the total volume of industrial investments dropped by two pct in 1986 with sharp declines in spending by the wood pulp and paper industries this compared to a 19 pct rise in 1985 when there was heavy investment in these industries the oecd said sweden should now make an effort to boost corporate investments and reduce its dependence on domestic consumption for economic growth it suggested there was room for reform in the tax system sweden should continue to cut public sector spending especially in local government to keep in line with its tighter fiscal policy the report said reuter 3\n"
     ]
    }
   ],
   "source": [
    "# Step 3\n",
    "\n",
    "# Use the tokenizer word encoding dictionary to reconstruct the original review text.\n",
    "#\n",
    "# Note: Tokens 0, 1, and 2 are reserved for 'padding', 'start of sequence', and 'unknown word'\n",
    "\n",
    "raw_word_index = keras.datasets.reuters.get_word_index()\n",
    "word_index = {v+3:k for k,v in raw_word_index.items()}\n",
    "word_index[0] = '-PAD-'\n",
    "word_index[1] = '-START-'\n",
    "word_index[2] = '-UNK-'\n",
    "\n",
    "# Reconstruct train data entry as string\n",
    "entry = 202\n",
    "print(\"Newswire category: {}\".format(train_labels[entry]))\n",
    "print(\" \".join(word_index.get(w, 2) for w in train_data[entry]))"
   ]
  },
  {
   "cell_type": "code",
   "execution_count": 16,
   "metadata": {},
   "outputs": [
    {
     "name": "stdout",
     "output_type": "stream",
     "text": [
      "Number of entries for category 5: 17\n",
      "\n",
      "-START- the european commission's decision to release an additional 300 000 tonnes of british intervention feed wheat for the home market will provide only moderate relief in an increasingly tight market traders said some operators had been anticipating a larger tonnage pointing out that at this week's u k intervention tender the market sought to buy 340 000 tonnes but only 126 000 tonnes were granted the new tranche of intervention grain is unlikely to satisfy demand they said and keen buying competition for supplies in stores is expected to keep prices firm the release of the feed wheat followed recent strong representations by the u k grain trade to the commission there has been growing concern that rising internal prices triggered by heavy exports were creating areas of shortage in interior markets the latest ec authorisation will add 70 000 tonnes at the april 14 tender and a further 30 000 tonnes later in the month the remaining 200 000 tonnes will be made available in may and june news of the release produced an early downward reaction in local physical markets but by midday some sections had halved early two stg losses while others were unchanged ministry of agriculture figures for march indicate 1 85 mln tonnes of wheat and 1 74 mln tonnes of barley remain in the free market however some traders believe these figures are overstated and while some may still be held on the farm the bulk of wheat is already sold some of the grain is also off the market in futures stores a total of 2 10 mln tonnes of intervention wheat has been sold for export or to the home market since the season started july 1 leaving an unsold balance in intervention of about 1 59 mln tonnes intervention barley sales have reached just over 1 0 mln tonnes leaving about 753 000 tonnes traders said this season's u k export performance has surpassed all early expectations and has created the present nervous situation in domestic markets where the fear now is free market supplies may not last out until new crop becomes available in august the market is sticking to its recent prediction of total barley and wheat exports of around 10 5 mln tonnes a new record and nearly double the previous record of 5 9 mln tonnes achieved in the 1984 85 season traders expect u k wheat exports to reach 6 0 mln and barley around 4 50 mln tonnes the soviet union has booked a record total of 2 5 mln tonnes of british wheat and barley this season but only 1 28 mln had surfaced in customs export figures by march 25 traders said other ec countries have bought large amounts of british grain and for the july 1 march 25 period had taken 2 59 mln tonnes of wheat and 2 06 mln tonnes of barley this compares with 1 28 mln and 868 700 tonnes last season the market is expecting prices particularly wheat to stay buoyant for the remaining few months of the season if supplies become more difficult and prices strengthen further feed compounders may increase cereal substitute usage traders said reuter 3\n",
      "\n",
      "-START- a total of 126 031 tonnes of u k intervention feed wheat was sold to the home market at this week's tender provisional results show the home grown cereals authority hgca said actual prices were not reported but the wheat was sold at or above the march intervention price of 119 17 stg per tonne grain traders sought to buy about 340 000 tonnes reuter 3\n",
      "\n",
      "-START- the u s agriculture department said it has accepted a bid for an export bonus to cover the sale of 50 000 tonnes of hard red winter wheat to sri lanka a bonus of 37 44 dlrs per tonne was awarded to continental grain co on the shipment scheduled for april 8 16 melvin sims usda general sales manager said an additional 10 000 tonnes of wheat are still available to sri lanka under the export enhancement program sims said reuter 3\n",
      "\n",
      "-START- speculation the united states will offer subsidized wheat to the soviet union appears to have reached a new level of intensity in the run up to secretary of state george shultz' visit later this month to moscow rumors of an impending deal have coursed through wheat markets since officials from the two countries held their customary semi annual grain talks in february moscow's decision at that time to reenter the u s corn market strengthened the perception of warming farm trade prospects shultz is set to arrive in moscow april 13 shultz' statement two weeks ago that he would not stand in the way of a wheat subsidy offer under the export enhancement program eep coupled with the announcement of his visit to moscow was interpreted by many grain trade representatives here as a clear signal that the reagan administration was preparing an offer administration officials in and out of the u s agriculture department have been extremely tight lipped about the prospects of a subsidy offer but usda officials for the most part have abandoned the contention the proposal is dormant suggesting that an offer while not a done deal is a live possibility prominent u s grain trade representatives many of whom asked not to be identified continue to maintain that an offer to subsidize four mln tonnes of wheat is imminent others who one month ago claimed a deal was not possible are saying they would not rule one out rep pat roberts r kan yesterday went so far as to predict a subsidy offer would be made within the next ten days to two weeks aides to roberts said he had spoken to republican leaders who had been in contact with administration officials richard fritz director of international marketing at u s wheat associates said he was confident an export enhancement offer would be made by the middle of this month fritz also said he thought the value of the bonus would end up being close to the offer washington made peking earlier this year when usda approved subsidies to china of around 36 dlrs per tonne on one mln tonnes of wheat some grain trade representatives say a four mln tonne wheat subsidy offer might help stimulate more soviet purchases of u s corn and open the door to u s sales of soybeans as ever one of the crucial sticking points in a wheat deal would appear to be price last summer the administration took the controversial step of offering the soviets subsidized wheat but were embarrassed when moscow spurned the proposal on the grounds that the 15 dlr per tonne subsidy still left u s wheat prices far above world market prices the administration's decision to set the subsidy level up front instead of accepting bids from exporters appeared to be a means of controlling the price while attempting to dampen criticism grain trade sources said nonetheless the pricing procedure did not prevent shultz from saying the soviets were chortling because washington was offering soviet housewives cheaper grain than that available to u s housewives the conventional wisdom among grain trade representatives here is that a general warming of relations between the two countries since last summer combined with continued hard times in the u s grain belt would favor a subsidy offer in addition the ussr has made it clear it would consider buying u s wheat if it were priced more competitively however observers have not forgotten the circumstances surrounding the administration's announcement of the wheat subsidy offer last summer up until the time of the announcment congressional and industry leaders were led to believe the white house had decided to expand the export enhancement program to include not only the soviets but also a much broader list of countries instead the administration scaled back the offer to include only the soviets that last minute change of heart adds a measure of uncertainty even to the predictions of those most convinced that the administration will not now pass up the opportunity to sell four mln tonnes of wheat to the soviet union reuter 3\n",
      "\n",
      "-START- egypt has been authorized to purchase about 125 000 tonnes of u s wheat flour under an existing pl 480 agreement the u s agriculture department said it may buy the wheat flour valued at 23 0 mln dlrs between april 8 and august 31 1987 and ship it by september 30 the department said reuter 3\n",
      "\n",
      "-START- speculation the united states will offer subsidized wheat to the soviet union appears to have reached a new level of intensity in the run up to secretary of state george shultz' visit later this month to moscow rumors of an impending deal have coursed through wheat markets since officials from the two countries held their customary semi annual grain talks in february moscow's decision at that time to reenter the u s corn market strengthened the perception of warming farm trade prospects shultz is set to arrive in moscow april 13 reuter 3\n",
      "\n",
      "-START- the u n food and agriculture organisation fao said global wheat and coarse grain output was likely to fall in 1987 but supplies would remain adequate to meet demand fao said in its monthly food outlook bulletin total world grain output was expected to fall 38 mln tonnes to 1 353 mln in 1987 due mainly to unusually high winter losses in the soviet union drought in china and reduced plantings in north america world cereal stocks at the end of 1986 87 were forecast to rise 47 mln tonnes to a record 452 mln tonnes softening the impact of reduced production but stocks are unevenly distributed with about 50 pct held by the u s thus the food security prospects in 1987 88 for many developing countries particularly in africa depend crucially on the outcome of this year's harvests fao said fao said world cereal supplies in 1986 87 were estimated at a record 2 113 mln tonnes about five pct higher than last season and due mainly to large stocks and a record 1986 harvest estimated at 1 865 mln tonnes fao's forecast of 1986 87 world cereals trade was revised upwards by eight mln tonnes to 179 mln due to the likelihood of substantial buying by china and the soviet union reuter 3\n",
      "\n",
      "-START- u s commerce secretary malcolm baldrige said the dispute between the u s and japan over computer chips will not develop into a full scale trade war i think both sides will try and make sure that this doesn't start a trade war as a matter of fact i'm positive that there won't be a trade war with japan baldrige said in a television interview president reagan last week imposed penalties over japan's alleged failure to adhere to a july 1986 agreement to stop selling semiconductors in third countries at below cost and to open its own market to u s made chips despite tokyo's displeasure with the penalties baldrige said japan would refrain from taking retaliatory steps that would lead to a trade war largely because japan itself would have the most to lose in such a conflict japan i think will because they have the means to do it face up to the fact that as the second largest industrial trading power in the world they have to live up to their responsibilities of free trade he said i think we'll work our way out of this he added it's not going to be easy but i guarantee you we're not going to have a trade war reuter 3\n",
      "\n",
      "-START- a cold air mass working its way south from canada may pose a threat to developing hard red winter wheat in oklahoma according to eugene krenzler wheat specialist for the oklahoma cooperative extension there is some threat some of the crop is far enough along so that it's probably vulnerable krenzler said accu weather meteorologist dale mohler said cold air moving from the north could put temperatures in the middle 20's fahrenheit as early as tonight depending on development of a low pressure area over southeast colorado which could stall the system if impeded by the low pressure area the cold air could hit oklahoma and texas as late as monday morning temperatures could stay in the mid 20's for up to eight hours mohler said krenzler said less than 10 pct of the oklahoma wheat crop has advanced to boot stage the closer to that stage the more vulnerable the head of the wheat is to cold weather he said we can handle probably an hour or so down to 25 or 26 degrees fahrenheit krenzler said as long as we don't have a lot of wind if we do get six hours down below 25 degrees i'd say we have a good chance of significant damage to the heads he said krenzler said early planted stands in the north central and southwestern parts of the state are probably most vulnerable crops in the panhandle of oklahoma and texas are less developed and have some snow cover protection from the cold he noted reuter 3\n",
      "\n",
      "-START- yugoslavia will tender april 14 for 100 000 tonnes of wheat the u s agriculture department's counselor in belgrade said in a field report the report dated april 7 said the wheat must be from 1986 and 1987 harvest and imports of soft wheat from europe and from other suppliers will not be considered it said the imports will be used to rebuild the federal reserves and as a result will not be subject to import surcharges reuter 3\n",
      "\n",
      "-START- u k domestic wheat markets dropped about one stg per tonne early this morning following overnight news that the ec is releasing a further 300 000 tonnes of wheat from british intervention stores for the home market over a three month period april deliveries of denaturable wheat were offered in east anglia at 124 stg and may at 125 stg per tonne both one stg down on yesterday's traded rates the market is expecting u k wheat futures to show a similar loss at today's opening reuter 3\n",
      "\n",
      "-START- the u s agriculture department said it has accepted a bid for an export bonus to cover the sale of 18 000 tonnes of u s durum wheat to algeria a bonus of 43 25 dlrs per tonne was awarded to cam usa inc on the shipment scheduled for june 20 30 melvin sims usda general sales manager said an additional 228 000 tonnes of durum wheat are available to algeria under the department's export enhancement program sims said reuter 3\n",
      "\n",
      "-START- pakistan is not emerging as a major wheat exporter as world market prospects are not good enough sartaj aziz special assistant on food and agriculture to the pakistani prime minister said in an interview no exports are planned for the next 12 months or so and plans last year to sell one mln tonnes to iran came to nothing because they could not agree a price he said aziz forecast that pakistan may have exportable surpluses of one mln tonnes or a half mln tonnes over the next few harvests in years when the weather is favourable the government does not wish to increase output much above this because of low world prices and the land would be better used for other crops aziz said the pakistani government does not want area sown to wheat to increase from the current seven mln hectares some 10 pct of that area which gives low yields could be switched to more profitable crops such as oilseeds the aim is to concentrate on raising yields from the current 1 8 to 1 9 tonnes per ha to at least 2 5 tonnes per ha over the next five to seven years he said aziz said the current 1986 87 crop harvesting of which is just beginning is expected to yield around a record 14 5 mln tonnes this compares with a target of 14 7 mln and last year's yield of 14 0 mln he said rains some six weeks ago helped the crop but more recent rains reduced prospects slightly the long term wheat production target is for some 17 mln tonnes by mid 1993 taking into account pakistan's annual population growth rate of more than three pct current consumption is some 12 5 mln tonnes the current wheat reserve is 2 5 mln tonnes aziz said this compares with a minimum reserve commitment of one mln tonnes which pakistan will maintain at all costs and a strategic reserve target of two mln tonnes despite the fact that stocks are a half mln tonnes over target the surplus will not be exported at present he said the government wants to keep an extra safety margin until it sees what effect the abolition of a 44 year old wheat rationing system will have on domestic consumption new exports will be considered only in about a year's time when the 1987 88 crop can be gauged as well he said the new domestic policy introduced on march 15 is for the government to supply unlimited quantities of wheat at two rupees per kilo with other costs this means a price in pakistani markets of between 2 30 and 2 50 rupees per kilo under the old system introduced during world war two and due to be phased out by april 15 some 50 mln ration cards were issued enabling poor people to buy wheat cheaply aziz said following the introduction of a government support price in the 1970s the system become so corrupted that only 20 to 25 pct of subsidised wheat was actually reaching the consumer the rest being diverted illicitly to the mills the ration system had also not had the stabilising effect on the internal wheat market that was intended aziz said prices have already begun to fall with the introduction of the new system the wheat price in karachi the most expensive pakistani city had dropped from 3 11 rupees per kilo on march 1 to 2 85 rupees on march 30 aziz said he does not expect the change in system to have a major effect on total consumption but it may encourage better use of side products such as bran reuter 3\n",
      "\n",
      "-START- the commodity credit corporation ccc has accepted an export bonus offer to cover the sale of 37 000 long tons of wheat flour to north yemen the u s agriculture department said the wheat four is for shipment march may and the bonus awarded was 119 05 dlrs per tonnes and will be paid in the form of commodities from the ccc inventory the bonus was awarded to the pillsbury company the wheat flour purchases complete the export enhancement program initiative announced in april 1986 it said reuter 3\n",
      "\n",
      "-START- the united nations food and agriculture organization fao said it approved emergency food aid worth more than 14 3 mln dlrs for drought victims in ethiopia the aid will include 30 000 tonnes of wheat and 1 200 tonnes of vegetable oil for farmers in the wollo and illubabor regions fao said it has also approved more than 1 4 mln dlrs of food aid for 8 000 families in sri lanka in addition 583 225 dlrs of aid will be made available to malawi to feed 96 700 people displaced from mozambique and a further 340 200 dlrs for cyclone victims in vanuatu in the south pacific reuter 3\n",
      "\n",
      "-START- french cereals exports through rouen port rose to 751 563 tonnes between march 1 and march 25 from 603 413 tonnes in the same 1986 period freight sources said the soviet union took 263 051 tonnes of wheat and barley saudi arabia 90 944 tonnes barley china 87 259 wheat algeria 64 896 wheat bangladesh 30 000 wheat morocco 27 500 maize greece 26 700 wheat and barley spain 25 124 wheat poland 24 683 wheat brazil 24 082 wheat italy 21 659 wheat cyprus 20 700 wheat and maize israel 16 500 maize and the u k 8 797 tonnes wheat six ships are loading 120 000 tonnes of wheat the sources said they include 30 000 tonnes for china 31 000 for the soviet union 25 000 for turkey and 35 000 for italy another ship is loading 17 000 tonnes of colza for the soviet union another 12 ships should arrive to load 344 000 tonnes of cereals by the end of the week six are to load 186 000 tonnes of wheat for the soviet union two will load 60 000 tonnes of barley for saudi arabia one 28 000 tonnes of wheat for china two 25 000 tonnes of wheat each for algeria and turkey and one 20 000 tonnes of wheat for italy another is expected to load 20 000 tonnes of colza for the soviet union flour exports through rouen rose to 23 457 tonnes in the 25 day period from 5 500 in the equivalent 1986 period the sources said sudan took 19 327 tonnes and west coast africa 4 130 four ships are currently loading 32 000 tonnes including 24 000 for egypt 6 000 for tanzania and 2 000 for mauritania a ship is expected later this week to load 12 000 tonnes for china reuter 3\n",
      "\n",
      "-START- sesostris the spanish subsidiary of the international grain trader dreyfus sold 18 000 tonnes of barley to greece for delivery from mediterranean ports from april 14 to 30 a company spokesman said he gave no details on price the barley has a 14 pct humidity reuter 3\n",
      "\n"
     ]
    }
   ],
   "source": [
    "# Step 4\n",
    "\n",
    "# Sort newswire texts according to class labels\n",
    "# and print all of a certain category\n",
    "\n",
    "category = 5\n",
    "\n",
    "train_elabels = [(c, i) for i,c in enumerate(train_labels)]\n",
    "cat = [e[1] for e in filter(lambda x: x[0]==category, train_elabels)]\n",
    "print(\"Number of entries for category {}: {}\".format(category, len(cat)))\n",
    "print()\n",
    "for c in cat:\n",
    "    print(\" \".join(word_index.get(w, 2) for w in train_data[c]))\n",
    "    print()"
   ]
  },
  {
   "cell_type": "code",
   "execution_count": 17,
   "metadata": {},
   "outputs": [
    {
     "name": "stdout",
     "output_type": "stream",
     "text": [
      "                           Nr of docs   Mean nr of words\n",
      "Index Class name           train  test  in train set\n",
      "    0 cocoa                   55    12   225.78\n",
      "    1 grain                  432   105   188.67\n",
      "    2 veg-oil                 74    20   184.86\n",
      "    3 earn                  3159   813    87.67\n",
      "    4 acq                   1949   474   135.83\n",
      "    5 wheat                   17     5   213.35\n",
      "    6 copper                  48    14   154.46\n",
      "    7 housing                 16     3   180.38\n",
      "    8 money-supply           139    38   191.48\n",
      "    9 coffee                 101    25   225.87\n",
      "   10 sugar                  124    30   184.73\n",
      "   11 trade                  390    83   253.80\n",
      "   12 reserves                49    13   186.92\n",
      "   13 ship                   172    37   164.66\n",
      "   14 cotton                  26     2   142.69\n",
      "   15 carcass                 20     9   170.45\n",
      "   16 crude                  444    99   219.79\n",
      "   17 nat-gas                 39    12   149.82\n",
      "   18 cpi                     66    20   146.85\n",
      "   19 money-fx               549   133   185.34\n",
      "   20 interest               269    70   201.00\n",
      "   21 gnp                    100    27   281.83\n",
      "   22 meal-feed               15     7   183.73\n",
      "   23 alum                    41    12   157.34\n",
      "   24 oilseed                 62    19   151.24\n",
      "   25 gold                    92    31   152.38\n",
      "   26 tin                     24     8   259.88\n",
      "   27 strategic-metal         15     4   145.27\n",
      "   28 livestock               48    10   177.48\n",
      "   29 retail                  19     4   258.32\n",
      "   30 ipi                     45    12   175.78\n",
      "   31 iron-steel              39    13   157.51\n",
      "   32 rubber                  32    10   207.44\n",
      "   33 heat                    11     5   115.55\n",
      "   34 jobs                    50     7   152.94\n",
      "   35 lei                     10     6   142.30\n",
      "   36 bop                     49    11   228.45\n",
      "   37 zinc                    19     2   164.74\n",
      "   38 orange                  19     3   130.21\n",
      "   39 pet-chem                24     5   153.96\n",
      "   40 dlr                     36    10   278.39\n",
      "   41 gas                     30     8   175.07\n",
      "   42 silver                  13     3   197.92\n",
      "   43 wpi                     21     6   152.71\n",
      "   44 hog                     12     5    90.75\n",
      "   45 lead                    18     1   159.89\n"
     ]
    }
   ],
   "source": [
    "# Step 5\n",
    "\n",
    "# Generate statistics over all 46 classes\n",
    "\n",
    "mapping = ['cocoa','grain','veg-oil','earn','acq','wheat','copper','housing','money-supply',\n",
    "           'coffee','sugar','trade','reserves','ship','cotton','carcass','crude','nat-gas',\n",
    "           'cpi','money-fx','interest','gnp','meal-feed','alum','oilseed','gold','tin',\n",
    "           'strategic-metal','livestock','retail','ipi','iron-steel','rubber','heat','jobs',\n",
    "           'lei','bop','zinc','orange','pet-chem','dlr','gas','silver','wpi','hog','lead']\n",
    "\n",
    "train_count = collections.Counter(train_labels)\n",
    "test_count = collections.Counter(test_labels)\n",
    "total_words = [statistics.mean([len(e) for e in train_data[train_labels.flatten() == i]]) for i in range(46)]\n",
    "\n",
    "print(\"{:5s} {:20s} {:5s} {:5s}  {:7s}\".format(\" \"    ,\" \"         , \"Nr of\", \"docs\", \"Mean nr of words\"))\n",
    "print(\"{:5s} {:20s} {:5s}  {:5s} {:7s}\".format(\"Index\",\"Class name\", \"train\", \"test\", \"in train set\"))\n",
    "for i in range(46):\n",
    "    print(\"{:5d} {:20s} {:5d} {:5d}   {:6.2f}\".format(i,mapping[i], train_count[i], test_count[i], total_words[i]))"
   ]
  },
  {
   "cell_type": "code",
   "execution_count": 18,
   "metadata": {},
   "outputs": [
    {
     "name": "stdout",
     "output_type": "stream",
     "text": [
      "(8982, 10000) (8982,) (2246, 10000) (2246,)\n"
     ]
    }
   ],
   "source": [
    "def vectorize_sequences(sequences, dimension=10000):\n",
    "    results = np.zeros((len(sequences), dimension))\n",
    "    for i, sequence in enumerate(sequences):\n",
    "        results[i, sequence] = 1.  \n",
    "    return results\n",
    "x_train = vectorize_sequences(x_train) \n",
    "x_test = vectorize_sequences(x_test) \n",
    "print(x_train.shape, y_train_cls.shape, x_test.shape, y_test_cls.shape)"
   ]
  },
  {
   "cell_type": "code",
   "execution_count": 19,
   "metadata": {},
   "outputs": [
    {
     "name": "stdout",
     "output_type": "stream",
     "text": [
      "(8982, 10000) (8982, 46) (8982,) (2246, 10000) (2246, 46) (2246,)\n"
     ]
    }
   ],
   "source": [
    "y_train = np.squeeze(np.eye(46)[y_train_cls]).astype(np.int32)\n",
    "y_test = np.squeeze(np.eye(46)[y_test_cls]).astype(np.int32)\n",
    "print(x_train.shape, y_train.shape, y_train_cls.shape, x_test.shape, y_test.shape, y_test_cls.shape)"
   ]
  },
  {
   "cell_type": "code",
   "execution_count": 6,
   "metadata": {},
   "outputs": [],
   "source": [
    "tf.reset_default_graph()\n",
    "tf.set_random_seed(0)\n",
    "np.random.seed(0)"
   ]
  },
  {
   "cell_type": "code",
   "execution_count": 7,
   "metadata": {},
   "outputs": [
    {
     "name": "stdout",
     "output_type": "stream",
     "text": [
      "WARNING:tensorflow:From /Users/sungchullee/anaconda3/lib/python3.6/site-packages/tensorflow_core/python/training/rmsprop.py:119: calling Ones.__init__ (from tensorflow.python.ops.init_ops) with dtype is deprecated and will be removed in a future version.\n",
      "Instructions for updating:\n",
      "Call initializer instance with the dtype argument instead of passing it to the constructor\n"
     ]
    }
   ],
   "source": [
    "x = tf.placeholder(tf.float32, (None, 10000)) \n",
    "y = tf.placeholder(tf.int32, (None, 46)) \n",
    "y_cls = tf.placeholder(tf.int32, (None,)) \n",
    "\n",
    "init_b = tf.keras.initializers.constant(0.0)\n",
    "init_w = tf.keras.initializers.VarianceScaling(mode='fan_avg')\n",
    "\n",
    "b1 = tf.get_variable('b1', (64,), tf.float32, init_b)\n",
    "w1 = tf.get_variable('w1', (10000,64), tf.float32, init_w)\n",
    "\n",
    "b2 = tf.get_variable('b2', (64,), tf.float32, init_b)\n",
    "w2 = tf.get_variable('w2', (64,64), tf.float32, init_w)\n",
    "\n",
    "b3 = tf.get_variable('b3', (46,), tf.float32, init_b)\n",
    "w3 = tf.get_variable('w3', (64,46), tf.float32, init_w)\n",
    "\n",
    "x1 = tf.nn.relu(x @ w1 + b1) \n",
    "x2 = tf.nn.relu(x1 @ w2 + b2) \n",
    "logits = x2 @ w3 + b3\n",
    "y_pred_cls = tf.cast(tf.argmax(logits, axis=1), tf.int32, name='y_pred_cls') \n",
    "\n",
    "entropy = tf.nn.softmax_cross_entropy_with_logits_v2(labels=y, logits=logits) \n",
    "loss = tf.reduce_mean(entropy) \n",
    "train = tf.train.RMSPropOptimizer(lr).minimize(loss)\n",
    "\n",
    "correct = tf.nn.in_top_k(logits, y_cls, 1)\n",
    "accuracy = tf.reduce_mean(tf.cast(correct, tf.float32))\n",
    "\n",
    "init = tf.global_variables_initializer()\n",
    "saver = tf.train.Saver()"
   ]
  },
  {
   "cell_type": "code",
   "execution_count": 8,
   "metadata": {},
   "outputs": [],
   "source": [
    "def shuffle_batch(x, y, y_cls, batch_size):\n",
    "    rnd_idx = np.random.permutation(len(x))\n",
    "    n_batches = len(x) // batch_size\n",
    "    for batch_idx in np.array_split(rnd_idx, n_batches):\n",
    "        yield x[batch_idx], y[batch_idx], y_cls[batch_idx]"
   ]
  },
  {
   "cell_type": "code",
   "execution_count": 9,
   "metadata": {},
   "outputs": [
    {
     "name": "stdout",
     "output_type": "stream",
     "text": [
      "\n",
      "epoch 0/20 \n",
      "epoch 1/20 \n",
      "epoch 2/20 \n",
      "epoch 3/20 \n",
      "epoch 4/20 \n",
      "epoch 5/20 \n",
      "epoch 6/20 \n",
      "epoch 7/20 \n",
      "epoch 8/20 \n",
      "epoch 9/20 \n",
      "epoch 10/20 \n",
      "epoch 11/20 \n",
      "epoch 12/20 \n",
      "epoch 13/20 \n",
      "epoch 14/20 \n",
      "epoch 15/20 \n",
      "epoch 16/20 \n",
      "epoch 17/20 \n",
      "epoch 18/20 \n",
      "epoch 19/20 "
     ]
    }
   ],
   "source": [
    "with tf.Session() as sess:\n",
    "    init.run()\n",
    "    #saver.restore(sess, 'save/nn.ckpt')\n",
    "    \n",
    "    loss_trace = []\n",
    "    accuracy_trace = []\n",
    "\n",
    "    for i in range(epochs):\n",
    "        print()\n",
    "        print('epoch {}/{}'.format(i, epochs), end=' ')\n",
    "        for x_batch, y_batch, y_batch_cls in shuffle_batch(x_train, y_train, y_train_cls, batch_size):\n",
    "            feed_dict = {x: x_batch, y: y_batch, y_cls: y_batch_cls}\n",
    "            loss_run, accuracy_run, _ = sess.run([loss, accuracy, train], feed_dict=feed_dict)\n",
    "            loss_trace.append(loss_run)\n",
    "            accuracy_trace.append(accuracy_run)\n",
    "\n",
    "    feed_dict = {x: x_test, y: y_test, y_cls: y_test_cls}\n",
    "    accuracy_run, y_test_pred_cls = sess.run([accuracy, y_pred_cls], feed_dict=feed_dict)\n",
    "    \n",
    "    saver.save(sess, 'save/nn.ckpt')"
   ]
  },
  {
   "cell_type": "code",
   "execution_count": 10,
   "metadata": {},
   "outputs": [
    {
     "data": {
      "image/png": "[encoded data removed]",
      "text/plain": [
       "<Figure size 432x288 with 2 Axes>"
      ]
     },
     "metadata": {
      "needs_background": "light"
     },
     "output_type": "display_data"
    }
   ],
   "source": [
    "%matplotlib inline\n",
    "import matplotlib.pyplot as plt\n",
    "fig, (ax1, ax2) = plt.subplots(1, 2)\n",
    "ax1.plot(loss_trace)\n",
    "ax2.plot(accuracy_trace)\n",
    "ax1.set_title('loss')\n",
    "ax2.set_title('accuracy')\n",
    "ax1.set_xlabel('grad_step')\n",
    "ax2.set_xlabel('grad_step')\n",
    "plt.tight_layout()\n",
    "plt.show()"
   ]
  },
  {
   "cell_type": "code",
   "execution_count": 11,
   "metadata": {},
   "outputs": [
    {
     "name": "stdout",
     "output_type": "stream",
     "text": [
      "Test Accuracy : 0.7960819\n"
     ]
    }
   ],
   "source": [
    "print('Test Accuracy :', accuracy_run)"
   ]
  },
  {
   "cell_type": "code",
   "execution_count": 12,
   "metadata": {},
   "outputs": [
    {
     "name": "stdout",
     "output_type": "stream",
     "text": [
      "[[ 9  1  0 ...  0  0  0]\n",
      " [ 0 85  0 ...  0  0  0]\n",
      " [ 0  2 12 ...  0  0  0]\n",
      " ...\n",
      " [ 0  0  0 ...  6  0  0]\n",
      " [ 0  0  0 ...  0  4  0]\n",
      " [ 0  0  0 ...  0  0  1]]\n"
     ]
    }
   ],
   "source": [
    "from sklearn.metrics import confusion_matrix \n",
    "cm = confusion_matrix(y_true=y_test_cls, y_pred=y_test_pred_cls)\n",
    "print(cm)"
   ]
  },
  {
   "cell_type": "code",
   "execution_count": null,
   "metadata": {},
   "outputs": [],
   "source": []
  }
 ],
 "metadata": {
  "kernelspec": {
   "display_name": "Python 3",
   "language": "python",
   "name": "python3"
  },
  "language_info": {
   "codemirror_mode": {
    "name": "ipython",
    "version": 3
   },
   "file_extension": ".py",
   "mimetype": "text/x-python",
   "name": "python",
   "nbconvert_exporter": "python",
   "pygments_lexer": "ipython3",
   "version": "3.6.9"
  }
 },
 "nbformat": 4,
 "nbformat_minor": 2
}
