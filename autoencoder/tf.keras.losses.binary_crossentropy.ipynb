{
 "cells": [
  {
   "cell_type": "code",
   "execution_count": 1,
   "metadata": {},
   "outputs": [
    {
     "name": "stdout",
     "output_type": "stream",
     "text": [
      "WARNING:tensorflow:From /Users/sungchullee/.local/lib/python3.7/site-packages/tensorflow_core/python/compat/v2_compat.py:65: disable_resource_variables (from tensorflow.python.ops.variable_scope) is deprecated and will be removed in a future version.\n",
      "Instructions for updating:\n",
      "non-resource variables are not supported in the long term\n",
      "1.83258146374831\n",
      "[0.9162905 0.9162905]\n"
     ]
    }
   ],
   "source": [
    "import numpy as np\n",
    "import tensorflow.compat.v1 as tf; tf.disable_v2_behavior() \n",
    "\n",
    "y_true = np.array([[0., 1.], [1., 0.]])\n",
    "y_pred = np.array([[0.6, 0.4], [0.4, 0.6]])\n",
    "\n",
    "print(np.sum(- y_true * np.log(y_pred)))\n",
    "\n",
    "x = tf.placeholder(tf.float32, (None, 2))\n",
    "x_recon = tf.placeholder(tf.float32, (None, 2))\n",
    "loss = tf.keras.losses.binary_crossentropy(x, x_recon)\n",
    "with tf.Session() as sess:\n",
    "    feed_dict = {x: y_true, x_recon: y_pred}\n",
    "    print(sess.run(loss, feed_dict=feed_dict))"
   ]
  },
  {
   "cell_type": "markdown",
   "metadata": {},
   "source": [
    "# Reference\n",
    "\n",
    "[probabilistic_losses](https://keras.io/api/losses/probabilistic_losses/)"
   ]
  },
  {
   "cell_type": "code",
   "execution_count": null,
   "metadata": {},
   "outputs": [],
   "source": []
  }
 ],
 "metadata": {
  "kernelspec": {
   "display_name": "Python 3",
   "language": "python",
   "name": "python3"
  },
  "language_info": {
   "codemirror_mode": {
    "name": "ipython",
    "version": 3
   },
   "file_extension": ".py",
   "mimetype": "text/x-python",
   "name": "python",
   "nbconvert_exporter": "python",
   "pygments_lexer": "ipython3",
   "version": "3.7.7"
  }
 },
 "nbformat": 4,
 "nbformat_minor": 4
}
