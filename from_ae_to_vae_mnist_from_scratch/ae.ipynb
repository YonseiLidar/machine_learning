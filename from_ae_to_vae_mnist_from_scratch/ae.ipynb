{
 "cells": [
  {
   "cell_type": "code",
   "execution_count": 1,
   "metadata": {},
   "outputs": [],
   "source": [
    "import tensorflow as tf\n",
    "import numpy as np\n",
    "tf.reset_default_graph()\n",
    "tf.set_random_seed(0)\n",
    "np.random.seed(0)"
   ]
  },
  {
   "cell_type": "code",
   "execution_count": 2,
   "metadata": {},
   "outputs": [],
   "source": [
    "lr = 1e-3\n",
    "epoch = 50\n",
    "batch_size = 100"
   ]
  },
  {
   "cell_type": "code",
   "execution_count": 3,
   "metadata": {},
   "outputs": [
    {
     "name": "stdout",
     "output_type": "stream",
     "text": [
      "(60000, 784) (10000, 784)\n"
     ]
    }
   ],
   "source": [
    "import tensorflow as tf\n",
    "import numpy as np\n",
    "import copy\n",
    "mnist = tf.keras.datasets.mnist\n",
    "(x_train, y_train), (x_test, y_test) = mnist.load_data()\n",
    "x_train, x_test = x_train / 255.0, x_test / 255.0\n",
    "x_train, x_test = x_train.reshape((-1, 784)), x_test.reshape((-1, 784))\n",
    "x_train, x_test = x_train.astype(np.float32), x_test.astype(np.float32)\n",
    "print(x_train.shape, x_test.shape)"
   ]
  },
  {
   "cell_type": "code",
   "execution_count": 4,
   "metadata": {},
   "outputs": [],
   "source": [
    "initializer_b = tf.keras.initializers.zeros()\n",
    "initializer_w = tf.keras.initializers.VarianceScaling(mode='fan_avg')"
   ]
  },
  {
   "cell_type": "markdown",
   "metadata": {},
   "source": [
    "$$\\begin{array}{cccccccccccccccccccccccccccc}\n",
    "x&\\stackrel{\\varphi(xw_1+b_1)}{\\Rightarrow}&\n",
    "x_1&\\stackrel{\\varphi(x_1w_2+b_2)}{\\Rightarrow}&\n",
    "z&\\stackrel{\\varphi(zw_3+b_3)}{\\Rightarrow}&\n",
    "x_3&\\stackrel{\\varphi(x_3w_4+b_4)}{\\Rightarrow}&x_{recon}\\\\\n",
    "(?, 784)&&(?, 100)&&(?, 16)&&(?, 100)&&(?, 784)   \n",
    "\\end{array}$$"
   ]
  },
  {
   "cell_type": "markdown",
   "metadata": {},
   "source": [
    "```\n",
    "x.shape = (?, 784) \n",
    "x.dtype = tf.float32 \n",
    "```"
   ]
  },
  {
   "cell_type": "code",
   "execution_count": 5,
   "metadata": {},
   "outputs": [],
   "source": [
    "x = tf.placeholder(tf.float32, (None, 784)) "
   ]
  },
  {
   "cell_type": "markdown",
   "metadata": {},
   "source": [
    "```\n",
    "x1.shape = (?, 100)  # (?, 100) = (?, 784) @ (784, 100) + (100,) \n",
    "x1.dtype = tf.float32 \n",
    "```"
   ]
  },
  {
   "cell_type": "code",
   "execution_count": 6,
   "metadata": {},
   "outputs": [],
   "source": [
    "w1 = tf.get_variable(\"w1\", [784, 100], tf.float32, initializer_w) \n",
    "b1 = tf.get_variable(\"b1\", [100,], tf.float32, initializer_b) \n",
    "x1 = tf.nn.relu(x@w1+b1) "
   ]
  },
  {
   "cell_type": "markdown",
   "metadata": {},
   "source": [
    "```\n",
    "z.shape = (?, 16)  # (?, 100) = (?, 100) @ (100, 16) + (16,) \n",
    "z.dtype = tf.float32 \n",
    "```"
   ]
  },
  {
   "cell_type": "code",
   "execution_count": 7,
   "metadata": {},
   "outputs": [],
   "source": [
    "w2 = tf.get_variable(\"w2\", [100, 16], tf.float32, initializer_w) \n",
    "b2 = tf.get_variable(\"b2\", [16,], tf.float32, initializer_b) \n",
    "z = tf.nn.relu(x1@w2+b2) "
   ]
  },
  {
   "cell_type": "markdown",
   "metadata": {},
   "source": [
    "```\n",
    "x3.shape = (?, 100)  # (?, 100) = (?, 16) @ (16, 100) + (100,) \n",
    "x3.dtype = tf.float32 \n",
    "```"
   ]
  },
  {
   "cell_type": "code",
   "execution_count": 8,
   "metadata": {},
   "outputs": [],
   "source": [
    "w3 = tf.transpose(w2)\n",
    "b3 = tf.get_variable(\"b3\", [100,], tf.float32, initializer_b)\n",
    "x3 = tf.nn.relu(z@w3+b3)"
   ]
  },
  {
   "cell_type": "markdown",
   "metadata": {},
   "source": [
    "```\n",
    "x_recon.shape = (?, 784)  # (?, 784) = (?, 100) @ (100, 784) + (784,) \n",
    "x_recon.dtype = tf.float32 \n",
    "```"
   ]
  },
  {
   "cell_type": "code",
   "execution_count": 9,
   "metadata": {},
   "outputs": [],
   "source": [
    "w4 = tf.transpose(w1)\n",
    "b4 = tf.get_variable(\"b4\", [784,], tf.float32, initializer_b)\n",
    "x_recon = tf.nn.relu(x3@w4+b4)"
   ]
  },
  {
   "cell_type": "markdown",
   "metadata": {},
   "source": [
    "```\n",
    "l2.shape = (?,)  # (?,) \n",
    "l2.dtype = tf.float32 \n",
    "\n",
    "loss.shape = ()  # () \n",
    "loss.dtype = tf.float32 \n",
    "```"
   ]
  },
  {
   "cell_type": "code",
   "execution_count": 10,
   "metadata": {},
   "outputs": [
    {
     "name": "stdout",
     "output_type": "stream",
     "text": [
      "(?,) ()\n"
     ]
    }
   ],
   "source": [
    "l2 = tf.reduce_sum((x-x_recon)**2, axis=1) \n",
    "loss = tf.reduce_mean(l2) \n",
    "print(l2.shape, loss.shape)"
   ]
  },
  {
   "cell_type": "code",
   "execution_count": 11,
   "metadata": {},
   "outputs": [
    {
     "name": "stdout",
     "output_type": "stream",
     "text": [
      "WARNING:tensorflow:From /Users/sungchullee/anaconda3/lib/python3.6/site-packages/tensorflow_core/python/ops/math_grad.py:1375: where (from tensorflow.python.ops.array_ops) is deprecated and will be removed in a future version.\n",
      "Instructions for updating:\n",
      "Use tf.where in 2.0, which has the same broadcast rule as np.where\n"
     ]
    }
   ],
   "source": [
    "train = tf.train.AdamOptimizer(learning_rate=lr).minimize(loss)"
   ]
  },
  {
   "cell_type": "code",
   "execution_count": 12,
   "metadata": {},
   "outputs": [],
   "source": [
    "with tf.Session() as sess:\n",
    "    \n",
    "    tf.global_variables_initializer().run()\n",
    "    \n",
    "    loss_trace = []\n",
    "\n",
    "    for i in range(epoch):\n",
    "        idx = np.arange(x_train.shape[0])\n",
    "        np.random.shuffle(idx)\n",
    "        x_epoch = x_train[idx]\n",
    "        for k in range(x_train.shape[0]//batch_size):\n",
    "            x_batch = x_epoch[k*batch_size:(k+1)*batch_size]\n",
    "            feed_dict = {x:x_batch}\n",
    "            loss_run, _ = sess.run([loss, train], feed_dict=feed_dict)\n",
    "            loss_trace.append(loss_run)\n",
    "    \n",
    "    feed_dict = {x:x_test[:10]}\n",
    "    x_test_z, x_test_recon = sess.run([z, x_recon], feed_dict=feed_dict)\n",
    "    \n",
    "    z_random = np.random.normal(size=(10, 16))\n",
    "    feed_dict = {z:z_random}\n",
    "    random_recon = sess.run(x_recon, feed_dict=feed_dict)"
   ]
  },
  {
   "cell_type": "code",
   "execution_count": 13,
   "metadata": {},
   "outputs": [
    {
     "data": {
      "image/png": "[encoded data removed]",
      "text/plain": [
       "<Figure size 432x288 with 1 Axes>"
      ]
     },
     "metadata": {
      "needs_background": "light"
     },
     "output_type": "display_data"
    }
   ],
   "source": [
    "%matplotlib inline\n",
    "import matplotlib.pyplot as plt\n",
    "fig, ax = plt.subplots()\n",
    "ax.plot(loss_trace)\n",
    "ax.set_title('loss')\n",
    "ax.set_xlabel('grad_step')\n",
    "plt.tight_layout()\n",
    "plt.show()"
   ]
  },
  {
   "cell_type": "code",
   "execution_count": 14,
   "metadata": {},
   "outputs": [
    {
     "data": {
      "image/png": "[encoded data removed]",
      "text/plain": [
       "<Figure size 720x216 with 30 Axes>"
      ]
     },
     "metadata": {
      "needs_background": "light"
     },
     "output_type": "display_data"
    }
   ],
   "source": [
    "%matplotlib inline\n",
    "import matplotlib.pyplot as plt\n",
    "fig, axes = plt.subplots(3, 10, figsize=(10,3))\n",
    "for i in range(3):\n",
    "    for k in range(10):\n",
    "        if i==0:\n",
    "            axes[i,k].imshow(x_test[k].reshape((28,28)), cmap=plt.cm.gray)\n",
    "            axes[i,k].set_title('Orignal')\n",
    "        elif i==1:\n",
    "            axes[i,k].imshow(x_test_z[k].reshape((4,4)), cmap=plt.cm.gray)\n",
    "            axes[i,k].set_title('Latent')\n",
    "        else:\n",
    "            axes[i,k].imshow(x_test_recon[k].reshape((28,28)), cmap=plt.cm.gray)\n",
    "            axes[i,k].set_title('Recon')\n",
    "        axes[i,k].axis('off')\n",
    "plt.tight_layout()\n",
    "plt.show()"
   ]
  },
  {
   "cell_type": "code",
   "execution_count": 15,
   "metadata": {},
   "outputs": [
    {
     "data": {
      "image/png": "[encoded data removed]",
      "text/plain": [
       "<Figure size 720x216 with 20 Axes>"
      ]
     },
     "metadata": {
      "needs_background": "light"
     },
     "output_type": "display_data"
    }
   ],
   "source": [
    "%matplotlib inline\n",
    "import matplotlib.pyplot as plt\n",
    "fig, axes = plt.subplots(2, 10, figsize=(10,3))\n",
    "for i in range(2):\n",
    "    for k in range(10):\n",
    "        if i==0:\n",
    "            axes[i,k].imshow(z_random[k].reshape((4,4)), cmap=plt.cm.gray)\n",
    "            axes[i,k].set_title('Latent')\n",
    "        else:\n",
    "            axes[i,k].imshow(random_recon[k].reshape((28,28)), cmap=plt.cm.gray)\n",
    "            axes[i,k].set_title('Recon')\n",
    "        axes[i,k].axis('off')\n",
    "plt.tight_layout()\n",
    "plt.show()"
   ]
  }
 ],
 "metadata": {
  "kernelspec": {
   "display_name": "Python 3",
   "language": "python",
   "name": "python3"
  },
  "language_info": {
   "codemirror_mode": {
    "name": "ipython",
    "version": 3
   },
   "file_extension": ".py",
   "mimetype": "text/x-python",
   "name": "python",
   "nbconvert_exporter": "python",
   "pygments_lexer": "ipython3",
   "version": "3.6.9"
  }
 },
 "nbformat": 4,
 "nbformat_minor": 2
}
