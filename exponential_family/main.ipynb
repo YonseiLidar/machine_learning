{
 "cells": [
  {
   "cell_type": "markdown",
   "metadata": {},
   "source": [
    "### [Definition] Exponential Family\n",
    "$$\n",
    "\\displaystyle\n",
    "p_\\theta(x)=\\frac{e^{\\eta(\\theta)^Ts(x)}h(x)}{z(\\theta)}\n",
    "$$\n",
    "\n",
    "$$\\begin{array}{lll}\n",
    "\\eta(\\theta)&&\\mbox{natural parameter}\\\\\n",
    "s(x)&&\\mbox{sufficient statistic}\\\\\n",
    "h(x)&&\\mbox{describes support}\\\\\n",
    "z(\\theta)&&\\mbox{partition function}\\\\\n",
    "\\end{array}$$"
   ]
  },
  {
   "cell_type": "markdown",
   "metadata": {},
   "source": [
    "### [Example] Exponential Distribution\n",
    "$$\\begin{array}{lll}\n",
    "p_\\theta(x)&=&\\theta e^{-\\theta x}1(x\\ge 0)\\\\\n",
    "\\end{array}$$\n",
    "\n",
    "$$\\begin{array}{lllll}\n",
    "\\eta(\\theta)&=&\\theta&&\\mbox{natural parameter}\\\\\n",
    "s(x)&=&-x&&\\mbox{sufficient statistic}\\\\\n",
    "h(x)&=&1(x\\ge 0)&&\\mbox{describes support}\\\\\n",
    "z(\\theta)&=&\\frac{1}{\\theta}&&\\mbox{partition function}\\\\\n",
    "\\end{array}$$"
   ]
  },
  {
   "cell_type": "markdown",
   "metadata": {},
   "source": [
    "mathematicalmonk [(ML 5.1) Exponential families (part 1)](https://www.youtube.com/watch?v=_aNk4QKi2_o&list=PLD0F06AA0D2E8FFBA&index=28&t=0s)"
   ]
  },
  {
   "cell_type": "markdown",
   "metadata": {},
   "source": [
    "### [Example] Bernoulli Distribution - First form\n",
    "$$\\begin{array}{lll}\n",
    "p_\\theta(x)&=&\\theta^{1(x=1)}(1-\\theta)^{1(x=0)}1(x\\in\\{0,1\\})\\\\\n",
    "&=&e^{1(x=1)\\log\\theta + 1(x=0)\\log(1-\\theta)}1(x\\in\\{0,1\\})\\\\\n",
    "&=&e^{[\\log\\theta,\\ \\log(1-\\theta)]\\ [1(x=1),\\ 1(x=0)]^T}1(x\\in\\{0,1\\})\\\\\n",
    "\\end{array}$$\n",
    "\n",
    "$$\\begin{array}{lllll}\n",
    "\\eta(\\theta)&=&[\\log\\theta,\\ \\log(1-\\theta)]&&\\mbox{natural parameter}\\\\\n",
    "s(x)&=&[1(x=1),\\ 1(x=0)]^T&&\\mbox{sufficient statistic}\\\\\n",
    "h(x)&=&1(x\\in\\{0,1\\})&&\\mbox{describes support}\\\\\n",
    "z(\\theta)&=&1&&\\mbox{partition function}\\\\\n",
    "\\end{array}$$\n",
    "\n",
    "### [Example] Bernoulli Distribution - Second form\n",
    "$$\\begin{array}{lll}\n",
    "p_\\theta(x)&=&\\theta^{1(x=1)}(1-\\theta)^{1-1(x=1)}1(x\\in\\{0,1\\})\\\\\n",
    "&=&e^{1(x=1)\\log\\theta + (1-1(x=1))\\log(1-\\theta)}1(x\\in\\{0,1\\})\\\\\n",
    "&=&\\frac{e^{1(x=1)\\log\\frac{\\theta}{1-\\theta}}1(x\\in\\{0,1\\})}{\\frac{1}{1-\\theta}}\\\\\n",
    "\\end{array}$$\n",
    "\n",
    "$$\\begin{array}{lllllllll}\n",
    "\\eta(\\theta)&=&\\log\\frac{\\theta}{1-\\theta}&&\\mbox{natural parameter}&&\\theta&=&\\frac{1}{1+e^{-\\eta}}\\\\\n",
    "s(x)&=&1(x=1)&&\\mbox{sufficient statistic}\\\\\n",
    "h(x)&=&1(x\\in\\{0,1\\})&&\\mbox{describes support}\\\\\n",
    "z(\\theta)&=&\\frac{1}{1-\\theta}&&\\mbox{partition function}\\\\\n",
    "\\end{array}$$"
   ]
  },
  {
   "cell_type": "markdown",
   "metadata": {},
   "source": [
    "<div align=\"center\"><img src=\"img/Screen Shot 2019-09-24 at 10.56.58 AM.png\" width=\"70%\"></div>\n",
    "<div align=\"center\"><img src=\"img/Screen Shot 2019-09-24 at 11.00.01 AM.png\" width=\"70%\"></div>\n",
    "<div align=\"center\"><img src=\"img/Screen Shot 2019-09-24 at 11.03.00 AM.png\" width=\"70%\"></div>\n",
    "\n",
    "mathematicalmonk [(ML 5.2) Exponential families (part 2)](https://www.youtube.com/watch?v=Jc-gVN8tQC8&list=PLD0F06AA0D2E8FFBA&index=28)"
   ]
  },
  {
   "cell_type": "markdown",
   "metadata": {},
   "source": [
    "### MLE for Natural Exponential Family\n",
    "\n",
    "$$\\begin{array}{lll}\n",
    "\\displaystyle\n",
    "L(\\theta)\n",
    "&=&\n",
    "p_\\theta(x_1,\\ldots,x_n)\\\\\n",
    "&=&\n",
    "\\prod_{i=1}^np_\\theta(x_i)\\\\\n",
    "&=&\n",
    "\\prod_{i=1}^n\\frac{e^{\\theta^Ts(x_i)}h(x_i)}{z(\\theta)}\\\\\n",
    "&=&\n",
    "z(\\theta)^{-n}\n",
    "e^{\\theta^T\\sum_{i=1}^ns(x_i)}\n",
    "\\prod_{i=1}^nh(x_i) \\\\\n",
    "\\end{array}$$\n",
    "\n",
    "$$\\begin{array}{lll}\n",
    "\\displaystyle\n",
    "l(\\theta)\n",
    "&=&\n",
    "-n\\log z(\\theta)\n",
    "+\\theta^T\\sum_{i=1}^ns(x_i)\n",
    "+\\sum_{i=1}^n\\log h(x_i) \\\\\n",
    "\\end{array}$$"
   ]
  },
  {
   "cell_type": "markdown",
   "metadata": {},
   "source": [
    "$$\\begin{array}{lll}\n",
    "\\displaystyle\n",
    "\\nabla_\\theta l(\\theta)\n",
    "&=&\n",
    "-\\frac{n}{z(\\theta)}\\nabla_\\theta z(\\theta)\n",
    "+\\sum_{i=1}^ns(x_i)\\\\\n",
    "\\end{array}$$\n",
    "\n",
    "$$\n",
    "z(\\theta)=\\int e^{\\theta^Ts(x)}h(x)dx\n",
    "\\quad\\Rightarrow\\quad\n",
    "\\nabla_\\theta z(\\theta)=\\int s(x) e^{\\theta^Ts(x)}h(x)dx\n",
    "=z(\\theta)\\int s(x) \\frac{e^{\\theta^Ts(x)}h(x)}{z(\\theta)}dx=z(\\theta)\\mathbb{E}_\\theta s(x)\n",
    "$$\n",
    "\n",
    "$$\n",
    "\\displaystyle\n",
    "\\nabla_\\theta l(\\theta)\n",
    "=\n",
    "-n\\mathbb{E}_\\theta s(x)\n",
    "+\\sum_{i=1}^ns(x_i)\n",
    "=\n",
    "0\n",
    "\\quad\\Rightarrow\\quad\n",
    "\\mathbb{E}_{\\theta_{MLE}} s(x)=\\frac{\\sum_{i=1}^ns(x_i)}{n}\n",
    "$$"
   ]
  },
  {
   "cell_type": "markdown",
   "metadata": {},
   "source": [
    "mathematicalmonk [(ML 5.3) MLE for an exponential family (part 1)](https://www.youtube.com/watch?v=LcbwmT1OAKo&list=PLD0F06AA0D2E8FFBA&index=29)"
   ]
  },
  {
   "cell_type": "markdown",
   "metadata": {},
   "source": [
    "### [Example] Exponential Distribution\n",
    "$$\\begin{array}{lll}\n",
    "p_\\theta(x)&=&\\theta e^{-\\theta x}1(x\\ge 0)\\\\\n",
    "\\end{array}$$\n",
    "\n",
    "$$\\begin{array}{lllll}\n",
    "\\eta(\\theta)&=&\\theta&&\\mbox{natural parameter}\\\\\n",
    "s(x)&=&-x&&\\mbox{sufficient statistic}\\\\\n",
    "h(x)&=&1(x\\ge 0)&&\\mbox{describes support}\\\\\n",
    "z(\\theta)&=&\\frac{1}{\\theta}&&\\mbox{partition function}\\\\\n",
    "\\end{array}$$"
   ]
  },
  {
   "cell_type": "markdown",
   "metadata": {},
   "source": [
    "$$\n",
    "\\mathbb{E}_{\\theta_{MLE}} s(x)=\\frac{\\sum_{i=1}^ns(x_i)}{n}\n",
    "\\quad\\Rightarrow\\quad\n",
    "\\frac{1}{\\theta_{MLE}}=\\mathbb{E}_{\\theta_{MLE}} x=\\frac{\\sum_{i=1}^n x_i}{n}=\\bar{x}\n",
    "\\quad\\Rightarrow\\quad\n",
    "\\theta_{MLE}=\\frac{1}{\\bar{x}}\n",
    "$$"
   ]
  },
  {
   "cell_type": "markdown",
   "metadata": {},
   "source": [
    "mathematicalmonk [(ML 5.4) MLE for an exponential family (part 2)](https://www.youtube.com/watch?v=7EyKEtN-PJA&list=PLD0F06AA0D2E8FFBA&index=30)"
   ]
  },
  {
   "cell_type": "markdown",
   "metadata": {},
   "source": [
    "### GLM\n",
    "\n",
    "Assume\n",
    "$$\\begin{array}{lll}\n",
    "(1)&& y|x,\\theta \\sim \\mbox{ExpFamily}(\\eta)\\\\\n",
    "(2)&& \\eta = [1, x^T] \\theta\n",
    "\\end{array}$$\n",
    "After training, we report\n",
    "$$\n",
    "h_\\theta(x)=\\mathbb{E}(s(y)|x,\\theta)\n",
    "$$"
   ]
  },
  {
   "cell_type": "markdown",
   "metadata": {},
   "source": [
    "### [Example] Bernoulli Distribution - Second form\n",
    "$$\\begin{array}{lll}\n",
    "p_p(y)&=&p^{1(y=1)}(1-p)^{1-1(y=1)}1(y\\in\\{0,1\\})\\\\\n",
    "&=&e^{1(y=1)\\log p + (1-1(y=1))\\log(1-p)}1(y\\in\\{0,1\\})\\\\\n",
    "&=&\\frac{e^{1(y=1)\\log\\frac{p}{1-p}}1(y\\in\\{0,1\\})}{\\frac{1}{1-p}}\\\\\n",
    "\\end{array}$$\n",
    "\n",
    "$$\\begin{array}{lllllllll}\n",
    "\\eta(p)&=&\\log\\frac{p}{1-p}=[1,x^T]\\theta&&\\mbox{natural parameter}&&p&=&\\frac{1}{1+e^{-\\eta}}=\\frac{1}{1+e^{-[1,x^T]\\theta}}\\\\\n",
    "s(y)&=&1(y=1)&&\\mbox{sufficient statistic}\\\\\n",
    "h(y)&=&1(y\\in\\{0,1\\})&&\\mbox{describes support}\\\\\n",
    "z(p)&=&\\frac{1}{1-p}&&\\mbox{partition function}\\\\\n",
    "\\end{array}$$\n",
    "\n",
    "$$\n",
    "h_\\theta(x)=\\mathbb{E}(s(y)|x,\\theta)=p=\\frac{1}{1+e^{-\\eta}}=\\frac{1}{1+e^{-[1, x^T] \\theta}}\n",
    "$$"
   ]
  },
  {
   "cell_type": "markdown",
   "metadata": {},
   "source": [
    "<div align=\"center\"><img src=\"img/Screen Shot 2019-09-24 at 4.31.54 PM.png\" width=\"50%\"></div>\n",
    "<div align=\"center\"><img src=\"img/Screen Shot 2019-09-24 at 4.32.26 PM.png\" width=\"50%\"></div>\n",
    "<div align=\"center\"><img src=\"img/Screen Shot 2019-09-24 at 4.32.37 PM.png\" width=\"50%\"></div>\n",
    "<div align=\"center\"><img src=\"img/Screen Shot 2019-09-24 at 4.32.47 PM.png\" width=\"50%\"></div>\n",
    "<div align=\"center\"><img src=\"img/Screen Shot 2019-09-24 at 4.33.01 PM.png\" width=\"50%\"></div>\n",
    "<div align=\"center\"><img src=\"img/Screen Shot 2019-09-24 at 4.33.19 PM.png\" width=\"50%\"></div>\n",
    "\n",
    "[ng](https://www.youtube.com/watch?v=nLKOQfKLUks&list=PLA89DCFA6ADACE599&index=4)"
   ]
  },
  {
   "cell_type": "code",
   "execution_count": null,
   "metadata": {},
   "outputs": [],
   "source": []
  }
 ],
 "metadata": {
  "kernelspec": {
   "display_name": "Python 3",
   "language": "python",
   "name": "python3"
  },
  "language_info": {
   "codemirror_mode": {
    "name": "ipython",
    "version": 3
   },
   "file_extension": ".py",
   "mimetype": "text/x-python",
   "name": "python",
   "nbconvert_exporter": "python",
   "pygments_lexer": "ipython3",
   "version": "3.7.3"
  }
 },
 "nbformat": 4,
 "nbformat_minor": 2
}
