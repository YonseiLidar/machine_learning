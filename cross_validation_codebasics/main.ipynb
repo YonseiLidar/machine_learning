{
 "cells": [
  {
   "cell_type": "markdown",
   "metadata": {},
   "source": [
    "[codebasics](https://www.youtube.com/watch?v=gJo0uNL-5Qw&list=PLeo1K3hjS3uvCeTYTeyfe0-rN5r8zn9rw&index=13)"
   ]
  },
  {
   "cell_type": "code",
   "execution_count": 1,
   "metadata": {},
   "outputs": [],
   "source": [
    "%matplotlib inline"
   ]
  },
  {
   "cell_type": "code",
   "execution_count": 2,
   "metadata": {},
   "outputs": [
    {
     "name": "stdout",
     "output_type": "stream",
     "text": [
      "(1797, 64)\n",
      "(1797, 8, 8)\n",
      "(1797,)\n",
      "(10,)\n",
      "\n"
     ]
    },
    {
     "data": {
      "image/png": "[encoded data removed]",
      "text/plain": [
       "<Figure size 432x288 with 1 Axes>"
      ]
     },
     "metadata": {
      "needs_background": "light"
     },
     "output_type": "display_data"
    },
    {
     "data": {
      "image/png": "[encoded data removed]",
      "text/plain": [
       "<Figure size 432x288 with 1 Axes>"
      ]
     },
     "metadata": {
      "needs_background": "light"
     },
     "output_type": "display_data"
    },
    {
     "data": {
      "image/png": "[encoded data removed]",
      "text/plain": [
       "<Figure size 432x288 with 1 Axes>"
      ]
     },
     "metadata": {
      "needs_background": "light"
     },
     "output_type": "display_data"
    },
    {
     "data": {
      "image/png": "[encoded data removed]",
      "text/plain": [
       "<Figure size 432x288 with 1 Axes>"
      ]
     },
     "metadata": {
      "needs_background": "light"
     },
     "output_type": "display_data"
    },
    {
     "data": {
      "image/png": "[encoded data removed]",
      "text/plain": [
       "<Figure size 432x288 with 1 Axes>"
      ]
     },
     "metadata": {
      "needs_background": "light"
     },
     "output_type": "display_data"
    },
    {
     "name": "stdout",
     "output_type": "stream",
     "text": [
      "[ 0.  0.  5. 13.  9.  1.  0.  0.  0.  0. 13. 15. 10. 15.  5.  0.  0.  3.\n",
      " 15.  2.  0. 11.  8.  0.  0.  4. 12.  0.  0.  8.  8.  0.  0.  5.  8.  0.\n",
      "  0.  9.  8.  0.  0.  4. 11.  0.  1. 12.  7.  0.  0.  2. 14.  5. 10. 12.\n",
      "  0.  0.  0.  0.  6. 13. 10.  0.  0.  0.]\n",
      "[[ 0.  0.  5. 13.  9.  1.  0.  0.]\n",
      " [ 0.  0. 13. 15. 10. 15.  5.  0.]\n",
      " [ 0.  3. 15.  2.  0. 11.  8.  0.]\n",
      " [ 0.  4. 12.  0.  0.  8.  8.  0.]\n",
      " [ 0.  5.  8.  0.  0.  9.  8.  0.]\n",
      " [ 0.  4. 11.  0.  1. 12.  7.  0.]\n",
      " [ 0.  2. 14.  5. 10. 12.  0.  0.]\n",
      " [ 0.  0.  6. 13. 10.  0.  0.  0.]]\n",
      "2\n",
      "[0 1 2 3 4 5 6 7 8 9]\n"
     ]
    }
   ],
   "source": [
    "from sklearn.datasets import load_digits\n",
    "import matplotlib.pyplot as plt\n",
    "\n",
    "digits = load_digits()\n",
    "# print(type(digits))\n",
    "# print(dir(digits))\n",
    "# print()\n",
    "\n",
    "# print(digits.DESCR)\n",
    "# print()\n",
    "\n",
    "# print(type(digits.data))\n",
    "# print(type(digits.images))\n",
    "# print(type(digits.target))\n",
    "# print(type(digits.target_names))\n",
    "# print()\n",
    "\n",
    "print(digits.data.shape)\n",
    "print(digits.images.shape)\n",
    "print(digits.target.shape)\n",
    "print(digits.target_names.shape)\n",
    "print()\n",
    "\n",
    "# print(type(digits.data[0]))\n",
    "# print(type(digits.images[0]))\n",
    "# print(type(digits.target[0]))\n",
    "# print(type(digits.target_names[0]))\n",
    "# print()\n",
    "\n",
    "# print(digits.data[0].shape)\n",
    "# print(digits.images[0].shape)\n",
    "# print(digits.target[100])\n",
    "# print(digits.target_names)\n",
    "\n",
    "for i in range(5):\n",
    "    plt.imshow(digits.images[i])\n",
    "    plt.title(digits.target[i], fontsize=30)\n",
    "    plt.show()\n",
    "    \n",
    "print(digits.data[0])\n",
    "print(digits.images[0])\n",
    "print(digits.target[2])\n",
    "print(digits.target_names)"
   ]
  },
  {
   "cell_type": "code",
   "execution_count": 3,
   "metadata": {},
   "outputs": [],
   "source": [
    "from sklearn.model_selection import train_test_split\n",
    "x_train, x_test, y_train, y_test = train_test_split(digits.data, digits.target, test_size=0.2)"
   ]
  },
  {
   "cell_type": "code",
   "execution_count": 4,
   "metadata": {},
   "outputs": [
    {
     "name": "stdout",
     "output_type": "stream",
     "text": [
      "0.9583333333333334\n",
      "0.9805555555555555\n"
     ]
    }
   ],
   "source": [
    "from sklearn.linear_model import LogisticRegression\n",
    "from sklearn.ensemble import RandomForestClassifier\n",
    "\n",
    "lr = LogisticRegression(solver='liblinear', multi_class='ovr')\n",
    "lr.fit(x_train, y_train)\n",
    "print(lr.score(x_test, y_test))\n",
    "\n",
    "rf = RandomForestClassifier(n_estimators=40)\n",
    "rf.fit(x_train, y_train)\n",
    "print(rf.score(x_test, y_test))"
   ]
  },
  {
   "cell_type": "markdown",
   "metadata": {},
   "source": [
    "# k-fold cross validation - basic example"
   ]
  },
  {
   "cell_type": "code",
   "execution_count": 5,
   "metadata": {},
   "outputs": [
    {
     "name": "stdout",
     "output_type": "stream",
     "text": [
      "KFold(n_splits=3, random_state=None, shuffle=False)\n",
      "\n",
      "[3 4 5 6 7 8] [0 1 2]\n",
      "[0 1 2 6 7 8] [3 4 5]\n",
      "[0 1 2 3 4 5] [6 7 8]\n"
     ]
    }
   ],
   "source": [
    "from sklearn.model_selection import KFold\n",
    "\n",
    "kf = KFold(n_splits=3)\n",
    "print(kf)\n",
    "print()\n",
    "\n",
    "for train_index, test_index in kf.split([0,1,2,3,4,5,6,7,8]):\n",
    "    print(train_index, test_index)"
   ]
  },
  {
   "cell_type": "markdown",
   "metadata": {},
   "source": [
    "# k-fold cross validation - manual"
   ]
  },
  {
   "cell_type": "code",
   "execution_count": 6,
   "metadata": {},
   "outputs": [],
   "source": [
    "def get_score(model, x_train, y_train, x_test, y_test):\n",
    "    model.fit(x_train, y_train)\n",
    "    return model.score(x_test, y_test)"
   ]
  },
  {
   "cell_type": "code",
   "execution_count": 10,
   "metadata": {},
   "outputs": [
    {
     "name": "stdout",
     "output_type": "stream",
     "text": [
      "0.9210188113360701\n",
      "0.9360870076047523\n"
     ]
    }
   ],
   "source": [
    "from sklearn.model_selection import StratifiedKFold\n",
    "import numpy as np\n",
    "\n",
    "kf = StratifiedKFold(n_splits=5)\n",
    "\n",
    "scores_logistic = []\n",
    "scores_rf = []\n",
    "\n",
    "x, y = digits.data, digits.target\n",
    "for train_index, test_index in kf.split(x, y):\n",
    "    \n",
    "    x_train, y_train = x[train_index], y[train_index]\n",
    "    x_test, y_test = x[test_index], y[test_index]\n",
    "    \n",
    "    score = get_score(\n",
    "        LogisticRegression(solver='liblinear', multi_class='ovr'), \n",
    "        x_train, y_train, x_test, y_test)\n",
    "    scores_logistic.append(score)  \n",
    "    \n",
    "    score = get_score(\n",
    "        RandomForestClassifier(n_estimators=40), \n",
    "        x_train, y_train, x_test, y_test) \n",
    "    scores_rf.append(score)\n",
    "\n",
    "# print(scores_logistic)\n",
    "# print(scores_rf)\n",
    "print(np.array(scores_logistic).mean())\n",
    "print(np.array(scores_rf).mean())"
   ]
  },
  {
   "cell_type": "markdown",
   "metadata": {},
   "source": [
    "# k-fold cross validation - auto"
   ]
  },
  {
   "cell_type": "code",
   "execution_count": 14,
   "metadata": {
    "scrolled": true
   },
   "outputs": [
    {
     "name": "stdout",
     "output_type": "stream",
     "text": [
      "<class 'numpy.ndarray'>\n",
      "<class 'numpy.ndarray'>\n",
      "0.9310298346839012\n",
      "0.9533599539693199\n"
     ]
    }
   ],
   "source": [
    "from sklearn.model_selection import cross_val_score\n",
    "\n",
    "scores_logistic = cross_val_score(\n",
    "    LogisticRegression(solver='liblinear', multi_class='ovr'), \n",
    "    digits.data, \n",
    "    digits.target,\n",
    "    cv=10)\n",
    "\n",
    "scores_rf = cross_val_score(\n",
    "    RandomForestClassifier(n_estimators=40),\n",
    "    digits.data,\n",
    "    digits.target,\n",
    "    cv=10)\n",
    "\n",
    "print(type(scores_logistic))\n",
    "print(type(scores_rf))\n",
    "print(scores_logistic.mean())\n",
    "print(scores_rf.mean())"
   ]
  },
  {
   "cell_type": "markdown",
   "metadata": {},
   "source": [
    "# Parameter tunning using k-fold cross validation"
   ]
  },
  {
   "cell_type": "code",
   "execution_count": 15,
   "metadata": {},
   "outputs": [
    {
     "name": "stdout",
     "output_type": "stream",
     "text": [
      "number of trees : 5\n",
      "score           : 0.8819051951352417\n",
      "\n",
      "number of trees : 10\n",
      "score           : 0.9184012105398857\n",
      "\n",
      "number of trees : 15\n",
      "score           : 0.9344589033816202\n",
      "\n",
      "number of trees : 20\n",
      "score           : 0.9399290941793857\n",
      "\n",
      "number of trees : 25\n",
      "score           : 0.9422411465541302\n",
      "\n",
      "number of trees : 30\n",
      "score           : 0.946091126051182\n",
      "\n",
      "number of trees : 35\n",
      "score           : 0.9548587587078797\n",
      "\n",
      "number of trees : 40\n",
      "score           : 0.9516800360415655\n",
      "\n",
      "number of trees : 45\n",
      "score           : 0.9521489929454232\n",
      "\n",
      "number of trees : 50\n",
      "score           : 0.9494485850877517\n",
      "\n",
      "number of trees : 55\n",
      "score           : 0.9499360690146619\n",
      "\n",
      "number of trees : 60\n",
      "score           : 0.9505784994874074\n",
      "\n",
      "number of trees : 65\n",
      "score           : 0.9550519321959863\n",
      "\n",
      "number of trees : 70\n",
      "score           : 0.9538857740942177\n",
      "\n",
      "number of trees : 75\n",
      "score           : 0.951133706868734\n",
      "\n",
      "number of trees : 80\n",
      "score           : 0.9528133818154034\n",
      "\n",
      "number of trees : 85\n",
      "score           : 0.9505636395551986\n",
      "\n",
      "number of trees : 90\n",
      "score           : 0.9572384431027953\n",
      "\n",
      "number of trees : 95\n",
      "score           : 0.9516406950510661\n",
      "\n"
     ]
    },
    {
     "data": {
      "image/png": "[encoded data removed]",
      "text/plain": [
       "<Figure size 432x288 with 1 Axes>"
      ]
     },
     "metadata": {
      "needs_background": "light"
     },
     "output_type": "display_data"
    }
   ],
   "source": [
    "num_trees = []\n",
    "scores = []\n",
    "for i in range(5, 100, 5):\n",
    "    score = cross_val_score(\n",
    "        RandomForestClassifier(n_estimators=i),\n",
    "        digits.data, \n",
    "        digits.target, \n",
    "        cv=10).mean()\n",
    "    num_trees.append(i)\n",
    "    scores.append(score)\n",
    "    print('number of trees :', i)\n",
    "    print('score           :', score)\n",
    "    print()\n",
    "    \n",
    "plt.plot(num_trees, scores)\n",
    "plt.show()"
   ]
  },
  {
   "cell_type": "markdown",
   "metadata": {},
   "source": [
    "Here we used cross_val_score to\n",
    "fine tune our random forest classifier and figured that having around 40 trees in random forest gives best result. "
   ]
  },
  {
   "cell_type": "markdown",
   "metadata": {},
   "source": [
    "<h2 style='color:purple'>Exercise</h2>"
   ]
  },
  {
   "cell_type": "markdown",
   "metadata": {},
   "source": [
    "Use iris flower dataset from sklearn library and use cross_val_score against following\n",
    "models to measure the performance of each. In the end figure out the model with best performance,\n",
    "1. Logistic Regression\n",
    "2. SVM\n",
    "3. Decision Tree\n",
    "4. Random Forest"
   ]
  }
 ],
 "metadata": {
  "kernelspec": {
   "display_name": "Python 3",
   "language": "python",
   "name": "python3"
  },
  "language_info": {
   "codemirror_mode": {
    "name": "ipython",
    "version": 3
   },
   "file_extension": ".py",
   "mimetype": "text/x-python",
   "name": "python",
   "nbconvert_exporter": "python",
   "pygments_lexer": "ipython3",
   "version": "3.7.3"
  }
 },
 "nbformat": 4,
 "nbformat_minor": 2
}
