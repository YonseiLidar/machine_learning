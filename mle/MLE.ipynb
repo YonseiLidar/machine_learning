{
 "cells": [
  {
   "cell_type": "markdown",
   "metadata": {},
   "source": [
    "# MLE"
   ]
  },
  {
   "cell_type": "markdown",
   "metadata": {},
   "source": [
    "<a href=\"#Capture-recapture-method\">Capture recapture method</a>\n",
    "\n",
    "<a href=\"#Estimation-of-mu-and-sigma-(Normal-Distribution)\">Estimation of mu and sigma (Normal Distribution)</a>\n",
    "\n",
    "<a href=\"#Estimation-of-mu-(Bernoulli-Distribution)\">Estimation of mu (Bernoulli Distribution)</a> \n",
    "\n",
    "<a href=\"#Square-cost-function\">Square cost function</a>\n",
    "\n",
    "<a href=\"#Cross-entropy-cost-function\">Cross entropy cost function</a>"
   ]
  },
  {
   "cell_type": "markdown",
   "metadata": {},
   "source": [
    "CS231n_2017 [pdf](http://localhost:8888/notebooks/Dropbox/Paper/cs231n_2017_lecture3.pdf)"
   ]
  },
  {
   "cell_type": "markdown",
   "metadata": {},
   "source": [
    "# Capture recapture method"
   ]
  },
  {
   "cell_type": "code",
   "execution_count": 1,
   "metadata": {},
   "outputs": [],
   "source": [
    "%matplotlib inline"
   ]
  },
  {
   "cell_type": "markdown",
   "metadata": {},
   "source": [
    "<div align=\"center\"><img src=\"https://upload.wikimedia.org/wikipedia/commons/thumb/5/5c/Jackdaw_with_a_ring.JPG/440px-Jackdaw_with_a_ring.JPG\" width=\"50%\"></div>"
   ]
  },
  {
   "cell_type": "markdown",
   "metadata": {},
   "source": [
    "$$\n",
    "P(t|n,c,r) = \\frac{{c\\choose t}{n-c\\choose r-t}}{{n\\choose r}} \n",
    "$$"
   ]
  },
  {
   "cell_type": "code",
   "execution_count": 4,
   "metadata": {},
   "outputs": [
    {
     "name": "stdout",
     "output_type": "stream",
     "text": [
      "['__add__', '__class__', '__contains__', '__delattr__', '__delitem__', '__dir__', '__doc__', '__eq__', '__format__', '__ge__', '__getattribute__', '__getitem__', '__gt__', '__hash__', '__iadd__', '__imul__', '__init__', '__iter__', '__le__', '__len__', '__lt__', '__mul__', '__ne__', '__new__', '__reduce__', '__reduce_ex__', '__repr__', '__reversed__', '__rmul__', '__setattr__', '__setitem__', '__sizeof__', '__str__', '__subclasshook__', 'append', 'clear', 'copy', 'count', 'extend', 'index', 'insert', 'pop', 'remove', 'reverse', 'sort']\n"
     ]
    }
   ],
   "source": [
    "print(dir(list))"
   ]
  },
  {
   "cell_type": "code",
   "execution_count": 3,
   "metadata": {},
   "outputs": [
    {
     "name": "stdout",
     "output_type": "stream",
     "text": [
      "Number of blue jeys in the forest: 33\n"
     ]
    },
    {
     "data": {
      "image/png": "[encoded data removed]",
      "text/plain": [
       "<Figure size 432x288 with 1 Axes>"
      ]
     },
     "metadata": {
      "needs_background": "light"
     },
     "output_type": "display_data"
    }
   ],
   "source": [
    "import numpy as np\n",
    "import matplotlib.pyplot as plt\n",
    "import scipy.special as ss\n",
    "\n",
    "    \n",
    "def capture_recapture(c, r, t):\n",
    "    # n - Number of blue jeys in the forest, unknown\n",
    "    # c - Number of blue jeys captured, tagged, and release\n",
    "    # r - Number of blue jeys re-captured \n",
    "    # t - Number of blue jeys tagged in re-captured stage\n",
    "    \n",
    "    prob = []\n",
    "    for n in range((c+r-t), 10*(c+r-t) + 1):\n",
    "        prob_temp = ss.comb(c,t) * ss.comb(n-c,r-t) / ss.comb(n,r) \n",
    "        prob.append(prob_temp)\n",
    "\n",
    "    # mle\n",
    "    ind = prob.index(max(prob))\n",
    "    n_mle = ind+(c+r-t)\n",
    "    print('Number of blue jeys in the forest: {}'.format(n_mle))\n",
    "\n",
    "    plt.plot(range((c+r-t), 10*(c+r-t) + 1), prob)\n",
    "    plt.scatter(n_mle, prob[ind], color='red')\n",
    "    plt.show()\n",
    "        \n",
    "    \n",
    "if __name__ == '__main__':\n",
    "           # n - Number of blue jeys in the forest, unknown\n",
    "    c = 10 # c - Number of blue jeys captured, tagged, and release\n",
    "    r = 10 # r - Number of blue jeys re-captured \n",
    "    t = 3  # t - Number of blue jeys tagged in re-captured stage\n",
    "    \n",
    "    capture_recapture(c, r, t)"
   ]
  },
  {
   "cell_type": "markdown",
   "metadata": {},
   "source": [
    "[<a href=\"#MLE\">Back to top</a>]"
   ]
  },
  {
   "cell_type": "markdown",
   "metadata": {},
   "source": [
    "# Estimation of mu and sigma (Normal Distribution) "
   ]
  },
  {
   "cell_type": "markdown",
   "metadata": {},
   "source": [
    "Let $x^{(i)}$ be $m$ iid sample from $N(\\mu,\\sigma^2)$.\n",
    "Then, $\\mu$ and $\\sigma^2$ can be estimated by $\\hat{\\mu}$ and $\\hat{\\sigma}^2$\n",
    "where \n",
    "$$\\begin{array}{lll}\n",
    "\\hat{\\mu}&=&\\frac{\\sum_{i=1}^mx^{(i)}}{m}\\\\\n",
    "\\hat{\\sigma}^2&=&\\frac{\\sum_{i=1}^m(x^{(i)}-\\hat{\\mu})^2}{m}\n",
    "\\end{array}$$"
   ]
  },
  {
   "cell_type": "markdown",
   "metadata": {},
   "source": [
    "##### Data\n",
    "$$\\{x^{(i)}: i=1,\\ldots,m\\}$$\n",
    "\n",
    "##### Model\n",
    "$$x^{(i)}\\sim N(\\mu,\\sigma^2)$$\n",
    "\n",
    "##### Likelihood function\n",
    "$$L(\\mu,\\sigma^2)=\\prod_{i=1}^m\\frac{1}{\\sqrt{2\\pi\\sigma^2}}exp\\left(-\\frac{1}{2\\sigma^2}\\left(x^{(i)}-\\mu\\right)^2\\right)$$\n",
    "\n",
    "##### Log-Likelihood function\n",
    "$$l(\\mu,\\sigma^2)=-\\frac{1}{2\\sigma^2}\\sum_{i=1}^m\\left(x^{(i)}-\\mu\\right)^2-\\frac{m}{2}\\log\\sigma^2+\\mbox{Constant}$$\n",
    "\n",
    "##### Cost function\n",
    "$$J(\\mu,\\sigma^2)=\\frac{1}{2\\sigma^2}\\sum_{i=1}^m\\left(x^{(i)}-\\mu\\right)^2+\\frac{m}{2}\\log\\sigma^2$$\n",
    "\n",
    "##### Maximum likelihood principle\n",
    "$$\\mbox{argmax}_{\\mu,\\sigma^2}\\ L\\quad\\Leftrightarrow\\quad\\mbox{argmax}_{\\mu,\\sigma^2}\\ l\\quad\\Leftrightarrow\\quad\\mbox{argmin}_{\\mu,\\sigma^2}\\ J$$"
   ]
  },
  {
   "cell_type": "markdown",
   "metadata": {},
   "source": [
    "$$\\begin{array}{llcll}\n",
    "\\frac{\\partial J}{\\partial\\mu}=0\n",
    "&\\Rightarrow&\n",
    "\\sum_{i=1}^m\\left(x^{(i)}-\\mu\\right)=0\n",
    "&\\Rightarrow&\n",
    "\\hat{\\mu}=\\frac{\\sum_{i=1}^mx^{(i)}}{m}\\\\\n",
    "\\frac{\\partial J}{\\partial\\sigma^2}=0\n",
    "&\\Rightarrow&\n",
    "\\cdots\n",
    "&\\Rightarrow&\n",
    "\\hat{\\sigma}^2=\\frac{\\sum_{i=1}^m(x^{(i)}-\\hat{\\mu})^2}{m}\\\\\n",
    "\\end{array}$$"
   ]
  },
  {
   "cell_type": "markdown",
   "metadata": {},
   "source": [
    "[<a href=\"#MLE\">Back to top</a>]"
   ]
  },
  {
   "cell_type": "markdown",
   "metadata": {},
   "source": [
    "# Estimation of mu (Bernoulli Distribution) "
   ]
  },
  {
   "cell_type": "markdown",
   "metadata": {},
   "source": [
    "Let $x^{(i)}$ be $m$ iid sample from $B(p)$.\n",
    "Then, $p$ can be estimated by $\\hat{p}$\n",
    "where \n",
    "$$\\begin{array}{lll}\n",
    "\\hat{p}&=&\\frac{\\sum_{i=1}^mx^{(i)}}{m}\n",
    "\\end{array}$$"
   ]
  },
  {
   "cell_type": "markdown",
   "metadata": {},
   "source": [
    "##### Data\n",
    "$$\\{x^{(i)}: i=1,\\ldots,m\\}$$\n",
    "\n",
    "##### Model\n",
    "$$x^{(i)}\\sim B(p)$$\n",
    "\n",
    "##### Likelihood function\n",
    "$$L(p)=\\prod_{i=1}^mp^{x^{(i)}}(1-p)^{1-x^{(i)}}$$\n",
    "\n",
    "##### Log-Likelihood function\n",
    "$$l(p)=\\sum_{i=1}^mx^{(i)}\\log(p)+(1-x^{(i)})\\log(1-p)$$\n",
    "\n",
    "##### Cost function\n",
    "$$J(p)=-\\sum_{i=1}^mx^{(i)}\\log(p)+(1-x^{(i)})\\log(1-p)$$\n",
    "\n",
    "##### Maximum likelihood principle\n",
    "$$\\mbox{argmax}_{p}\\ L\\quad\\Leftrightarrow\\quad\\mbox{argmax}_{p}\\ l\\quad\\Leftrightarrow\\quad\\mbox{argmin}_{p}\\ J$$"
   ]
  },
  {
   "cell_type": "markdown",
   "metadata": {},
   "source": [
    "$$\\begin{array}{llcll}\n",
    "\\frac{\\partial J}{\\partial p}=0\n",
    "&\\Rightarrow&\n",
    "\\sum_{i=1}^m\\frac{x^{(i)}}{p}-\\frac{1-x^{(i)}}{1-p}=0\n",
    "&\\Rightarrow&\n",
    "\\hat{p}=\\frac{\\sum_{i=1}^mx^{(i)}}{m}\n",
    "\\end{array}$$"
   ]
  },
  {
   "cell_type": "markdown",
   "metadata": {},
   "source": [
    "[<a href=\"#MLE\">Back to top</a>]"
   ]
  },
  {
   "cell_type": "markdown",
   "metadata": {},
   "source": [
    "# Square cost function"
   ]
  },
  {
   "cell_type": "markdown",
   "metadata": {},
   "source": [
    "##### Data\n",
    "$$\\{(x^{(i)}, y^{(i)}): i=1,\\ldots,m\\}$$\n",
    "\n",
    "##### Model\n",
    "$$y^{(i)}=\\alpha+\\beta x^{(i)}+\\varepsilon^{(i)}$$\n",
    "where with a fixed $\\sigma^2$\n",
    "$$\\varepsilon^{(i)}\\sim N(0,\\sigma^2)$$\n",
    "\n",
    "##### Likelihood function\n",
    "$$L(\\alpha,\\beta)=\\prod_{i=1}^m\\frac{1}{\\sqrt{2\\pi\\sigma^2}}exp\\left(-\\frac{1}{2\\sigma^2}\\left(y^{(i)}-\\alpha-\\beta x^{(i)}\\right)^2\\right)$$\n",
    "\n",
    "##### Log-Likelihood function\n",
    "$$l(\\alpha,\\beta)=-\\frac{1}{2\\sigma^2}\\sum_{i=1}^m\\left(y^{(i)}-\\alpha-\\beta x^{(i)}\\right)^2+\\mbox{Constant}$$\n",
    "\n",
    "##### Cost function\n",
    "$$J(\\alpha,\\beta)=\\frac{1}{2}\\sum_{i=1}^m\\left(y^{(i)}-\\alpha-\\beta x^{(i)}\\right)^2$$\n",
    "\n",
    "##### Maximum likelihood principle\n",
    "$$\\mbox{argmax}_{\\alpha,\\beta}\\ L\\quad\\Leftrightarrow\\quad\\mbox{argmax}_{\\alpha,\\beta}\\ l\\quad\\Leftrightarrow\\quad\\mbox{argmin}_{\\alpha,\\beta}\\ J$$"
   ]
  },
  {
   "cell_type": "code",
   "execution_count": 1,
   "metadata": {},
   "outputs": [
    {
     "name": "stdout",
     "output_type": "stream",
     "text": [
      "y_minus_y_hat : \n",
      "[[1.2]\n",
      " [0.1]\n",
      " [0.3]]\n",
      "\n",
      "loss  :  0.77000004\n",
      "loss2 :  0.77000004\n",
      "loss3 :  0.77\n"
     ]
    }
   ],
   "source": [
    "import tensorflow as tf\n",
    "\n",
    "y_minus_y_hat = tf.constant([[1.2], [0.1], [0.3]])\n",
    "\n",
    "loss = tf.nn.l2_loss(y_minus_y_hat)\n",
    "loss2 = tf.reduce_sum(tf.square(y_minus_y_hat)) / 2\n",
    "loss3 = (1.2**2 + 0.1**2 + 0.3**2) / 2 \n",
    "\n",
    "with tf.Session() as sess:\n",
    "    print(\"y_minus_y_hat : \")\n",
    "    print(sess.run(y_minus_y_hat))\n",
    "    print()\n",
    "    \n",
    "    print(\"loss  : \", sess.run(loss))\n",
    "    print(\"loss2 : \", sess.run(loss2))\n",
    "    print(\"loss3 : \", loss3)"
   ]
  },
  {
   "cell_type": "markdown",
   "metadata": {},
   "source": [
    "[<a href=\"#MLE\">Back to top</a>]"
   ]
  },
  {
   "cell_type": "markdown",
   "metadata": {},
   "source": [
    "# Cross entropy cost function"
   ]
  },
  {
   "cell_type": "markdown",
   "metadata": {},
   "source": [
    "##### Data\n",
    "$$\\{(x^{(i)}, y^{(i)}): i=1,\\ldots,m\\}$$\n",
    "\n",
    "##### Model\n",
    "$$\n",
    "\\begin{array}{lll}\n",
    "p^{(i)}\n",
    "&=&\\mbox{softmax}(x^{(i)}W+b)\\\\\n",
    "&=&e^{x^{(i)}W+b} / \\mbox{np.sum}(e^{x^{(i)}W+b})\n",
    "\\end{array}\n",
    "$$\n",
    "\n",
    "##### Likelihood function\n",
    "$$L(W,b)=\\prod_{i=1}^m\\prod_{k=0}^{9}\\left(p^{(i)}[k]\\right)^{y^{(i)}[k]}$$\n",
    "\n",
    "##### Log-Likelihood function\n",
    "$$l(W,b)=\\sum_{i=1}^m\\sum_{k=0}^{9} y^{(i)}[k]\\log p^{(i)}[k]$$\n",
    "\n",
    "##### Cost function\n",
    "$$J(W,b)=-\\frac{1}{m}\\sum_{i=1}^m\\sum_{k=0}^{9} y^{(i)}[k]\\log p^{(i)}[k]$$\n",
    "\n",
    "##### Maximum likelihood principle\n",
    "$$\\mbox{argmax}_{W,b}\\ L\\quad\\Leftrightarrow\\quad\\mbox{argmax}_{W,b}\\ l\\quad\\Leftrightarrow\\quad\\mbox{argmin}_{W,b}\\ J$$"
   ]
  },
  {
   "cell_type": "code",
   "execution_count": 2,
   "metadata": {},
   "outputs": [
    {
     "name": "stdout",
     "output_type": "stream",
     "text": [
      "logits : \n",
      "[[ 0.  -0.1  1.2]\n",
      " [ 0.   0.1 -1.2]]\n",
      "\n",
      "probs  : \n",
      "[[0.19138922 0.17317612 0.6354346 ]\n",
      " [0.41556454 0.45926985 0.12516563]]\n",
      "\n",
      "probs2 : \n",
      "[[0.19138922 0.17317614 0.6354346 ]\n",
      " [0.41556454 0.45926985 0.12516563]]\n",
      "\n",
      "cross_entropy  :  [0.45344603 0.7781173 ]\n",
      "cross_entropy2 :  [0.45344606 0.77811736]\n",
      "\n",
      "loss  :  0.61578166\n"
     ]
    }
   ],
   "source": [
    "import tensorflow as tf\n",
    "\n",
    "logits = tf.constant([[0.0, -0.1, 1.2], [0.0, 0.1, -1.2]])\n",
    "y_true = tf.constant([[0.0,  0.0, 1.0], [0.0, 1.0,  0.0]]) \n",
    "\n",
    "probs = tf.nn.softmax(logits)\n",
    "probs2 = tf.exp(logits) / tf.reshape(tf.reduce_sum(tf.exp(logits), axis=1), shape=(2,1))\n",
    "\n",
    "cross_entropy = tf.nn.softmax_cross_entropy_with_logits_v2(logits=logits,\n",
    "                                                           labels=y_true)\n",
    "cross_entropy2 = - tf.reduce_sum(y_true * tf.log(probs), axis=1)\n",
    "\n",
    "loss = tf.reduce_mean(cross_entropy)\n",
    "\n",
    "with tf.Session() as sess:\n",
    "    print(\"logits : \")\n",
    "    print(sess.run(logits))\n",
    "    print()\n",
    "    \n",
    "    print(\"probs  : \")\n",
    "    print(sess.run(probs))\n",
    "    print()\n",
    "    \n",
    "    print(\"probs2 : \")\n",
    "    print(sess.run(probs2))\n",
    "    print()\n",
    "    \n",
    "    print(\"cross_entropy  : \", sess.run(cross_entropy))\n",
    "    print(\"cross_entropy2 : \", sess.run(cross_entropy2))\n",
    "    print()\n",
    "    \n",
    "    print(\"loss  : \", sess.run(loss))"
   ]
  },
  {
   "cell_type": "markdown",
   "metadata": {},
   "source": [
    "[<a href=\"#MLE\">Back to top</a>]"
   ]
  }
 ],
 "metadata": {
  "kernelspec": {
   "display_name": "Python 3",
   "language": "python",
   "name": "python3"
  },
  "language_info": {
   "codemirror_mode": {
    "name": "ipython",
    "version": 3
   },
   "file_extension": ".py",
   "mimetype": "text/x-python",
   "name": "python",
   "nbconvert_exporter": "python",
   "pygments_lexer": "ipython3",
   "version": "3.7.3"
  }
 },
 "nbformat": 4,
 "nbformat_minor": 2
}
