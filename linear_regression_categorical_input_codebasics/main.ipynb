{
 "cells": [
  {
   "cell_type": "markdown",
   "metadata": {},
   "source": [
    "[codebasic](https://www.youtube.com/watch?v=9yl6-HEY7_s&list=PLeo1K3hjS3uvCeTYTeyfe0-rN5r8zn9rw&index=6)"
   ]
  },
  {
   "cell_type": "code",
   "execution_count": 5,
   "metadata": {},
   "outputs": [
    {
     "name": "stdout",
     "output_type": "stream",
     "text": [
      "               town  area   price\n",
      "0   monroe township  2600  550000\n",
      "1   monroe township  3000  565000\n",
      "2   monroe township  3200  610000\n",
      "3   monroe township  3600  680000\n",
      "4   monroe township  4000  725000\n",
      "5      west windsor  2600  585000\n",
      "6      west windsor  2800  615000\n",
      "7      west windsor  3300  650000\n",
      "8      west windsor  3600  710000\n",
      "9       robinsville  2600  575000\n",
      "10      robinsville  2900  600000\n",
      "11      robinsville  3100  620000\n",
      "12      robinsville  3600  695000\n",
      "(13, 3)\n",
      "    area   price  town_monroe township  town_robinsville\n",
      "0   2600  550000                     1                 0\n",
      "1   3000  565000                     1                 0\n",
      "2   3200  610000                     1                 0\n",
      "3   3600  680000                     1                 0\n",
      "4   4000  725000                     1                 0\n",
      "5   2600  585000                     0                 0\n",
      "6   2800  615000                     0                 0\n",
      "7   3300  650000                     0                 0\n",
      "8   3600  710000                     0                 0\n",
      "9   2600  575000                     0                 1\n",
      "10  2900  600000                     0                 1\n",
      "11  3100  620000                     0                 1\n",
      "12  3600  695000                     0                 1\n",
      "(13, 4)\n"
     ]
    }
   ],
   "source": [
    "import pandas as pd\n",
    "import numpy as np\n",
    "from sklearn import linear_model\n",
    "import matplotlib.pyplot as plt\n",
    "\n",
    "df = pd.read_csv(\"homeprices.csv\")\n",
    "print(df)\n",
    "print(df.shape)\n",
    "\n",
    "df = pd.get_dummies(df, columns=['town']).drop(columns=['town_west windsor'])    \n",
    "print(df)\n",
    "print(df.shape)"
   ]
  },
  {
   "cell_type": "code",
   "execution_count": 6,
   "metadata": {},
   "outputs": [
    {
     "name": "stdout",
     "output_type": "stream",
     "text": [
      "(13, 3)\n",
      "(13,)\n",
      "    area   price  town_monroe township  town_robinsville     price_pred\n",
      "0   2600  550000                     1                 0  539709.739841\n",
      "1   3000  565000                     1                 0  590468.716405\n",
      "2   3200  610000                     1                 0  615848.204687\n",
      "3   3600  680000                     1                 0  666607.181251\n",
      "4   4000  725000                     1                 0  717366.157816\n",
      "5   2600  585000                     0                 0  579723.715330\n",
      "6   2800  615000                     0                 0  605103.203612\n",
      "7   3300  650000                     0                 0  668551.924317\n",
      "8   3600  710000                     0                 0  706621.156740\n",
      "9   2600  575000                     0                 1  565396.151365\n",
      "10  2900  600000                     0                 1  603465.383788\n",
      "11  3100  620000                     0                 1  628844.872071\n",
      "12  3600  695000                     0                 1  692293.592776\n"
     ]
    },
    {
     "data": {
      "image/png": "[encoded data removed]",
      "text/plain": [
       "<Figure size 432x288 with 1 Axes>"
      ]
     },
     "metadata": {
      "needs_background": "light"
     },
     "output_type": "display_data"
    },
    {
     "name": "stdout",
     "output_type": "stream",
     "text": [
      "0.9573929037221873\n"
     ]
    }
   ],
   "source": [
    "x = df[['area', 'town_monroe township', 'town_robinsville']]\n",
    "y = df.price\n",
    "print(x.shape)\n",
    "print(y.shape)\n",
    "\n",
    "reg = linear_model.LinearRegression()\n",
    "reg.fit(x, y)\n",
    "price_pred = reg.predict(x)\n",
    "df['price_pred'] = price_pred\n",
    "# df.price_pred = price_pred # this is not what I want\n",
    "print(df)\n",
    "\n",
    "plt.scatter(df.price, df.price_pred)\n",
    "plt.xlabel('price')\n",
    "plt.ylabel('price_pred')\n",
    "plt.show()\n",
    "print(reg.score(x,y)) # Returns the coefficient of determination R^2 of the prediction"
   ]
  },
  {
   "cell_type": "code",
   "execution_count": 7,
   "metadata": {},
   "outputs": [
    {
     "name": "stdout",
     "output_type": "stream",
     "text": [
      "[616155.12792948]\n",
      "[   126.89744141 -40013.97548914 -14327.56396474]\n",
      "249790.36766292533\n",
      "[616155.12792948]\n"
     ]
    }
   ],
   "source": [
    "x = [[3000, 0, 1]]\n",
    "y_hat = reg.predict(x)\n",
    "print(y_hat)\n",
    "\n",
    "y_hat2 = np.sum(reg.coef_ * x, axis=1) + reg.intercept_ \n",
    "print(reg.coef_) # [beta_1, beta_2, beta_3]\n",
    "print(reg.intercept_) # alpha\n",
    "print(y_hat2)"
   ]
  },
  {
   "cell_type": "code",
   "execution_count": 17,
   "metadata": {},
   "outputs": [
    {
     "name": "stdout",
     "output_type": "stream",
     "text": [
      "[616155.12792948 567033.971189  ]\n",
      "[   126.89744141 -40013.97548914 -14327.56396474]\n",
      "249790.36766292533\n",
      "[616155.12792948 567033.971189  ]\n"
     ]
    }
   ],
   "source": [
    "x = [[3000, 0, 1],\n",
    "     [2500, 0, 0]]\n",
    "y_hat = reg.predict(x)\n",
    "print(y_hat)\n",
    "\n",
    "y_hat2 = np.sum(reg.coef_ * x, axis=1) + reg.intercept_  \n",
    "print(reg.coef_)\n",
    "print(reg.intercept_)\n",
    "print(y_hat2)"
   ]
  },
  {
   "cell_type": "markdown",
   "metadata": {},
   "source": [
    "<h2 style='color:green'>Exercise</h2>"
   ]
  },
  {
   "cell_type": "markdown",
   "metadata": {},
   "source": [
    "At the same level as this notebook on github, there is an Exercise folder that contains carprices.csv.\n",
    "This file has car sell prices for 3 different models. First plot data points on a scatter plot chart\n",
    "to see if linear regression model can be applied. If yes, then build a model that can answer\n",
    "following questions,\n",
    "\n",
    "**1) Predict price of a mercedez benz that is 4 yr old with mileage 45000**\n",
    "\n",
    "**2) Predict price of a BMW X5 that is 7 yr old with mileage 86000**\n",
    "\n",
    "**3) Tell me the score (accuracy) of your model. (Hint: use LinearRegression().score())**"
   ]
  }
 ],
 "metadata": {
  "kernelspec": {
   "display_name": "Python 3",
   "language": "python",
   "name": "python3"
  },
  "language_info": {
   "codemirror_mode": {
    "name": "ipython",
    "version": 3
   },
   "file_extension": ".py",
   "mimetype": "text/x-python",
   "name": "python",
   "nbconvert_exporter": "python",
   "pygments_lexer": "ipython3",
   "version": "3.7.3"
  }
 },
 "nbformat": 4,
 "nbformat_minor": 2
}
