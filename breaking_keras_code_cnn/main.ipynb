{
 "cells": [
  {
   "cell_type": "code",
   "execution_count": 1,
   "metadata": {},
   "outputs": [],
   "source": [
    "lr = 1e-3 \n",
    "epoch = 5\n",
    "batch_size = 64"
   ]
  },
  {
   "cell_type": "code",
   "execution_count": 2,
   "metadata": {},
   "outputs": [],
   "source": [
    "import tensorflow as tf\n",
    "import numpy as np\n",
    "tf.reset_default_graph()\n",
    "tf.set_random_seed(0)\n",
    "np.random.seed(0)"
   ]
  },
  {
   "cell_type": "code",
   "execution_count": 3,
   "metadata": {},
   "outputs": [],
   "source": [
    "(x_train, y_train_cls), (x_test, y_test_cls) = tf.keras.datasets.mnist.load_data()\n",
    "x_train = x_train.astype(np.float32).reshape((-1, 28, 28, 1)) / 255.0\n",
    "x_test = x_test.astype(np.float32).reshape((-1, 28, 28, 1)) / 255.0"
   ]
  },
  {
   "cell_type": "code",
   "execution_count": 4,
   "metadata": {},
   "outputs": [
    {
     "name": "stdout",
     "output_type": "stream",
     "text": [
      "WARNING:tensorflow:From /Users/sungchullee/anaconda3/lib/python3.6/site-packages/tensorflow_core/python/training/rmsprop.py:119: calling Ones.__init__ (from tensorflow.python.ops.init_ops) with dtype is deprecated and will be removed in a future version.\n",
      "Instructions for updating:\n",
      "Call initializer instance with the dtype argument instead of passing it to the constructor\n"
     ]
    }
   ],
   "source": [
    "x = tf.placeholder(tf.float32, shape=[None, 28, 28, 1], name='x') \n",
    "y_cls = tf.placeholder(tf.int32, shape=[None,], name='y_cls')\n",
    "\n",
    "init_w = tf.keras.initializers.he_uniform()\n",
    "init_b = tf.keras.initializers.zeros()\n",
    "\n",
    "w1 = tf.get_variable(\"w1\", shape=[3, 3, 1, 32], initializer=init_w)  \n",
    "y1 = tf.nn.conv2d(input=x, filter=w1, strides=[1, 1, 1, 1], padding='SAME')\n",
    "y1 = tf.nn.max_pool(value=y1, ksize=[1, 2, 2, 1], strides=[1, 2, 2, 1], padding='SAME')\n",
    "y1 = tf.nn.relu(y1)\n",
    "\n",
    "w2 = tf.get_variable(\"w2\", shape=[3, 3, 32, 64], initializer=init_w)  \n",
    "y2 = tf.nn.conv2d(input=y1, filter=w2, strides=[1, 1, 1, 1], padding='SAME')\n",
    "y2 = tf.nn.max_pool(value=y2, ksize=[1, 2, 2, 1], strides=[1, 2, 2, 1], padding='SAME')\n",
    "y2 = tf.nn.relu(y2) \n",
    "\n",
    "w3 = tf.get_variable(\"w3\", shape=[3, 3, 64, 64], initializer=init_w)  \n",
    "y3 = tf.nn.conv2d(input=y2, filter=w3, strides=[1, 1, 1, 1], padding='SAME')\n",
    "y3 = tf.nn.relu(y3) \n",
    "\n",
    "y3 = tf.reshape(y3, [-1, y3.get_shape()[1:].num_elements()])\n",
    "\n",
    "init_w = tf.keras.initializers.he_uniform()\n",
    "\n",
    "w4 = tf.get_variable(\"w4\", shape=[y3.get_shape()[1:].num_elements(), 64], initializer=init_w)  \n",
    "b4 = tf.get_variable(\"b4\", shape=[64,], initializer=init_b)\n",
    "y4 = tf.nn.relu(y3@w4+b4) \n",
    "\n",
    "w5 = tf.get_variable(\"w5\", shape=[64, 10], initializer=init_w) \n",
    "b5 = tf.get_variable(\"b5\", shape=[10,], initializer=init_b)\n",
    "logits = tf.identity(y4@w5+b5, name='logits')\n",
    "\n",
    "y_pred_cls = tf.cast(tf.argmax(logits, axis=1), tf.int32, name='y_pred_cls') \n",
    "\n",
    "entropy = tf.nn.sparse_softmax_cross_entropy_with_logits(labels=y_cls, logits=logits) \n",
    "loss = tf.reduce_mean(entropy) \n",
    "train = tf.train.RMSPropOptimizer(lr).minimize(loss)\n",
    "\n",
    "correct = tf.nn.in_top_k(logits, y_cls, 1)\n",
    "accuracy = tf.reduce_mean(tf.cast(correct, tf.float32))\n",
    "\n",
    "init = tf.global_variables_initializer()\n",
    "saver = tf.train.Saver()"
   ]
  },
  {
   "cell_type": "code",
   "execution_count": 5,
   "metadata": {},
   "outputs": [],
   "source": [
    "def shuffle_batch(x, y, batch_size):\n",
    "    rnd_idx = np.random.permutation(len(x))\n",
    "    n_batches = len(x) // batch_size\n",
    "    for batch_idx in np.array_split(rnd_idx, n_batches):\n",
    "        yield x[batch_idx], y[batch_idx]"
   ]
  },
  {
   "cell_type": "code",
   "execution_count": 6,
   "metadata": {},
   "outputs": [
    {
     "name": "stdout",
     "output_type": "stream",
     "text": [
      "\n",
      "epoch 0/5 \n",
      "epoch 1/5 \n",
      "epoch 2/5 \n",
      "epoch 3/5 \n",
      "epoch 4/5 "
     ]
    }
   ],
   "source": [
    "with tf.Session() as sess:\n",
    "    init.run()\n",
    "    #saver.restore(sess, 'save/nn.ckpt')\n",
    "    \n",
    "    loss_trace = []\n",
    "    accuracy_trace = []\n",
    "\n",
    "    for i in range(epoch):\n",
    "        print()\n",
    "        print('epoch {}/{}'.format(i, epoch), end=' ')\n",
    "        for x_batch, y_batch_cls in shuffle_batch(x_train, y_train_cls, batch_size):\n",
    "            feed_dict = {x: x_batch, y_cls: y_batch_cls}\n",
    "            loss_run, accuracy_run, _ = sess.run([loss, accuracy, train], feed_dict=feed_dict)\n",
    "            loss_trace.append(loss_run)\n",
    "            accuracy_trace.append(accuracy_run)\n",
    "\n",
    "    feed_dict = {x: x_test, y_cls: y_test_cls}\n",
    "    accuracy_run, y_test_pred_cls = sess.run([accuracy, y_pred_cls], feed_dict=feed_dict)\n",
    "    \n",
    "    saver.save(sess, 'save/nn.ckpt')"
   ]
  },
  {
   "cell_type": "code",
   "execution_count": 7,
   "metadata": {},
   "outputs": [
    {
     "data": {
      "image/png": "[encoded data removed]",
      "text/plain": [
       "<Figure size 432x288 with 2 Axes>"
      ]
     },
     "metadata": {
      "needs_background": "light"
     },
     "output_type": "display_data"
    }
   ],
   "source": [
    "%matplotlib inline\n",
    "import matplotlib.pyplot as plt\n",
    "fig, (ax1, ax2) = plt.subplots(1, 2)\n",
    "ax1.plot(loss_trace)\n",
    "ax2.plot(accuracy_trace)\n",
    "ax1.set_title('loss')\n",
    "ax2.set_title('accuracy')\n",
    "ax1.set_xlabel('grad_step')\n",
    "ax2.set_xlabel('grad_step')\n",
    "plt.tight_layout()\n",
    "plt.show()"
   ]
  },
  {
   "cell_type": "code",
   "execution_count": 8,
   "metadata": {},
   "outputs": [
    {
     "name": "stdout",
     "output_type": "stream",
     "text": [
      "Test Accuracy : 0.9923\n"
     ]
    }
   ],
   "source": [
    "print('Test Accuracy :', accuracy_run)\n",
    "\n",
    "# he_normal, he_normal   0.9891\n",
    "# he_normal, he_uniform  0.9913\n",
    "# he_uniform, he_normal  0.9902\n",
    "# he_uniform, he_uniform 0.9923\n",
    "\n",
    "# glorot_normal, glorot_normal   0.9893\n",
    "# glorot_normal, glorot_uniform  0.9907\n",
    "# glorot_uniform, glorot_normal  0.9914\n",
    "# glorot_uniform, glorot_uniform 0.9883"
   ]
  },
  {
   "cell_type": "code",
   "execution_count": 9,
   "metadata": {},
   "outputs": [
    {
     "name": "stdout",
     "output_type": "stream",
     "text": [
      "[[ 970    0    1    0    0    0    4    1    1    3]\n",
      " [   0 1130    0    1    0    1    1    2    0    0]\n",
      " [   0    0 1024    0    0    0    3    3    2    0]\n",
      " [   0    0    0 1008    0    1    0    0    1    0]\n",
      " [   0    0    0    0  977    0    2    0    0    3]\n",
      " [   1    0    0    5    0  883    2    0    0    1]\n",
      " [   3    2    0    0    4    0  949    0    0    0]\n",
      " [   0    1    4    0    0    0    0 1022    1    0]\n",
      " [   2    0    1    0    0    1    1    1  966    2]\n",
      " [   0    1    0    2    7    1    0    3    1  994]]\n"
     ]
    }
   ],
   "source": [
    "from sklearn.metrics import confusion_matrix\n",
    "cm = confusion_matrix(y_true=y_test_cls, y_pred=y_test_pred_cls)\n",
    "print(cm)"
   ]
  },
  {
   "cell_type": "code",
   "execution_count": 10,
   "metadata": {},
   "outputs": [
    {
     "data": {
      "image/png": "[encoded data removed]",
      "text/plain": [
       "<Figure size 720x216 with 20 Axes>"
      ]
     },
     "metadata": {
      "needs_background": "light"
     },
     "output_type": "display_data"
    }
   ],
   "source": [
    "fig, axes = plt.subplots(2, 10, figsize=(10,3))\n",
    "idx = 0\n",
    "for ax in axes.reshape((-1,)):\n",
    "    while True:\n",
    "        if y_test_cls[idx]==y_test_pred_cls[idx]:\n",
    "            idx += 1\n",
    "        else:\n",
    "            ax.imshow(x_test[idx].reshape((28,28)), cmap=plt.cm.gray)\n",
    "            ax.set_title('True: {}\\nPred: {}'.format(y_test_cls[idx], y_test_pred_cls[idx]))\n",
    "            ax.axis('off')\n",
    "            idx += 1\n",
    "            break\n",
    "plt.tight_layout()\n",
    "plt.show()"
   ]
  },
  {
   "cell_type": "code",
   "execution_count": null,
   "metadata": {},
   "outputs": [],
   "source": []
  }
 ],
 "metadata": {
  "kernelspec": {
   "display_name": "Python 3",
   "language": "python",
   "name": "python3"
  },
  "language_info": {
   "codemirror_mode": {
    "name": "ipython",
    "version": 3
   },
   "file_extension": ".py",
   "mimetype": "text/x-python",
   "name": "python",
   "nbconvert_exporter": "python",
   "pygments_lexer": "ipython3",
   "version": "3.6.9"
  }
 },
 "nbformat": 4,
 "nbformat_minor": 2
}
