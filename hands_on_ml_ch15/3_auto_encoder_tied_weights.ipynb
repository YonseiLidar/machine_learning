{
 "cells": [
  {
   "cell_type": "code",
   "execution_count": 1,
   "metadata": {},
   "outputs": [],
   "source": [
    "n_epochs = 5\n",
    "batch_size = 150\n",
    "learning_rate = 0.01\n",
    "l2_reg_coeff = 0.0005"
   ]
  },
  {
   "cell_type": "code",
   "execution_count": 2,
   "metadata": {},
   "outputs": [],
   "source": [
    "%matplotlib inline\n",
    "import matplotlib.pyplot as plt\n",
    "import numpy as np; np.random.seed(4)\n",
    "import tensorflow as tf; tf.set_random_seed(4)"
   ]
  },
  {
   "cell_type": "code",
   "execution_count": 3,
   "metadata": {},
   "outputs": [],
   "source": [
    "mnist = tf.keras.datasets.mnist\n",
    "(x_train, y_train), (x_test, y_test) = mnist.load_data()\n",
    "x_train, x_test = x_train / 255.0, x_test / 255.0\n",
    "x_train, x_test = x_train.reshape((-1, 784)), x_test.reshape((-1, 784))\n",
    "x_train, x_test = x_train.astype(np.float32), x_test.astype(np.float32)\n",
    "y_train_cls = y_train.copy().astype(np.int64).reshape((-1,1))\n",
    "y_test_cls = y_test.copy().astype(np.int64).reshape((-1,1))\n",
    "y_train = np.eye(10)[y_train].astype(np.float32)\n",
    "y_test = np.eye(10)[y_test].astype(np.float32)"
   ]
  },
  {
   "cell_type": "code",
   "execution_count": 4,
   "metadata": {},
   "outputs": [],
   "source": [
    "tf.reset_default_graph()"
   ]
  },
  {
   "cell_type": "code",
   "execution_count": 5,
   "metadata": {},
   "outputs": [],
   "source": [
    "n_inputs = 28 * 28\n",
    "n_hidden1 = 300\n",
    "n_hidden2 = 150  # codings\n",
    "n_hidden3 = n_hidden1\n",
    "n_outputs = n_inputs"
   ]
  },
  {
   "cell_type": "code",
   "execution_count": 6,
   "metadata": {},
   "outputs": [
    {
     "name": "stdout",
     "output_type": "stream",
     "text": [
      "WARNING:tensorflow:\n",
      "The TensorFlow contrib module will not be included in TensorFlow 2.0.\n",
      "For more information, please see:\n",
      "  * https://github.com/tensorflow/community/blob/master/rfcs/20180907-contrib-sunset.md\n",
      "  * https://github.com/tensorflow/addons\n",
      "  * https://github.com/tensorflow/io (for I/O related ops)\n",
      "If you depend on functionality not listed there, please file an issue.\n",
      "\n"
     ]
    }
   ],
   "source": [
    "activation = tf.nn.elu\n",
    "regularizer = tf.contrib.layers.l2_regularizer(l2_reg_coeff)\n",
    "init_w = tf.contrib.layers.variance_scaling_initializer()\n",
    "init_b = tf.keras.initializers.Zeros() "
   ]
  },
  {
   "cell_type": "code",
   "execution_count": 7,
   "metadata": {},
   "outputs": [],
   "source": [
    "x = tf.placeholder(tf.float32, shape=[None, n_inputs])\n",
    "\n",
    "w1 = tf.get_variable(\"w1\", shape=[n_inputs, n_hidden1], dtype=tf.float32, initializer=init_w)\n",
    "w2 = tf.get_variable(\"w2\", shape=[n_hidden1, n_hidden2], dtype=tf.float32, initializer=init_w)\n",
    "w3 = tf.transpose(w2, name=\"w3\")  # tied weights\n",
    "w4 = tf.transpose(w1, name=\"w4\")  # tied weights\n",
    "\n",
    "b1 = tf.get_variable(\"b1\", shape=(n_hidden1,), dtype=tf.float32, initializer=init_b)\n",
    "b2 = tf.get_variable(\"b2\", shape=(n_hidden2,), dtype=tf.float32, initializer=init_b)\n",
    "b3 = tf.get_variable(\"b3\", shape=(n_hidden3,), dtype=tf.float32, initializer=init_b)\n",
    "b4 = tf.get_variable(\"b4\", shape=(n_outputs,), dtype=tf.float32, initializer=init_b)\n",
    "\n",
    "hidden1 = activation(x @ w1 + b1)\n",
    "hidden2 = activation(hidden1 @ w2 + b2)\n",
    "hidden3 = activation(hidden2 @ w3 + b3)\n",
    "outputs = hidden3 @ w4 + b4"
   ]
  },
  {
   "cell_type": "code",
   "execution_count": 8,
   "metadata": {},
   "outputs": [],
   "source": [
    "reconstruction_loss = tf.reduce_mean(tf.square(outputs - x))\n",
    "reg_loss = regularizer(w1) + regularizer(w2)\n",
    "loss = reconstruction_loss + reg_loss\n",
    "\n",
    "optimizer = tf.train.AdamOptimizer(learning_rate)\n",
    "training_op = optimizer.minimize(loss)\n",
    "\n",
    "init = tf.global_variables_initializer()\n",
    "saver = tf.train.Saver()"
   ]
  },
  {
   "cell_type": "code",
   "execution_count": 9,
   "metadata": {},
   "outputs": [],
   "source": [
    "def shuffle_batch(x, y, batch_size):\n",
    "    rnd_idx = np.random.permutation(len(x))\n",
    "    n_batches = len(x) // batch_size\n",
    "    for batch_idx in np.array_split(rnd_idx, n_batches):\n",
    "        yield x[batch_idx], y[batch_idx]"
   ]
  },
  {
   "cell_type": "code",
   "execution_count": 10,
   "metadata": {},
   "outputs": [
    {
     "name": "stdout",
     "output_type": "stream",
     "text": [
      "0 Train MSE: 0.015701713\n",
      "1 Train MSE: 0.016620886\n",
      "2 Train MSE: 0.016755551\n",
      "3 Train MSE: 0.017496068\n",
      "4 Train MSE: 0.017541606\n"
     ]
    }
   ],
   "source": [
    "import sys\n",
    "with tf.Session() as sess:\n",
    "    init.run()\n",
    "    for epoch in range(n_epochs):\n",
    "        for x_batch, _ in shuffle_batch(x_train, y_train_cls, batch_size):\n",
    "            feed_dict = {x: x_batch}\n",
    "            sess.run(training_op, feed_dict=feed_dict)\n",
    "        loss_train = reconstruction_loss.eval(feed_dict=feed_dict)   \n",
    "        print(\"\\r{}\".format(epoch), \"Train MSE:\", loss_train)           \n",
    "        saver.save(sess, \"./my_model_all_layers.ckpt\")                  "
   ]
  },
  {
   "cell_type": "code",
   "execution_count": 11,
   "metadata": {},
   "outputs": [],
   "source": [
    "def plot_image(image, shape=[28, 28]):\n",
    "    plt.imshow(image.reshape(shape), cmap=\"Greys\", interpolation=\"nearest\")\n",
    "    plt.axis(\"off\")"
   ]
  },
  {
   "cell_type": "code",
   "execution_count": 12,
   "metadata": {},
   "outputs": [],
   "source": [
    "def show_reconstructed_digits(model_path=None, n_test_digits=2):\n",
    "    with tf.Session() as sess:\n",
    "        if model_path:\n",
    "            saver.restore(sess, model_path)\n",
    "        x_test_ = x_test[:n_test_digits]\n",
    "        outputs_val = outputs.eval(feed_dict={x: x_test_})\n",
    "\n",
    "    fig = plt.figure(figsize=(8, 3 * n_test_digits))\n",
    "    for digit_index in range(n_test_digits):\n",
    "        plt.subplot(n_test_digits, 2, digit_index * 2 + 1)\n",
    "        plot_image(x_test_[digit_index])\n",
    "        plt.subplot(n_test_digits, 2, digit_index * 2 + 2)\n",
    "        plot_image(outputs_val[digit_index])"
   ]
  },
  {
   "cell_type": "code",
   "execution_count": 13,
   "metadata": {},
   "outputs": [
    {
     "name": "stdout",
     "output_type": "stream",
     "text": [
      "INFO:tensorflow:Restoring parameters from ./my_model_all_layers.ckpt\n"
     ]
    },
    {
     "data": {
      "image/png": "[encoded data removed]",
      "text/plain": [
       "<Figure size 576x432 with 4 Axes>"
      ]
     },
     "metadata": {
      "needs_background": "light"
     },
     "output_type": "display_data"
    }
   ],
   "source": [
    "show_reconstructed_digits(model_path=\"./my_model_all_layers.ckpt\")\n",
    "#save_fig(\"reconstruction_plot\")"
   ]
  },
  {
   "cell_type": "code",
   "execution_count": null,
   "metadata": {},
   "outputs": [],
   "source": []
  }
 ],
 "metadata": {
  "kernelspec": {
   "display_name": "Python 3",
   "language": "python",
   "name": "python3"
  },
  "language_info": {
   "codemirror_mode": {
    "name": "ipython",
    "version": 3
   },
   "file_extension": ".py",
   "mimetype": "text/x-python",
   "name": "python",
   "nbconvert_exporter": "python",
   "pygments_lexer": "ipython3",
   "version": "3.6.9"
  }
 },
 "nbformat": 4,
 "nbformat_minor": 2
}
