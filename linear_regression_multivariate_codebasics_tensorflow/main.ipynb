{
 "cells": [
  {
   "cell_type": "markdown",
   "metadata": {},
   "source": [
    "[codebasics](https://www.youtube.com/watch?v=J_LnPL3Qg70&list=PLeo1K3hjS3uvCeTYTeyfe0-rN5r8zn9rw&index=3)"
   ]
  },
  {
   "cell_type": "code",
   "execution_count": 1,
   "metadata": {},
   "outputs": [
    {
     "data": {
      "image/png": "[encoded data removed]",
      "text/plain": [
       "<Figure size 432x288 with 5 Axes>"
      ]
     },
     "metadata": {},
     "output_type": "display_data"
    }
   ],
   "source": [
    "%matplotlib inline\n",
    "import tensorflow as tf\n",
    "import numpy as np\n",
    "import pandas as pd\n",
    "import matplotlib.pyplot as plt\n",
    "\n",
    "np.random.seed(0)\n",
    "tf.set_random_seed(0)\n",
    "\n",
    "lr = 1e-2\n",
    "epoch = int(9e3)\n",
    "\n",
    "if 0:\n",
    "    df = pd.read_csv('homeprices.csv')\n",
    "elif 1:\n",
    "    data = {\n",
    "        'area': [2600,3000,3200,3600,4000,4100],\n",
    "        'bedrooms': [3,4,np.nan,3,5,6],\n",
    "        'age': [20,15,18,30,8,8],\n",
    "        'price': [550000,565000,610000,595000,760000,810000]\n",
    "        }\n",
    "    df = pd.DataFrame(data)\n",
    "\n",
    "df.bedrooms = df.bedrooms.fillna(df.bedrooms.median()) \n",
    "\n",
    "if 0:\n",
    "    # not good\n",
    "    pass\n",
    "elif 1:\n",
    "    # good\n",
    "    df = (df-df.mean()) / df.std()\n",
    "\n",
    "x_data = df[['area','bedrooms','age']].values.astype(np.float32) # (6,3)\n",
    "y_data = df.price.values.astype(np.float32).reshape((-1,1)) # (6,1)\n",
    "\n",
    "x = tf.placeholder(tf.float32, shape=(None,3)) # (6,3)\n",
    "y = tf.placeholder(tf.float32, shape=(None,1)) # (6,1)\n",
    "\n",
    "if 0:\n",
    "    alpha = tf.get_variable('alpha', (), dtype=tf.float32, initializer=tf.keras.initializers.constant(0.0))\n",
    "    beta = tf.get_variable('beta', (3,1), dtype=tf.float32, initializer=tf.keras.initializers.constant(1.0))\n",
    "elif 0:\n",
    "    alpha = tf.get_variable('alpha', (), dtype=tf.float32, initializer=tf.keras.initializers.constant(0.5))\n",
    "    beta = tf.get_variable('beta', (3,1), dtype=tf.float32, initializer=tf.keras.initializers.constant(0.5))\n",
    "elif 1:\n",
    "    alpha = tf.get_variable('alpha', (), dtype=tf.float32, initializer=tf.keras.initializers.constant(0.0))\n",
    "    beta = tf.get_variable('beta', (3,1), dtype=tf.float32, initializer=tf.keras.initializers.RandomUniform())\n",
    "elif 1:\n",
    "    alpha = tf.get_variable('alpha', (), dtype=tf.float32, initializer=tf.keras.initializers.constant(0.0))\n",
    "    beta = tf.get_variable('beta', (3,1), dtype=tf.float32, initializer=tf.keras.initializers.RandomNormal())\n",
    "\n",
    "y_pred = alpha + x @ beta\n",
    "loss = tf.nn.l2_loss(y-y_pred)\n",
    "train = tf.train.GradientDescentOptimizer(learning_rate=lr).minimize(loss)\n",
    "\n",
    "with tf.Session() as sess:\n",
    "    \n",
    "    tf.global_variables_initializer().run()\n",
    "    \n",
    "    alpha_trace = []\n",
    "    beta1_trace = []\n",
    "    beta2_trace = []\n",
    "    beta3_trace = []\n",
    "    loss_trace = []\n",
    "    \n",
    "    feed_dict = {x:x_data, y:y_data}\n",
    "    for i in range(epoch):\n",
    "        if i == 0:\n",
    "            alpha_run, beta_run, loss_run = sess.run([alpha, beta, loss], feed_dict=feed_dict)\n",
    "        else:\n",
    "            alpha_run, beta_run, loss_run, _ = sess.run([alpha, beta, loss, train], feed_dict=feed_dict)\n",
    "        alpha_trace.append(alpha_run)\n",
    "        beta1_trace.append(beta_run[0,0])\n",
    "        beta2_trace.append(beta_run[1,0])\n",
    "        beta3_trace.append(beta_run[2,0])\n",
    "        loss_trace.append(loss_run)   \n",
    "    y_pred_run = sess.run(y_pred, feed_dict=feed_dict)\n",
    "\n",
    "fig, (ax1, ax2, ax3, ax4, ax5) = plt.subplots(1, 5)\n",
    "ax1.plot(alpha_trace[::100])\n",
    "ax1.set_xlabel('epoch')\n",
    "ax1.set_title('alpha')\n",
    "ax2.plot(beta1_trace[::100])\n",
    "ax2.set_xlabel('epoch')\n",
    "ax2.set_title('beta1')\n",
    "ax3.plot(beta2_trace[::100])\n",
    "ax3.set_xlabel('epoch')\n",
    "ax3.set_title('beta2')\n",
    "ax4.plot(beta3_trace[::100])\n",
    "ax4.set_xlabel('epoch')\n",
    "ax4.set_title('beta3')\n",
    "ax5.plot(loss_trace[::100])\n",
    "ax5.set_xlabel('epoch')\n",
    "ax5.set_title('loss')\n",
    "plt.tight_layout()\n",
    "plt.show()"
   ]
  },
  {
   "cell_type": "code",
   "execution_count": 2,
   "metadata": {},
   "outputs": [
    {
     "data": {
      "text/plain": [
       "4.6789626e-08"
      ]
     },
     "execution_count": 2,
     "metadata": {},
     "output_type": "execute_result"
    }
   ],
   "source": [
    "np.max(alpha_trace)"
   ]
  },
  {
   "cell_type": "code",
   "execution_count": null,
   "metadata": {},
   "outputs": [],
   "source": []
  }
 ],
 "metadata": {
  "kernelspec": {
   "display_name": "Python [default]",
   "language": "python",
   "name": "python3"
  },
  "language_info": {
   "codemirror_mode": {
    "name": "ipython",
    "version": 3
   },
   "file_extension": ".py",
   "mimetype": "text/x-python",
   "name": "python",
   "nbconvert_exporter": "python",
   "pygments_lexer": "ipython3",
   "version": "3.5.5"
  }
 },
 "nbformat": 4,
 "nbformat_minor": 2
}
