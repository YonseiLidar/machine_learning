{
 "cells": [
  {
   "cell_type": "code",
   "execution_count": 1,
   "metadata": {},
   "outputs": [],
   "source": [
    "import numpy as np\n",
    "import pandas as pd\n",
    "import matplotlib.pyplot as plt\n",
    "import yfinance as yf"
   ]
  },
  {
   "cell_type": "code",
   "execution_count": 2,
   "metadata": {},
   "outputs": [],
   "source": [
    "def give_me_df(ticker): \n",
    "    import yfinance as yf\n",
    "    import pandas as pd\n",
    "    stock = yf.Ticker(ticker) \n",
    "    df = stock.history(period='max')\n",
    "    df[ticker] = df.Close.pct_change() \n",
    "    return df[[ticker]].iloc[1:]\n",
    "\n",
    "def join_dfs(*dfs):\n",
    "    for idx, df_ in enumerate(dfs):\n",
    "        if idx == 0:\n",
    "            df = df_\n",
    "        else:\n",
    "            df = df.join(df_, how='inner')\n",
    "    return df"
   ]
  },
  {
   "cell_type": "code",
   "execution_count": 3,
   "metadata": {},
   "outputs": [],
   "source": [
    "df_1 = give_me_df('SPY')\n",
    "df_2 = give_me_df('AAPL')\n",
    "df_3 = give_me_df('FB')\n",
    "dh = join_dfs(df_1, df_2, df_3)"
   ]
  },
  {
   "cell_type": "code",
   "execution_count": 4,
   "metadata": {},
   "outputs": [
    {
     "data": {
      "text/plain": [
       "(2115, 3)"
      ]
     },
     "execution_count": 4,
     "metadata": {},
     "output_type": "execute_result"
    }
   ],
   "source": [
    "dh.shape"
   ]
  },
  {
   "cell_type": "code",
   "execution_count": 5,
   "metadata": {},
   "outputs": [],
   "source": [
    "x = dh.iloc[-200:-100,:-1].values\n",
    "y = dh.iloc[-200:-100,-1].values.reshape((-1,1)) "
   ]
  },
  {
   "cell_type": "code",
   "execution_count": 6,
   "metadata": {},
   "outputs": [
    {
     "name": "stdout",
     "output_type": "stream",
     "text": [
      "(100, 2) (100, 1)\n"
     ]
    }
   ],
   "source": [
    "print(x.shape, y.shape)"
   ]
  },
  {
   "cell_type": "code",
   "execution_count": 7,
   "metadata": {},
   "outputs": [],
   "source": [
    "def compute_X(x):\n",
    "    ones = np.ones((x.shape[0], 1))\n",
    "    X = np.concatenate((ones, x), axis=1)\n",
    "    return X   \n",
    "\n",
    "def loss(x, y, theta):\n",
    "    X = compute_X(x)\n",
    "    return ((X@theta-y).T @ (X@theta-y) / x.shape[0])[0,0]\n",
    "\n",
    "def compute_gradients(x, y, theta):\n",
    "    X = compute_X(x)\n",
    "    return (2 / x.shape[0]) * (X.T@X@theta - X.T@y)\n",
    "\n",
    "def apply_gradients(x, y, theta, lr):\n",
    "    grad = compute_gradients(x, y, theta) \n",
    "    return theta - lr * grad\n",
    "\n",
    "def predict(x, theta):\n",
    "    X = compute_X(x)\n",
    "    return X@theta\n",
    "\n",
    "def normal_eq_sol(x, y):\n",
    "    X = compute_X(x)\n",
    "    return np.linalg.inv(X.T@X) @ X.T @ y    "
   ]
  },
  {
   "cell_type": "code",
   "execution_count": 14,
   "metadata": {},
   "outputs": [],
   "source": [
    "def main():\n",
    "    lr = 9e-1\n",
    "    epoch = int(5e4)\n",
    "    \n",
    "    loss_trace = []\n",
    "    al_trace = []\n",
    "    bt1_trace = []\n",
    "    bt2_trace = []\n",
    "    theta_val = np.array([0,1,1]).reshape((-1,1))\n",
    "\n",
    "    for i in range(epoch):   \n",
    "        loss_val = loss(x, y, theta_val)\n",
    "        loss_trace.append(loss_val)\n",
    "        al_trace.append(theta_val[0,0])\n",
    "        bt1_trace.append(theta_val[1,0])\n",
    "        bt2_trace.append(theta_val[2,0])\n",
    "\n",
    "        grad_val = compute_gradients(x, y, theta_val)\n",
    "        theta_val = apply_gradients(x, y, theta_val, lr)\n",
    "        \n",
    "    y_pred = predict(x, theta_val) \n",
    "        \n",
    "    plt.plot(loss_trace)\n",
    "    plt.show()\n",
    "    \n",
    "    print(f'Normal Equation Sol alpha: {normal_eq_sol(x, y)[0,0]}')\n",
    "    print(f'Normal Equation Sol beta1: {normal_eq_sol(x, y)[1,0]}')\n",
    "    print(f'Normal Equation Sol beta2: {normal_eq_sol(x, y)[2,0]}')\n",
    "    \n",
    "    plt.plot(al_trace)\n",
    "    plt.plot(normal_eq_sol(x, y)[0,0] * np.ones_like(np.array(al_trace)),\n",
    "                                                    '--r')\n",
    "    plt.show()\n",
    "    \n",
    "    plt.plot(bt1_trace)\n",
    "    plt.plot(normal_eq_sol(x, y)[1,0] * np.ones_like(np.array(al_trace)),\n",
    "                                                    '--r')\n",
    "    plt.show()\n",
    "    \n",
    "    plt.plot(bt2_trace)\n",
    "    plt.plot(normal_eq_sol(x, y)[2,0] * np.ones_like(np.array(al_trace)),\n",
    "                                                    '--r')\n",
    "    plt.show()\n",
    "    \n",
    "    plt.plot(y.reshape((-1,)), y_pred.reshape((-1,)), 'o')\n",
    "    plt.show()\n",
    "    \n",
    "    print(f'Normal Equation Sol alpha: {normal_eq_sol(x, y)[0,0]}')\n",
    "    print(f'Normal Equation Sol beta1: {normal_eq_sol(x, y)[1,0]}')\n",
    "    print(f'Normal Equation Sol beta2: {normal_eq_sol(x, y)[2,0]}')"
   ]
  },
  {
   "cell_type": "code",
   "execution_count": 15,
   "metadata": {},
   "outputs": [
    {
     "data": {
      "image/png": "[encoded data removed]",
      "text/plain": [
       "<Figure size 432x288 with 1 Axes>"
      ]
     },
     "metadata": {
      "needs_background": "light"
     },
     "output_type": "display_data"
    },
    {
     "name": "stdout",
     "output_type": "stream",
     "text": [
      "Normal Equation Sol alpha: 0.0013108924323685677\n",
      "Normal Equation Sol beta1: 0.4007932543629358\n",
      "Normal Equation Sol beta2: 0.5065992142659194\n"
     ]
    },
    {
     "data": {
      "image/png": "[encoded data removed]",
      "text/plain": [
       "<Figure size 432x288 with 1 Axes>"
      ]
     },
     "metadata": {
      "needs_background": "light"
     },
     "output_type": "display_data"
    },
    {
     "data": {
      "image/png": "[encoded data removed]",
      "text/plain": [
       "<Figure size 432x288 with 1 Axes>"
      ]
     },
     "metadata": {
      "needs_background": "light"
     },
     "output_type": "display_data"
    },
    {
     "data": {
      "image/png": "[encoded data removed]",
      "text/plain": [
       "<Figure size 432x288 with 1 Axes>"
      ]
     },
     "metadata": {
      "needs_background": "light"
     },
     "output_type": "display_data"
    },
    {
     "data": {
      "image/png": "[encoded data removed]",
      "text/plain": [
       "<Figure size 432x288 with 1 Axes>"
      ]
     },
     "metadata": {
      "needs_background": "light"
     },
     "output_type": "display_data"
    },
    {
     "name": "stdout",
     "output_type": "stream",
     "text": [
      "Normal Equation Sol alpha: 0.0013108924323685677\n",
      "Normal Equation Sol beta1: 0.4007932543629358\n",
      "Normal Equation Sol beta2: 0.5065992142659194\n"
     ]
    }
   ],
   "source": [
    "if __name__ == '__main__':\n",
    "    main()"
   ]
  },
  {
   "cell_type": "code",
   "execution_count": null,
   "metadata": {},
   "outputs": [],
   "source": []
  },
  {
   "cell_type": "code",
   "execution_count": null,
   "metadata": {},
   "outputs": [],
   "source": []
  }
 ],
 "metadata": {
  "kernelspec": {
   "display_name": "Python 3",
   "language": "python",
   "name": "python3"
  },
  "language_info": {
   "codemirror_mode": {
    "name": "ipython",
    "version": 3
   },
   "file_extension": ".py",
   "mimetype": "text/x-python",
   "name": "python",
   "nbconvert_exporter": "python",
   "pygments_lexer": "ipython3",
   "version": "3.7.7"
  }
 },
 "nbformat": 4,
 "nbformat_minor": 4
}
