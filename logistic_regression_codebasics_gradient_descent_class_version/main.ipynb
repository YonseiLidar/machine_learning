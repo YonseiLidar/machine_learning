{
 "cells": [
  {
   "cell_type": "code",
   "execution_count": 1,
   "metadata": {},
   "outputs": [],
   "source": [
    "%matplotlib inline"
   ]
  },
  {
   "cell_type": "code",
   "execution_count": 2,
   "metadata": {},
   "outputs": [
    {
     "data": {
      "image/png": "[encoded data removed]",
      "text/plain": [
       "<Figure size 432x288 with 1 Axes>"
      ]
     },
     "metadata": {
      "needs_background": "light"
     },
     "output_type": "display_data"
    }
   ],
   "source": [
    "import pandas as pd\n",
    "import numpy as np\n",
    "import matplotlib.pyplot as plt\n",
    "\n",
    "df = pd.read_csv(\"insurance_data.csv\")\n",
    "# x = np.array(df.age).reshape((-1,1)) \n",
    "# x = df.age.values.reshape((-1,1)) \n",
    "x = df[['age']]\n",
    "y = df.bought_insurance \n",
    "\n",
    "plt.plot(x,y,'o')\n",
    "plt.show()"
   ]
  },
  {
   "cell_type": "code",
   "execution_count": 2,
   "metadata": {},
   "outputs": [
    {
     "data": {
      "image/png": "[encoded data removed]",
      "text/plain": [
       "<Figure size 432x288 with 1 Axes>"
      ]
     },
     "metadata": {
      "needs_background": "light"
     },
     "output_type": "display_data"
    }
   ],
   "source": [
    "from sklearn.linear_model import LogisticRegression\n",
    "import pandas as pd\n",
    "import numpy as np\n",
    "import matplotlib.pyplot as plt\n",
    "\n",
    "df = pd.read_csv(\"insurance_data.csv\")\n",
    "# x = np.array(df.age).reshape((-1,1)) \n",
    "# x = df.age.values.reshape((-1,1)) \n",
    "x = df[['age']]\n",
    "y = df.bought_insurance \n",
    "\n",
    "reg = LogisticRegression(solver='lbfgs') \n",
    "reg.fit(x,y)\n",
    "y_pred = reg.predict(x)\n",
    "# y_pred_prob = LogisticRegression.predict_proba(reg, x)\n",
    "y_pred_prob = reg.predict_proba(x)\n",
    "\n",
    "plt.plot(x,y,'o')\n",
    "plt.plot(x,y_pred,'+')\n",
    "plt.plot(x,y_pred_prob[:,1], '+')\n",
    "plt.show()"
   ]
  },
  {
   "cell_type": "code",
   "execution_count": 2,
   "metadata": {},
   "outputs": [
    {
     "data": {
      "image/png": "[encoded data removed]",
      "text/plain": [
       "<Figure size 432x288 with 1 Axes>"
      ]
     },
     "metadata": {
      "needs_background": "light"
     },
     "output_type": "display_data"
    }
   ],
   "source": [
    "import pandas as pd\n",
    "import numpy as np\n",
    "import matplotlib.pyplot as plt\n",
    "\n",
    "df = pd.read_csv(\"insurance_data.csv\")\n",
    "# x = np.array(df.age).reshape((-1,1)) \n",
    "# x = df.age.values.reshape((-1,1)) \n",
    "x = df[['age']]\n",
    "y = df.bought_insurance \n",
    "\n",
    "def design_matrix(x):\n",
    "    ones = np.ones((x.shape[0],1)) \n",
    "    A = np.concatenate((ones,x),axis=1)\n",
    "    return A\n",
    "\n",
    "def gradient(theta, x, y):\n",
    "    A = design_matrix(x)\n",
    "    p = predict_proba(theta, x).reshape((-1,1)) \n",
    "    y = np.array(y).reshape((-1,1)) \n",
    "    return A.T @ (p - y)\n",
    "\n",
    "def gradient_descent(theta, lr, epoch, x, y):\n",
    "    for i in range(epoch):\n",
    "        grad = gradient(theta, x, y)\n",
    "        theta = theta - lr * grad\n",
    "        y_pred_prob = predict_proba(theta, x)\n",
    "        #print(i, loss(y,y_pred_prob))\n",
    "    return theta\n",
    "\n",
    "def loss(y,y_pred_prob):\n",
    "    p = y_pred_prob\n",
    "    ve = 1e-6\n",
    "    return - np.mean(y * np.log(p+ve) + (1-y) * np.log(1-p+ve))\n",
    "\n",
    "def predict(theta, x):\n",
    "    p = predict_proba(theta, x)\n",
    "    decision = np.zeros((x.shape[0],))\n",
    "    decision[p>0.5] = 1\n",
    "    return decision.reshape((-1,1))\n",
    "\n",
    "def predict_proba(theta, x):\n",
    "    x = np.array(x) \n",
    "    A = design_matrix(x)\n",
    "    z = A @ theta\n",
    "    p = sigmoid(z).reshape((-1,))\n",
    "    return p\n",
    "\n",
    "def sigmoid(z):\n",
    "    return 1 / (1 + np.exp(-z))\n",
    "\n",
    "theta = np.array([[0],[0.1]])\n",
    "lr = 2e-4\n",
    "epoch = 100000\n",
    "x = x.values.reshape((-1,1))\n",
    "y = y\n",
    "\n",
    "theta = gradient_descent(theta, lr, epoch, x, y)\n",
    "y_pred = predict(theta, x)\n",
    "y_pred_prob = predict_proba(theta, x)\n",
    "\n",
    "plt.plot(x,y,'o')\n",
    "plt.plot(x,y_pred,'+')\n",
    "plt.plot(x,y_pred_prob, '+')\n",
    "plt.show()"
   ]
  },
  {
   "cell_type": "code",
   "execution_count": 2,
   "metadata": {},
   "outputs": [
    {
     "data": {
      "image/png": "[encoded data removed]",
      "text/plain": [
       "<Figure size 432x288 with 1 Axes>"
      ]
     },
     "metadata": {
      "needs_background": "light"
     },
     "output_type": "display_data"
    }
   ],
   "source": [
    "import pandas as pd\n",
    "import numpy as np\n",
    "import matplotlib.pyplot as plt\n",
    "\n",
    "df = pd.read_csv(\"insurance_data.csv\")\n",
    "x = df[['age']]\n",
    "y = df.bought_insurance \n",
    "\n",
    "\n",
    "class LR:\n",
    "    \n",
    "    def __init__(self, x, y, lr=2e-4, epoch=100000, theta=None):\n",
    "        self.x = x.values.reshape((-1,1))\n",
    "        self.y = y.values.reshape((-1,))\n",
    "        self.lr = lr\n",
    "        self.epoch = epoch\n",
    "        \n",
    "        if theta == None:\n",
    "            self.theta = np.random.normal(size=(x.shape[1]+1,1))\n",
    "        else:\n",
    "            self.theta = theta\n",
    "            \n",
    "    @staticmethod\n",
    "    def design_matrix(x):\n",
    "        ones = np.ones((x.shape[0],1)) \n",
    "        A = np.concatenate((ones,x),axis=1)\n",
    "        return A\n",
    "    \n",
    "    def gradient(self):\n",
    "        A = self.design_matrix(self.x)\n",
    "        p = self.predict_proba(self.x).reshape((-1,1)) \n",
    "        y = self.y.reshape((-1,1)) \n",
    "        return A.T @ (p - y)\n",
    "    \n",
    "    def train(self):\n",
    "        for i in range(self.epoch):\n",
    "            grad = self.gradient()\n",
    "            self.theta -= self.lr * grad\n",
    "            y_pred_prob = self.predict_proba(self.x)\n",
    "            #print(i, self.loss())\n",
    "    \n",
    "    def loss(self):\n",
    "        p = self.predict_proba(self.x)\n",
    "        ve = 1e-6\n",
    "        return - np.mean(self.y * np.log(p+ve) + (1-self.y) * np.log(1-p+ve))\n",
    "    \n",
    "    def predict_proba(self, x): \n",
    "        A = self.design_matrix(x)\n",
    "        z = A @ self.theta\n",
    "        p = self.sigmoid(z).reshape((-1,))\n",
    "        return p\n",
    "    \n",
    "    def predict(self, x):\n",
    "        p = self.predict_proba(x)\n",
    "        decision = np.zeros((x.shape[0],))\n",
    "        decision[p>0.5] = 1\n",
    "        return decision\n",
    "    \n",
    "    @staticmethod\n",
    "    def sigmoid(z):\n",
    "        return 1 / (1 + np.exp(-z))\n",
    "\n",
    "    \n",
    "a = LR(x, y)\n",
    "a.train()\n",
    "y_pred = a.predict(x)\n",
    "y_pred_prob = a.predict_proba(x)\n",
    "\n",
    "plt.plot(x,y,'o')\n",
    "plt.plot(x,y_pred,'+')\n",
    "plt.plot(x,y_pred_prob, '+')\n",
    "plt.show()"
   ]
  },
  {
   "cell_type": "code",
   "execution_count": 13,
   "metadata": {},
   "outputs": [
    {
     "name": "stdout",
     "output_type": "stream",
     "text": [
      "[[-1.66867385]\n",
      " [ 1.08803459]\n",
      " [ 0.75243986]\n",
      " [ 0.23247313]\n",
      " [ 2.00953141]\n",
      " [ 0.97751624]]\n"
     ]
    }
   ],
   "source": [
    "import numpy as np\n",
    "\n",
    "a = np.random.normal(size=(2,3))\n",
    "print(a.reshape((-1,1)))"
   ]
  },
  {
   "cell_type": "code",
   "execution_count": null,
   "metadata": {},
   "outputs": [],
   "source": []
  }
 ],
 "metadata": {
  "kernelspec": {
   "display_name": "Python 3",
   "language": "python",
   "name": "python3"
  },
  "language_info": {
   "codemirror_mode": {
    "name": "ipython",
    "version": 3
   },
   "file_extension": ".py",
   "mimetype": "text/x-python",
   "name": "python",
   "nbconvert_exporter": "python",
   "pygments_lexer": "ipython3",
   "version": "3.7.3"
  }
 },
 "nbformat": 4,
 "nbformat_minor": 2
}
