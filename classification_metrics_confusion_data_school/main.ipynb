{
 "cells": [
  {
   "cell_type": "markdown",
   "metadata": {},
   "source": [
    "Data School [youtube](https://www.youtube.com/watch?v=8Oog7TXHvFY&list=PL5-da3qGB5IA_x9xJ7qzUyU1XJwOJsFAn&index=2&t=0s)"
   ]
  },
  {
   "cell_type": "code",
   "execution_count": 1,
   "metadata": {},
   "outputs": [],
   "source": [
    "%matplotlib inline"
   ]
  },
  {
   "cell_type": "code",
   "execution_count": 4,
   "metadata": {},
   "outputs": [
    {
     "name": "stdout",
     "output_type": "stream",
     "text": [
      "   pregnant  glucose  bp  skin  insulin   bmi  pedigree  age  label\n",
      "0         6      148  72    35        0  33.6     0.627   50      1\n",
      "1         1       85  66    29        0  26.6     0.351   31      0\n",
      "2         8      183  64     0        0  23.3     0.672   32      1\n",
      "3         1       89  66    23       94  28.1     0.167   21      0\n",
      "4         0      137  40    35      168  43.1     2.288   33      1\n",
      "(768, 4) (768,)\n"
     ]
    }
   ],
   "source": [
    "import pandas as pd\n",
    "import numpy as np\n",
    "import matplotlib.pyplot as plt\n",
    "from sklearn.model_selection import train_test_split\n",
    "\n",
    "path = 'data/pima-indians-diabetes.csv'\n",
    "names = ['pregnant', 'glucose', 'bp', 'skin', 'insulin', 'bmi', 'pedigree', 'age', 'label']\n",
    "pima = pd.read_csv(path, names=names)\n",
    "print(pima.head())\n",
    "\n",
    "feature_cols = ['pregnant', 'insulin', 'bmi', 'age']\n",
    "X = pima[feature_cols]\n",
    "y = pima.label\n",
    "print(X.shape, y.shape)\n",
    "\n",
    "X_train, X_test, y_train, y_test = train_test_split(X, y, random_state=0)"
   ]
  },
  {
   "cell_type": "markdown",
   "metadata": {},
   "source": [
    "$$\n",
    "\\begin{array}{|l|c|c|l|}\\hline\n",
    "&\\mbox{n}&\\mbox{p}\\\\\\hline\n",
    "\\mbox{N}&\\mbox{TN}&\\mbox{FP}&\\mbox{FPR}=\\frac{\\mbox{FP}}{\\mbox{N}}=\\frac{\\mbox{FP}}{\\mbox{TN} + \\mbox{FP}}=1-\\mbox{TNR}\\\\\\hline\n",
    "\\mbox{P}&\\mbox{FN}&\\mbox{TP}&\\mbox{TPR}=\\frac{\\mbox{TP}}{\\mbox{P}}=\\frac{\\mbox{TP}}{\\mbox{FN} + \\mbox{TP}}\\\\\\hline\n",
    "&&\n",
    "\\begin{array}{lll}\n",
    "\\mbox{Precision}&=&\\frac{\\mbox{TP}}{\\mbox{p}}\\\\\n",
    "&=&\\frac{\\mbox{TP}}{\\mbox{TP}+\\mbox{FP}}\n",
    "\\end{array}&\n",
    "\\begin{array}{lll}\n",
    "\\mbox{Accuracy}&=&\\frac{\\mbox{TP}+\\mbox{TN}}{\\mbox{P}+\\mbox{N}}=\\frac{\\mbox{TP}+\\mbox{TN}}{\\mbox{p}+\\mbox{n}}\\\\\n",
    "&=&1-\\mbox{Misclassification Rate}\\\\\n",
    "&=&1-\\mbox{Error Rate}\\\\\n",
    "\\end{array}\\\\\\hline\n",
    "\\end{array}\n",
    "$$\n",
    "\n",
    "$$\n",
    "\\begin{array}{ll}\n",
    "\\mbox{FPR}&\\mbox{False Positive Rate}\\\\\n",
    "\\mbox{TPR}&\\mbox{True Positive Rate / Sensitivity / Recall}\\\\\n",
    "\\mbox{TNR}&\\mbox{True Negative Rate / Specificity}\\\\\n",
    "\\end{array}\n",
    "$$"
   ]
  },
  {
   "cell_type": "code",
   "execution_count": 5,
   "metadata": {},
   "outputs": [
    {
     "name": "stdout",
     "output_type": "stream",
     "text": [
      "0.6927083333333334\n",
      "[[118  12]\n",
      " [ 47  15]]\n"
     ]
    },
    {
     "name": "stderr",
     "output_type": "stream",
     "text": [
      "/Users/sungchul/anaconda3/lib/python3.7/site-packages/sklearn/linear_model/logistic.py:432: FutureWarning: Default solver will be changed to 'lbfgs' in 0.22. Specify a solver to silence this warning.\n",
      "  FutureWarning)\n"
     ]
    }
   ],
   "source": [
    "from sklearn.linear_model import LogisticRegression\n",
    "from sklearn import metrics\n",
    "\n",
    "clf = LogisticRegression()\n",
    "clf.fit(X_train, y_train)\n",
    "y_pred_class = clf.predict(X_test)\n",
    "y_pred_prob = clf.predict_proba(X_test)[:,1]\n",
    "#print(y_pred_class.shape, y_pred_prob.shape)\n",
    "\n",
    "print(metrics.accuracy_score(y_test, y_pred_class))\n",
    "print(metrics.confusion_matrix(y_test, y_pred_class))"
   ]
  },
  {
   "cell_type": "code",
   "execution_count": null,
   "metadata": {},
   "outputs": [],
   "source": []
  }
 ],
 "metadata": {
  "kernelspec": {
   "display_name": "Python 3",
   "language": "python",
   "name": "python3"
  },
  "language_info": {
   "codemirror_mode": {
    "name": "ipython",
    "version": 3
   },
   "file_extension": ".py",
   "mimetype": "text/x-python",
   "name": "python",
   "nbconvert_exporter": "python",
   "pygments_lexer": "ipython3",
   "version": "3.7.3"
  }
 },
 "nbformat": 4,
 "nbformat_minor": 2
}
