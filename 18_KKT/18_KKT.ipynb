{
 "cells": [
  {
   "cell_type": "markdown",
   "metadata": {},
   "source": [
    "Zibulevsky \n",
    "[youtube](https://www.youtube.com/watch?v=POPYQLG6n00&index=12&list=PLDFB2EEF4DDAFE30B)\n",
    "Nocedal \n",
    "[pdf](http://localhost:8888/notebooks/Dropbox/Paper/Numerical_Optimization.pdf) \n",
    "wikipedia\n",
    "[Lagrange multiplier](https://en.wikipedia.org/wiki/Lagrange_multiplier)\n",
    "[Karush-Kuhn-Tucker conditions](https://en.wikipedia.org/wiki/Karush%E2%80%93Kuhn%E2%80%93Tucker_conditions)\n",
    "Boyd\n",
    "[pdf](http://localhost:8888/notebooks/Dropbox/Paper/Convex_optimization_Book.pdf)\n",
    "[exercise](http://localhost:8888/notebooks/Dropbox/Paper/Convex_optimization_Extra_exercise.pdf)\n",
    "[slide](http://localhost:8888/notebooks/Dropbox/Paper/Convex_optimization_Slide.pdf)\n",
    "Gallier\n",
    "[pdf](http://localhost:8888/notebooks/Dropbox/Paper/Fundamentals_of_Linear_Algebra_and_Optimization.pdf)\n",
    "Rockafellar\n",
    "[pdf](http://localhost:8888/notebooks/Dropbox/Paper/ConvexAnalysisRockafellar.pdf)"
   ]
  },
  {
   "cell_type": "markdown",
   "metadata": {},
   "source": [
    "# Single inequality constraint"
   ]
  },
  {
   "cell_type": "markdown",
   "metadata": {},
   "source": [
    "<div align=\"center\"><img src=\"img/Inequality_constraint_diagram.svg\" width=\"40%\"></div>\n",
    "\n",
    "wikipedia\n",
    "[Karush-Kuhn-Tucker conditions](https://en.wikipedia.org/wiki/Karush%E2%80%93Kuhn%E2%80%93Tucker_conditions)"
   ]
  },
  {
   "cell_type": "markdown",
   "metadata": {},
   "source": [
    "$$\\begin{array}{lllllllllllll}\n",
    "\\left\\{\\begin{array}{ll}\n",
    "\\mbox{minimize}&f(\\mathbf{x})\\\\\n",
    "\\mbox{subject to}&g(\\mathbf{x})\\le 0\n",
    "\\end{array}\\right.\n",
    "&\\Rightarrow&\n",
    "\\left\\{\\begin{array}{ll}\n",
    "\\nabla f (\\mathbf{x}_*) \\propto \\nabla g (\\mathbf{x}_*)&\\mbox{if $\\mathbf{x}_*$ is in the boundary}\\\\\n",
    "\\nabla f (\\mathbf{x}_*)=\\mathbf{0}&\\mbox{if $\\mathbf{x}_*$ is in the interior}\\\\\n",
    "\\end{array}\\right.\\\\\n",
    "&\\Rightarrow& \\nabla f (\\mathbf{x}_*) +\\lambda \\nabla g (\\mathbf{x}_*) = \\mathbf{0}\n",
    "\\quad\\mbox{where}\\quad\n",
    "\\left\\{\\begin{array}{ll}\n",
    "\\lambda\\ge 0&\\mbox{if $\\mathbf{x}_*$ is in the boundary}\\\\\n",
    "\\lambda = 0&\\mbox{if $\\mathbf{x}_*$ is in the interior}\\\\\n",
    "\\end{array}\\right.\\\\\n",
    "&\\Rightarrow& \n",
    "\\left\\{\\begin{array}{ll}\n",
    "\\nabla f (\\mathbf{x}_*) +\\lambda \\nabla g (\\mathbf{x}_*) = \\mathbf{0}&\\mbox{Stationarity}\\\\\n",
    "g(\\mathbf{x}_*) \\le 0&\\mbox{Primal feasibility}\\\\\n",
    "\\lambda \\ge 0&\\mbox{Dual feasibility}\\\\\n",
    "\\lambda g (\\mathbf{x}_*) = 0&\\mbox{Complementary slackness}\\\\\n",
    "\\end{array}\\right.\\\\\n",
    "&\\Rightarrow& \n",
    "\\left\\{\\begin{array}{ll}\n",
    "\\nabla {\\cal L} (\\mathbf{x}_*) = \\mathbf{0}&\\mbox{Stationarity}\\\\\n",
    "g(\\mathbf{x}_*) \\le 0&\\mbox{Primal feasibility}\\\\\n",
    "\\lambda \\ge 0&\\mbox{Dual feasibility}\\\\\n",
    "\\lambda g (\\mathbf{x}_*) = 0&\\mbox{Complementary slackness}\\\\\n",
    "\\end{array}\\right.\\\\\n",
    "\\end{array}$$\n",
    "where\n",
    "$$\n",
    "{\\cal L} (\\mathbf{x}) = f (\\mathbf{x}) +\\lambda  g(\\mathbf{x})\n",
    "$$"
   ]
  },
  {
   "cell_type": "markdown",
   "metadata": {},
   "source": [
    "# Multiple inequality constraints"
   ]
  },
  {
   "cell_type": "markdown",
   "metadata": {},
   "source": [
    "$$\\begin{array}{lllllllllllll}\n",
    "\\left\\{\\begin{array}{ll}\n",
    "\\mbox{minimize}&f(\\mathbf{x})\\\\\n",
    "\\mbox{subject to}&g_i(\\mathbf{x})\\le 0,\\ i=1,\\ldots,m\n",
    "\\end{array}\\right.\n",
    "&\\Rightarrow&\n",
    "\\left\\{\\begin{array}{ll}\n",
    "\\nabla f (\\mathbf{x}_*) \\cdot d\\mathbf{x}=\\mathbf{0}\\quad\\mbox{for}\\\n",
    "d\\mathbf{x} \\in\\mbox{span}(\\nabla g_i (\\mathbf{x}_*),\\ i\\ \\mbox{active})^{\\perp}&\\mbox{if $\\mathbf{x}_*$ is in the boundary}\\\\\n",
    "\\nabla f (\\mathbf{x}_*)=\\mathbf{0}&\\mbox{if $\\mathbf{x}_*$ is in the interior}\\\\\n",
    "\\end{array}\\right.\\\\\n",
    "&\\Rightarrow& \\nabla f (\\mathbf{x}_*) +\\sum_{i}^l\\lambda_i \\nabla g_i (\\mathbf{x}_*) = \\mathbf{0}\n",
    "\\quad\\mbox{where}\\quad\n",
    "\\left\\{\\begin{array}{ll}\n",
    "\\lambda_i\\ge 0&\\mbox{for $i$ active}\\\\\n",
    "\\lambda_i = 0&\\mbox{for $i$ inactive}\\\\\n",
    "\\end{array}\\right.\\\\\n",
    "&\\Rightarrow& \n",
    "\\left\\{\\begin{array}{ll}\n",
    "\\nabla f (\\mathbf{x}_*) +\\sum_{i=1}^m\\lambda_i \\nabla g_i (\\mathbf{x}_*) = \\mathbf{0}&\\mbox{Stationarity}\\\\\n",
    "g_i(\\mathbf{x}_*) \\le 0,\\ i=1,\\ldots,m&\\mbox{Primal feasibility}\\\\\n",
    "\\lambda_i \\ge 0,\\ i=1,\\ldots,m&\\mbox{Dual feasibility}\\\\\n",
    "\\lambda_i g_i (\\mathbf{x}_*) = 0,\\ i=1,\\ldots,m &\\mbox{Complementary slackness}\\\\\n",
    "\\end{array}\\right.\\\\\n",
    "&\\Rightarrow& \n",
    "\\left\\{\\begin{array}{ll}\n",
    "\\nabla {\\cal L} (\\mathbf{x}_*) = \\mathbf{0}&\\mbox{Stationarity}\\\\\n",
    "g_i(\\mathbf{x}_*) \\le 0,\\ i=1,\\ldots,m&\\mbox{Primal feasibility}\\\\\n",
    "\\lambda_i \\ge 0,\\ i=1,\\ldots,m&\\mbox{Dual feasibility}\\\\\n",
    "\\lambda_i g_i (\\mathbf{x}_*) = 0,\\ i=1,\\ldots,m &\\mbox{Complementary slackness}\\\\\n",
    "\\end{array}\\right.\\\\\n",
    "\\end{array}$$\n",
    "where\n",
    "$$\n",
    "{\\cal L} (\\mathbf{x}) = f (\\mathbf{x}) +\\sum_{i=1}^m\\lambda_i  g_i(\\mathbf{x})\n",
    "$$"
   ]
  },
  {
   "cell_type": "markdown",
   "metadata": {},
   "source": [
    "# Multiple inequality constraints and equality constraints"
   ]
  },
  {
   "cell_type": "markdown",
   "metadata": {},
   "source": [
    "$$\\begin{array}{lllllllllllll}\n",
    "\\left\\{\\begin{array}{ll}\n",
    "\\mbox{minimize}&f(\\mathbf{x})\\\\\n",
    "\\mbox{subject to}&g_i(\\mathbf{x})\\le 0,\\ i=1,\\ldots,m\\\\\n",
    "&h_j(\\mathbf{x})= 0,\\ j=1,\\ldots,l\\\\\n",
    "\\end{array}\\right.\n",
    "&\\Rightarrow& \n",
    "\\left\\{\\begin{array}{ll}\n",
    "\\nabla {\\cal L} (\\mathbf{x}_*) = \\mathbf{0}&\\mbox{Stationarity}\\\\\n",
    "g_i(\\mathbf{x}_*) \\le 0,\\ i=1,\\ldots,m&\\mbox{Primal feasibility}\\\\\n",
    "h_j(\\mathbf{x}_*) = 0,\\ j=1,\\ldots,l&\\\\\n",
    "\\lambda_i \\ge 0,\\ i=1,\\ldots,m&\\mbox{Dual feasibility}\\\\\n",
    "\\lambda_i g_i (\\mathbf{x}_*) = 0,\\ i=1,\\ldots,m &\\mbox{Complementary slackness}\\\\\n",
    "\\end{array}\\right.\\\\\n",
    "\\end{array}$$\n",
    "where\n",
    "$$\n",
    "{\\cal L} (\\mathbf{x}) = f (\\mathbf{x}) +\\sum_{i=1}^m\\lambda_i  g_i(\\mathbf{x})+\\sum_{j=1}^l\\mu_j  h_j(\\mathbf{x})\n",
    "$$"
   ]
  },
  {
   "cell_type": "markdown",
   "metadata": {},
   "source": [
    "<div align=\"center\"><img src=\"img/Screen Shot 2018-03-20 at 2.15.16 PM.png\" width=\"100%\"></div>\n",
    "\n",
    "wikipedia\n",
    "[Karush-Kuhn-Tucker conditions](https://en.wikipedia.org/wiki/Karush%E2%80%93Kuhn%E2%80%93Tucker_conditions)"
   ]
  },
  {
   "cell_type": "code",
   "execution_count": null,
   "metadata": {
    "collapsed": true
   },
   "outputs": [],
   "source": []
  }
 ],
 "metadata": {
  "kernelspec": {
   "display_name": "Python 3",
   "language": "python",
   "name": "python3"
  },
  "language_info": {
   "codemirror_mode": {
    "name": "ipython",
    "version": 3
   },
   "file_extension": ".py",
   "mimetype": "text/x-python",
   "name": "python",
   "nbconvert_exporter": "python",
   "pygments_lexer": "ipython3",
   "version": "3.7.4"
  }
 },
 "nbformat": 4,
 "nbformat_minor": 2
}
