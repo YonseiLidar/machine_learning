{
 "cells": [
  {
   "cell_type": "markdown",
   "metadata": {},
   "source": [
    "# KL Divergence"
   ]
  },
  {
   "cell_type": "markdown",
   "metadata": {},
   "source": [
    "$$\n",
    "KL(p||q)=\\sum_i p_i\\log\\frac{p_i}{q_i}\n",
    "$$"
   ]
  },
  {
   "cell_type": "markdown",
   "metadata": {},
   "source": [
    "# Distance\n",
    "\n",
    "$$\\begin{array}{lll}\n",
    "(1)&&d(x,y)\\ge 0\\quad\\mbox{for all $x$ and $y$}\\\\\n",
    "(2)&&d(x,y)=0\\quad\\mbox{if and only if}\\quad x=y\\\\\n",
    "(3)&&d(x,y)=d(y,x)\\quad\\mbox{for all $x$ and $y$}\\\\\n",
    "(4)&&d(x,y)+d(y,z)\\ge d(x,z)\\quad\\mbox{for all $x$, $y$, and $z$}\\\\\n",
    "\\end{array}$$"
   ]
  },
  {
   "cell_type": "markdown",
   "metadata": {},
   "source": [
    "$$\\begin{array}{lll}\n",
    "KL(f||g)&=&\\int f(x)\\log \\frac{f(x)}{g(x)}dx\\\\\n",
    "&=&-\\int f(x)\\log \\frac{g(x)}{f(x)}dx\\\\\n",
    "&\\ge& -\\log \\int f(x)\\frac{g(x)}{f(x)}dx\\\\\n",
    "&=&-\\log \\int g(x)dx\\\\\n",
    "&=&-\\log 1=0\n",
    "\\end{array}$$"
   ]
  },
  {
   "cell_type": "markdown",
   "metadata": {},
   "source": [
    "$$\n",
    "KL(f||f)=\\int f(x)\\log \\frac{f(x)}{f(x)}dx=\\int f(x)\\log 1dx=0\n",
    "$$"
   ]
  },
  {
   "cell_type": "code",
   "execution_count": 1,
   "metadata": {},
   "outputs": [],
   "source": [
    "import numpy as np\n",
    "np.random.seed(2)"
   ]
  },
  {
   "cell_type": "markdown",
   "metadata": {},
   "source": [
    "# Three probability distributions "
   ]
  },
  {
   "cell_type": "code",
   "execution_count": 2,
   "metadata": {},
   "outputs": [
    {
     "name": "stdout",
     "output_type": "stream",
     "text": [
      "[0.43100234 0.02562935 0.54336831]\n",
      "[0.36704318 0.35443418 0.27852264]\n",
      "[0.18214073 0.55116157 0.2666977 ]\n"
     ]
    }
   ],
   "source": [
    "p = np.random.uniform(0.,1.,3)\n",
    "q = np.random.uniform(0.,1.,3) \n",
    "r = np.random.uniform(0.,1.,3) \n",
    "\n",
    "p = p / np.sum(p)\n",
    "q = q / np.sum(q)\n",
    "r = r / np.sum(r)\n",
    "print(p)\n",
    "print(q)\n",
    "print(r)"
   ]
  },
  {
   "cell_type": "markdown",
   "metadata": {},
   "source": [
    "# KL Divergence is not symetric."
   ]
  },
  {
   "cell_type": "code",
   "execution_count": 3,
   "metadata": {},
   "outputs": [
    {
     "name": "stdout",
     "output_type": "stream",
     "text": [
      "-0.3208918219422609\n"
     ]
    }
   ],
   "source": [
    "d_pq = np.sum(p*np.log(p/q))\n",
    "d_qp = np.sum(q*np.log(q/p))\n",
    "print(d_pq-d_qp)"
   ]
  },
  {
   "cell_type": "markdown",
   "metadata": {},
   "source": [
    "# KL Divergence does not satisfy triangular inequality."
   ]
  },
  {
   "cell_type": "code",
   "execution_count": 4,
   "metadata": {},
   "outputs": [
    {
     "name": "stdout",
     "output_type": "stream",
     "text": [
      "-0.20147521203251506\n"
     ]
    }
   ],
   "source": [
    "d_pq = np.sum(p*np.log(p/q))\n",
    "d_qr = np.sum(q*np.log(q/r))\n",
    "d_pr = np.sum(p*np.log(p/r))\n",
    "print(d_pq+d_qr-d_pr)"
   ]
  },
  {
   "cell_type": "markdown",
   "metadata": {},
   "source": [
    "# Relation to Fisher information metric\n",
    "\n",
    "\n",
    "$$\\begin{array}{lll}\n",
    "KL(f_{\\theta_0}||f_{\\theta})\n",
    "&=&\\int f_{\\theta_0}\\log \\frac{f_{\\theta_0}}{f_{\\theta}}\\\\\n",
    "&\\approx& KL(f_{\\theta_0}||f_{\\theta_0})+ (\\theta-\\theta_0)^T{\\bf g}(\\theta-\\theta_0)+\\frac{1}{2}(\\theta-\\theta_0)^T{\\bf H}(\\theta-\\theta_0)\n",
    "\\end{array}$$\n",
    "$$$$\n",
    "$$\n",
    "KL(f_{\\theta_0}||f_{\\theta_0})=0\n",
    "$$\n",
    "$$$$\n",
    "$$\\begin{array}{llllll}\n",
    "{\\bf g}=0\\\\\n",
    "\\\\\n",
    "\\left[\\frac{\\partial}{\\partial\\theta_i}KL(f_{\\theta_0}||f_{\\theta})\\right]_{\\theta=\\theta_0}\n",
    "&=&\\left[\n",
    "\\int f_{\\theta_0}\\frac{-\\frac{f_{\\theta_0}}{f^2_\\theta}\\frac{\\partial f_\\theta}{\\partial\\theta_i}}{\\frac{f_{\\theta_0}}{f_\\theta}}\n",
    "\\right]_{\\theta=\\theta_0}\n",
    "&=&-\\left[\n",
    "\\int f_{\\theta_0}\\frac{\\partial \\log f_\\theta}{\\partial\\theta_i}\n",
    "\\right]_{\\theta=\\theta_0}\\\\\\\\\n",
    "&=&-\\left[\n",
    "\\int f_{\\theta_0}\\frac{\\frac{\\partial f_\\theta}{\\partial\\theta_i}}{f_\\theta}\n",
    "\\right]_{\\theta=\\theta_0}\\\\\n",
    "&=&-\\left[\n",
    "\\int \\frac{\\partial f_\\theta}{\\partial\\theta_i}\n",
    "\\right]_{\\theta=\\theta_0}\\\\\n",
    "&=&-\\left[\n",
    "\\frac{\\partial }{\\partial\\theta_i}\\int f_\\theta\n",
    "\\right]_{\\theta=\\theta_0}\\\\\n",
    "&=&-\\left[\n",
    "\\frac{\\partial }{\\partial\\theta_i}1\n",
    "\\right]_{\\theta=\\theta_0}=0\\\\\n",
    "\\end{array}$$\n",
    "$$$$\n",
    "$$\\begin{array}{lll}\n",
    "\\left[\\frac{\\partial^2}{\\partial\\theta_i\\partial\\theta_j}KL(f_{\\theta_0}||f_{\\theta})\\right]_{\\theta=\\theta_0}\n",
    "&=&-\\left[\n",
    "\\frac{\\partial}{\\partial\\theta_j}\\int f_{\\theta_0}\\frac{\\partial \\log f_\\theta}{\\partial\\theta_i}\n",
    "\\right]_{\\theta=\\theta_0}\\\\\n",
    "&=&-\\left[\n",
    "\\int f_{\\theta_0}\\frac{\\partial}{\\partial\\theta_j}\\frac{\\partial \\log f_\\theta}{\\partial\\theta_i}\n",
    "\\right]_{\\theta=\\theta_0}\\\\\n",
    "&=&-\\left[\n",
    "\\int f_{\\theta_0}\\frac{\\partial}{\\partial\\theta_j}\\frac{\\frac{\\partial f_\\theta}{\\partial\\theta_i}}{f_\\theta}\n",
    "\\right]_{\\theta=\\theta_0}\\\\\n",
    "&=&\\left[\n",
    "\\int f_{\\theta_0}\\frac{1}{f^2_\\theta}\\frac{\\partial f_\\theta}{\\partial\\theta_i}\\frac{\\partial f_\\theta}{\\partial\\theta_j}\n",
    "-\\int f_{\\theta_0}\\frac{\\frac{\\partial^2}{\\partial\\theta_i\\partial\\theta_j}f_\\theta}{f_\\theta}\n",
    "\\right]_{\\theta=\\theta_0}\\\\\n",
    "&=&\\left[\n",
    "\\int f_{\\theta_0}\\frac{1}{f^2_\\theta}\\frac{\\partial f_\\theta}{\\partial\\theta_i}\\frac{\\partial f_\\theta}{\\partial\\theta_j}\n",
    "-\\int \\frac{\\partial^2}{\\partial\\theta_i\\partial\\theta_j}f_\\theta\n",
    "\\right]_{\\theta=\\theta_0}\\\\\n",
    "&=&\\left[\n",
    "\\int f_{\\theta_0}\\frac{1}{f^2_\\theta}\\frac{\\partial f_\\theta}{\\partial\\theta_i}\\frac{\\partial f_\\theta}{\\partial\\theta_j}\n",
    "-\\frac{\\partial^2}{\\partial\\theta_i\\partial\\theta_j}\\int f_\\theta\n",
    "\\right]_{\\theta=\\theta_0}\\\\\n",
    "&=&\\left[\n",
    "\\int f_{\\theta_0}\\frac{1}{f^2_\\theta}\\frac{\\partial f_\\theta}{\\partial\\theta_i}\\frac{\\partial f_\\theta}{\\partial\\theta_j}\n",
    "-\\frac{\\partial^2}{\\partial\\theta_i\\partial\\theta_j}1\n",
    "\\right]_{\\theta=\\theta_0}\\\\\n",
    "&=&\\left[\n",
    "\\int f_{\\theta_0}\\frac{1}{f^2_\\theta}\\frac{\\partial f_\\theta}{\\partial\\theta_i}\\frac{\\partial f_\\theta}{\\partial\\theta_j}\n",
    "\\right]_{\\theta=\\theta_0}\\\\\n",
    "&=&\\left[\n",
    "\\int f_{\\theta_0}\\frac{\\partial \\log f_\\theta}{\\partial\\theta_i}\\frac{\\partial \\log f_\\theta}{\\partial\\theta_j}\n",
    "\\right]_{\\theta=\\theta_0}\\\\\n",
    "\\end{array}$$\n",
    "$$$$\n",
    "$$\n",
    "{\\bf H}=E_{x\\sim f_{\\theta_0}}(\\nabla \\log f_\\theta)_{\\theta=\\theta_0}(\\nabla \\log f_\\theta)^T_{\\theta=\\theta_0}\\ge 0\\quad\\mbox{Fisher information metric}\n",
    "$$\n",
    "$$$$\n",
    "$$\\begin{array}{lll}\n",
    "(\\theta-\\theta_0)^T{\\bf H}(\\theta-\\theta_0)\n",
    "&=&(\\theta-\\theta_0)^T\\left[E_{x\\sim f_{\\theta_0}}(\\nabla \\log f_\\theta)_{\\theta=\\theta_0}(\\nabla \\log f_\\theta)^T_{\\theta=\\theta_0}\\right](\\theta-\\theta_0)\\\\\n",
    "&=&E_{x\\sim f_{\\theta_0}}(\\theta-\\theta_0)^T(\\nabla \\log f_\\theta)_{\\theta=\\theta_0}(\\nabla \\log f_\\theta)^T_{\\theta=\\theta_0}(\\theta-\\theta_0)\\\\\n",
    "&=&E_{x\\sim f_{\\theta_0}}\\left[(\\nabla \\log f_\\theta)^T_{\\theta=\\theta_0}(\\theta-\\theta_0)\\right]^2\\ge 0\\\\\n",
    "\\end{array}$$"
   ]
  },
  {
   "cell_type": "markdown",
   "metadata": {},
   "source": [
    "$$\\begin{array}{lll}\n",
    "KL(N(\\mu,\\sigma^2)||N(0,1^2))\n",
    "&=&\\int\\frac{1}{\\sqrt{2\\pi\\sigma^2}}e^{-\\frac{(x-\\mu)^2}{2\\sigma^2}}\\log\\frac{\\frac{1}{\\sqrt{2\\pi\\sigma^2}}e^{-\\frac{(x-\\mu)^2}{2\\sigma^2}}}{\\frac{1}{\\sqrt{2\\pi}}e^{-\\frac{x^2}{2}}}dx\\\\\n",
    "&=&\\int\\frac{1}{\\sqrt{2\\pi\\sigma^2}}e^{-\\frac{(x-\\mu)^2}{2\\sigma^2}}\\log\\frac{\\frac{1}{\\sqrt{\\sigma^2}}e^{-\\frac{(x-\\mu)^2}{2\\sigma^2}}}{e^{-\\frac{x^2}{2}}}dx\\\\\n",
    "&=&\\int\\frac{1}{\\sqrt{2\\pi\\sigma^2}}e^{-\\frac{(x-\\mu)^2}{2\\sigma^2}}\\log\\frac{1}{\\sqrt{\\sigma^2}}dx\n",
    "+\\int\\frac{1}{\\sqrt{2\\pi\\sigma^2}}e^{-\\frac{(x-\\mu)^2}{2\\sigma^2}}\\log\\frac{e^{-\\frac{(x-\\mu)^2}{2\\sigma^2}}}{e^{-\\frac{x^2}{2}}}dx\\\\\n",
    "&=&\\log\\frac{1}{\\sqrt{\\sigma^2}}\n",
    "+\\int\\frac{1}{\\sqrt{2\\pi\\sigma^2}}e^{-\\frac{(x-\\mu)^2}{2\\sigma^2}}\\left(\n",
    "-\\frac{(x-\\mu)^2}{2\\sigma^2}+\\frac{x^2}{2}\n",
    "\\right)dx\\\\\n",
    "&=&\\log\\frac{1}{\\sqrt{\\sigma^2}}\n",
    "+\\left(\n",
    "-\\frac{\\sigma^2}{2\\sigma^2}+\\frac{\\sigma^2+\\mu^2}{2}\n",
    "\\right)\\\\\n",
    "&=&-\\frac{1}{2}\\log\\sigma^2\n",
    "+\\left(\n",
    "-\\frac{\\sigma^2}{2\\sigma^2}+\\frac{\\sigma^2+\\mu^2}{2}\n",
    "\\right)\\\\\n",
    "&=&-\\frac{1}{2}\\left(\\log\\sigma^2\n",
    "+\n",
    "1-\\sigma^2-\\mu^2\n",
    "\\right)\\\\\n",
    "\\end{array}$$\n",
    "$$$$\n",
    "$$\n",
    "KL(N(\\mu,\\Sigma)||N(0,I))=\\frac{1}{2}\\sum_{i=1}^d\\left(\\mu_i^2+\\sigma_i^2 -1-\\log\\sigma_i^2\n",
    "\\right)\n",
    "$$\n",
    "where\n",
    "$$\n",
    "\\Sigma=\\left(\\begin{array}{cccccccc}\n",
    "\\sigma_1^2&0&\\cdots&0\\\\\n",
    "0&\\sigma_2^2&\\cdots&0\\\\\n",
    "0&0&\\ddots&\\vdots\\\\\n",
    "\\vdots&\\vdots&\\cdots&\\sigma_d^2\\\\\n",
    "\\end{array}\\right)\n",
    "$$"
   ]
  },
  {
   "cell_type": "code",
   "execution_count": null,
   "metadata": {},
   "outputs": [],
   "source": []
  }
 ],
 "metadata": {
  "kernelspec": {
   "display_name": "Python 3",
   "language": "python",
   "name": "python3"
  },
  "language_info": {
   "codemirror_mode": {
    "name": "ipython",
    "version": 3
   },
   "file_extension": ".py",
   "mimetype": "text/x-python",
   "name": "python",
   "nbconvert_exporter": "python",
   "pygments_lexer": "ipython3",
   "version": "3.6.9"
  }
 },
 "nbformat": 4,
 "nbformat_minor": 2
}
