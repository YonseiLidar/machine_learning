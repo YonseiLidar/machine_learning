{
 "cells": [
  {
   "cell_type": "code",
   "execution_count": 1,
   "metadata": {},
   "outputs": [],
   "source": [
    "# import numpy as np\n",
    "\n",
    "# # t = 0\n",
    "# # batch_size = 4\n",
    "# # n_features = 3\n",
    "# x_0_batch = np.array(\n",
    "#     [[0, 1, 2], \n",
    "#      [3, 4, 5], \n",
    "#      [6, 7, 8], \n",
    "#      [9, 0, 1]]) "
   ]
  },
  {
   "cell_type": "code",
   "execution_count": 2,
   "metadata": {},
   "outputs": [],
   "source": [
    "# # t = 1\n",
    "# # batch_size = 4\n",
    "# # n_features = 3\n",
    "# x_1_batch = np.array(\n",
    "#     [[9, 8, 7], \n",
    "#      [0, 0, 0], \n",
    "#      [6, 5, 4], \n",
    "#      [3, 2, 1]]) "
   ]
  },
  {
   "cell_type": "code",
   "execution_count": 3,
   "metadata": {},
   "outputs": [],
   "source": [
    "import numpy as np\n",
    "\n",
    "x_batch = np.array([\n",
    "    # t  =  0 ,  t  =  1\n",
    "    [[0, 1, 2], [9, 8, 7]], # instance 0\n",
    "    [[3, 4, 5], [0, 0, 0]], # instance 1\n",
    "    [[6, 7, 8], [6, 5, 4]], # instance 2\n",
    "    [[9, 0, 1], [3, 2, 1]], # instance 3\n",
    "])"
   ]
  },
  {
   "cell_type": "code",
   "execution_count": 4,
   "metadata": {},
   "outputs": [],
   "source": [
    "import tensorflow as tf\n",
    "import numpy as np\n",
    "tf.reset_default_graph()\n",
    "tf.set_random_seed(0)\n",
    "np.random.seed(0)"
   ]
  },
  {
   "cell_type": "code",
   "execution_count": 5,
   "metadata": {},
   "outputs": [],
   "source": [
    "# for a time series data of batch_size = 1\n",
    "# at each time t\n",
    "# observation.shape = (n_inputs,)\n",
    "n_inputs = 3"
   ]
  },
  {
   "cell_type": "code",
   "execution_count": 6,
   "metadata": {},
   "outputs": [],
   "source": [
    "# internally current state is represented by neurons \n",
    "# n_neurons.shape = (n_neurons,)\n",
    "n_neurons = 5"
   ]
  },
  {
   "cell_type": "code",
   "execution_count": 7,
   "metadata": {},
   "outputs": [],
   "source": [
    "# # placehoder to feed batch data of time 0\n",
    "# x_0 = tf.placeholder(tf.float32, [None, n_inputs])"
   ]
  },
  {
   "cell_type": "code",
   "execution_count": 8,
   "metadata": {},
   "outputs": [],
   "source": [
    "# # placehoder to feed batch data of time 1\n",
    "# x_1 = tf.placeholder(tf.float32, [None, n_inputs])"
   ]
  },
  {
   "cell_type": "code",
   "execution_count": 9,
   "metadata": {},
   "outputs": [
    {
     "name": "stdout",
     "output_type": "stream",
     "text": [
      "(?, 2, 3) (2, ?, 3) (?, 3) (?, 3)\n"
     ]
    }
   ],
   "source": [
    "# x_0 ---> x_list[0]\n",
    "# x_1 ---> x_list[1]\n",
    "n_steps = 2\n",
    "x = tf.placeholder(tf.float32, [None, n_steps, n_inputs]) # (?, 2, 3)\n",
    "xt = tf.transpose(x, perm=[1, 0, 2]) # (2, ?, 3)\n",
    "x_list = tf.unstack(xt) # Python list of tensors\n",
    "print(x.shape, xt.shape, x_list[0].shape, x_list[1].shape)"
   ]
  },
  {
   "cell_type": "code",
   "execution_count": 10,
   "metadata": {},
   "outputs": [],
   "source": [
    "# # a factory that creates copies of the cell to build the unrolled RNN\n",
    "# basic_cell = tf.nn.rnn_cell.BasicRNNCell(num_units=n_neurons)\n",
    "\n",
    "# # output_seqs: a Python list containing the output tensors for each time step.\n",
    "# # states: a tensor containing the final states of the network.\n",
    "# output, states = tf.nn.static_rnn(\n",
    "#     basic_cell, [x_0, x_1], dtype=tf.float32)"
   ]
  },
  {
   "cell_type": "code",
   "execution_count": 11,
   "metadata": {},
   "outputs": [
    {
     "name": "stdout",
     "output_type": "stream",
     "text": [
      "WARNING:tensorflow:From <ipython-input-11-89b880716e9e>:2: BasicRNNCell.__init__ (from tensorflow.python.ops.rnn_cell_impl) is deprecated and will be removed in a future version.\n",
      "Instructions for updating:\n",
      "This class is equivalent as tf.keras.layers.SimpleRNNCell, and will be replaced by that in Tensorflow 2.0.\n",
      "WARNING:tensorflow:From <ipython-input-11-89b880716e9e>:6: static_rnn (from tensorflow.python.ops.rnn) is deprecated and will be removed in a future version.\n",
      "Instructions for updating:\n",
      "Please use `keras.layers.RNN(cell, unroll=True)`, which is equivalent to this API\n",
      "WARNING:tensorflow:From /Users/sungchullee/anaconda3/lib/python3.6/site-packages/tensorflow_core/python/ops/rnn_cell_impl.py:456: Layer.add_variable (from tensorflow.python.keras.engine.base_layer) is deprecated and will be removed in a future version.\n",
      "Instructions for updating:\n",
      "Please use `layer.add_weight` method instead.\n",
      "WARNING:tensorflow:From /Users/sungchullee/anaconda3/lib/python3.6/site-packages/tensorflow_core/python/ops/rnn_cell_impl.py:460: calling Zeros.__init__ (from tensorflow.python.ops.init_ops) with dtype is deprecated and will be removed in a future version.\n",
      "Instructions for updating:\n",
      "Call initializer instance with the dtype argument instead of passing it to the constructor\n"
     ]
    }
   ],
   "source": [
    "# a factory that creates copies of the cell to build the unrolled RNN\n",
    "basic_cell = tf.nn.rnn_cell.BasicRNNCell(num_units=n_neurons)\n",
    "\n",
    "# output_seqs: a Python list containing the output tensors for each time step.\n",
    "# states: a tensor containing the final states of the network.\n",
    "output, states = tf.nn.static_rnn(basic_cell, x_list, dtype=tf.float32)"
   ]
  },
  {
   "cell_type": "code",
   "execution_count": 12,
   "metadata": {},
   "outputs": [],
   "source": [
    "init = tf.global_variables_initializer()"
   ]
  },
  {
   "cell_type": "code",
   "execution_count": 13,
   "metadata": {},
   "outputs": [],
   "source": [
    "# with tf.Session() as sess:\n",
    "    \n",
    "#     init.run()\n",
    "    \n",
    "#     feed_dict = {x_0: x_0_batch, x_1: x_1_batch}\n",
    "#     output_val = sess.run(output, feed_dict=feed_dict)"
   ]
  },
  {
   "cell_type": "code",
   "execution_count": 14,
   "metadata": {},
   "outputs": [],
   "source": [
    "with tf.Session() as sess:\n",
    "    \n",
    "    init.run()\n",
    "    \n",
    "    feed_dict = {x: x_batch}\n",
    "    output_val = sess.run(output, feed_dict=feed_dict)"
   ]
  },
  {
   "cell_type": "code",
   "execution_count": 15,
   "metadata": {},
   "outputs": [
    {
     "name": "stdout",
     "output_type": "stream",
     "text": [
      "[[ 0.8873027   0.21025889 -0.14533019 -0.48752266  0.85590076]\n",
      " [ 0.99843115  0.98781997  0.92071897 -0.9943569   0.99720544]\n",
      " [ 0.9999795   0.99988496  0.9974604  -0.99995345  0.9999496 ]\n",
      " [-0.22379977  0.9999663   0.99581414 -0.9978002   0.48085815]]\n"
     ]
    }
   ],
   "source": [
    "print(output_val[0]) # output at t = 0"
   ]
  },
  {
   "cell_type": "code",
   "execution_count": 16,
   "metadata": {},
   "outputs": [
    {
     "name": "stdout",
     "output_type": "stream",
     "text": [
      "[[ 0.999987    0.9999994   0.9999013  -0.99999803  0.9998745 ]\n",
      " [ 0.63951737  0.55478317 -0.12084428 -0.6423976   0.1832351 ]\n",
      " [ 0.99862087  0.99991626  0.99832207 -0.9999157   0.9939804 ]\n",
      " [ 0.62831557  0.98743516  0.9772627  -0.9941337   0.91406375]]\n"
     ]
    }
   ],
   "source": [
    "print(output_val[1]) # output at t = 1"
   ]
  },
  {
   "cell_type": "code",
   "execution_count": null,
   "metadata": {},
   "outputs": [],
   "source": []
  },
  {
   "cell_type": "code",
   "execution_count": null,
   "metadata": {},
   "outputs": [],
   "source": []
  },
  {
   "cell_type": "code",
   "execution_count": null,
   "metadata": {},
   "outputs": [],
   "source": []
  },
  {
   "cell_type": "code",
   "execution_count": null,
   "metadata": {},
   "outputs": [],
   "source": []
  }
 ],
 "metadata": {
  "kernelspec": {
   "display_name": "Python 3",
   "language": "python",
   "name": "python3"
  },
  "language_info": {
   "codemirror_mode": {
    "name": "ipython",
    "version": 3
   },
   "file_extension": ".py",
   "mimetype": "text/x-python",
   "name": "python",
   "nbconvert_exporter": "python",
   "pygments_lexer": "ipython3",
   "version": "3.6.9"
  }
 },
 "nbformat": 4,
 "nbformat_minor": 2
}
