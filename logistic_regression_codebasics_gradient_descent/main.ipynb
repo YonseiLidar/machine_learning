{
 "cells": [
  {
   "cell_type": "markdown",
   "metadata": {},
   "source": [
    "2018314034 홍석우"
   ]
  },
  {
   "cell_type": "code",
   "execution_count": 1,
   "metadata": {},
   "outputs": [],
   "source": [
    "import pandas as pd\n",
    "import numpy as np\n",
    "import matplotlib.pyplot as plt\n",
    "from sklearn import datasets\n",
    "from sklearn import linear_model"
   ]
  },
  {
   "cell_type": "code",
   "execution_count": 2,
   "metadata": {},
   "outputs": [],
   "source": [
    "df = pd.read_csv(\"insurance_data.csv\")\n",
    "df = (df-df.mean()) / df.std()\n",
    "regression = linear_model.LinearRegression()\n",
    "regression.fit(np.array(df.age).reshape((-1, 1)), df.bought_insurance)\n",
    "bought_insurance_pred = regression.predict(np.array(df.age).reshape((-1, 1)))\n",
    "df['bought_insurance_pred'] = bought_insurance_pred"
   ]
  },
  {
   "cell_type": "code",
   "execution_count": 3,
   "metadata": {},
   "outputs": [
    {
     "data": {
      "image/png": "[encoded data removed]",
      "text/plain": [
       "<Figure size 432x288 with 1 Axes>"
      ]
     },
     "metadata": {
      "needs_background": "light"
     },
     "output_type": "display_data"
    }
   ],
   "source": [
    "plt.xlabel('age')\n",
    "plt.ylabel('bought_insurance')\n",
    "plt.scatter(df.age, df.bought_insurance, color='blue', marker='+')\n",
    "plt.plot(df.age, df.bought_insurance_pred)\n",
    "plt.show()"
   ]
  },
  {
   "cell_type": "code",
   "execution_count": 4,
   "metadata": {},
   "outputs": [
    {
     "name": "stdout",
     "output_type": "stream",
     "text": [
      "-4.702672023723909e-17\n",
      "[0.73239481]\n"
     ]
    }
   ],
   "source": [
    "print(regression.intercept_)\n",
    "print(regression.coef_)"
   ]
  },
  {
   "cell_type": "code",
   "execution_count": 5,
   "metadata": {},
   "outputs": [],
   "source": [
    "def GD(X, Y):\n",
    "\n",
    "    alpha = regression.intercept_\n",
    "    beta = regression.coef_[0] \n",
    " \n",
    "    lr = 1e-2\n",
    "    n = X.shape[0]\n",
    "    plt.scatter(X.reshape((-1)), Y, color='blue', marker='.')\n",
    "    for i in range(1000):\n",
    "        Y_pred = (alpha + beta * X).reshape((-1)) \n",
    "        d_beta = (2/n)*np.sum(X*(Y_pred-Y).reshape((-1, 1)))\n",
    "        d_alpha = (2/n)*np.sum(Y_pred-Y)\n",
    "        beta -= lr * d_beta\n",
    "        alpha -= lr * d_alpha\n",
    "    plt.plot(X.reshape((-1)), Y_pred, color='red')"
   ]
  },
  {
   "cell_type": "code",
   "execution_count": 6,
   "metadata": {},
   "outputs": [
    {
     "data": {
      "image/png": "[encoded data removed]",
      "text/plain": [
       "<Figure size 432x288 with 1 Axes>"
      ]
     },
     "metadata": {
      "needs_background": "light"
     },
     "output_type": "display_data"
    }
   ],
   "source": [
    "X = np.array(df.age).reshape((-1, 1))\n",
    "Y = np.array(df.bought_insurance) \n",
    "GD(X, Y)"
   ]
  },
  {
   "cell_type": "code",
   "execution_count": null,
   "metadata": {},
   "outputs": [],
   "source": []
  }
 ],
 "metadata": {
  "kernelspec": {
   "display_name": "Python 3",
   "language": "python",
   "name": "python3"
  },
  "language_info": {
   "codemirror_mode": {
    "name": "ipython",
    "version": 3
   },
   "file_extension": ".py",
   "mimetype": "text/x-python",
   "name": "python",
   "nbconvert_exporter": "python",
   "pygments_lexer": "ipython3",
   "version": "3.7.3"
  }
 },
 "nbformat": 4,
 "nbformat_minor": 2
}
