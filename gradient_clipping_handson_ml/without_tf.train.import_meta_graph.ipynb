{
 "cells": [
  {
   "cell_type": "code",
   "execution_count": 1,
   "metadata": {},
   "outputs": [],
   "source": [
    "import tensorflow as tf\n",
    "import numpy as np\n",
    "(x_train, y_train), (x_test, y_test) = tf.keras.datasets.mnist.load_data()\n",
    "x_train = x_train.astype(np.float32).reshape(-1, 28*28) / 255.0\n",
    "x_test = x_test.astype(np.float32).reshape(-1, 28*28) / 255.0\n",
    "y_train = y_train.astype(np.int32)\n",
    "y_test = y_test.astype(np.int32)\n",
    "x_valid, x_train = x_train[:5000], x_train[5000:]\n",
    "y_valid, y_train = y_train[:5000], y_train[5000:]"
   ]
  },
  {
   "cell_type": "code",
   "execution_count": 2,
   "metadata": {},
   "outputs": [],
   "source": [
    "def shuffle_batch(x, y, batch_size):\n",
    "    rnd_idx = np.random.permutation(len(x))\n",
    "    n_batches = len(x) // batch_size\n",
    "    for batch_idx in np.array_split(rnd_idx, n_batches):\n",
    "        x_batch, y_batch = x[batch_idx], y[batch_idx]\n",
    "        yield x_batch, y_batch"
   ]
  },
  {
   "cell_type": "code",
   "execution_count": 3,
   "metadata": {},
   "outputs": [],
   "source": [
    "import tensorflow as tf\n",
    "import numpy as np\n",
    "tf.reset_default_graph()\n",
    "tf.set_random_seed(0)\n",
    "np.random.seed(0)"
   ]
  },
  {
   "cell_type": "code",
   "execution_count": 4,
   "metadata": {},
   "outputs": [],
   "source": [
    "lr = 0.01\n",
    "epoch = 20\n",
    "batch_size = 200\n",
    "threshold = 1.0"
   ]
  },
  {
   "cell_type": "code",
   "execution_count": 5,
   "metadata": {},
   "outputs": [
    {
     "name": "stdout",
     "output_type": "stream",
     "text": [
      "WARNING:tensorflow:From <ipython-input-5-86616f94739e>:13: dense (from tensorflow.python.layers.core) is deprecated and will be removed in a future version.\n",
      "Instructions for updating:\n",
      "Use keras.layers.Dense instead.\n",
      "WARNING:tensorflow:From /Users/sungchullee/anaconda3/lib/python3.6/site-packages/tensorflow_core/python/layers/core.py:187: Layer.apply (from tensorflow.python.keras.engine.base_layer) is deprecated and will be removed in a future version.\n",
      "Instructions for updating:\n",
      "Please use `layer.__call__` method instead.\n"
     ]
    }
   ],
   "source": [
    "n_inputs = 28 * 28  # MNIST\n",
    "n_hidden1 = 300\n",
    "n_hidden2 = 50\n",
    "n_hidden3 = 50\n",
    "n_hidden4 = 50\n",
    "n_hidden5 = 50\n",
    "n_outputs = 10\n",
    "\n",
    "x = tf.placeholder(tf.float32, shape=(None, n_inputs), name=\"x\")\n",
    "y = tf.placeholder(tf.int32, shape=(None), name=\"y\")\n",
    "\n",
    "with tf.name_scope(\"dnn\"):\n",
    "    hidden1 = tf.layers.dense(x, n_hidden1, activation=tf.nn.relu, name=\"hidden1\")\n",
    "    hidden2 = tf.layers.dense(hidden1, n_hidden2, activation=tf.nn.relu, name=\"hidden2\")\n",
    "    hidden3 = tf.layers.dense(hidden2, n_hidden3, activation=tf.nn.relu, name=\"hidden3\")\n",
    "    hidden4 = tf.layers.dense(hidden3, n_hidden4, activation=tf.nn.relu, name=\"hidden4\")\n",
    "    hidden5 = tf.layers.dense(hidden4, n_hidden5, activation=tf.nn.relu, name=\"hidden5\")\n",
    "    logits = tf.layers.dense(hidden5, n_outputs, name=\"outputs\")\n",
    "\n",
    "with tf.name_scope(\"loss\"):\n",
    "    entropy = tf.nn.sparse_softmax_cross_entropy_with_logits(labels=y, logits=logits)\n",
    "    loss = tf.reduce_mean(entropy, name=\"loss\")"
   ]
  },
  {
   "cell_type": "code",
   "execution_count": 6,
   "metadata": {},
   "outputs": [],
   "source": [
    "opt = tf.train.GradientDescentOptimizer(lr)\n",
    "grads_and_vars = opt.compute_gradients(loss)\n",
    "clipped_grads_and_vars = [(tf.clip_by_value(grad, -threshold, threshold), var)\n",
    "              for grad, var in grads_and_vars]\n",
    "train = opt.apply_gradients(clipped_grads_and_vars)"
   ]
  },
  {
   "cell_type": "code",
   "execution_count": 7,
   "metadata": {},
   "outputs": [
    {
     "data": {
      "text/plain": [
       "[(<tf.Tensor 'gradients/dnn/hidden1/MatMul_grad/tuple/control_dependency_1:0' shape=(784, 300) dtype=float32>,\n",
       "  <tf.Variable 'hidden1/kernel:0' shape=(784, 300) dtype=float32_ref>),\n",
       " (<tf.Tensor 'gradients/dnn/hidden1/BiasAdd_grad/tuple/control_dependency_1:0' shape=(300,) dtype=float32>,\n",
       "  <tf.Variable 'hidden1/bias:0' shape=(300,) dtype=float32_ref>),\n",
       " (<tf.Tensor 'gradients/dnn/hidden2/MatMul_grad/tuple/control_dependency_1:0' shape=(300, 50) dtype=float32>,\n",
       "  <tf.Variable 'hidden2/kernel:0' shape=(300, 50) dtype=float32_ref>),\n",
       " (<tf.Tensor 'gradients/dnn/hidden2/BiasAdd_grad/tuple/control_dependency_1:0' shape=(50,) dtype=float32>,\n",
       "  <tf.Variable 'hidden2/bias:0' shape=(50,) dtype=float32_ref>),\n",
       " (<tf.Tensor 'gradients/dnn/hidden3/MatMul_grad/tuple/control_dependency_1:0' shape=(50, 50) dtype=float32>,\n",
       "  <tf.Variable 'hidden3/kernel:0' shape=(50, 50) dtype=float32_ref>),\n",
       " (<tf.Tensor 'gradients/dnn/hidden3/BiasAdd_grad/tuple/control_dependency_1:0' shape=(50,) dtype=float32>,\n",
       "  <tf.Variable 'hidden3/bias:0' shape=(50,) dtype=float32_ref>),\n",
       " (<tf.Tensor 'gradients/dnn/hidden4/MatMul_grad/tuple/control_dependency_1:0' shape=(50, 50) dtype=float32>,\n",
       "  <tf.Variable 'hidden4/kernel:0' shape=(50, 50) dtype=float32_ref>),\n",
       " (<tf.Tensor 'gradients/dnn/hidden4/BiasAdd_grad/tuple/control_dependency_1:0' shape=(50,) dtype=float32>,\n",
       "  <tf.Variable 'hidden4/bias:0' shape=(50,) dtype=float32_ref>),\n",
       " (<tf.Tensor 'gradients/dnn/hidden5/MatMul_grad/tuple/control_dependency_1:0' shape=(50, 50) dtype=float32>,\n",
       "  <tf.Variable 'hidden5/kernel:0' shape=(50, 50) dtype=float32_ref>),\n",
       " (<tf.Tensor 'gradients/dnn/hidden5/BiasAdd_grad/tuple/control_dependency_1:0' shape=(50,) dtype=float32>,\n",
       "  <tf.Variable 'hidden5/bias:0' shape=(50,) dtype=float32_ref>),\n",
       " (<tf.Tensor 'gradients/dnn/outputs/MatMul_grad/tuple/control_dependency_1:0' shape=(50, 10) dtype=float32>,\n",
       "  <tf.Variable 'outputs/kernel:0' shape=(50, 10) dtype=float32_ref>),\n",
       " (<tf.Tensor 'gradients/dnn/outputs/BiasAdd_grad/tuple/control_dependency_1:0' shape=(10,) dtype=float32>,\n",
       "  <tf.Variable 'outputs/bias:0' shape=(10,) dtype=float32_ref>)]"
      ]
     },
     "execution_count": 7,
     "metadata": {},
     "output_type": "execute_result"
    }
   ],
   "source": [
    "grads_and_vars"
   ]
  },
  {
   "cell_type": "code",
   "execution_count": 8,
   "metadata": {},
   "outputs": [
    {
     "data": {
      "text/plain": [
       "[(<tf.Tensor 'clip_by_value:0' shape=(784, 300) dtype=float32>,\n",
       "  <tf.Variable 'hidden1/kernel:0' shape=(784, 300) dtype=float32_ref>),\n",
       " (<tf.Tensor 'clip_by_value_1:0' shape=(300,) dtype=float32>,\n",
       "  <tf.Variable 'hidden1/bias:0' shape=(300,) dtype=float32_ref>),\n",
       " (<tf.Tensor 'clip_by_value_2:0' shape=(300, 50) dtype=float32>,\n",
       "  <tf.Variable 'hidden2/kernel:0' shape=(300, 50) dtype=float32_ref>),\n",
       " (<tf.Tensor 'clip_by_value_3:0' shape=(50,) dtype=float32>,\n",
       "  <tf.Variable 'hidden2/bias:0' shape=(50,) dtype=float32_ref>),\n",
       " (<tf.Tensor 'clip_by_value_4:0' shape=(50, 50) dtype=float32>,\n",
       "  <tf.Variable 'hidden3/kernel:0' shape=(50, 50) dtype=float32_ref>),\n",
       " (<tf.Tensor 'clip_by_value_5:0' shape=(50,) dtype=float32>,\n",
       "  <tf.Variable 'hidden3/bias:0' shape=(50,) dtype=float32_ref>),\n",
       " (<tf.Tensor 'clip_by_value_6:0' shape=(50, 50) dtype=float32>,\n",
       "  <tf.Variable 'hidden4/kernel:0' shape=(50, 50) dtype=float32_ref>),\n",
       " (<tf.Tensor 'clip_by_value_7:0' shape=(50,) dtype=float32>,\n",
       "  <tf.Variable 'hidden4/bias:0' shape=(50,) dtype=float32_ref>),\n",
       " (<tf.Tensor 'clip_by_value_8:0' shape=(50, 50) dtype=float32>,\n",
       "  <tf.Variable 'hidden5/kernel:0' shape=(50, 50) dtype=float32_ref>),\n",
       " (<tf.Tensor 'clip_by_value_9:0' shape=(50,) dtype=float32>,\n",
       "  <tf.Variable 'hidden5/bias:0' shape=(50,) dtype=float32_ref>),\n",
       " (<tf.Tensor 'clip_by_value_10:0' shape=(50, 10) dtype=float32>,\n",
       "  <tf.Variable 'outputs/kernel:0' shape=(50, 10) dtype=float32_ref>),\n",
       " (<tf.Tensor 'clip_by_value_11:0' shape=(10,) dtype=float32>,\n",
       "  <tf.Variable 'outputs/bias:0' shape=(10,) dtype=float32_ref>)]"
      ]
     },
     "execution_count": 8,
     "metadata": {},
     "output_type": "execute_result"
    }
   ],
   "source": [
    "clipped_grads_and_vars"
   ]
  },
  {
   "cell_type": "code",
   "execution_count": 9,
   "metadata": {},
   "outputs": [],
   "source": [
    "with tf.name_scope(\"eval\"):\n",
    "    correct = tf.nn.in_top_k(logits, y, 1)\n",
    "    accuracy = tf.reduce_mean(tf.cast(correct, tf.float32), name=\"accuracy\")"
   ]
  },
  {
   "cell_type": "code",
   "execution_count": 10,
   "metadata": {},
   "outputs": [],
   "source": [
    "init = tf.global_variables_initializer()\n",
    "saver = tf.train.Saver()"
   ]
  },
  {
   "cell_type": "code",
   "execution_count": 11,
   "metadata": {},
   "outputs": [
    {
     "name": "stdout",
     "output_type": "stream",
     "text": [
      "0 Validation accuracy: 0.5998\n",
      "1 Validation accuracy: 0.8308\n",
      "2 Validation accuracy: 0.8762\n",
      "3 Validation accuracy: 0.908\n",
      "4 Validation accuracy: 0.9144\n",
      "5 Validation accuracy: 0.9252\n",
      "6 Validation accuracy: 0.929\n",
      "7 Validation accuracy: 0.9346\n",
      "8 Validation accuracy: 0.9394\n",
      "9 Validation accuracy: 0.9448\n",
      "10 Validation accuracy: 0.9446\n",
      "11 Validation accuracy: 0.9488\n",
      "12 Validation accuracy: 0.9498\n",
      "13 Validation accuracy: 0.9504\n",
      "14 Validation accuracy: 0.955\n",
      "15 Validation accuracy: 0.9544\n",
      "16 Validation accuracy: 0.9562\n",
      "17 Validation accuracy: 0.9578\n",
      "18 Validation accuracy: 0.9598\n",
      "19 Validation accuracy: 0.9602\n"
     ]
    }
   ],
   "source": [
    "with tf.Session() as sess:\n",
    "    init.run()\n",
    "    for i in range(epoch):\n",
    "        for x_batch, y_batch in shuffle_batch(x_train, y_train, batch_size):\n",
    "            sess.run(train, feed_dict={x: x_batch, y: y_batch})\n",
    "        accuracy_val = accuracy.eval(feed_dict={x: x_valid, y: y_valid})\n",
    "        print(i, \"Validation accuracy:\", accuracy_val)\n",
    "\n",
    "    save_path = saver.save(sess, \"./save/my_model_final.ckpt\")"
   ]
  },
  {
   "cell_type": "code",
   "execution_count": 12,
   "metadata": {},
   "outputs": [
    {
     "name": "stdout",
     "output_type": "stream",
     "text": [
      "./save/my_model_final.ckpt\n",
      "<class 'str'>\n"
     ]
    }
   ],
   "source": [
    "print(save_path)\n",
    "print(type(save_path))"
   ]
  },
  {
   "cell_type": "code",
   "execution_count": 13,
   "metadata": {},
   "outputs": [],
   "source": [
    "import tensorflow as tf\n",
    "import numpy as np\n",
    "tf.reset_default_graph()\n",
    "tf.set_random_seed(0)\n",
    "np.random.seed(0)"
   ]
  },
  {
   "cell_type": "code",
   "execution_count": 14,
   "metadata": {},
   "outputs": [],
   "source": [
    "lr = 0.01\n",
    "epoch = 20\n",
    "batch_size = 200\n",
    "threshold = 1.0"
   ]
  },
  {
   "cell_type": "code",
   "execution_count": 15,
   "metadata": {},
   "outputs": [],
   "source": [
    "# First you need to load the graph's structure. \n",
    "# The import_meta_graph() function does just that, loading the graph's operations into the default graph, \n",
    "# and returning a Saver that you can then use to restore the model's state. \n",
    "# saver = tf.train.import_meta_graph(\"./save/my_model_final.ckpt.meta\")"
   ]
  },
  {
   "cell_type": "code",
   "execution_count": 16,
   "metadata": {},
   "outputs": [],
   "source": [
    "n_inputs = 28 * 28  # MNIST\n",
    "n_hidden1 = 300\n",
    "n_hidden2 = 50\n",
    "n_hidden3 = 50\n",
    "n_hidden4 = 50\n",
    "n_hidden5 = 50\n",
    "n_outputs = 10\n",
    "\n",
    "x = tf.placeholder(tf.float32, shape=(None, n_inputs), name=\"x\")\n",
    "y = tf.placeholder(tf.int32, shape=(None), name=\"y\")\n",
    "\n",
    "with tf.name_scope(\"dnn\"):\n",
    "    hidden1 = tf.layers.dense(x, n_hidden1, activation=tf.nn.relu, name=\"hidden1\")\n",
    "    hidden2 = tf.layers.dense(hidden1, n_hidden2, activation=tf.nn.relu, name=\"hidden2\")\n",
    "    hidden3 = tf.layers.dense(hidden2, n_hidden3, activation=tf.nn.relu, name=\"hidden3\")\n",
    "    hidden4 = tf.layers.dense(hidden3, n_hidden4, activation=tf.nn.relu, name=\"hidden4\")\n",
    "    hidden5 = tf.layers.dense(hidden4, n_hidden5, activation=tf.nn.relu, name=\"hidden5\")\n",
    "    logits = tf.layers.dense(hidden5, n_outputs, name=\"outputs\")\n",
    "\n",
    "with tf.name_scope(\"loss\"):\n",
    "    entropy = tf.nn.sparse_softmax_cross_entropy_with_logits(labels=y, logits=logits)\n",
    "    loss = tf.reduce_mean(entropy, name=\"loss\")\n",
    "\n",
    "with tf.name_scope(\"eval\"):\n",
    "    correct = tf.nn.in_top_k(logits, y, 1)\n",
    "    accuracy = tf.reduce_mean(tf.cast(correct, tf.float32), name=\"accuracy\")\n",
    "\n",
    "opt = tf.train.GradientDescentOptimizer(lr)\n",
    "grads_and_vars = opt.compute_gradients(loss)\n",
    "clipped_grads_and_vars = [(tf.clip_by_value(grad, -threshold, threshold), var)\n",
    "                          for grad, var in grads_and_vars]\n",
    "train = opt.apply_gradients(clipped_grads_and_vars)\n",
    "\n",
    "saver = tf.train.Saver()"
   ]
  },
  {
   "cell_type": "code",
   "execution_count": 17,
   "metadata": {},
   "outputs": [
    {
     "name": "stdout",
     "output_type": "stream",
     "text": [
      "INFO:tensorflow:Restoring parameters from ./save/my_model_final.ckpt\n",
      "0 Validation accuracy: 0.9626\n",
      "1 Validation accuracy: 0.9626\n",
      "2 Validation accuracy: 0.9636\n",
      "3 Validation accuracy: 0.9632\n",
      "4 Validation accuracy: 0.9644\n",
      "5 Validation accuracy: 0.965\n",
      "6 Validation accuracy: 0.9652\n",
      "7 Validation accuracy: 0.9672\n",
      "8 Validation accuracy: 0.9684\n",
      "9 Validation accuracy: 0.9662\n",
      "10 Validation accuracy: 0.9682\n",
      "11 Validation accuracy: 0.968\n",
      "12 Validation accuracy: 0.969\n",
      "13 Validation accuracy: 0.9698\n",
      "14 Validation accuracy: 0.9698\n",
      "15 Validation accuracy: 0.9694\n",
      "16 Validation accuracy: 0.9704\n",
      "17 Validation accuracy: 0.9724\n",
      "18 Validation accuracy: 0.9708\n",
      "19 Validation accuracy: 0.9716\n"
     ]
    }
   ],
   "source": [
    "with tf.Session() as sess:\n",
    "    saver.restore(sess, \"./save/my_model_final.ckpt\")\n",
    "\n",
    "    for i in range(epoch):\n",
    "        for x_batch, y_batch in shuffle_batch(x_train, y_train, batch_size):\n",
    "            sess.run(train, feed_dict={x: x_batch, y: y_batch})\n",
    "        accuracy_val = accuracy.eval(feed_dict={x: x_valid, y: y_valid})\n",
    "        print(i, \"Validation accuracy:\", accuracy_val)\n",
    "\n",
    "    save_path = saver.save(sess, \"./save/my_new_model_final.ckpt\")  "
   ]
  },
  {
   "cell_type": "code",
   "execution_count": null,
   "metadata": {},
   "outputs": [],
   "source": []
  }
 ],
 "metadata": {
  "kernelspec": {
   "display_name": "Python 3",
   "language": "python",
   "name": "python3"
  },
  "language_info": {
   "codemirror_mode": {
    "name": "ipython",
    "version": 3
   },
   "file_extension": ".py",
   "mimetype": "text/x-python",
   "name": "python",
   "nbconvert_exporter": "python",
   "pygments_lexer": "ipython3",
   "version": "3.6.9"
  }
 },
 "nbformat": 4,
 "nbformat_minor": 2
}
