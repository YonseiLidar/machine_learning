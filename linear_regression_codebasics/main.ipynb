{
 "cells": [
  {
   "cell_type": "markdown",
   "metadata": {},
   "source": [
    "[codebasics](https://www.youtube.com/watch?v=8jazNUpO3lQ&list=PLeo1K3hjS3uvCeTYTeyfe0-rN5r8zn9rw&index=2)"
   ]
  },
  {
   "cell_type": "code",
   "execution_count": 11,
   "metadata": {},
   "outputs": [],
   "source": [
    "%matplotlib inline"
   ]
  },
  {
   "cell_type": "code",
   "execution_count": 9,
   "metadata": {},
   "outputs": [
    {
     "name": "stdout",
     "output_type": "stream",
     "text": [
      "[2]\n",
      "<class 'numpy.ndarray'>\n"
     ]
    }
   ],
   "source": [
    "import numpy as np \n",
    "a = 1 + 1\n",
    "a = 1. + 1.\n",
    "a = 1. + 1 # broadcasting\n",
    "a = [1] + [1]\n",
    "a = '1' + '1'\n",
    "a = np.array([1]) + np.array([1])\n",
    "print(a)\n",
    "print(type(a))"
   ]
  },
  {
   "cell_type": "code",
   "execution_count": 11,
   "metadata": {},
   "outputs": [
    {
     "name": "stdout",
     "output_type": "stream",
     "text": [
      "일더하기 일은 귀요미\n",
      "<class 'str'>\n"
     ]
    }
   ],
   "source": [
    "class One_Plus_One:\n",
    "    \n",
    "    def __init__(self, string):\n",
    "        self.string = string\n",
    "        \n",
    "    def __add__(self, other):\n",
    "        if (self.string=='1') and (other.string=='1'):\n",
    "            return '일더하기 일은 귀요미'\n",
    "\n",
    "        \n",
    "a1 = One_Plus_One('1')\n",
    "a2 = One_Plus_One('1')\n",
    "# print(type(a1))\n",
    "# print(type(a2))\n",
    "\n",
    "a = a1 + a2\n",
    "print(a)\n",
    "print(type(a))"
   ]
  },
  {
   "cell_type": "code",
   "execution_count": 17,
   "metadata": {},
   "outputs": [
    {
     "name": "stdout",
     "output_type": "stream",
     "text": [
      "[1, 2, 3]\n",
      "<class 'list'>\n"
     ]
    }
   ],
   "source": [
    "a = [1,2,3]\n",
    "a = (1,2,3)\n",
    "a = {1,2,3}\n",
    "a = {1:1,2:2,3:3}\n",
    "a = np.array([1,2,3])\n",
    "print(a)\n",
    "print(type(a))"
   ]
  },
  {
   "cell_type": "code",
   "execution_count": 25,
   "metadata": {},
   "outputs": [
    {
     "name": "stdout",
     "output_type": "stream",
     "text": [
      "[1. 2. 0.]\n",
      "<class 'numpy.ndarray'>\n"
     ]
    }
   ],
   "source": [
    "a = [1,'2',True]\n",
    "a = np.array([1,'2',False], dtype=np.float)\n",
    "print(a)\n",
    "print(type(a))"
   ]
  },
  {
   "cell_type": "code",
   "execution_count": 27,
   "metadata": {},
   "outputs": [
    {
     "name": "stdout",
     "output_type": "stream",
     "text": [
      "   Age     Sex\n",
      "0   12    Male\n",
      "1   22  Female\n",
      "2   32    Male\n",
      "<class 'pandas.core.frame.DataFrame'>\n"
     ]
    }
   ],
   "source": [
    "a = np.array([[1,2,3], [4,5,6]])\n",
    "data = {\n",
    "    'Age': [12,22,32],\n",
    "    'Sex': ['Male','Female','Male']\n",
    "    }\n",
    "a = pd.DataFrame(data)\n",
    "print(a)\n",
    "print(type(a))"
   ]
  },
  {
   "cell_type": "code",
   "execution_count": 36,
   "metadata": {},
   "outputs": [
    {
     "name": "stdout",
     "output_type": "stream",
     "text": [
      "[[[[1 2 3 4 5]]]]\n",
      "(1, 1, 1, 5)\n",
      "[[1]\n",
      " [2]\n",
      " [3]\n",
      " [4]\n",
      " [5]\n",
      " [6]\n",
      " [7]\n",
      " [8]\n",
      " [9]]\n",
      "(9, 1)\n",
      "[[1 2 3 4 5]]\n",
      "(1, 5)\n",
      "[[1]\n",
      " [2]\n",
      " [3]\n",
      " [4]\n",
      " [5]]\n",
      "(5, 1)\n"
     ]
    }
   ],
   "source": [
    "import numpy\n",
    "\n",
    "a = np.array([[[[1,2,3,4,5]]]])\n",
    "print(a)\n",
    "print(a.shape)\n",
    "\n",
    "a = np.array([1,2,3,4,5,6,7,8,9]).reshape((-1,1))\n",
    "print(a)\n",
    "print(a.shape)\n",
    "\n",
    "a = np.array([[1,2,3,4,5]])\n",
    "print(a)\n",
    "print(a.shape)\n",
    "\n",
    "a = np.array([[1],[2],[3],[4],[5]])\n",
    "print(a)\n",
    "print(a.shape)"
   ]
  },
  {
   "cell_type": "code",
   "execution_count": 27,
   "metadata": {},
   "outputs": [
    {
     "name": "stdout",
     "output_type": "stream",
     "text": [
      "   area   price\n",
      "0  2600  550000\n",
      "1  3000  565000\n",
      "2  3200  610000\n",
      "3  3600  680000\n",
      "4  4000  725000\n",
      "(5, 2)\n",
      "[[2600]\n",
      " [3000]\n",
      " [3200]\n",
      " [3600]\n",
      " [4000]]\n",
      "(5,)\n"
     ]
    },
    {
     "data": {
      "image/png": "[encoded data removed]",
      "text/plain": [
       "<Figure size 432x288 with 1 Axes>"
      ]
     },
     "metadata": {
      "needs_background": "light"
     },
     "output_type": "display_data"
    }
   ],
   "source": [
    "import pandas as pd  \n",
    "import numpy as np \n",
    "from sklearn import linear_model\n",
    "import matplotlib.pyplot as plt\n",
    "\n",
    "if 0:\n",
    "    df = pd.read_csv('homeprices.csv')\n",
    "elif 1:\n",
    "    data = {\n",
    "        'area': [2600,3000,3200,3600,4000],\n",
    "        'price': [550000,565000,610000,680000,725000]\n",
    "        }\n",
    "    df = pd.DataFrame(data)  \n",
    "print(df)\n",
    "print(df.shape)\n",
    "print(df.area.values.reshape((-1,1)))\n",
    "print(df.price.shape)\n",
    "\n",
    "plt.xlabel('area')\n",
    "plt.ylabel('price')\n",
    "plt.scatter(df.area, df.price, color='red', marker='+')\n",
    "plt.show()"
   ]
  },
  {
   "cell_type": "code",
   "execution_count": 29,
   "metadata": {},
   "outputs": [
    {
     "name": "stdout",
     "output_type": "stream",
     "text": [
      "   area   price     price_pred\n",
      "0  2600  550000  533664.383562\n",
      "1  3000  565000  587979.452055\n",
      "2  3200  610000  615136.986301\n",
      "3  3600  680000  669452.054795\n",
      "4  4000  725000  723767.123288\n"
     ]
    },
    {
     "data": {
      "image/png": "[encoded data removed]",
      "text/plain": [
       "<Figure size 432x288 with 1 Axes>"
      ]
     },
     "metadata": {
      "needs_background": "light"
     },
     "output_type": "display_data"
    }
   ],
   "source": [
    "reg = linear_model.LinearRegression()\n",
    "# reg.fit(df.area, df.price) # ValueError: Expected 2D array, got 1D array instead:\n",
    "reg.fit(np.array(df.area).reshape((-1, 1)), df.price)\n",
    "price_pred = reg.predict(np.array(df.area).reshape((-1, 1)))\n",
    "df['price_pred'] = price_pred\n",
    "# df.price_pred = price_pred # this is not what I want\n",
    "print(df)\n",
    "\n",
    "# plt.xlabel('area')\n",
    "# plt.ylabel('price')\n",
    "plt.scatter(df.area, df.price, color='red', marker='+')\n",
    "plt.plot(df.area, df.price_pred)\n",
    "plt.show()"
   ]
  },
  {
   "cell_type": "code",
   "execution_count": 33,
   "metadata": {},
   "outputs": [
    {
     "name": "stdout",
     "output_type": "stream",
     "text": [
      "[628715.75342466]\n",
      "[135.78767123]\n",
      "180616.43835616432\n",
      "[628715.75342466]\n"
     ]
    }
   ],
   "source": [
    "x = [[3300]]\n",
    "y_hat = reg.predict(x)\n",
    "print(y_hat)\n",
    "\n",
    "#y_hat2 = reg.coef_ * x + reg.intercept_\n",
    "y_hat2 = (reg.coef_ * x + reg.intercept_).reshape(-1)  \n",
    "print(reg.coef_)\n",
    "print(reg.intercept_)\n",
    "print(y_hat2)"
   ]
  },
  {
   "cell_type": "code",
   "execution_count": 31,
   "metadata": {},
   "outputs": [
    {
     "name": "stdout",
     "output_type": "stream",
     "text": [
      "[628715.75342466 778082.19178082]\n",
      "[135.78767123]\n",
      "180616.43835616432\n",
      "[628715.75342466 778082.19178082]\n"
     ]
    }
   ],
   "source": [
    "x = [[3300], \n",
    "     [4400]]\n",
    "y_hat = reg.predict(x)\n",
    "print(y_hat)\n",
    "\n",
    "y_hat2 = (reg.coef_ * x + reg.intercept_).reshape(-1) \n",
    "print(reg.coef_)\n",
    "print(reg.intercept_)\n",
    "print(y_hat2)"
   ]
  },
  {
   "cell_type": "markdown",
   "metadata": {},
   "source": [
    "# save as csv"
   ]
  },
  {
   "cell_type": "code",
   "execution_count": 34,
   "metadata": {},
   "outputs": [
    {
     "name": "stdout",
     "output_type": "stream",
     "text": [
      "   area   price     price_pred\n",
      "0  2600  550000  533664.383562\n",
      "1  3000  565000  587979.452055\n",
      "2  3200  610000  615136.986301\n",
      "3  3600  680000  669452.054795\n",
      "4  4000  725000  723767.123288\n"
     ]
    },
    {
     "data": {
      "image/png": "[encoded data removed]",
      "text/plain": [
       "<Figure size 432x288 with 1 Axes>"
      ]
     },
     "metadata": {
      "needs_background": "light"
     },
     "output_type": "display_data"
    }
   ],
   "source": [
    "df.to_csv(\"homeprices_with_prediction.csv\", index=False)\n",
    "\n",
    "df = pd.read_csv('homeprices_with_prediction.csv')\n",
    "print(df)\n",
    "\n",
    "plt.xlabel('area')\n",
    "plt.ylabel('price')\n",
    "plt.scatter(df.area, df.price, color='red', marker='+')\n",
    "plt.plot(df.area, df.price_pred)\n",
    "plt.show()"
   ]
  },
  {
   "cell_type": "markdown",
   "metadata": {},
   "source": [
    "<h3>Exercise</h3>"
   ]
  },
  {
   "cell_type": "markdown",
   "metadata": {},
   "source": [
    "<p >Predict canada's per capita income in year 2020. There is an exercise folder here on github at same level as this notebook, download that and you will find canada_per_capita_income.csv file. Using this build a regression model and predict the per capita income fo canadian citizens in year 2020</p>"
   ]
  },
  {
   "cell_type": "markdown",
   "metadata": {},
   "source": [
    "<h3>Answer</h3>"
   ]
  },
  {
   "cell_type": "markdown",
   "metadata": {},
   "source": [
    "41288.69409442"
   ]
  }
 ],
 "metadata": {
  "kernelspec": {
   "display_name": "Python 3",
   "language": "python",
   "name": "python3"
  },
  "language_info": {
   "codemirror_mode": {
    "name": "ipython",
    "version": 3
   },
   "file_extension": ".py",
   "mimetype": "text/x-python",
   "name": "python",
   "nbconvert_exporter": "python",
   "pygments_lexer": "ipython3",
   "version": "3.7.3"
  }
 },
 "nbformat": 4,
 "nbformat_minor": 2
}
