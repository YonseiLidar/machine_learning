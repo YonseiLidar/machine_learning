{
 "cells": [
  {
   "cell_type": "code",
   "execution_count": 13,
   "metadata": {},
   "outputs": [
    {
     "name": "stdout",
     "output_type": "stream",
     "text": [
      "[0.19000001, 0.70000005, 0.8]\n"
     ]
    }
   ],
   "source": [
    "import tensorflow as tf; tf.reset_default_graph()\n",
    "\n",
    "init_x = tf.keras.initializers.constant(0.2)\n",
    "init_y = tf.keras.initializers.constant(0.3)\n",
    "x = tf.get_variable('x', (), tf.float32, init_x) # x:0\n",
    "y = tf.get_variable('y', (), tf.float32, init_y) # y:0\n",
    "f = x**2 + x*y + y**2\n",
    "f_x, f_y = tf.gradients(f, [x, y])\n",
    "\n",
    "init = tf.global_variables_initializer()\n",
    "\n",
    "with tf.Session() as sess:\n",
    "    sess.run(init)\n",
    "    print(sess.run([f, f_x, f_y]))"
   ]
  },
  {
   "cell_type": "code",
   "execution_count": 11,
   "metadata": {},
   "outputs": [
    {
     "name": "stdout",
     "output_type": "stream",
     "text": [
      "0.19 0.7 0.8\n"
     ]
    }
   ],
   "source": [
    "x = 0.2\n",
    "y = 0.3\n",
    "f = x**2 + x*y + y**2\n",
    "f_x = 2*x + y \n",
    "f_y = x + 2*y \n",
    "print(f, f_x, f_y)"
   ]
  },
  {
   "cell_type": "code",
   "execution_count": 14,
   "metadata": {},
   "outputs": [],
   "source": [
    "import numpy as np\n",
    "import pandas as pd\n",
    "import matplotlib.pyplot as plt\n",
    "import yfinance as yf"
   ]
  },
  {
   "cell_type": "code",
   "execution_count": 15,
   "metadata": {},
   "outputs": [],
   "source": [
    "def give_me_df(ticker): \n",
    "    import yfinance as yf\n",
    "    import pandas as pd\n",
    "    stock = yf.Ticker(ticker) \n",
    "    df = stock.history(period='max')\n",
    "    df[ticker] = df.Close.pct_change() \n",
    "    return df[[ticker]].iloc[1:]\n",
    "\n",
    "def join_dfs(*dfs):\n",
    "    for idx, df_ in enumerate(dfs):\n",
    "        if idx == 0:\n",
    "            df = df_\n",
    "        else:\n",
    "            df = df.join(df_, how='inner')\n",
    "    return df"
   ]
  },
  {
   "cell_type": "code",
   "execution_count": 16,
   "metadata": {},
   "outputs": [],
   "source": [
    "df_1 = give_me_df('SPY')\n",
    "df_2 = give_me_df('AAPL')\n",
    "df_3 = give_me_df('FB')\n",
    "dh = join_dfs(df_1, df_2, df_3)"
   ]
  },
  {
   "cell_type": "code",
   "execution_count": 17,
   "metadata": {},
   "outputs": [
    {
     "data": {
      "text/plain": [
       "(2125, 3)"
      ]
     },
     "execution_count": 17,
     "metadata": {},
     "output_type": "execute_result"
    }
   ],
   "source": [
    "dh.shape"
   ]
  },
  {
   "cell_type": "code",
   "execution_count": 20,
   "metadata": {},
   "outputs": [],
   "source": [
    "x_data = dh.iloc[-200:-100,:-1].values\n",
    "y_data = dh.iloc[-200:-100,-1].values.reshape((-1,1))"
   ]
  },
  {
   "cell_type": "code",
   "execution_count": 21,
   "metadata": {},
   "outputs": [
    {
     "name": "stdout",
     "output_type": "stream",
     "text": [
      "(100, 2) (100, 1)\n"
     ]
    }
   ],
   "source": [
    "print(x_data.shape, y_data.shape)"
   ]
  },
  {
   "cell_type": "code",
   "execution_count": 49,
   "metadata": {},
   "outputs": [],
   "source": [
    "lr = 1e-2\n",
    "epoch = int(1e4)\n",
    "\n",
    "import tensorflow as tf; tf.reset_default_graph()\n",
    "\n",
    "x = tf.placeholder(tf.float32, (100, 2)) # (100, 2)\n",
    "y = tf.placeholder(tf.float32, (100, 1)) # (100, 1)\n",
    "\n",
    "init_al = tf.keras.initializers.constant(0.0)\n",
    "init_bt = tf.keras.initializers.constant(1.0)\n",
    "al = tf.get_variable('alpha', (), tf.float32, init_al) # x:0\n",
    "bt = tf.get_variable('beta', (2, 1), tf.float32, init_bt) # (2, 1)\n",
    "y_pred = al + x @ bt # () + (100, 2) @ (2, 1) -> () + (100, 1) -> (100, 1)\n",
    "loss = tf.nn.l2_loss(y-y_pred) # ()\n",
    "grad_al, grad_bt = tf.gradients(loss, [al, bt])\n",
    "train_al = tf.assign(al, al - lr * grad_al)\n",
    "train_bt = tf.assign(bt, bt - lr * grad_bt)\n",
    "\n",
    "init = tf.global_variables_initializer()\n",
    "\n",
    "with tf.Session() as sess:\n",
    "    sess.run(init)\n",
    "    \n",
    "    loss_trace = []\n",
    "    for i in range(epoch):\n",
    "        feed_dict = {x : x_data, y : y_data}\n",
    "        loss_run, _, _ = sess.run([loss, train_al, train_bt], feed_dict=feed_dict)\n",
    "        loss_trace.append(loss_run)"
   ]
  },
  {
   "cell_type": "code",
   "execution_count": 50,
   "metadata": {},
   "outputs": [
    {
     "data": {
      "image/png": "[encoded data removed]",
      "text/plain": [
       "<Figure size 432x288 with 1 Axes>"
      ]
     },
     "metadata": {
      "needs_background": "light"
     },
     "output_type": "display_data"
    }
   ],
   "source": [
    "plt.plot(loss_trace)\n",
    "plt.show()"
   ]
  },
  {
   "cell_type": "code",
   "execution_count": null,
   "metadata": {},
   "outputs": [],
   "source": []
  },
  {
   "cell_type": "code",
   "execution_count": null,
   "metadata": {},
   "outputs": [],
   "source": []
  }
 ],
 "metadata": {
  "kernelspec": {
   "display_name": "Python 3",
   "language": "python",
   "name": "python3"
  },
  "language_info": {
   "codemirror_mode": {
    "name": "ipython",
    "version": 3
   },
   "file_extension": ".py",
   "mimetype": "text/x-python",
   "name": "python",
   "nbconvert_exporter": "python",
   "pygments_lexer": "ipython3",
   "version": "3.7.7"
  }
 },
 "nbformat": 4,
 "nbformat_minor": 4
}
