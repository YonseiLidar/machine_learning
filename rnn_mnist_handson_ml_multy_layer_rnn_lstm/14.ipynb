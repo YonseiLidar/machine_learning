{
 "cells": [
  {
   "cell_type": "code",
   "execution_count": 1,
   "metadata": {},
   "outputs": [
    {
     "name": "stdout",
     "output_type": "stream",
     "text": [
      "5 [0. 0. 0. 0. 0. 1. 0. 0. 0. 0.]\n"
     ]
    }
   ],
   "source": [
    "import tensorflow as tf\n",
    "import numpy as np\n",
    "import copy\n",
    "mnist = tf.keras.datasets.mnist\n",
    "(x_train, y_train), (x_test, y_test) = mnist.load_data()\n",
    "x_train, x_test = x_train / 255.0, x_test / 255.0\n",
    "x_train, x_test = x_train.astype(np.float32), x_test.astype(np.float32)\n",
    "y_train_cls = copy.copy(y_train).astype(np.int32) \n",
    "y_test_cls = copy.copy(y_test).astype(np.int32)\n",
    "y_train = np.eye(10)[y_train]\n",
    "y_test = np.eye(10)[y_test]\n",
    "print(y_train_cls[0], y_train[0])"
   ]
  },
  {
   "cell_type": "code",
   "execution_count": 2,
   "metadata": {},
   "outputs": [],
   "source": [
    "import tensorflow as tf\n",
    "import numpy as np\n",
    "tf.reset_default_graph()\n",
    "tf.set_random_seed(0)\n",
    "np.random.seed(0)"
   ]
  },
  {
   "cell_type": "code",
   "execution_count": 3,
   "metadata": {},
   "outputs": [],
   "source": [
    "lr = 1e-3\n",
    "epoch = 100\n",
    "batch_size = 150"
   ]
  },
  {
   "cell_type": "code",
   "execution_count": 4,
   "metadata": {},
   "outputs": [],
   "source": [
    "n_steps = 28\n",
    "n_inputs = 28\n",
    "n_neurons = 100\n",
    "n_outputs = 10\n",
    "n_layers = 3"
   ]
  },
  {
   "cell_type": "code",
   "execution_count": 5,
   "metadata": {},
   "outputs": [],
   "source": [
    "x = tf.placeholder(tf.float32, [None, n_steps, n_inputs])\n",
    "y_cls = tf.placeholder(tf.int32, [None])"
   ]
  },
  {
   "cell_type": "code",
   "execution_count": null,
   "metadata": {},
   "outputs": [],
   "source": [
    "layers = [tf.nn.rnn_cell.BasicLSTMCell(num_units=n_neurons, activation=tf.nn.relu)\n",
    "          for layer in range(n_layers)]\n",
    "multi_layer_cell = tf.nn.rnn_cell.MultiRNNCell(layers)\n",
    "outputs, states = tf.nn.dynamic_rnn(multi_layer_cell, x, dtype=tf.float32)\n",
    "top_layer_h_state = states[-1][1]"
   ]
  },
  {
   "cell_type": "code",
   "execution_count": null,
   "metadata": {},
   "outputs": [],
   "source": [
    "logits = tf.layers.dense(top_layer_h_state, n_outputs)\n",
    "entropy = tf.nn.sparse_softmax_cross_entropy_with_logits(labels=y_cls, logits=logits)\n",
    "loss = tf.reduce_mean(entropy)"
   ]
  },
  {
   "cell_type": "code",
   "execution_count": 11,
   "metadata": {},
   "outputs": [],
   "source": [
    "opt = tf.train.AdamOptimizer(learning_rate=lr)\n",
    "train = opt.minimize(loss)"
   ]
  },
  {
   "cell_type": "code",
   "execution_count": 12,
   "metadata": {},
   "outputs": [],
   "source": [
    "y_pred_cls = tf.cast(tf.argmax(logits, axis=1), tf.int32, name='y_pred_cls')\n",
    "correct = tf.nn.in_top_k(logits, y_cls, 1)\n",
    "accuracy = tf.reduce_mean(tf.cast(correct, tf.float32))"
   ]
  },
  {
   "cell_type": "code",
   "execution_count": 13,
   "metadata": {},
   "outputs": [],
   "source": [
    "init = tf.global_variables_initializer()"
   ]
  },
  {
   "cell_type": "code",
   "execution_count": 14,
   "metadata": {},
   "outputs": [],
   "source": [
    "with tf.Session() as sess:\n",
    "    \n",
    "    init.run()\n",
    "    \n",
    "    loss_trace = []\n",
    "    accuracy_trace = []\n",
    "\n",
    "    for i in range(epoch):\n",
    "        idx = np.arange(x_train.shape[0])\n",
    "        np.random.shuffle(idx)\n",
    "        x_epoch = x_train[idx]\n",
    "        y_epoch = y_train[idx]\n",
    "        y_cls_epoch = y_train_cls[idx]\n",
    "        for k in range(x_train.shape[0]//batch_size):\n",
    "            x_batch = x_epoch[k*batch_size:(k+1)*batch_size]\n",
    "            #y_batch = y_epoch[k*batch_size:(k+1)*batch_size]\n",
    "            y_cls_batch = y_cls_epoch[k*batch_size:(k+1)*batch_size]\n",
    "            feed_dict = {x:x_batch, y_cls:y_cls_batch}\n",
    "            loss_run, accuracy_run, _ = sess.run([loss, accuracy, train], feed_dict=feed_dict)\n",
    "            loss_trace.append(loss_run)\n",
    "            accuracy_trace.append(accuracy_run)\n",
    "    \n",
    "    feed_dict = {x:x_test, y_cls:y_test_cls}\n",
    "    accuracy_run, y_test_cls_pred = sess.run([accuracy, y_pred_cls], feed_dict=feed_dict)"
   ]
  },
  {
   "cell_type": "code",
   "execution_count": 15,
   "metadata": {},
   "outputs": [
    {
     "data": {
      "image/png": "[encoded data removed]",
      "text/plain": [
       "<Figure size 432x288 with 2 Axes>"
      ]
     },
     "metadata": {
      "needs_background": "light"
     },
     "output_type": "display_data"
    }
   ],
   "source": [
    "%matplotlib inline\n",
    "import matplotlib.pyplot as plt\n",
    "fig, (ax1, ax2) = plt.subplots(1, 2)\n",
    "ax1.plot(loss_trace)\n",
    "ax2.plot(accuracy_trace)\n",
    "ax1.set_title('loss')\n",
    "ax2.set_title('accuracy')\n",
    "ax1.set_xlabel('grad_step')\n",
    "ax2.set_xlabel('grad_step')\n",
    "plt.tight_layout()\n",
    "plt.show()"
   ]
  },
  {
   "cell_type": "code",
   "execution_count": 16,
   "metadata": {},
   "outputs": [
    {
     "name": "stdout",
     "output_type": "stream",
     "text": [
      "Test Accuracy : 0.9917\n"
     ]
    }
   ],
   "source": [
    "print('Test Accuracy :', accuracy_run)"
   ]
  },
  {
   "cell_type": "code",
   "execution_count": 17,
   "metadata": {},
   "outputs": [
    {
     "name": "stdout",
     "output_type": "stream",
     "text": [
      "[[ 975    0    1    0    0    1    0    1    2    0]\n",
      " [   0 1135    0    0    0    0    0    0    0    0]\n",
      " [   0    1 1025    2    0    0    0    3    1    0]\n",
      " [   0    0    2 1004    0    2    0    0    2    0]\n",
      " [   0    0    0    0  972    0    1    1    0    8]\n",
      " [   0    1    0    4    0  884    1    2    0    0]\n",
      " [   4    2    0    1    0    2  947    0    2    0]\n",
      " [   0    2    5    0    1    0    0 1018    0    2]\n",
      " [   0    0    1    0    0    3    0    3  967    0]\n",
      " [   0    3    0    0    6    2    0    2    6  990]]\n"
     ]
    }
   ],
   "source": [
    "from sklearn.metrics import confusion_matrix \n",
    "cm = confusion_matrix(y_true=y_test_cls, y_pred=y_test_cls_pred)\n",
    "print(cm)"
   ]
  },
  {
   "cell_type": "code",
   "execution_count": 18,
   "metadata": {},
   "outputs": [
    {
     "data": {
      "image/png": "[encoded data removed]",
      "text/plain": [
       "<Figure size 720x216 with 20 Axes>"
      ]
     },
     "metadata": {
      "needs_background": "light"
     },
     "output_type": "display_data"
    }
   ],
   "source": [
    "%matplotlib inline\n",
    "import matplotlib.pyplot as plt\n",
    "fig, axes = plt.subplots(2, 10, figsize=(10,3))\n",
    "idx = 0\n",
    "for ax in axes.reshape((-1,)):\n",
    "    while True:\n",
    "        if y_test_cls[idx]==y_test_cls_pred[idx]:\n",
    "            idx += 1\n",
    "        else:\n",
    "            ax.imshow(x_test[idx].reshape((28,28)), cmap=plt.cm.gray)\n",
    "            ax.set_title('True: {}\\nPred: {}'.format(y_test_cls[idx], y_test_cls_pred[idx]))\n",
    "            ax.axis('off')\n",
    "            idx += 1\n",
    "            break\n",
    "plt.tight_layout()\n",
    "plt.show()"
   ]
  }
 ],
 "metadata": {
  "kernelspec": {
   "display_name": "Python 3",
   "language": "python",
   "name": "python3"
  },
  "language_info": {
   "codemirror_mode": {
    "name": "ipython",
    "version": 3
   },
   "file_extension": ".py",
   "mimetype": "text/x-python",
   "name": "python",
   "nbconvert_exporter": "python",
   "pygments_lexer": "ipython3",
   "version": "3.6.9"
  }
 },
 "nbformat": 4,
 "nbformat_minor": 2
}
