{
 "cells": [
  {
   "cell_type": "markdown",
   "metadata": {},
   "source": [
    "Data_School [youtube](https://www.youtube.com/watch?v=RlQuVL6-qe8&list=PL5-da3qGB5ICeMbQuqbbCOQWcS6OYBr5A&index=4)"
   ]
  },
  {
   "cell_type": "markdown",
   "metadata": {},
   "source": [
    "### Example training data\n",
    "\n",
    "![Training data](img/04_knn_dataset.png)"
   ]
  },
  {
   "cell_type": "markdown",
   "metadata": {},
   "source": [
    "### KNN classification map (K=1)\n",
    "\n",
    "![1NN classification map](img/04_1nn_map.png)"
   ]
  },
  {
   "cell_type": "markdown",
   "metadata": {},
   "source": [
    "### KNN classification map (K=5)\n",
    "\n",
    "![5NN classification map](img/04_5nn_map.png)"
   ]
  },
  {
   "cell_type": "markdown",
   "metadata": {},
   "source": [
    "*Image Credits: [Data3classes](http://commons.wikimedia.org/wiki/File:Data3classes.png#/media/File:Data3classes.png), [Map1NN](http://commons.wikimedia.org/wiki/File:Map1NN.png#/media/File:Map1NN.png), [Map5NN](http://commons.wikimedia.org/wiki/File:Map5NN.png#/media/File:Map5NN.png) by Agor153. Licensed under CC BY-SA 3.0*"
   ]
  },
  {
   "cell_type": "code",
   "execution_count": 1,
   "metadata": {},
   "outputs": [
    {
     "name": "stdout",
     "output_type": "stream",
     "text": [
      "(150, 4)\n",
      "(150,)\n"
     ]
    }
   ],
   "source": [
    "from sklearn.datasets import load_iris\n",
    "\n",
    "iris = load_iris()\n",
    "X = iris.data\n",
    "y = iris.target\n",
    "print(X.shape)\n",
    "print(y.shape)"
   ]
  },
  {
   "cell_type": "code",
   "execution_count": 3,
   "metadata": {},
   "outputs": [
    {
     "name": "stdout",
     "output_type": "stream",
     "text": [
      "KNeighborsClassifier(algorithm='auto', leaf_size=30, metric='minkowski',\n",
      "                     metric_params=None, n_jobs=None, n_neighbors=1, p=2,\n",
      "                     weights='uniform')\n",
      "<class 'sklearn.neighbors.classification.KNeighborsClassifier'>\n",
      "['__abstractmethods__', '__class__', '__delattr__', '__dict__', '__dir__', '__doc__', '__eq__', '__format__', '__ge__', '__getattribute__', '__getstate__', '__gt__', '__hash__', '__init__', '__init_subclass__', '__le__', '__lt__', '__module__', '__ne__', '__new__', '__reduce__', '__reduce_ex__', '__repr__', '__setattr__', '__setstate__', '__sizeof__', '__str__', '__subclasshook__', '__weakref__', '_abc_impl', '_check_algorithm_metric', '_estimator_type', '_fit', '_get_param_names', '_get_tags', '_kneighbors_reduce_func', '_more_tags', '_pairwise', 'algorithm', 'fit', 'get_params', 'kneighbors', 'kneighbors_graph', 'leaf_size', 'metric', 'metric_params', 'n_jobs', 'n_neighbors', 'p', 'predict', 'predict_proba', 'radius', 'score', 'set_params', 'weights']\n",
      "\n",
      "[2]\n",
      "[2 0]\n",
      "[[0. 0. 1.]]\n",
      "[[0. 0. 1.]\n",
      " [1. 0. 0.]]\n"
     ]
    }
   ],
   "source": [
    "from sklearn.neighbors import KNeighborsClassifier\n",
    "\n",
    "clf = KNeighborsClassifier(n_neighbors=1)\n",
    "print(clf)\n",
    "print(type(clf))\n",
    "print(dir(clf))\n",
    "print()\n",
    "\n",
    "clf.fit(X, y)\n",
    "print(clf.predict([[3, 5, 4, 2]]))\n",
    "print(clf.predict([[3, 5, 4, 2], [-3, 5, -4, 2]]))\n",
    "print(clf.predict_proba([[3, 5, 4, 2]]))\n",
    "print(clf.predict_proba([[3, 5, 4, 2], [-3, 5, -4, 2]]))"
   ]
  },
  {
   "cell_type": "code",
   "execution_count": 4,
   "metadata": {},
   "outputs": [
    {
     "name": "stdout",
     "output_type": "stream",
     "text": [
      "[1]\n",
      "[1 0]\n",
      "[[0.  0.8 0.2]]\n",
      "[[0.  0.8 0.2]\n",
      " [1.  0.  0. ]]\n"
     ]
    }
   ],
   "source": [
    "from sklearn.neighbors import KNeighborsClassifier\n",
    "\n",
    "clf = KNeighborsClassifier(n_neighbors=5)\n",
    "clf.fit(X, y)\n",
    "print(clf.predict([[3, 5, 4, 2]]))\n",
    "print(clf.predict([[3, 5, 4, 2], [-3, 5, -4, 2]]))\n",
    "print(clf.predict_proba([[3, 5, 4, 2]]))\n",
    "print(clf.predict_proba([[3, 5, 4, 2], [-3, 5, -4, 2]]))"
   ]
  },
  {
   "cell_type": "code",
   "execution_count": 6,
   "metadata": {},
   "outputs": [
    {
     "name": "stdout",
     "output_type": "stream",
     "text": [
      "[1]\n",
      "[1 0]\n",
      "[[0.         0.79534272 0.20465728]]\n",
      "[[0.         0.79534272 0.20465728]\n",
      " [1.         0.         0.        ]]\n"
     ]
    }
   ],
   "source": [
    "from sklearn.neighbors import KNeighborsClassifier\n",
    "\n",
    "clf = KNeighborsClassifier(n_neighbors=5, weights='distance')\n",
    "clf.fit(X, y)\n",
    "print(clf.predict([[3, 5, 4, 2]]))\n",
    "print(clf.predict([[3, 5, 4, 2], [-3, 5, -4, 2]]))\n",
    "print(clf.predict_proba([[3, 5, 4, 2]]))\n",
    "print(clf.predict_proba([[3, 5, 4, 2], [-3, 5, -4, 2]]))"
   ]
  },
  {
   "cell_type": "code",
   "execution_count": 7,
   "metadata": {},
   "outputs": [
    {
     "name": "stdout",
     "output_type": "stream",
     "text": [
      "[2]\n",
      "[2 0]\n",
      "[[0.11396105 0.00247384 0.88356511]]\n",
      "[[1.13961053e-01 2.47384088e-03 8.83565106e-01]\n",
      " [9.99802368e-01 1.56912097e-06 1.96063236e-04]]\n"
     ]
    },
    {
     "name": "stderr",
     "output_type": "stream",
     "text": [
      "/Users/sungchul/anaconda3/lib/python3.7/site-packages/sklearn/linear_model/logistic.py:432: FutureWarning: Default solver will be changed to 'lbfgs' in 0.22. Specify a solver to silence this warning.\n",
      "  FutureWarning)\n",
      "/Users/sungchul/anaconda3/lib/python3.7/site-packages/sklearn/linear_model/logistic.py:469: FutureWarning: Default multi_class will be changed to 'auto' in 0.22. Specify the multi_class option to silence this warning.\n",
      "  \"this warning.\", FutureWarning)\n"
     ]
    }
   ],
   "source": [
    "from sklearn.linear_model import LogisticRegression\n",
    "\n",
    "clf = LogisticRegression()\n",
    "clf.fit(X, y)\n",
    "print(clf.predict([[3, 5, 4, 2]]))\n",
    "print(clf.predict([[3, 5, 4, 2], [-3, 5, -4, 2]]))\n",
    "print(clf.predict_proba([[3, 5, 4, 2]]))\n",
    "print(clf.predict_proba([[3, 5, 4, 2], [-3, 5, -4, 2]]))"
   ]
  },
  {
   "cell_type": "code",
   "execution_count": null,
   "metadata": {},
   "outputs": [],
   "source": []
  }
 ],
 "metadata": {
  "kernelspec": {
   "display_name": "Python 3",
   "language": "python",
   "name": "python3"
  },
  "language_info": {
   "codemirror_mode": {
    "name": "ipython",
    "version": 3
   },
   "file_extension": ".py",
   "mimetype": "text/x-python",
   "name": "python",
   "nbconvert_exporter": "python",
   "pygments_lexer": "ipython3",
   "version": "3.7.3"
  }
 },
 "nbformat": 4,
 "nbformat_minor": 1
}
