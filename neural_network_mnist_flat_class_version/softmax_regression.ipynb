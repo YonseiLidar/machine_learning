{
 "cells": [
  {
   "cell_type": "code",
   "execution_count": 1,
   "metadata": {},
   "outputs": [],
   "source": [
    "%matplotlib inline"
   ]
  },
  {
   "cell_type": "code",
   "execution_count": 2,
   "metadata": {},
   "outputs": [
    {
     "name": "stderr",
     "output_type": "stream",
     "text": [
      "WARNING: Logging before flag parsing goes to stderr.\n",
      "W0722 16:28:22.231189 4417369536 lazy_loader.py:50] \n",
      "The TensorFlow contrib module will not be included in TensorFlow 2.0.\n",
      "For more information, please see:\n",
      "  * https://github.com/tensorflow/community/blob/master/rfcs/20180907-contrib-sunset.md\n",
      "  * https://github.com/tensorflow/addons\n",
      "  * https://github.com/tensorflow/io (for I/O related ops)\n",
      "If you depend on functionality not listed there, please file an issue.\n",
      "\n",
      "W0722 16:28:22.885305 4417369536 deprecation_wrapper.py:119] From /Users/sungchul/Dropbox/Git/machine_learning/mlp_mnist_hwalsuklee_refactoring/model/softmax_regression.py:95: The name tf.set_random_seed is deprecated. Please use tf.compat.v1.set_random_seed instead.\n",
      "\n",
      "W0722 16:28:22.885987 4417369536 deprecation_wrapper.py:119] From /Users/sungchul/Dropbox/Git/machine_learning/mlp_mnist_hwalsuklee_refactoring/model/softmax_regression.py:106: The name tf.placeholder is deprecated. Please use tf.compat.v1.placeholder instead.\n",
      "\n",
      "W0722 16:28:22.889402 4417369536 deprecation_wrapper.py:119] From /Users/sungchul/Dropbox/Git/machine_learning/mlp_mnist_hwalsuklee_refactoring/model/softmax_regression.py:158: The name tf.get_variable is deprecated. Please use tf.compat.v1.get_variable instead.\n",
      "\n",
      "W0722 16:28:22.947160 4417369536 deprecation_wrapper.py:119] From /Users/sungchul/Dropbox/Git/machine_learning/mlp_mnist_hwalsuklee_refactoring/model/softmax_regression.py:139: The name tf.GraphKeys is deprecated. Please use tf.compat.v1.GraphKeys instead.\n",
      "\n",
      "W0722 16:28:22.948111 4417369536 deprecation_wrapper.py:119] From /Users/sungchul/Dropbox/Git/machine_learning/mlp_mnist_hwalsuklee_refactoring/model/softmax_regression.py:141: The name tf.train.AdamOptimizer is deprecated. Please use tf.compat.v1.train.AdamOptimizer instead.\n",
      "\n",
      "W0722 16:28:23.078651 4417369536 deprecation_wrapper.py:119] From /Users/sungchul/Dropbox/Git/machine_learning/mlp_mnist_hwalsuklee_refactoring/model/softmax_regression.py:236: The name tf.global_variables_initializer is deprecated. Please use tf.compat.v1.global_variables_initializer instead.\n",
      "\n"
     ]
    },
    {
     "name": "stdout",
     "output_type": "stream",
     "text": [
      "grandient_step :  1000\n",
      "loss :            0.07093757\n",
      "\n",
      "grandient_step :  2000\n",
      "loss :            0.060665473\n",
      "\n",
      "grandient_step :  3000\n",
      "loss :            0.010527104\n",
      "\n",
      "grandient_step :  4000\n",
      "loss :            0.018789936\n",
      "\n",
      "grandient_step :  5000\n",
      "loss :            0.00065203215\n",
      "\n",
      "grandient_step :  6000\n",
      "loss :            0.0114890095\n",
      "\n",
      "grandient_step :  7000\n",
      "loss :            0.0035955203\n",
      "\n",
      "grandient_step :  8000\n",
      "loss :            0.0015759564\n",
      "\n"
     ]
    },
    {
     "name": "stderr",
     "output_type": "stream",
     "text": [
      "W0722 16:28:40.094572 4417369536 deprecation_wrapper.py:119] From /Users/sungchul/Dropbox/Git/machine_learning/mlp_mnist_hwalsuklee_refactoring/model/softmax_regression.py:220: The name tf.train.Saver is deprecated. Please use tf.compat.v1.train.Saver instead.\n",
      "\n"
     ]
    },
    {
     "name": "stdout",
     "output_type": "stream",
     "text": [
      "grandient_step :  9000\n",
      "loss :            0.058809806\n",
      "\n"
     ]
    },
    {
     "name": "stderr",
     "output_type": "stream",
     "text": [
      "W0722 16:28:40.807634 4417369536 deprecation_wrapper.py:119] From /Users/sungchul/Dropbox/Git/machine_learning/mlp_mnist_hwalsuklee_refactoring/model/softmax_regression.py:206: The name tf.train.import_meta_graph is deprecated. Please use tf.compat.v1.train.import_meta_graph instead.\n",
      "\n",
      "W0722 16:28:40.868739 4417369536 deprecation.py:323] From /Users/sungchul/anaconda3/lib/python3.7/site-packages/tensorflow/python/training/saver.py:1276: checkpoint_exists (from tensorflow.python.training.checkpoint_management) is deprecated and will be removed in a future version.\n",
      "Instructions for updating:\n",
      "Use standard file APIs to check for files with this prefix.\n"
     ]
    },
    {
     "name": "stdout",
     "output_type": "stream",
     "text": [
      "train accuracy :  0.9968666666666667\n",
      "test accuracy :  0.9804\n",
      "train accuracy :  0.9968666666666667\n",
      "test accuracy :  0.9804\n",
      "[[ 967    1    0    0    1    3    2    1    3    2]\n",
      " [   0 1119    1    1    0    1    1    1   11    0]\n",
      " [   1    1  992    5    4    0    4    8   16    1]\n",
      " [   0    0    0  997    0    0    0    2    7    4]\n",
      " [   1    0    0    1  964    0    6    2    0    8]\n",
      " [   2    0    0   14    1  866    2    0    6    1]\n",
      " [   1    2    0    1    3    9  939    0    3    0]\n",
      " [   1    1    5    0    0    0    0 1009    2   10]\n",
      " [   0    0    0    2    3    0    0    2  964    3]\n",
      " [   0    2    0    6    7    1    0    1    5  987]]\n"
     ]
    },
    {
     "data": {
      "text/plain": [
       "<Figure size 432x288 with 0 Axes>"
      ]
     },
     "metadata": {},
     "output_type": "display_data"
    },
    {
     "data": {
      "image/png": "[encoded data removed]",
      "text/plain": [
       "<Figure size 432x288 with 9 Axes>"
      ]
     },
     "metadata": {},
     "output_type": "display_data"
    }
   ],
   "source": [
    "import numpy as np\n",
    "import tensorflow as tf\n",
    "from model.softmax_regression import SoftmaxRegression\n",
    "from data_loading import mnist_flat_loader as mnist_flat\n",
    "    \n",
    "x_train, y_train, y_train_cls, x_test, y_test, y_test_cls, cls_names = mnist_flat.data_loading()\n",
    "    \n",
    "with tf.Session() as sess:\n",
    "    a = SoftmaxRegression(x_train, y_train, y_train_cls, cls_names, sess,\n",
    "                 lr=1e-3, epoch=15, batch_size=100, report_period=1000, np_seed=1, tf_seed=1,\n",
    "                 drop_out_rate=0.3,\n",
    "                 initializer=tf.contrib.layers.xavier_initializer(),\n",
    "                 save_path='result/model/model_1',\n",
    "                 figure_save_dir='result/img',\n",
    "                 activation=tf.nn.relu)\n",
    "    a.train()\n",
    "        \n",
    "    print('train accuracy : ', a.compute_accuracy(x_train, y_train, y_train_cls))\n",
    "    print('test accuracy : ', a.compute_accuracy(x_test, y_test, y_test_cls))\n",
    "    \n",
    "with tf.Session() as sess:\n",
    "    a = SoftmaxRegression(x_train, y_train, y_train_cls, cls_names, sess,\n",
    "                 lr=1e-3, epoch=15, batch_size=100, report_period=1000, np_seed=1, tf_seed=1,\n",
    "                 drop_out_rate=0.3,\n",
    "                 initializer=tf.contrib.layers.variance_scaling_initializer(mode=\"FAN_AVG\"),\n",
    "                 save_path='result/model/model_1',\n",
    "                 figure_save_dir='result/img',\n",
    "                 activation=tf.nn.relu)\n",
    "    a.restore()\n",
    "        \n",
    "    print('train accuracy : ', a.compute_accuracy(x_train, y_train, y_train_cls))\n",
    "    print('test accuracy : ', a.compute_accuracy(x_test, y_test, y_test_cls))\n",
    "    \n",
    "    a.compute_confusion_matrix(x_test, y_test, y_test_cls)\n",
    "    a.plot_9_images_with_false_prediction(x_test, y_test, y_test_cls)"
   ]
  },
  {
   "cell_type": "code",
   "execution_count": null,
   "metadata": {},
   "outputs": [],
   "source": []
  }
 ],
 "metadata": {
  "kernelspec": {
   "display_name": "Python 3",
   "language": "python",
   "name": "python3"
  },
  "language_info": {
   "codemirror_mode": {
    "name": "ipython",
    "version": 3
   },
   "file_extension": ".py",
   "mimetype": "text/x-python",
   "name": "python",
   "nbconvert_exporter": "python",
   "pygments_lexer": "ipython3",
   "version": "3.6.9"
  }
 },
 "nbformat": 4,
 "nbformat_minor": 2
}
