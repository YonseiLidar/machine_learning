{
 "cells": [
  {
   "cell_type": "code",
   "execution_count": 1,
   "metadata": {},
   "outputs": [],
   "source": [
    "def f(x, y):\n",
    "    return x**2 + x*y + y**2"
   ]
  },
  {
   "cell_type": "code",
   "execution_count": 2,
   "metadata": {},
   "outputs": [],
   "source": [
    "def f_x(x, y):\n",
    "    return 2*x + y"
   ]
  },
  {
   "cell_type": "code",
   "execution_count": 3,
   "metadata": {},
   "outputs": [],
   "source": [
    "def f_y(x, y):\n",
    "    return x + 2*y"
   ]
  },
  {
   "cell_type": "code",
   "execution_count": 4,
   "metadata": {},
   "outputs": [
    {
     "name": "stdout",
     "output_type": "stream",
     "text": [
      "0.19\n",
      "0.7\n",
      "0.8\n"
     ]
    }
   ],
   "source": [
    "print(f(0.2, 0.3))\n",
    "print(f_x(0.2, 0.3))\n",
    "print(f_y(0.2, 0.3))"
   ]
  },
  {
   "cell_type": "code",
   "execution_count": 5,
   "metadata": {},
   "outputs": [],
   "source": [
    "import tensorflow as tf\n",
    "import numpy as np\n",
    "tf.reset_default_graph()\n",
    "tf.set_random_seed(0)\n",
    "np.random.seed(0)"
   ]
  },
  {
   "cell_type": "code",
   "execution_count": 6,
   "metadata": {},
   "outputs": [
    {
     "name": "stdout",
     "output_type": "stream",
     "text": [
      "WARNING:tensorflow:From /Users/sungchullee/anaconda3/lib/python3.6/site-packages/tensorflow_core/python/ops/math_grad.py:1375: where (from tensorflow.python.ops.array_ops) is deprecated and will be removed in a future version.\n",
      "Instructions for updating:\n",
      "Use tf.where in 2.0, which has the same broadcast rule as np.where\n",
      "<class 'list'>\n",
      "[<tf.Tensor 'gradients/AddN:0' shape=() dtype=float32>, <tf.Tensor 'gradients/AddN_1:0' shape=() dtype=float32>]\n",
      "Tensor(\"gradients/AddN:0\", shape=(), dtype=float32) Tensor(\"gradients/AddN_1:0\", shape=(), dtype=float32)\n"
     ]
    }
   ],
   "source": [
    "x = tf.get_variable('x', (), tf.float32, tf.constant_initializer(0.2))\n",
    "y = tf.get_variable('y', (), tf.float32, tf.constant_initializer(0.3))\n",
    "f = x**2 + x*y + y**2\n",
    "grads = tf.gradients(f, [x, y]) # list of tensors\n",
    "grads_x = grads[0]\n",
    "grads_y = grads[1]\n",
    "print(type(grads)) # list\n",
    "print(grads)\n",
    "print(grads_x, grads_y)\n",
    "init = tf.global_variables_initializer()"
   ]
  },
  {
   "cell_type": "code",
   "execution_count": 7,
   "metadata": {},
   "outputs": [
    {
     "name": "stdout",
     "output_type": "stream",
     "text": [
      "0.19000001\n",
      "[[0.70000005, 0.8], 0.70000005, 0.8]\n"
     ]
    }
   ],
   "source": [
    "with tf.Session() as sess:\n",
    "    init.run()\n",
    "    print(f.eval())\n",
    "    print(sess.run([grads, grads_x, grads_y]))"
   ]
  },
  {
   "cell_type": "markdown",
   "metadata": {},
   "source": [
    "$$\n",
    "\\left[\\frac{\\partial f}{\\partial x}, \\frac{\\partial f}{\\partial y}\\right]\n",
    "$$\n",
    "$$$$\n",
    "$$\n",
    "\\frac{\\partial f}{\\partial x}\n",
    "$$\n",
    "$$$$\n",
    "$$\n",
    "\\frac{\\partial f}{\\partial y}\n",
    "$$"
   ]
  },
  {
   "cell_type": "code",
   "execution_count": null,
   "metadata": {},
   "outputs": [],
   "source": []
  }
 ],
 "metadata": {
  "kernelspec": {
   "display_name": "Python 3",
   "language": "python",
   "name": "python3"
  },
  "language_info": {
   "codemirror_mode": {
    "name": "ipython",
    "version": 3
   },
   "file_extension": ".py",
   "mimetype": "text/x-python",
   "name": "python",
   "nbconvert_exporter": "python",
   "pygments_lexer": "ipython3",
   "version": "3.6.9"
  }
 },
 "nbformat": 4,
 "nbformat_minor": 2
}
