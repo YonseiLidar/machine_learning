{
 "cells": [
  {
   "cell_type": "markdown",
   "metadata": {},
   "source": [
    "Zibulevsky \n",
    "[youtube](https://www.youtube.com/watch?v=POPYQLG6n00&index=12&list=PLDFB2EEF4DDAFE30B)\n",
    "Nocedal \n",
    "[pdf](http://localhost:8888/notebooks/Dropbox/Paper/Numerical_Optimization.pdf) \n",
    "[wiki](https://en.wikipedia.org/wiki/Lagrange_multiplier)"
   ]
  },
  {
   "cell_type": "markdown",
   "metadata": {},
   "source": [
    "# Single constraint"
   ]
  },
  {
   "cell_type": "markdown",
   "metadata": {},
   "source": [
    "<div align=\"center\"><img src=\"img/LagrangeMultipliers2D.svg\" width=\"40%\"></div>\n",
    "\n",
    "[wiki](https://en.wikipedia.org/wiki/Lagrange_multiplier)"
   ]
  },
  {
   "cell_type": "markdown",
   "metadata": {},
   "source": [
    "$$\\begin{array}{lllllllllllll}\n",
    "\\left\\{\\begin{array}{ll}\n",
    "\\mbox{minimize}&f(\\mathbf{x})\\\\\n",
    "\\mbox{subject to}&h(\\mathbf{x})=0\n",
    "\\end{array}\\right.\n",
    "&\\Rightarrow&\n",
    "\\left\\{\\begin{array}{ll}\n",
    "\\nabla f (\\mathbf{x}_*) \\propto \\nabla h (\\mathbf{x}_*)\\\\\n",
    "h(\\mathbf{x}_*) = 0\\\\\n",
    "\\end{array}\\right.\\\\\n",
    "&\\Rightarrow& \n",
    "\\left\\{\\begin{array}{ll}\n",
    "\\nabla f (\\mathbf{x}_*) +\\mu \\nabla h (\\mathbf{x}_*) = \\mathbf{0}\\\\\n",
    "h(\\mathbf{x}_*) = 0\\\\\n",
    "\\end{array}\\right.\\\\\n",
    "&\\Rightarrow& \n",
    "\\left\\{\\begin{array}{ll}\n",
    "\\nabla {\\cal L} (\\mathbf{x}_*) = \\mathbf{0}\\\\\n",
    "h(\\mathbf{x}_*) = 0\\\\\n",
    "\\end{array}\\right.\n",
    "\\end{array}$$\n",
    "where\n",
    "$$\n",
    "{\\cal L} (\\mathbf{x}) = f (\\mathbf{x}) +\\mu h (\\mathbf{x})\n",
    "$$"
   ]
  },
  {
   "cell_type": "markdown",
   "metadata": {},
   "source": [
    "# Multiple constraints"
   ]
  },
  {
   "cell_type": "markdown",
   "metadata": {},
   "source": [
    "<div align=\"center\"><img src=\"img/As_wiki_lgm_parab.svg\" width=\"40%\"></div>\n",
    "\n",
    "[wiki](https://en.wikipedia.org/wiki/Lagrange_multiplier)"
   ]
  },
  {
   "cell_type": "markdown",
   "metadata": {},
   "source": [
    "$$\\begin{array}{lllllllllllll}\n",
    "\\left\\{\\begin{array}{ll}\n",
    "\\mbox{minimize}&f(\\mathbf{x})\\\\\n",
    "\\mbox{subject to}&h_j(\\mathbf{x})=0,\\ j=1,\\ldots,k\n",
    "\\end{array}\\right.\n",
    "&\\Rightarrow&\n",
    "\\left\\{\\begin{array}{ll}\n",
    "\\nabla f (\\mathbf{x}_*) \\cdot d\\mathbf{x}=0\\quad\\mbox{for}\\ d\\mathbf{x} \\perp \\nabla h_1 (\\mathbf{x}_*),\\ldots, \\nabla h_k (\\mathbf{x}_*)\\\\\n",
    "h_j(\\mathbf{x}_*) = 0,\\ j=1,\\ldots,k\\\\\n",
    "\\end{array}\\right.\\\\\n",
    "&\\Rightarrow&\n",
    "\\left\\{\\begin{array}{ll}\n",
    "\\nabla f (\\mathbf{x}_*) \\cdot d\\mathbf{x}=0\\quad\\mbox{for}\\ d\\mathbf{x} \\perp \\mbox{span}(\\nabla h_1 (\\mathbf{x}_*),\\ldots, \\nabla h_k (\\mathbf{x}_*))\\\\\n",
    "h_j(\\mathbf{x}_*) = 0,\\ j=1,\\ldots,k\\\\\n",
    "\\end{array}\\right.\\\\\n",
    "&\\Rightarrow&\n",
    "\\left\\{\\begin{array}{ll}\n",
    "\\nabla f (\\mathbf{x}_*) \\cdot d\\mathbf{x}=0\\quad\\mbox{for}\\ d\\mathbf{x} \\in \\mbox{span}(\\nabla h_1 (\\mathbf{x}_*),\\ldots, \\nabla h_k (\\mathbf{x}_*))^{\\perp}\\\\\n",
    "h_j(\\mathbf{x}_*) = 0,\\ j=1,\\ldots,k\\\\\n",
    "\\end{array}\\right.\\\\\n",
    "&\\Rightarrow& \n",
    "\\left\\{\\begin{array}{ll}\n",
    "\\nabla f (\\mathbf{x}_*) +\\sum_{j=1}^k\\mu_j \\nabla h_j (\\mathbf{x}_*) = \\mathbf{0}\\\\\n",
    "h_j(\\mathbf{x}_*) = 0,\\ j=1,\\ldots,k\\\\\n",
    "\\end{array}\\right.\\\\\n",
    "&\\Rightarrow& \n",
    "\\left\\{\\begin{array}{ll}\n",
    "\\nabla {\\cal L} (\\mathbf{x}_*) = \\mathbf{0}\\\\\n",
    "h_j(\\mathbf{x}_*) = 0,\\ j=1,\\ldots,k\\\\\n",
    "\\end{array}\\right.\n",
    "\\end{array}$$\n",
    "where\n",
    "$$\n",
    "{\\cal L} (\\mathbf{x}) = f (\\mathbf{x}) +\\sum_{j=1}^k\\mu_j h_j (\\mathbf{x})\n",
    "$$"
   ]
  },
  {
   "cell_type": "code",
   "execution_count": null,
   "metadata": {},
   "outputs": [],
   "source": []
  }
 ],
 "metadata": {
  "kernelspec": {
   "display_name": "Python 3",
   "language": "python",
   "name": "python3"
  },
  "language_info": {
   "codemirror_mode": {
    "name": "ipython",
    "version": 3
   },
   "file_extension": ".py",
   "mimetype": "text/x-python",
   "name": "python",
   "nbconvert_exporter": "python",
   "pygments_lexer": "ipython3",
   "version": "3.7.4"
  }
 },
 "nbformat": 4,
 "nbformat_minor": 2
}
