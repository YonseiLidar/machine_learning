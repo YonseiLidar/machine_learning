{
 "cells": [
  {
   "cell_type": "code",
   "execution_count": 1,
   "metadata": {},
   "outputs": [],
   "source": [
    "epochs = 20\n",
    "batch_size = 512\n",
    "lr = 1e-3"
   ]
  },
  {
   "cell_type": "code",
   "execution_count": 2,
   "metadata": {},
   "outputs": [
    {
     "name": "stdout",
     "output_type": "stream",
     "text": [
      "(8982,) (8982,) (2246,) (2246,)\n"
     ]
    }
   ],
   "source": [
    "import tensorflow as tf\n",
    "import numpy as np\n",
    "# num_words=10000 only keep the top 10,000 most frequently occurring words in the data\n",
    "(x_train, y_train_cls), (x_test, y_test_cls) = tf.keras.datasets.reuters.load_data(num_words=10000)\n",
    "y_train_cls = y_train_cls.astype(np.int32)\n",
    "y_test_cls = y_test_cls.astype(np.int32)\n",
    "word2int = tf.keras.datasets.reuters.get_word_index(path='reuters_word_index.json')\n",
    "int2word = dict([(value, key) for (key, value) in word2int.items()])\n",
    "print(x_train.shape, y_train_cls.shape, x_test.shape, y_test_cls.shape)"
   ]
  },
  {
   "cell_type": "code",
   "execution_count": 3,
   "metadata": {},
   "outputs": [
    {
     "name": "stdout",
     "output_type": "stream",
     "text": [
      "[1, 2, 2, 8, 43, 10, 447, 5, 25, 207, 270, 5, 3095, 111, 16, 369, 186, 90, 67, 7, 89, 5, 19, 102, 6, 19, 124, 15, 90, 67, 84, 22, 482, 26, 7, 48, 4, 49, 8, 864, 39, 209, 154, 6, 151, 6, 83, 11, 15, 22, 155, 11, 15, 7, 48, 9, 4579, 1005, 504, 6, 258, 6, 272, 11, 15, 22, 134, 44, 11, 15, 16, 8, 197, 1245, 90, 67, 52, 29, 209, 30, 32, 132, 6, 109, 15, 17, 12]\n",
      "? ? ? said as a result of its december acquisition of space co it expects earnings per share in 1987 of 1 15 to 1 30 dlrs per share up from 70 cts in 1986 the company said pretax net should rise to nine to 10 mln dlrs from six mln dlrs in 1986 and rental operation revenues to 19 to 22 mln dlrs from 12 5 mln dlrs it said cash flow per share this year should be 2 50 to three dlrs reuter 3\n",
      "3\n"
     ]
    }
   ],
   "source": [
    "# We decode the review; note that our indices were offset by 3 because\n",
    "# 0 - \"padding\"\n",
    "# 1 - \"start of sequence\"\n",
    "# 2 - \"unknown\".\n",
    "print(x_train[0])\n",
    "print(' '.join([int2word.get(i - 3, '?') for i in x_train[0]]))\n",
    "print(y_train_cls[0])"
   ]
  },
  {
   "cell_type": "code",
   "execution_count": 4,
   "metadata": {},
   "outputs": [
    {
     "name": "stdout",
     "output_type": "stream",
     "text": [
      "(8982, 10000) (8982,) (2246, 10000) (2246,)\n"
     ]
    }
   ],
   "source": [
    "def vectorize_sequences(sequences, dimension=10000):\n",
    "    results = np.zeros((len(sequences), dimension))\n",
    "    for i, sequence in enumerate(sequences):\n",
    "        results[i, sequence] = 1.  \n",
    "    return results\n",
    "x_train = vectorize_sequences(x_train) \n",
    "x_test = vectorize_sequences(x_test) \n",
    "print(x_train.shape, y_train_cls.shape, x_test.shape, y_test_cls.shape)"
   ]
  },
  {
   "cell_type": "code",
   "execution_count": 5,
   "metadata": {},
   "outputs": [
    {
     "name": "stdout",
     "output_type": "stream",
     "text": [
      "(8982, 10000) (8982, 46) (8982,) (2246, 10000) (2246, 46) (2246,)\n"
     ]
    }
   ],
   "source": [
    "y_train = np.squeeze(np.eye(46)[y_train_cls]).astype(np.int32)\n",
    "y_test = np.squeeze(np.eye(46)[y_test_cls]).astype(np.int32)\n",
    "print(x_train.shape, y_train.shape, y_train_cls.shape, x_test.shape, y_test.shape, y_test_cls.shape)"
   ]
  },
  {
   "cell_type": "code",
   "execution_count": 6,
   "metadata": {},
   "outputs": [],
   "source": [
    "tf.reset_default_graph()\n",
    "tf.set_random_seed(0)\n",
    "np.random.seed(0)"
   ]
  },
  {
   "cell_type": "code",
   "execution_count": 7,
   "metadata": {},
   "outputs": [
    {
     "name": "stdout",
     "output_type": "stream",
     "text": [
      "WARNING:tensorflow:From /Users/sungchullee/anaconda3/lib/python3.6/site-packages/tensorflow_core/python/ops/resource_variable_ops.py:1630: calling BaseResourceVariable.__init__ (from tensorflow.python.ops.resource_variable_ops) with constraint is deprecated and will be removed in a future version.\n",
      "Instructions for updating:\n",
      "If using Keras pass *_constraint arguments to layers.\n"
     ]
    },
    {
     "name": "stderr",
     "output_type": "stream",
     "text": [
      "Using TensorFlow backend.\n"
     ]
    }
   ],
   "source": [
    "from keras import models\n",
    "from keras import layers\n",
    "model = models.Sequential()\n",
    "model.add(layers.Dense(64, activation='relu', input_shape=(10000,)))\n",
    "model.add(layers.Dense(64, activation='relu'))\n",
    "model.add(layers.Dense(46, activation='softmax'))\n",
    "\n",
    "model.compile(optimizer='rmsprop',\n",
    "              loss='categorical_crossentropy',\n",
    "              metrics=['accuracy'])"
   ]
  },
  {
   "cell_type": "code",
   "execution_count": 10,
   "metadata": {},
   "outputs": [
    {
     "name": "stdout",
     "output_type": "stream",
     "text": [
      "Train on 7982 samples, validate on 1000 samples\n",
      "Epoch 1/20\n",
      "7982/7982 [==============================] - 0s 62us/step - loss: 0.1104 - accuracy: 0.9579 - val_loss: 1.0898 - val_accuracy: 0.8100\n",
      "Epoch 2/20\n",
      "7982/7982 [==============================] - 1s 66us/step - loss: 0.1086 - accuracy: 0.9563 - val_loss: 1.1395 - val_accuracy: 0.7870\n",
      "Epoch 3/20\n",
      "7982/7982 [==============================] - 1s 72us/step - loss: 0.1045 - accuracy: 0.9573 - val_loss: 1.1796 - val_accuracy: 0.7910\n",
      "Epoch 4/20\n",
      "7982/7982 [==============================] - 1s 63us/step - loss: 0.1075 - accuracy: 0.9574 - val_loss: 1.1783 - val_accuracy: 0.7840\n",
      "Epoch 5/20\n",
      "7982/7982 [==============================] - 1s 63us/step - loss: 0.1004 - accuracy: 0.9590 - val_loss: 1.1526 - val_accuracy: 0.8070\n",
      "Epoch 6/20\n",
      "7982/7982 [==============================] - 1s 63us/step - loss: 0.1001 - accuracy: 0.9600 - val_loss: 1.1670 - val_accuracy: 0.7970\n",
      "Epoch 7/20\n",
      "7982/7982 [==============================] - 1s 63us/step - loss: 0.1005 - accuracy: 0.9583 - val_loss: 1.1538 - val_accuracy: 0.7940\n",
      "Epoch 8/20\n",
      "7982/7982 [==============================] - 1s 65us/step - loss: 0.0956 - accuracy: 0.9582 - val_loss: 1.2014 - val_accuracy: 0.8100\n",
      "Epoch 9/20\n",
      "7982/7982 [==============================] - 1s 65us/step - loss: 0.0962 - accuracy: 0.9607 - val_loss: 1.2272 - val_accuracy: 0.7970\n",
      "Epoch 10/20\n",
      "7982/7982 [==============================] - 1s 65us/step - loss: 0.0949 - accuracy: 0.9590 - val_loss: 1.2197 - val_accuracy: 0.7980\n",
      "Epoch 11/20\n",
      "7982/7982 [==============================] - 1s 67us/step - loss: 0.0964 - accuracy: 0.9587 - val_loss: 1.2284 - val_accuracy: 0.7960\n",
      "Epoch 12/20\n",
      "7982/7982 [==============================] - 1s 70us/step - loss: 0.0955 - accuracy: 0.9598 - val_loss: 1.2296 - val_accuracy: 0.8000\n",
      "Epoch 13/20\n",
      "7982/7982 [==============================] - 1s 68us/step - loss: 0.0956 - accuracy: 0.9584 - val_loss: 1.2062 - val_accuracy: 0.7890\n",
      "Epoch 14/20\n",
      "7982/7982 [==============================] - 1s 65us/step - loss: 0.0913 - accuracy: 0.9587 - val_loss: 1.2471 - val_accuracy: 0.7930\n",
      "Epoch 15/20\n",
      "7982/7982 [==============================] - 1s 67us/step - loss: 0.0906 - accuracy: 0.9583 - val_loss: 1.2928 - val_accuracy: 0.7820\n",
      "Epoch 16/20\n",
      "7982/7982 [==============================] - 1s 69us/step - loss: 0.0903 - accuracy: 0.9587 - val_loss: 1.3207 - val_accuracy: 0.7890\n",
      "Epoch 17/20\n",
      "7982/7982 [==============================] - 1s 78us/step - loss: 0.0915 - accuracy: 0.9575 - val_loss: 1.3333 - val_accuracy: 0.7850\n",
      "Epoch 18/20\n",
      "7982/7982 [==============================] - 1s 64us/step - loss: 0.0886 - accuracy: 0.9604 - val_loss: 1.2839 - val_accuracy: 0.7880\n",
      "Epoch 19/20\n",
      "7982/7982 [==============================] - 1s 68us/step - loss: 0.0904 - accuracy: 0.9602 - val_loss: 1.2912 - val_accuracy: 0.7860\n",
      "Epoch 20/20\n",
      "7982/7982 [==============================] - 1s 69us/step - loss: 0.0893 - accuracy: 0.9579 - val_loss: 1.3598 - val_accuracy: 0.7870\n"
     ]
    },
    {
     "data": {
      "image/png": "[encoded data removed]",
      "text/plain": [
       "<Figure size 432x288 with 1 Axes>"
      ]
     },
     "metadata": {
      "needs_background": "light"
     },
     "output_type": "display_data"
    },
    {
     "data": {
      "image/png": "[encoded data removed]",
      "text/plain": [
       "<Figure size 432x288 with 1 Axes>"
      ]
     },
     "metadata": {
      "needs_background": "light"
     },
     "output_type": "display_data"
    }
   ],
   "source": [
    "x_val = x_train[:1000]\n",
    "partial_x_train = x_train[1000:]\n",
    "\n",
    "y_val = y_train[:1000]\n",
    "partial_y_train = y_train[1000:]\n",
    "\n",
    "history = model.fit(partial_x_train,\n",
    "                    partial_y_train,\n",
    "                    epochs=20,\n",
    "                    batch_size=512,\n",
    "                    validation_data=(x_val, y_val))\n",
    "\n",
    "%matplotlib inline\n",
    "import matplotlib.pyplot as plt\n",
    "\n",
    "acc = history.history['accuracy']\n",
    "val_acc = history.history['val_accuracy']\n",
    "loss = history.history['loss']\n",
    "val_loss = history.history['val_loss']\n",
    "\n",
    "epochs = range(1, len(acc) + 1)\n",
    "plt.plot(epochs, loss, 'bo', label='Training loss')\n",
    "plt.plot(epochs, val_loss, 'b', label='Validation loss')\n",
    "plt.title('Training and validation loss')\n",
    "plt.xlabel('Epochs')\n",
    "plt.ylabel('Loss')\n",
    "plt.legend()\n",
    "\n",
    "plt.show()\n",
    "\n",
    "plt.clf()   # clear figure\n",
    "acc_values = history.history['accuracy']\n",
    "val_acc_values = history.history['val_accuracy']\n",
    "\n",
    "plt.plot(epochs, acc, 'bo', label='Training acc')\n",
    "plt.plot(epochs, val_acc, 'b', label='Validation acc')\n",
    "plt.title('Training and validation accuracy')\n",
    "plt.xlabel('Epochs')\n",
    "plt.ylabel('Loss')\n",
    "plt.legend()\n",
    "\n",
    "plt.show()"
   ]
  },
  {
   "cell_type": "code",
   "execution_count": 11,
   "metadata": {},
   "outputs": [
    {
     "name": "stdout",
     "output_type": "stream",
     "text": [
      "2246/2246 [==============================] - 0s 82us/step\n",
      "[1.5643183923892856, 0.7720391750335693]\n"
     ]
    }
   ],
   "source": [
    "results = model.evaluate(x_test, y_test)\n",
    "print(results)"
   ]
  },
  {
   "cell_type": "code",
   "execution_count": 12,
   "metadata": {},
   "outputs": [
    {
     "data": {
      "text/plain": [
       "array([[1.3115717e-06, 1.2434984e-07, 9.8774109e-09, ..., 1.1082022e-09,\n",
       "        3.9986768e-12, 1.7526605e-11],\n",
       "       [3.9453840e-05, 1.6799191e-03, 1.0268864e-05, ..., 9.6372041e-14,\n",
       "        3.6222242e-15, 2.2105787e-12],\n",
       "       [1.7041330e-03, 9.6161479e-01, 5.3305100e-03, ..., 8.7664830e-08,\n",
       "        2.4359530e-08, 5.1382849e-05],\n",
       "       ...,\n",
       "       [7.3972892e-08, 4.4841099e-07, 6.4668029e-08, ..., 2.0089753e-10,\n",
       "        5.4960554e-12, 3.4943154e-10],\n",
       "       [1.5493648e-03, 6.9649644e-02, 5.2445108e-04, ..., 3.5931545e-05,\n",
       "        1.9358813e-06, 1.6599832e-06],\n",
       "       [4.9864146e-05, 9.9083334e-01, 7.6840888e-04, ..., 8.7326040e-09,\n",
       "        9.3228245e-11, 6.1907912e-07]], dtype=float32)"
      ]
     },
     "execution_count": 12,
     "metadata": {},
     "output_type": "execute_result"
    }
   ],
   "source": [
    "model.predict(x_test)"
   ]
  },
  {
   "cell_type": "code",
   "execution_count": null,
   "metadata": {},
   "outputs": [],
   "source": []
  }
 ],
 "metadata": {
  "kernelspec": {
   "display_name": "Python 3",
   "language": "python",
   "name": "python3"
  },
  "language_info": {
   "codemirror_mode": {
    "name": "ipython",
    "version": 3
   },
   "file_extension": ".py",
   "mimetype": "text/x-python",
   "name": "python",
   "nbconvert_exporter": "python",
   "pygments_lexer": "ipython3",
   "version": "3.6.9"
  }
 },
 "nbformat": 4,
 "nbformat_minor": 2
}
