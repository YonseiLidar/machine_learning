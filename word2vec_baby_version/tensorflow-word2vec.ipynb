{
 "cells": [
  {
   "cell_type": "markdown",
   "metadata": {},
   "source": [
    "Learn Word2Vec by implementing it in tensorflow [blog](https://towardsdatascience.com/learn-word2vec-by-implementing-it-in-tensorflow-45641adaf2ac) [code](https://gist.github.com/aneesh-joshi/c8a451502958fa367d84bf038081ee4b) [jupyter_notebook](https://github.com/headwinds/python-notebooks/blob/master/nlp/tensorflow-word2vec.ipynb)\n",
    "Noise Contrastive Estimation [blog](https://blog.zakjost.com/post/nce-intro/)"
   ]
  },
  {
   "cell_type": "code",
   "execution_count": 1,
   "metadata": {},
   "outputs": [
    {
     "name": "stdout",
     "output_type": "stream",
     "text": [
      "He is the king. The king is royal. She is the royal queen.\n"
     ]
    }
   ],
   "source": [
    "corpus = 'He is the king. The king is royal. She is the royal queen.'\n",
    "print(corpus)"
   ]
  },
  {
   "cell_type": "code",
   "execution_count": 2,
   "metadata": {},
   "outputs": [
    {
     "name": "stdout",
     "output_type": "stream",
     "text": [
      "he is the king. the king is royal. she is the royal queen.\n"
     ]
    }
   ],
   "source": [
    "corpus_lower = corpus.lower()\n",
    "print(corpus_lower)"
   ]
  },
  {
   "cell_type": "code",
   "execution_count": 3,
   "metadata": {},
   "outputs": [
    {
     "name": "stdout",
     "output_type": "stream",
     "text": [
      "he is the king the king is royal she is the royal queen\n"
     ]
    }
   ],
   "source": [
    "corpus_without_stop_words = corpus_lower.replace('.','')\n",
    "print(corpus_without_stop_words)"
   ]
  },
  {
   "cell_type": "code",
   "execution_count": 4,
   "metadata": {},
   "outputs": [
    {
     "name": "stdout",
     "output_type": "stream",
     "text": [
      "['he', 'is', 'the', 'king', 'the', 'king', 'is', 'royal', 'she', 'is', 'the', 'royal', 'queen']\n"
     ]
    }
   ],
   "source": [
    "words_list = corpus_without_stop_words.split()\n",
    "print(words_list)"
   ]
  },
  {
   "cell_type": "code",
   "execution_count": 5,
   "metadata": {},
   "outputs": [
    {
     "name": "stdout",
     "output_type": "stream",
     "text": [
      "{'royal', 'queen', 'he', 'is', 'the', 'king', 'she'}\n",
      "7\n"
     ]
    }
   ],
   "source": [
    "words = set(words_list) # so that all duplicate words are removed\n",
    "vocab_size = len(words) # gives the total number of unique words\n",
    "print(words)\n",
    "print(vocab_size)"
   ]
  },
  {
   "cell_type": "code",
   "execution_count": 6,
   "metadata": {},
   "outputs": [
    {
     "name": "stdout",
     "output_type": "stream",
     "text": [
      "{'royal': 0, 'queen': 1, 'he': 2, 'is': 3, 'the': 4, 'king': 5, 'she': 6}\n",
      "{0: 'royal', 1: 'queen', 2: 'he', 3: 'is', 4: 'the', 5: 'king', 6: 'she'}\n"
     ]
    }
   ],
   "source": [
    "word2int = {}\n",
    "int2word = {}\n",
    "for i, word in enumerate(words):\n",
    "    word2int[word] = i\n",
    "    int2word[i] = word\n",
    "print(word2int)\n",
    "print(int2word)"
   ]
  },
  {
   "cell_type": "code",
   "execution_count": 7,
   "metadata": {},
   "outputs": [
    {
     "name": "stdout",
     "output_type": "stream",
     "text": [
      "['he is the king', ' the king is royal', ' she is the royal queen']\n"
     ]
    }
   ],
   "source": [
    "raw_sentences = corpus_lower.split('.') # raw sentences is a list of sentences.\n",
    "raw_sentences = raw_sentences[:-1]\n",
    "print(raw_sentences)"
   ]
  },
  {
   "cell_type": "code",
   "execution_count": 8,
   "metadata": {},
   "outputs": [
    {
     "name": "stdout",
     "output_type": "stream",
     "text": [
      "['he', 'is', 'the', 'king']\n",
      "['the', 'king', 'is', 'royal']\n",
      "['she', 'is', 'the', 'royal', 'queen']\n"
     ]
    }
   ],
   "source": [
    "sentences = []\n",
    "for sentence in raw_sentences:\n",
    "    print(sentence.split())\n",
    "    sentences.append(sentence.split())"
   ]
  },
  {
   "cell_type": "code",
   "execution_count": 9,
   "metadata": {},
   "outputs": [],
   "source": [
    "def to_one_hot(idx, vocab_size):\n",
    "    return np.eye(vocab_size)[idx]"
   ]
  },
  {
   "cell_type": "code",
   "execution_count": 10,
   "metadata": {},
   "outputs": [
    {
     "name": "stdout",
     "output_type": "stream",
     "text": [
      "(34, 7) (34, 7)\n"
     ]
    }
   ],
   "source": [
    "import numpy as np\n",
    "WINDOW_SIZE = 2 \n",
    "x_train = []\n",
    "y_train = []\n",
    "for sentence in sentences:\n",
    "    for i, word in enumerate(sentence): # word <- target word\n",
    "        left = max(i - WINDOW_SIZE, 0)\n",
    "        right = min(i + WINDOW_SIZE, len(sentence)) + 1\n",
    "        for nb_word in  sentence[left:right]: # nb_word <- context word \n",
    "            if nb_word != word:\n",
    "                x_train.append(to_one_hot(word2int[nb_word], vocab_size))\n",
    "                y_train.append(to_one_hot(word2int[word], vocab_size))\n",
    "x_train = np.asarray(x_train)\n",
    "y_train = np.asarray(y_train)\n",
    "print(x_train.shape, y_train.shape)"
   ]
  },
  {
   "cell_type": "code",
   "execution_count": 11,
   "metadata": {},
   "outputs": [],
   "source": [
    "import tensorflow as tf\n",
    "import numpy as np \n",
    "tf.reset_default_graph()\n",
    "tf.set_random_seed(0)\n",
    "np.random.seed(0)"
   ]
  },
  {
   "cell_type": "code",
   "execution_count": 12,
   "metadata": {},
   "outputs": [],
   "source": [
    "epoch = int(1e4)\n",
    "lr = 1e-1"
   ]
  },
  {
   "cell_type": "code",
   "execution_count": 13,
   "metadata": {},
   "outputs": [],
   "source": [
    "x = tf.placeholder(tf.float32, shape=(None, vocab_size))\n",
    "y = tf.placeholder(tf.float32, shape=(None, vocab_size))"
   ]
  },
  {
   "cell_type": "code",
   "execution_count": 14,
   "metadata": {},
   "outputs": [],
   "source": [
    "init_w = tf.keras.initializers.VarianceScaling(mode='fan_avg')\n",
    "init_b = tf.keras.initializers.zeros()"
   ]
  },
  {
   "cell_type": "code",
   "execution_count": 15,
   "metadata": {},
   "outputs": [],
   "source": [
    "EMBEDDING_DIM = 5 \n",
    "w1 = tf.get_variable('w1', (vocab_size, EMBEDDING_DIM), tf.float32, init_w)\n",
    "b1 = tf.get_variable('b1', (EMBEDDING_DIM,), tf.float32, init_b) \n",
    "z = x@w1+b1"
   ]
  },
  {
   "cell_type": "code",
   "execution_count": 16,
   "metadata": {},
   "outputs": [],
   "source": [
    "w2 = tf.get_variable('w2', (EMBEDDING_DIM, vocab_size), tf.float32, init_w)\n",
    "b2 = tf.get_variable('b2', (vocab_size,), tf.float32, init_b)\n",
    "logits = z@w2+b2"
   ]
  },
  {
   "cell_type": "code",
   "execution_count": 17,
   "metadata": {},
   "outputs": [],
   "source": [
    "entropy = tf.nn.softmax_cross_entropy_with_logits_v2(labels=y, logits=logits)\n",
    "loss = tf.reduce_mean(entropy)\n",
    "train = tf.train.GradientDescentOptimizer(lr).minimize(loss)"
   ]
  },
  {
   "cell_type": "code",
   "execution_count": 18,
   "metadata": {},
   "outputs": [],
   "source": [
    "init = tf.global_variables_initializer()"
   ]
  },
  {
   "cell_type": "code",
   "execution_count": 19,
   "metadata": {},
   "outputs": [],
   "source": [
    "with tf.Session() as sess:\n",
    "    sess.run(init) \n",
    "    loss_trace = []\n",
    "    for _ in range(epoch):\n",
    "        feed_dict = {x: x_train, y: y_train}\n",
    "        loss_run, _ = sess.run([loss, train], feed_dict=feed_dict)\n",
    "        loss_trace.append(loss_run)\n",
    "    vectors = sess.run(w1 + b1)"
   ]
  },
  {
   "cell_type": "code",
   "execution_count": 20,
   "metadata": {},
   "outputs": [
    {
     "data": {
      "image/png": "[encoded data removed]",
      "text/plain": [
       "<Figure size 432x288 with 1 Axes>"
      ]
     },
     "metadata": {
      "needs_background": "light"
     },
     "output_type": "display_data"
    }
   ],
   "source": [
    "%matplotlib inline\n",
    "import matplotlib.pyplot as plt\n",
    "plt.plot(loss_trace)\n",
    "plt.xlabel('epoch')\n",
    "plt.title('loss')\n",
    "plt.show()"
   ]
  },
  {
   "cell_type": "code",
   "execution_count": 21,
   "metadata": {},
   "outputs": [],
   "source": [
    "from sklearn.manifold import TSNE\n",
    "model = TSNE(n_components=2, random_state=0)\n",
    "vectors = model.fit_transform(vectors) "
   ]
  },
  {
   "cell_type": "code",
   "execution_count": 22,
   "metadata": {},
   "outputs": [],
   "source": [
    "from sklearn import preprocessing\n",
    "normalizer = preprocessing.Normalizer()\n",
    "vectors =  normalizer.fit_transform(vectors, 'l2')"
   ]
  },
  {
   "cell_type": "code",
   "execution_count": 23,
   "metadata": {},
   "outputs": [
    {
     "data": {
      "image/png": "[encoded data removed]",
      "text/plain": [
       "<Figure size 432x288 with 1 Axes>"
      ]
     },
     "metadata": {
      "needs_background": "light"
     },
     "output_type": "display_data"
    }
   ],
   "source": [
    "%matplotlib inline\n",
    "import matplotlib.pyplot as plt\n",
    "fig, ax = plt.subplots()\n",
    "for word in words:\n",
    "    x_ = vectors[word2int[word]][0]\n",
    "    y_ = vectors[word2int[word]][1] \n",
    "    ax.annotate(word, (x_, y_))\n",
    "x_min = min([vectors[word2int[w]][0] for w in words])-1\n",
    "x_max = max([vectors[word2int[w]][0] for w in words])+1\n",
    "y_min = min([vectors[word2int[w]][1] for w in words])-1\n",
    "y_max = max([vectors[word2int[w]][1] for w in words])+1\n",
    "ax.set_xlim(x_min, x_max)\n",
    "ax.set_ylim(y_min, y_max)\n",
    "plt.show()"
   ]
  },
  {
   "cell_type": "markdown",
   "metadata": {},
   "source": [
    "$$\\begin{array}{cccccccc}\n",
    "\\mbox{Word}&\\mbox{One Hot Encoding}&\\mbox{Word2Vec Embedding}\\\\\n",
    "\\mbox{king}&x=[0,0,0,0,0,1,0]&z=x@w_1+b_1=\\mbox{vectors}[5]\\\\\n",
    "\\end{array}$$"
   ]
  },
  {
   "cell_type": "code",
   "execution_count": null,
   "metadata": {},
   "outputs": [],
   "source": []
  }
 ],
 "metadata": {
  "kernelspec": {
   "display_name": "Python 3",
   "language": "python",
   "name": "python3"
  },
  "language_info": {
   "codemirror_mode": {
    "name": "ipython",
    "version": 3
   },
   "file_extension": ".py",
   "mimetype": "text/x-python",
   "name": "python",
   "nbconvert_exporter": "python",
   "pygments_lexer": "ipython3",
   "version": "3.6.9"
  }
 },
 "nbformat": 4,
 "nbformat_minor": 2
}
