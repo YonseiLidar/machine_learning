{
 "cells": [
  {
   "cell_type": "markdown",
   "metadata": {},
   "source": [
    "[codebasics](https://www.youtube.com/watch?v=8jazNUpO3lQ&list=PLeo1K3hjS3uvCeTYTeyfe0-rN5r8zn9rw&index=2)"
   ]
  },
  {
   "cell_type": "code",
   "execution_count": 1,
   "metadata": {},
   "outputs": [],
   "source": [
    "%matplotlib inline"
   ]
  },
  {
   "cell_type": "code",
   "execution_count": 10,
   "metadata": {},
   "outputs": [
    {
     "name": "stdout",
     "output_type": "stream",
     "text": [
      "       area     price\n",
      "0 -1.258396 -1.014010\n",
      "1 -0.518163 -0.813876\n",
      "2 -0.148047 -0.213476\n",
      "3  0.592187  0.720480\n",
      "4  1.332420  1.320881\n",
      "       area     price  price_pred\n",
      "0 -1.258396 -1.014010   -1.231963\n",
      "1 -0.518163 -0.813876   -0.507279\n",
      "2 -0.148047 -0.213476   -0.144937\n",
      "3  0.592187  0.720480    0.579747\n",
      "4  1.332420  1.320881    1.304432\n"
     ]
    },
    {
     "data": {
      "image/png": "[encoded data removed]",
      "text/plain": [
       "<Figure size 432x288 with 1 Axes>"
      ]
     },
     "metadata": {
      "needs_background": "light"
     },
     "output_type": "display_data"
    }
   ],
   "source": [
    "import pandas as pd\n",
    "import numpy as np\n",
    "from sklearn import linear_model\n",
    "import matplotlib.pyplot as plt\n",
    "\n",
    "df = pd.read_csv('homeprices.csv')\n",
    "df = (df-df.mean()) / df.std()\n",
    "print(df)\n",
    "\n",
    "reg = linear_model.LinearRegression()\n",
    "reg.fit(np.array(df.area).reshape((-1, 1)), df.price)\n",
    "price_pred = reg.predict(np.array(df.area).reshape((-1, 1)))\n",
    "df['price_pred'] = price_pred\n",
    "print(df)\n",
    "\n",
    "plt.xlabel('area')\n",
    "plt.ylabel('price')\n",
    "plt.scatter(df.area, df.price, color='red', marker='+')\n",
    "plt.plot(df.area, df.price_pred)\n",
    "plt.show()"
   ]
  },
  {
   "cell_type": "code",
   "execution_count": 11,
   "metadata": {},
   "outputs": [
    {
     "name": "stdout",
     "output_type": "stream",
     "text": [
      "-4.3476086736822404e-17\n",
      "[0.97899444]\n"
     ]
    }
   ],
   "source": [
    "print(reg.intercept_)\n",
    "print(reg.coef_)"
   ]
  },
  {
   "cell_type": "code",
   "execution_count": 23,
   "metadata": {},
   "outputs": [
    {
     "data": {
      "image/png": "[encoded data removed]",
      "text/plain": [
       "<Figure size 432x288 with 1 Axes>"
      ]
     },
     "metadata": {
      "needs_background": "light"
     },
     "output_type": "display_data"
    }
   ],
   "source": [
    "def gradient_descent(x, y):\n",
    "    if 0:\n",
    "        alpha = reg.intercept_\n",
    "        beta = reg.coef_[0] \n",
    "    elif 0:\n",
    "        alpha = 200000 \n",
    "        beta = 100\n",
    "    elif 0:\n",
    "        alpha = 200 \n",
    "        beta = 100\n",
    "    elif 1:\n",
    "        alpha = 0\n",
    "        beta = np.random.normal(0., 1.)\n",
    "    elif 1:\n",
    "        alpha = 0\n",
    "        beta = 1\n",
    "    elif 0: \n",
    "        alpha = 0 \n",
    "        beta = 0 \n",
    "    lr = 1e-2 #1e-8\n",
    "    n = x.shape[0]\n",
    "    plt.scatter(x.reshape((-1)), y, color='red', marker='+')\n",
    "    for i in range(1000):\n",
    "        y_pred = (alpha + beta * x).reshape((-1)) \n",
    "        d_beta = (2/n)*np.sum(x*(y_pred-y).reshape((-1, 1)))\n",
    "        d_alpha = (2/n)*np.sum(y_pred-y)\n",
    "        beta -= lr * d_beta\n",
    "        alpha -= lr * d_alpha\n",
    "        #print(beta, alpha)\n",
    "    plt.plot(x.reshape((-1)), y_pred, color='green')\n",
    "\n",
    "\n",
    "x = np.array(df.area).reshape((-1, 1))\n",
    "y = np.array(df.price) \n",
    "gradient_descent(x, y)"
   ]
  },
  {
   "cell_type": "code",
   "execution_count": null,
   "metadata": {},
   "outputs": [],
   "source": []
  }
 ],
 "metadata": {
  "kernelspec": {
   "display_name": "Python 3",
   "language": "python",
   "name": "python3"
  },
  "language_info": {
   "codemirror_mode": {
    "name": "ipython",
    "version": 3
   },
   "file_extension": ".py",
   "mimetype": "text/x-python",
   "name": "python",
   "nbconvert_exporter": "python",
   "pygments_lexer": "ipython3",
   "version": "3.7.3"
  }
 },
 "nbformat": 4,
 "nbformat_minor": 2
}
