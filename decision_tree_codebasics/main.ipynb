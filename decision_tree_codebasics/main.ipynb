{
 "cells": [
  {
   "cell_type": "markdown",
   "metadata": {},
   "source": [
    "[codebasic](https://www.youtube.com/watch?v=PHxYNGo8NcI&list=PLeo1K3hjS3uvCeTYTeyfe0-rN5r8zn9rw&index=10)"
   ]
  },
  {
   "cell_type": "code",
   "execution_count": 8,
   "metadata": {},
   "outputs": [
    {
     "name": "stdout",
     "output_type": "stream",
     "text": [
      "  company                  job     degree  salary_more_then_100k\n",
      "0  google      sales executive  bachelors                      0\n",
      "1  google      sales executive    masters                      0\n",
      "2  google     business manager  bachelors                      1\n",
      "3  google     business manager    masters                      1\n",
      "4  google  computer programmer  bachelors                      0\n",
      "\n",
      "   company_facebook  company_google  job_computer programmer  \\\n",
      "0                 0               1                        0   \n",
      "1                 0               1                        0   \n",
      "2                 0               1                        0   \n",
      "3                 0               1                        0   \n",
      "4                 0               1                        1   \n",
      "\n",
      "   job_sales executive  degree_masters  \n",
      "0                    1               0  \n",
      "1                    1               1  \n",
      "2                    0               0  \n",
      "3                    0               1  \n",
      "4                    0               0  \n",
      "\n",
      "0    0\n",
      "1    0\n",
      "2    1\n",
      "3    1\n",
      "4    0\n",
      "Name: salary_more_then_100k, dtype: int64\n"
     ]
    }
   ],
   "source": [
    "import pandas as pd\n",
    "\n",
    "df = pd.read_csv(\"salaries.csv\")\n",
    "print(df.head())\n",
    "print()\n",
    "\n",
    "x = df.drop(columns=['salary_more_then_100k'])\n",
    "x = pd.get_dummies(x).drop(columns=['company_abc pharma', 'job_business manager', 'degree_bachelors'])\n",
    "y = df['salary_more_then_100k']\n",
    "print(x.head())\n",
    "print()\n",
    "print(y.head())"
   ]
  },
  {
   "cell_type": "code",
   "execution_count": 9,
   "metadata": {},
   "outputs": [
    {
     "data": {
      "text/plain": [
       "1.0"
      ]
     },
     "execution_count": 9,
     "metadata": {},
     "output_type": "execute_result"
    }
   ],
   "source": [
    "from sklearn.tree import DecisionTreeClassifier as DT \n",
    "model = DT()\n",
    "model.fit(x, y)\n",
    "model.score(x, y)"
   ]
  },
  {
   "cell_type": "code",
   "execution_count": 11,
   "metadata": {
    "scrolled": false
   },
   "outputs": [
    {
     "name": "stdout",
     "output_type": "stream",
     "text": [
      "[0]\n",
      "[0 1]\n"
     ]
    }
   ],
   "source": [
    "print(model.predict([[0,1,0,1,0]]))\n",
    "print(model.predict([[0,1,0,1,0], [0,0,0,0,1]]))"
   ]
  },
  {
   "cell_type": "markdown",
   "metadata": {},
   "source": [
    "**Exercise: Build decision tree model to predict survival based on certain parameters**"
   ]
  },
  {
   "cell_type": "markdown",
   "metadata": {},
   "source": [
    "<img src=\"titanic.jpg\" height=200 width=400/>"
   ]
  },
  {
   "cell_type": "markdown",
   "metadata": {},
   "source": [
    "CSV file is available to download at https://github.com/codebasics/py/blob/master/ML/9_decision_tree/Exercise/titanic.csv\n",
    "\n",
    "##### In this file using following columns build a model to predict if person would survive or not,\n",
    "\n",
    "1. Pclass\n",
    "1. Sex\n",
    "1. Age\n",
    "1. Fare\n",
    "\n",
    "##### Calculate score of your model"
   ]
  }
 ],
 "metadata": {
  "kernelspec": {
   "display_name": "Python 3",
   "language": "python",
   "name": "python3"
  },
  "language_info": {
   "codemirror_mode": {
    "name": "ipython",
    "version": 3
   },
   "file_extension": ".py",
   "mimetype": "text/x-python",
   "name": "python",
   "nbconvert_exporter": "python",
   "pygments_lexer": "ipython3",
   "version": "3.7.3"
  }
 },
 "nbformat": 4,
 "nbformat_minor": 2
}
