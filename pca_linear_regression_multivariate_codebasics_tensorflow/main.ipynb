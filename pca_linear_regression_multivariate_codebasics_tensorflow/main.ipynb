{
 "cells": [
  {
   "cell_type": "markdown",
   "metadata": {},
   "source": [
    "[codebasics](https://www.youtube.com/watch?v=J_LnPL3Qg70&list=PLeo1K3hjS3uvCeTYTeyfe0-rN5r8zn9rw&index=3)"
   ]
  },
  {
   "cell_type": "code",
   "execution_count": 1,
   "metadata": {},
   "outputs": [
    {
     "name": "stdout",
     "output_type": "stream",
     "text": [
      "WARNING:tensorflow:From /Users/sungchullee/anaconda3/lib/python3.6/site-packages/tensorflow_core/python/keras/initializers.py:143: calling RandomNormal.__init__ (from tensorflow.python.ops.init_ops) with dtype is deprecated and will be removed in a future version.\n",
      "Instructions for updating:\n",
      "Call initializer instance with the dtype argument instead of passing it to the constructor\n"
     ]
    },
    {
     "data": {
      "image/png": "[encoded data removed]",
      "text/plain": [
       "<Figure size 432x288 with 1 Axes>"
      ]
     },
     "metadata": {
      "needs_background": "light"
     },
     "output_type": "display_data"
    }
   ],
   "source": [
    "%matplotlib inline\n",
    "import tensorflow as tf\n",
    "import numpy as np\n",
    "import pandas as pd\n",
    "import matplotlib.pyplot as plt\n",
    "\n",
    "np.random.seed(0)\n",
    "tf.set_random_seed(0)\n",
    "\n",
    "lr = 1.6e-2  #1e-2\n",
    "epoch = int(1e3)\n",
    "\n",
    "if 0:\n",
    "    df = pd.read_csv('homeprices.csv')\n",
    "elif 1:\n",
    "    data = {\n",
    "        'area': [2600,3000,3200,3600,4000,4100],\n",
    "        'bedrooms': [3,4,np.nan,3,5,6],\n",
    "        'age': [20,15,18,30,8,8],\n",
    "        'price': [550000,565000,610000,595000,760000,810000]\n",
    "        }\n",
    "    df = pd.DataFrame(data)\n",
    "\n",
    "df.bedrooms = df.bedrooms.fillna(df.bedrooms.median()) \n",
    "\n",
    "if 0:\n",
    "    # not good\n",
    "    pass\n",
    "elif 1:\n",
    "    # good\n",
    "    df = (df-df.mean()) / df.std()\n",
    "\n",
    "x_data = df[['area','bedrooms','age']].values.astype(np.float32) # (6,3)\n",
    "# y_data = df.price.values.astype(np.float32).reshape((-1,1)) # (6,1)\n",
    "\n",
    "x = tf.placeholder(tf.float32, shape=(None,3)) # (?,3)\n",
    "# y = tf.placeholder(tf.float32, shape=(None,1)) # (?,1)\n",
    "\n",
    "b1 = tf.get_variable('b1', (2,), dtype=tf.float32, initializer=tf.keras.initializers.constant(0.0))\n",
    "W1 = tf.get_variable('W1', (3, 2), dtype=tf.float32, initializer=tf.keras.initializers.RandomNormal())\n",
    "x1 = (x @ W1) + b1\n",
    "\n",
    "b2 = tf.get_variable('b2', (3,), dtype=tf.float32, initializer=tf.keras.initializers.constant(0.0))\n",
    "W2 = tf.get_variable('W2', (2, 3), dtype=tf.float32, initializer=tf.keras.initializers.RandomNormal())\n",
    "x_pca = (x1 @ W2) + b2\n",
    "\n",
    "loss = tf.nn.l2_loss(x - x_pca)\n",
    "train = tf.train.GradientDescentOptimizer(learning_rate=lr).minimize(loss)\n",
    "\n",
    "with tf.Session() as sess:\n",
    "    \n",
    "    tf.global_variables_initializer().run()\n",
    "    \n",
    "    loss_trace = []\n",
    "    feed_dict = {x: x_data}\n",
    "    for i in range(epoch):\n",
    "        if i == 0:\n",
    "            loss_run = sess.run(loss, feed_dict=feed_dict)\n",
    "        else:\n",
    "            loss_run, _ = sess.run([loss, train], feed_dict=feed_dict)\n",
    "        loss_trace.append(loss_run) \n",
    "        \n",
    "plt.plot(loss_trace)\n",
    "plt.show()"
   ]
  },
  {
   "cell_type": "code",
   "execution_count": 1,
   "metadata": {},
   "outputs": [
    {
     "name": "stdout",
     "output_type": "stream",
     "text": [
      "(2500, 3)\n",
      "WARNING:tensorflow:From /Users/sungchullee/anaconda3/lib/python3.6/site-packages/tensorflow_core/python/keras/initializers.py:143: calling RandomNormal.__init__ (from tensorflow.python.ops.init_ops) with dtype is deprecated and will be removed in a future version.\n",
      "Instructions for updating:\n",
      "Call initializer instance with the dtype argument instead of passing it to the constructor\n"
     ]
    },
    {
     "data": {
      "image/png": "[encoded data removed]",
      "text/plain": [
       "<Figure size 432x288 with 1 Axes>"
      ]
     },
     "metadata": {
      "needs_background": "light"
     },
     "output_type": "display_data"
    }
   ],
   "source": [
    "%matplotlib inline\n",
    "import tensorflow as tf\n",
    "import numpy as np\n",
    "import pandas as pd\n",
    "import matplotlib.pyplot as plt\n",
    "\n",
    "lr = 4e-4  #1e-2\n",
    "epoch = int(1e1)\n",
    "\n",
    "np.random.seed(0)\n",
    "tf.set_random_seed(0)\n",
    "\n",
    "def data_loading():\n",
    "\n",
    "    x = np.linspace(-1, 1)\n",
    "    y = np.linspace(-1, 1)\n",
    "    x_grid, y_grid = np.meshgrid(x, y)\n",
    "    z0_grid = x_grid**2 + y_grid**2\n",
    "    \n",
    "    ep_train = np.random.randn(x_grid.shape[0], x_grid.shape[1])\n",
    "    ep_test = np.random.randn(x_grid.shape[0], x_grid.shape[1])\n",
    "    \n",
    "    z_grid_train = z0_grid + 0.3 * ep_train\n",
    "    z_grid_test = z0_grid + 0.3 * ep_test\n",
    "\n",
    "    X = x_grid.reshape([-1, 1])\n",
    "    Y = y_grid.reshape([-1, 1])\n",
    "    Z_train = z_grid_train.reshape([-1, 1])\n",
    "    Z_test = z_grid_test.reshape([-1, 1])\n",
    "\n",
    "    x_train = np.hstack([X, Y, Z_train]).astype(np.float32)\n",
    "    x_test = np.hstack([X, Y, Z_test]).astype(np.float32)\n",
    "\n",
    "    return x_train, x_test\n",
    "\n",
    "x_train, _ = data_loading()\n",
    "x_train = (x_train - x_train.mean(axis=0)) / x_train.std(axis=0)\n",
    "print(x_train.shape)\n",
    "\n",
    "x_data = x_train\n",
    "\n",
    "x = tf.placeholder(tf.float32, shape=(None,3)) # (?,3)\n",
    "# y = tf.placeholder(tf.float32, shape=(None,1)) # (?,1)\n",
    "\n",
    "b1 = tf.get_variable('b1', (2,), dtype=tf.float32, initializer=tf.keras.initializers.constant(0.0))\n",
    "W1 = tf.get_variable('W1', (3, 2), dtype=tf.float32, initializer=tf.keras.initializers.RandomNormal())\n",
    "x1 = (x @ W1) + b1\n",
    "\n",
    "b2 = tf.get_variable('b2', (3,), dtype=tf.float32, initializer=tf.keras.initializers.constant(0.0))\n",
    "W2 = tf.get_variable('W2', (2, 3), dtype=tf.float32, initializer=tf.keras.initializers.RandomNormal())\n",
    "x_pca = (x1 @ W2) + b2\n",
    "\n",
    "loss = tf.nn.l2_loss(x - x_pca)\n",
    "train = tf.train.GradientDescentOptimizer(learning_rate=lr).minimize(loss)\n",
    "\n",
    "with tf.Session() as sess:\n",
    "    \n",
    "    tf.global_variables_initializer().run()\n",
    "    \n",
    "    loss_trace = []\n",
    "    feed_dict = {x: x_data}\n",
    "    for i in range(epoch):\n",
    "        if i == 0:\n",
    "            loss_run = sess.run(loss, feed_dict=feed_dict)\n",
    "        else:\n",
    "            loss_run, _ = sess.run([loss, train], feed_dict=feed_dict)\n",
    "        loss_trace.append(loss_run) \n",
    "        \n",
    "plt.plot(loss_trace)\n",
    "plt.show()"
   ]
  },
  {
   "cell_type": "code",
   "execution_count": null,
   "metadata": {},
   "outputs": [],
   "source": []
  }
 ],
 "metadata": {
  "kernelspec": {
   "display_name": "Python 3",
   "language": "python",
   "name": "python3"
  },
  "language_info": {
   "codemirror_mode": {
    "name": "ipython",
    "version": 3
   },
   "file_extension": ".py",
   "mimetype": "text/x-python",
   "name": "python",
   "nbconvert_exporter": "python",
   "pygments_lexer": "ipython3",
   "version": "3.6.9"
  }
 },
 "nbformat": 4,
 "nbformat_minor": 2
}
