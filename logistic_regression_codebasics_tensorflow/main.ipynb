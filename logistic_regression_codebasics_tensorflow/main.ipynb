{
 "cells": [
  {
   "cell_type": "markdown",
   "metadata": {},
   "source": [
    "[codebasics](https://www.youtube.com/watch?v=zM4VZR0px8E&list=PLeo1K3hjS3uvCeTYTeyfe0-rN5r8zn9rw&index=9&t=192s)"
   ]
  },
  {
   "cell_type": "code",
   "execution_count": 1,
   "metadata": {},
   "outputs": [
    {
     "data": {
      "image/png": "[encoded data removed]",
      "text/plain": [
       "<Figure size 432x288 with 3 Axes>"
      ]
     },
     "metadata": {},
     "output_type": "display_data"
    }
   ],
   "source": [
    "%matplotlib inline\n",
    "import tensorflow as tf\n",
    "import pandas as pd\n",
    "import numpy as np\n",
    "import matplotlib.pyplot as plt\n",
    "from sklearn.model_selection import train_test_split\n",
    "\n",
    "np.random.seed(0)\n",
    "tf.set_random_seed(0)\n",
    "\n",
    "lr = 5e-3\n",
    "epoch = int(2e4)\n",
    "\n",
    "df = pd.read_csv(\"insurance_data.csv\")\n",
    "\n",
    "if 0:\n",
    "    # wrong\n",
    "    df = (df-df.mean()) / df.std() \n",
    "    x_data = df[['age']].values.astype(np.float32).reshape((-1,1)) \n",
    "    y_data = df['bought_insurance'].values.astype(np.float32).reshape((-1,1)) \n",
    "elif 0:\n",
    "    # ok\n",
    "    x_data = df[['age']].values.astype(np.float32).reshape((-1,1)) \n",
    "    y_data = df['bought_insurance'].values.astype(np.float32).reshape((-1,1)) \n",
    "elif 1:\n",
    "    # great\n",
    "    dg = df[['age']]\n",
    "    dg = (dg-dg.mean()) / dg.std() \n",
    "    x_data = dg.values.astype(np.float32).reshape((-1,1)) \n",
    "    y_data = df['bought_insurance'].values.astype(np.float32).reshape((-1,1)) \n",
    "\n",
    "x = tf.placeholder(tf.float32, shape=(None,1)) \n",
    "y = tf.placeholder(tf.float32, shape=(None,1)) \n",
    "\n",
    "if 1:\n",
    "    alpha = tf.get_variable('alpha', (), dtype=tf.float32, initializer=tf.keras.initializers.constant(0.0))\n",
    "    beta = tf.get_variable('beta', (1,1), dtype=tf.float32, initializer=tf.keras.initializers.constant(1.0))\n",
    "elif 0:\n",
    "    alpha = tf.get_variable('alpha', (), dtype=tf.float32, initializer=tf.keras.initializers.constant(0.5))\n",
    "    beta = tf.get_variable('beta', (1,1), dtype=tf.float32, initializer=tf.keras.initializers.constant(0.5))\n",
    "elif 1:\n",
    "    alpha = tf.get_variable('alpha', (), dtype=tf.float32, initializer=tf.keras.initializers.constant(0.0))\n",
    "    beta = tf.get_variable('beta', (1,1), dtype=tf.float32, initializer=tf.keras.initializers.RandomUniform())\n",
    "elif 1:\n",
    "    alpha = tf.get_variable('alpha', (), dtype=tf.float32, initializer=tf.keras.initializers.constant(0.0))\n",
    "    beta = tf.get_variable('beta', (1,1), dtype=tf.float32, initializer=tf.keras.initializers.RandomNormal())\n",
    "\n",
    "logits = alpha + x @ beta\n",
    "entropy = tf.nn.sigmoid_cross_entropy_with_logits(logits=logits, labels=y)\n",
    "loss = tf.reduce_mean(entropy)\n",
    "train = tf.train.GradientDescentOptimizer(learning_rate=lr).minimize(loss)\n",
    "\n",
    "with tf.Session() as sess:\n",
    "    \n",
    "    tf.global_variables_initializer().run()\n",
    "    \n",
    "    alpha_trace = []\n",
    "    beta_trace = []\n",
    "    loss_trace = []\n",
    "    \n",
    "    feed_dict = {x:x_data, y:y_data}\n",
    "    for i in range(epoch):\n",
    "        if i == 0:\n",
    "            alpha_run, beta_run, loss_run = sess.run([alpha, beta, loss], feed_dict=feed_dict)\n",
    "            alpha_trace.append(alpha_run)\n",
    "            beta_trace.append(beta_run[0,0])\n",
    "            loss_trace.append(loss_run) \n",
    "        elif i % 100 == 0:\n",
    "            alpha_run, beta_run, loss_run, _ = sess.run([alpha, beta, loss, train], feed_dict=feed_dict)\n",
    "            alpha_trace.append(alpha_run)\n",
    "            beta_trace.append(beta_run[0,0])\n",
    "            loss_trace.append(loss_run) \n",
    "        else:\n",
    "            sess.run(train, feed_dict=feed_dict)\n",
    "\n",
    "fig, (ax1, ax2, ax3) = plt.subplots(1, 3)\n",
    "ax1.plot(alpha_trace)\n",
    "ax1.set_xlabel('epoch')\n",
    "ax1.set_title('alpha')\n",
    "ax2.plot(beta_trace)\n",
    "ax2.set_xlabel('epoch')\n",
    "ax2.set_title('beta')\n",
    "ax3.plot(loss_trace)\n",
    "ax3.set_xlabel('epoch')\n",
    "ax3.set_title('loss')\n",
    "plt.tight_layout()\n",
    "plt.show()"
   ]
  },
  {
   "cell_type": "code",
   "execution_count": null,
   "metadata": {},
   "outputs": [],
   "source": []
  }
 ],
 "metadata": {
  "kernelspec": {
   "display_name": "Python [default]",
   "language": "python",
   "name": "python3"
  },
  "language_info": {
   "codemirror_mode": {
    "name": "ipython",
    "version": 3
   },
   "file_extension": ".py",
   "mimetype": "text/x-python",
   "name": "python",
   "nbconvert_exporter": "python",
   "pygments_lexer": "ipython3",
   "version": "3.5.5"
  }
 },
 "nbformat": 4,
 "nbformat_minor": 2
}
