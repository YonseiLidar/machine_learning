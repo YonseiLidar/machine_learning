{
 "cells": [
  {
   "cell_type": "code",
   "execution_count": 1,
   "metadata": {},
   "outputs": [],
   "source": [
    "import tensorflow as tf\n",
    "import numpy as np\n",
    "tf.reset_default_graph()\n",
    "tf.set_random_seed(0)\n",
    "np.random.seed(0)"
   ]
  },
  {
   "cell_type": "code",
   "execution_count": 2,
   "metadata": {},
   "outputs": [],
   "source": [
    "lr = 1e-3\n",
    "epoch = 10\n",
    "batch_size = 100"
   ]
  },
  {
   "cell_type": "code",
   "execution_count": 3,
   "metadata": {},
   "outputs": [
    {
     "name": "stdout",
     "output_type": "stream",
     "text": [
      "(60000, 28, 28, 1) (10000, 28, 28, 1)\n",
      "(60000, 10) (10000, 10)\n",
      "(60000,) (10000,)\n"
     ]
    }
   ],
   "source": [
    "import tensorflow as tf\n",
    "import numpy as np\n",
    "import copy\n",
    "mnist = tf.keras.datasets.mnist\n",
    "(x_train, y_train), (x_test, y_test) = mnist.load_data()\n",
    "x_train, x_test = x_train / 255.0, x_test / 255.0\n",
    "x_train, x_test = x_train.reshape((-1, 28, 28, 1)), x_test.reshape((-1, 28, 28, 1))\n",
    "x_train, x_test = x_train.astype(np.float32), x_test.astype(np.float32)\n",
    "y_train_cls = copy.copy(y_train).astype(np.int32) \n",
    "y_test_cls = copy.copy(y_test).astype(np.int32)\n",
    "y_train = np.eye(10)[y_train].astype(np.float32)\n",
    "y_test = np.eye(10)[y_test].astype(np.float32)\n",
    "print(x_train.shape, x_test.shape)\n",
    "print(y_train.shape, y_test.shape)\n",
    "print(y_train_cls.shape, y_test_cls.shape)"
   ]
  },
  {
   "cell_type": "code",
   "execution_count": 4,
   "metadata": {},
   "outputs": [
    {
     "name": "stdout",
     "output_type": "stream",
     "text": [
      "WARNING:tensorflow:\n",
      "The TensorFlow contrib module will not be included in TensorFlow 2.0.\n",
      "For more information, please see:\n",
      "  * https://github.com/tensorflow/community/blob/master/rfcs/20180907-contrib-sunset.md\n",
      "  * https://github.com/tensorflow/addons\n",
      "  * https://github.com/tensorflow/io (for I/O related ops)\n",
      "If you depend on functionality not listed there, please file an issue.\n",
      "\n",
      "(?, 10) (?,) ()\n",
      "(?,) (?,) ()\n",
      "<dtype: 'int32'> <dtype: 'bool'> <dtype: 'float32'>\n"
     ]
    }
   ],
   "source": [
    "x = tf.placeholder(tf.float32, (None,28, 28, 1)) # (?, 28, 28, 1)\n",
    "y = tf.placeholder(tf.float32, (None,10)) # (?, 10)\n",
    "y_cls = tf.placeholder(tf.int32, (None,)) # (?,)\n",
    "is_train = tf.placeholder(tf.bool, shape=[], name='is_train')\n",
    "\n",
    "initializer_w = tf.keras.initializers.VarianceScaling(mode='fan_avg')\n",
    "\n",
    "w1 = tf.get_variable(\"w1\", [5, 5, 1, 32], tf.float32, initializer_w)  \n",
    "y1 = tf.nn.conv2d(input=x, filter=w1, strides=[1, 1, 1, 1], padding='SAME')\n",
    "y1 = tf.nn.max_pool(value=y1, ksize=[1, 2, 2, 1], strides=[1, 2, 2, 1], padding='SAME')\n",
    "y1 = tf.nn.relu(y1)\n",
    "\n",
    "w2 = tf.get_variable(\"w2\", [5, 5, 32, 64], tf.float32, initializer_w)  \n",
    "y2 = tf.nn.conv2d(input=y1, filter=w2, strides=[1, 1, 1, 1], padding='SAME')\n",
    "y2 = tf.nn.max_pool(value=y2, ksize=[1, 2, 2, 1], strides=[1, 2, 2, 1], padding='SAME')\n",
    "y2 = tf.nn.relu(y2) \n",
    "y2 = tf.reshape(y2, [-1, 3136])\n",
    "\n",
    "w3 = tf.get_variable(\"w3\", [3136, 100], tf.float32, initializer_w)\n",
    "y3 = tf.nn.relu(y2@w3) \n",
    "y3 = tf.contrib.layers.batch_norm(y3, is_training=is_train,\n",
    "                                  center=True, scale=True, decay=0.9)\n",
    "\n",
    "w4 = tf.get_variable(\"w4\", [100, 10], tf.float32, initializer_w)\n",
    "logits = tf.identity(y3@w4, name='logits')\n",
    "entropy = tf.nn.softmax_cross_entropy_with_logits_v2(labels=y, logits=logits) # (?,)\n",
    "loss = tf.reduce_mean(entropy) # ()\n",
    "print(logits.shape, entropy.shape, loss.shape)\n",
    "\n",
    "update_ops = tf.get_collection(tf.GraphKeys.UPDATE_OPS)\n",
    "with tf.control_dependencies(update_ops):\n",
    "    train = tf.train.AdamOptimizer(learning_rate=lr).minimize(loss)\n",
    "\n",
    "y_pred_cls = tf.cast(tf.argmax(logits, axis=1), tf.int32, name='y_pred_cls') # (?,) int32\n",
    "correct_bool = tf.equal(y_pred_cls, y_cls, name='correct_bool') # (?,) bool\n",
    "accuracy = tf.reduce_mean(tf.cast(correct_bool, tf.float32), name='accuracy') # () float32\n",
    "print(y_pred_cls.shape, correct_bool.shape, accuracy.shape)\n",
    "print(y_pred_cls.dtype, correct_bool.dtype, accuracy.dtype)"
   ]
  },
  {
   "cell_type": "code",
   "execution_count": 5,
   "metadata": {},
   "outputs": [],
   "source": [
    "with tf.Session() as sess:\n",
    "    \n",
    "    tf.global_variables_initializer().run()\n",
    "    \n",
    "    loss_trace = []\n",
    "    accuracy_trace = []\n",
    "\n",
    "    for i in range(epoch):\n",
    "        idx = np.arange(x_train.shape[0])\n",
    "        np.random.shuffle(idx)\n",
    "        x_epoch = x_train[idx]\n",
    "        y_epoch = y_train[idx]\n",
    "        y_cls_epoch = y_train_cls[idx]\n",
    "        for k in range(x_train.shape[0]//batch_size):\n",
    "            x_batch = x_epoch[k*batch_size:(k+1)*batch_size]\n",
    "            y_batch = y_epoch[k*batch_size:(k+1)*batch_size]\n",
    "            y_cls_batch = y_cls_epoch[k*batch_size:(k+1)*batch_size]\n",
    "            feed_dict = {x:x_batch, y:y_batch, y_cls:y_cls_batch, is_train: True}\n",
    "            loss_run, accuracy_run, _ = sess.run([loss, accuracy, train], feed_dict=feed_dict)\n",
    "            loss_trace.append(loss_run)\n",
    "            accuracy_trace.append(accuracy_run)\n",
    "    \n",
    "    feed_dict = {x:x_test, y:y_test, y_cls:y_test_cls, is_train: False}\n",
    "    accuracy_run, y_test_cls_pred = sess.run([accuracy, y_pred_cls], feed_dict=feed_dict)"
   ]
  },
  {
   "cell_type": "code",
   "execution_count": 6,
   "metadata": {},
   "outputs": [
    {
     "data": {
      "image/png": "[encoded data removed]",
      "text/plain": [
       "<Figure size 432x288 with 2 Axes>"
      ]
     },
     "metadata": {
      "needs_background": "light"
     },
     "output_type": "display_data"
    }
   ],
   "source": [
    "%matplotlib inline\n",
    "import matplotlib.pyplot as plt\n",
    "fig, (ax1, ax2) = plt.subplots(1, 2)\n",
    "ax1.plot(loss_trace)\n",
    "ax2.plot(accuracy_trace)\n",
    "ax1.set_title('loss')\n",
    "ax2.set_title('accuracy')\n",
    "ax1.set_xlabel('grad_step')\n",
    "ax2.set_xlabel('grad_step')\n",
    "plt.tight_layout()\n",
    "plt.show()"
   ]
  },
  {
   "cell_type": "code",
   "execution_count": 7,
   "metadata": {},
   "outputs": [
    {
     "name": "stdout",
     "output_type": "stream",
     "text": [
      "Test Accuracy : 0.9904\n"
     ]
    }
   ],
   "source": [
    "print('Test Accuracy :', accuracy_run)"
   ]
  },
  {
   "cell_type": "code",
   "execution_count": 8,
   "metadata": {},
   "outputs": [
    {
     "name": "stdout",
     "output_type": "stream",
     "text": [
      "[[ 980    0    0    0    0    0    0    0    0    0]\n",
      " [   0 1133    1    1    0    0    0    0    0    0]\n",
      " [   3    3 1015    1    1    0    2    5    2    0]\n",
      " [   0    0    0 1008    0    1    0    0    1    0]\n",
      " [   0    1    0    0  977    0    1    0    0    3]\n",
      " [   2    0    0    6    0  882    1    0    0    1]\n",
      " [   6    3    0    0    1    1  945    0    2    0]\n",
      " [   0    6    0    0    0    0    0 1019    1    2]\n",
      " [   6    1    0    1    1    0    0    1  963    1]\n",
      " [   1    2    0    1   15    2    0    3    3  982]]\n"
     ]
    }
   ],
   "source": [
    "from sklearn.metrics import confusion_matrix \n",
    "cm = confusion_matrix(y_true=y_test_cls, y_pred=y_test_cls_pred)\n",
    "print(cm)"
   ]
  },
  {
   "cell_type": "code",
   "execution_count": 9,
   "metadata": {},
   "outputs": [
    {
     "data": {
      "image/png": "[encoded data removed]",
      "text/plain": [
       "<Figure size 720x216 with 20 Axes>"
      ]
     },
     "metadata": {
      "needs_background": "light"
     },
     "output_type": "display_data"
    }
   ],
   "source": [
    "%matplotlib inline\n",
    "import matplotlib.pyplot as plt\n",
    "fig, axes = plt.subplots(2, 10, figsize=(10,3))\n",
    "idx = 0\n",
    "for ax in axes.reshape((-1,)):\n",
    "    while True:\n",
    "        if y_test_cls[idx]==y_test_cls_pred[idx]:\n",
    "            idx += 1\n",
    "        else:\n",
    "            ax.imshow(x_test[idx].reshape((28,28)), cmap=plt.cm.gray)\n",
    "            ax.set_title('True: {}\\nPred: {}'.format(y_test_cls[idx], y_test_cls_pred[idx]))\n",
    "            ax.axis('off')\n",
    "            idx += 1\n",
    "            break\n",
    "plt.tight_layout()\n",
    "plt.show()"
   ]
  }
 ],
 "metadata": {
  "kernelspec": {
   "display_name": "Python 3",
   "language": "python",
   "name": "python3"
  },
  "language_info": {
   "codemirror_mode": {
    "name": "ipython",
    "version": 3
   },
   "file_extension": ".py",
   "mimetype": "text/x-python",
   "name": "python",
   "nbconvert_exporter": "python",
   "pygments_lexer": "ipython3",
   "version": "3.6.9"
  }
 },
 "nbformat": 4,
 "nbformat_minor": 2
}
