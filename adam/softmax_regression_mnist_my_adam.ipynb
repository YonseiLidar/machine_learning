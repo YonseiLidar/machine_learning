{
 "cells": [
  {
   "cell_type": "code",
   "execution_count": 1,
   "metadata": {},
   "outputs": [
    {
     "name": "stdout",
     "output_type": "stream",
     "text": [
      "<class 'numpy.ndarray'>\n",
      "<class 'numpy.ndarray'>\n",
      "<class 'numpy.ndarray'>\n",
      "<class 'numpy.ndarray'>\n",
      "<class 'numpy.ndarray'>\n",
      "<class 'numpy.ndarray'>\n",
      "(60000, 784)\n",
      "(60000, 10)\n",
      "(60000,)\n",
      "(10000, 784)\n",
      "(10000, 10)\n",
      "(10000,)\n",
      "float32\n",
      "float32\n",
      "int32\n",
      "float32\n",
      "float32\n",
      "int32\n"
     ]
    }
   ],
   "source": [
    "import tensorflow as tf\n",
    "import numpy as np\n",
    "\n",
    "mnist = tf.keras.datasets.mnist\n",
    "(x_train, y_train), (x_test, y_test) = mnist.load_data()\n",
    "\n",
    "x_train, x_test = x_train / 255.0, x_test / 255.0\n",
    "x_train, x_test = x_train.reshape((-1, 784)), x_test.reshape((-1, 784))\n",
    "x_train, x_test = x_train.astype(np.float32), x_test.astype(np.float32)\n",
    "\n",
    "y_train_cls = y_train.astype(np.int32)\n",
    "y_test_cls = y_test.astype(np.int32) \n",
    "\n",
    "y_train = np.eye(10)[y_train].astype(np.float32)\n",
    "y_test = np.eye(10)[y_test].astype(np.float32)\n",
    "\n",
    "print(type(x_train)) \n",
    "print(type(y_train)) \n",
    "print(type(y_train_cls)) \n",
    "print(type(x_test))  \n",
    "print(type(y_test))  \n",
    "print(type(y_test_cls))  \n",
    "\n",
    "print(x_train.shape) \n",
    "print(y_train.shape) \n",
    "print(y_train_cls.shape) \n",
    "print(x_test.shape)  \n",
    "print(y_test.shape)  \n",
    "print(y_test_cls.shape)\n",
    "\n",
    "print(x_train.dtype) \n",
    "print(y_train.dtype) \n",
    "print(y_train_cls.dtype) \n",
    "print(x_test.dtype)  \n",
    "print(y_test.dtype)  \n",
    "print(y_test_cls.dtype)"
   ]
  },
  {
   "cell_type": "code",
   "execution_count": 2,
   "metadata": {},
   "outputs": [
    {
     "name": "stdout",
     "output_type": "stream",
     "text": [
      "WARNING:tensorflow:From /Users/sungchullee/.local/lib/python3.7/site-packages/tensorflow_core/python/compat/v2_compat.py:65: disable_resource_variables (from tensorflow.python.ops.variable_scope) is deprecated and will be removed in a future version.\n",
      "Instructions for updating:\n",
      "non-resource variables are not supported in the long term\n"
     ]
    }
   ],
   "source": [
    "lr = 1e-2\n",
    "epoch = int(3e1)\n",
    "batch_size = 100\n",
    "\n",
    "import numpy as np; np.random.seed(0)\n",
    "import tensorflow.compat.v1 as tf; tf.disable_v2_behavior() \n",
    "tf.reset_default_graph()\n",
    "\n",
    "beta1 = tf.constant(0.9)\n",
    "beta2 = tf.constant(0.999)\n",
    "epsilon = tf.constant(1e-8)\n",
    "\n",
    "x = tf.placeholder(tf.float32, (None, 784)) # (?, 784)\n",
    "y = tf.placeholder(tf.float32, (None, 10)) # (?, 10)\n",
    "y_cls = tf.placeholder(tf.int32, (None,)) # (?,)\n",
    "\n",
    "init_w = tf.keras.initializers.VarianceScaling(seed=0)\n",
    "init_b = tf.keras.initializers.zeros()\n",
    "\n",
    "w = tf.get_variable('w', (784, 10), tf.float32, init_w)\n",
    "b = tf.get_variable('b', (10,), tf.float32, init_b)\n",
    "\n",
    "logits = x @ w + b # (?,10) = (?, 784) @ (784, 10) + (10,) \n",
    "entropy = tf.nn.softmax_cross_entropy_with_logits_v2(labels=y, \n",
    "                                                     logits=logits) # (?,)\n",
    "loss = tf.reduce_mean(entropy) # ()\n",
    "\n",
    "grad_w, grad_b = tf.gradients(loss, [w, b]) # (784, 10) (10,)\n",
    "\n",
    "m_w = tf.get_variable('m_w', (784, 10), tf.float32, init_b) # (784, 10)\n",
    "m_b = tf.get_variable('m_b', (10,), tf.float32, init_b) # (10,)\n",
    "v_w = tf.get_variable('v_w', (784, 10), tf.float32, init_b) # (784, 10)\n",
    "v_b = tf.get_variable('v_b', (10,), tf.float32, init_b) # (10,)\n",
    "\n",
    "moving_avg = [tf.assign(m_w, beta1 * m_w + (1-beta1) * grad_w),\n",
    "              tf.assign(m_b, beta1 * m_b + (1-beta1) * grad_b),\n",
    "              tf.assign(v_w, beta2 * v_w + (1-beta2) * grad_w**2),\n",
    "              tf.assign(v_b, beta2 * v_b + (1-beta2) * grad_b**2)]\n",
    "\n",
    "m_w_tilde = tf.get_variable('m_w_tilde', (784, 10), tf.float32, init_b) # (784, 10)\n",
    "m_b_tilde = tf.get_variable('m_b_tilde', (10,), tf.float32, init_b) # (10,)\n",
    "v_w_tilde = tf.get_variable('v_w_tilde', (784, 10), tf.float32, init_b) # (784, 10)\n",
    "v_b_tilde = tf.get_variable('v_b_tilde', (10,), tf.float32, init_b) # (10,)\n",
    "\n",
    "t = tf.cast(tf.placeholder(tf.int32, ()), tf.float32) # (?, 784)\n",
    "\n",
    "normalize = [tf.assign(m_w_tilde, m_w / (1-tf.pow(beta1,t))),\n",
    "             tf.assign(m_b_tilde, m_b / (1-tf.pow(beta1,t))),\n",
    "             tf.assign(v_w_tilde, v_w / (1-tf.pow(beta2,t))), \n",
    "             tf.assign(v_b_tilde, v_b / (1-tf.pow(beta2,t)))]\n",
    "\n",
    "grad_w_tilde = m_w_tilde / (tf.sqrt(v_w_tilde) + epsilon)\n",
    "grad_b_tilde = m_b_tilde / (tf.sqrt(v_b_tilde) + epsilon) \n",
    "\n",
    "train = [tf.assign(w, w - lr * grad_w_tilde),\n",
    "         tf.assign(b, b - lr * grad_b_tilde)]\n",
    "\n",
    "y_pred_cls = tf.cast(tf.argmax(logits, axis=1), \n",
    "                     tf.int32, name='y_pred_cls') # (?,) int32\n",
    "correct_bool = tf.equal(y_pred_cls, y_cls, \n",
    "                        name='correct_bool') # (?,) bool\n",
    "accuracy = tf.reduce_mean(tf.cast(correct_bool, tf.float32), \n",
    "                          name='accuracy') # () float32\n",
    "\n",
    "init = tf.global_variables_initializer()"
   ]
  },
  {
   "cell_type": "code",
   "execution_count": 3,
   "metadata": {},
   "outputs": [
    {
     "name": "stdout",
     "output_type": "stream",
     "text": [
      "1/30 loss 0.33561211824417114, accuracy 0.9046832323074341 \n",
      "2/30 loss 0.27908647060394287, accuracy 0.9219499826431274 \n",
      "3/30 loss 0.26973608136177063, accuracy 0.9251332879066467 \n",
      "4/30 loss 0.2650027871131897, accuracy 0.9262666702270508 \n",
      "5/30 loss 0.26201048493385315, accuracy 0.9271666407585144 \n",
      "6/30 loss 0.26009413599967957, accuracy 0.9276333451271057 \n",
      "7/30 loss 0.25722095370292664, accuracy 0.9291833639144897 \n",
      "8/30 loss 0.2567251920700073, accuracy 0.9292832612991333 \n",
      "9/30 loss 0.25454697012901306, accuracy 0.9295499920845032 \n",
      "10/30 loss 0.2544482946395874, accuracy 0.9294833540916443 \n",
      "11/30 loss 0.25400492548942566, accuracy 0.9295666217803955 \n",
      "12/30 loss 0.25429269671440125, accuracy 0.9298332929611206 \n",
      "13/30 loss 0.2492055743932724, accuracy 0.9310166239738464 \n",
      "14/30 loss 0.25317004323005676, accuracy 0.9292665719985962 \n",
      "15/30 loss 0.25010183453559875, accuracy 0.9297833442687988 \n",
      "16/30 loss 0.2493438720703125, accuracy 0.9316332936286926 \n",
      "17/30 loss 0.24851644039154053, accuracy 0.9309666156768799 \n",
      "18/30 loss 0.24742411077022552, accuracy 0.9319332838058472 \n",
      "19/30 loss 0.24795430898666382, accuracy 0.9302999973297119 \n",
      "20/30 loss 0.24857142567634583, accuracy 0.9319167137145996 \n",
      "21/30 loss 0.24632731080055237, accuracy 0.9318499565124512 \n",
      "22/30 loss 0.24520324170589447, accuracy 0.931999921798706 \n",
      "23/30 loss 0.24422304332256317, accuracy 0.9312999248504639 \n",
      "24/30 loss 0.2461572289466858, accuracy 0.9303833246231079 \n",
      "25/30 loss 0.2433416247367859, accuracy 0.932033360004425 \n",
      "26/30 loss 0.24437545239925385, accuracy 0.9308333396911621 \n",
      "27/30 loss 0.2426302284002304, accuracy 0.9322165846824646 \n",
      "28/30 loss 0.24197860062122345, accuracy 0.932616651058197 \n",
      "29/30 loss 0.24441462755203247, accuracy 0.9314833283424377 \n",
      "30/30 loss 0.24416030943393707, accuracy 0.9317333698272705 \n"
     ]
    }
   ],
   "source": [
    "with tf.Session() as sess:\n",
    "    \n",
    "    sess.run(init)\n",
    "    \n",
    "    loss_trace = []\n",
    "    accuracy_trace = []\n",
    "\n",
    "    iter_number = 0\n",
    "        \n",
    "    for i in range(epoch):\n",
    "        \n",
    "        idx = np.arange(x_train.shape[0])\n",
    "        np.random.shuffle(idx)\n",
    "        \n",
    "        x_epoch = x_train[idx]\n",
    "        y_epoch = y_train[idx]\n",
    "        y_cls_epoch = y_train_cls[idx]\n",
    "        \n",
    "        for k in range(x_train.shape[0]//batch_size):\n",
    "            \n",
    "            iter_number += 1\n",
    "            \n",
    "            if k==0:\n",
    "                loss_temp = []\n",
    "                accuracy_temp = []\n",
    "                \n",
    "            x_batch = x_epoch[k*batch_size:(k+1)*batch_size]\n",
    "            y_batch = y_epoch[k*batch_size:(k+1)*batch_size]\n",
    "            y_cls_batch = y_cls_epoch[k*batch_size:(k+1)*batch_size]\n",
    "            \n",
    "            feed_dict = {x:x_batch, \n",
    "                         y:y_batch, \n",
    "                         y_cls:y_cls_batch,\n",
    "                         t: iter_number}\n",
    "            \n",
    "            sess.run(moving_avg, feed_dict=feed_dict)\n",
    "            sess.run(normalize, feed_dict=feed_dict)\n",
    "            sess.run(train, feed_dict=feed_dict)\n",
    "            \n",
    "            loss_run, accuracy_run = sess.run([loss, accuracy],\n",
    "                                              feed_dict=feed_dict)\n",
    "            \n",
    "            loss_temp.append(loss_run) \n",
    "            accuracy_temp.append(accuracy_run)\n",
    "        \n",
    "        loss_avg = np.array(loss_temp).mean()\n",
    "        accuracy_avg = np.array(accuracy_temp).mean()\n",
    "        loss_trace.append(loss_avg)\n",
    "        accuracy_trace.append(accuracy_avg)\n",
    "        print(f'{i+1}/{epoch} loss {loss_avg}, accuracy {accuracy_avg} ')\n",
    "    \n",
    "    feed_dict = {x:x_test, y:y_test, y_cls:y_test_cls}\n",
    "    accuracy_run, y_test_cls_pred = sess.run([accuracy, y_pred_cls], \n",
    "                                             feed_dict=feed_dict)"
   ]
  },
  {
   "cell_type": "code",
   "execution_count": 4,
   "metadata": {},
   "outputs": [
    {
     "data": {
      "image/png": "[encoded data removed]",
      "text/plain": [
       "<Figure size 432x288 with 1 Axes>"
      ]
     },
     "metadata": {
      "needs_background": "light"
     },
     "output_type": "display_data"
    }
   ],
   "source": [
    "import matplotlib.pyplot as plt\n",
    "\n",
    "fig, ax1 = plt.subplots()\n",
    "\n",
    "ax1.plot(loss_trace, color='red', label='loss')\n",
    "plt.legend(loc='center left')\n",
    "\n",
    "# ax2 = ax1.twinx() \n",
    "# ax2.plot(accuracy_trace, color='blue', label='accuracy')\n",
    "# plt.legend(loc='center right')\n",
    "\n",
    "plt.show()"
   ]
  },
  {
   "cell_type": "code",
   "execution_count": 5,
   "metadata": {},
   "outputs": [
    {
     "name": "stdout",
     "output_type": "stream",
     "text": [
      "Test Period Accuracy : 0.9146999716758728\n"
     ]
    }
   ],
   "source": [
    "print(f'Test Period Accuracy : {accuracy_run}')"
   ]
  },
  {
   "cell_type": "code",
   "execution_count": 6,
   "metadata": {},
   "outputs": [
    {
     "name": "stdout",
     "output_type": "stream",
     "text": [
      "[[ 952    0    3    2    3    8    7    2    2    1]\n",
      " [   0 1119    4    2    0    1    3    1    5    0]\n",
      " [   9   16  896   22   10    3   10   10   52    4]\n",
      " [   4    1   14  929    4   19    2    9   23    5]\n",
      " [   1    3    7    6  930    0    4    4    6   21]\n",
      " [   6    3    3   39   10  744   13    4   64    6]\n",
      " [   7    3    7    2   12   32  888    1    6    0]\n",
      " [   1   13   17   14    7    2    0  932    4   38]\n",
      " [   6   15    3   26   13   23    5    9  859   15]\n",
      " [   7    8    2    8   46    9    0   20   11  898]]\n"
     ]
    }
   ],
   "source": [
    "from sklearn.metrics import confusion_matrix \n",
    "cm = confusion_matrix(y_true=y_test_cls, y_pred=y_test_cls_pred)\n",
    "print(cm)"
   ]
  },
  {
   "cell_type": "code",
   "execution_count": 7,
   "metadata": {},
   "outputs": [
    {
     "data": {
      "image/png": "[encoded data removed]",
      "text/plain": [
       "<Figure size 720x216 with 20 Axes>"
      ]
     },
     "metadata": {
      "needs_background": "light"
     },
     "output_type": "display_data"
    }
   ],
   "source": [
    "import matplotlib.pyplot as plt\n",
    "\n",
    "fig, axes = plt.subplots(2, 10, figsize=(10,3))\n",
    "\n",
    "idx = 0\n",
    "for ax in axes.reshape((-1,)):\n",
    "    while True:\n",
    "        if y_test_cls[idx]==y_test_cls_pred[idx]:\n",
    "            idx += 1\n",
    "        else:\n",
    "            ax.imshow(x_test[idx].reshape((28,28)), cmap=plt.cm.binary)\n",
    "            true_label = y_test_cls[idx]\n",
    "            pred_label = y_test_cls_pred[idx]\n",
    "            title = f'True: {true_label}\\nPred: {pred_label}'\n",
    "            ax.set_title(title)\n",
    "            ax.axis('off')\n",
    "            idx += 1\n",
    "            break\n",
    "            \n",
    "plt.tight_layout()\n",
    "\n",
    "plt.show()"
   ]
  },
  {
   "cell_type": "code",
   "execution_count": null,
   "metadata": {},
   "outputs": [],
   "source": []
  }
 ],
 "metadata": {
  "kernelspec": {
   "display_name": "Python 3",
   "language": "python",
   "name": "python3"
  },
  "language_info": {
   "codemirror_mode": {
    "name": "ipython",
    "version": 3
   },
   "file_extension": ".py",
   "mimetype": "text/x-python",
   "name": "python",
   "nbconvert_exporter": "python",
   "pygments_lexer": "ipython3",
   "version": "3.7.7"
  }
 },
 "nbformat": 4,
 "nbformat_minor": 4
}
