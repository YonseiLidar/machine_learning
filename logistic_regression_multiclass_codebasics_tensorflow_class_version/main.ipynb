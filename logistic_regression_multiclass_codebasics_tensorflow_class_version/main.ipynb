{
 "cells": [
  {
   "cell_type": "code",
   "execution_count": 1,
   "metadata": {},
   "outputs": [
    {
     "name": "stdout",
     "output_type": "stream",
     "text": [
      "WARNING:tensorflow:From /Users/sungchullee/Dropbox/Git/machine_learning/logistic_regression_multiclass_codebasics_tensorflow_class_version/model/logistic_regression.py:17: The name tf.placeholder is deprecated. Please use tf.compat.v1.placeholder instead.\n",
      "\n",
      "WARNING:tensorflow:From /Users/sungchullee/Dropbox/Git/machine_learning/logistic_regression_multiclass_codebasics_tensorflow_class_version/model/logistic_regression.py:26: The name tf.train.GradientDescentOptimizer is deprecated. Please use tf.compat.v1.train.GradientDescentOptimizer instead.\n",
      "\n",
      "(1437, 64) (360, 64) (1437, 10) (360, 10) (1437,) (360,)\n"
     ]
    }
   ],
   "source": [
    "from data_loading import data_loader \n",
    "from model import logistic_regression\n",
    "\n",
    "data = data_loader.data_digits()\n",
    "\n",
    "with tf.Session() as sess:\n",
    "    a = logistic_regression.LR(sess, data)"
   ]
  },
  {
   "cell_type": "code",
   "execution_count": null,
   "metadata": {},
   "outputs": [],
   "source": []
  }
 ],
 "metadata": {
  "kernelspec": {
   "display_name": "Python 3",
   "language": "python",
   "name": "python3"
  },
  "language_info": {
   "codemirror_mode": {
    "name": "ipython",
    "version": 3
   },
   "file_extension": ".py",
   "mimetype": "text/x-python",
   "name": "python",
   "nbconvert_exporter": "python",
   "pygments_lexer": "ipython3",
   "version": "3.6.9"
  }
 },
 "nbformat": 4,
 "nbformat_minor": 2
}
