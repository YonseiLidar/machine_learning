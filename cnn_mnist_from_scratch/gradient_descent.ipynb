{
 "cells": [
  {
   "cell_type": "code",
   "execution_count": 1,
   "metadata": {},
   "outputs": [],
   "source": [
    "import tensorflow as tf\n",
    "import numpy as np\n",
    "tf.reset_default_graph()\n",
    "tf.set_random_seed(0)\n",
    "np.random.seed(0)"
   ]
  },
  {
   "cell_type": "code",
   "execution_count": 2,
   "metadata": {},
   "outputs": [],
   "source": [
    "lr = 1e-3\n",
    "epoch = 10\n",
    "batch_size = 100"
   ]
  },
  {
   "cell_type": "code",
   "execution_count": 3,
   "metadata": {},
   "outputs": [
    {
     "name": "stdout",
     "output_type": "stream",
     "text": [
      "(60000, 28, 28, 1) (10000, 28, 28, 1)\n",
      "(60000, 10) (10000, 10)\n",
      "(60000,) (10000,)\n"
     ]
    }
   ],
   "source": [
    "import tensorflow as tf\n",
    "import numpy as np\n",
    "import copy\n",
    "mnist = tf.keras.datasets.mnist\n",
    "(x_train, y_train), (x_test, y_test) = mnist.load_data()\n",
    "x_train, x_test = x_train / 255.0, x_test / 255.0\n",
    "x_train, x_test = x_train.reshape((-1, 28, 28, 1)), x_test.reshape((-1, 28, 28, 1))\n",
    "x_train, x_test = x_train.astype(np.float32), x_test.astype(np.float32)\n",
    "y_train_cls = copy.copy(y_train).astype(np.int32) \n",
    "y_test_cls = copy.copy(y_test).astype(np.int32)\n",
    "y_train = np.eye(10)[y_train].astype(np.float32)\n",
    "y_test = np.eye(10)[y_test].astype(np.float32)\n",
    "print(x_train.shape, x_test.shape)\n",
    "print(y_train.shape, y_test.shape)\n",
    "print(y_train_cls.shape, y_test_cls.shape)"
   ]
  },
  {
   "cell_type": "code",
   "execution_count": 4,
   "metadata": {},
   "outputs": [],
   "source": [
    "initializer_w = tf.keras.initializers.VarianceScaling(mode='fan_avg')"
   ]
  },
  {
   "cell_type": "markdown",
   "metadata": {},
   "source": [
    "$$\\begin{array}{cccccccccccccccccccccccccccc}\n",
    "x\n",
    "&\\stackrel{\\mbox{conv}(w_1)}{\\Rightarrow}\n",
    "&\\stackrel{\\mbox{max_pooling}}{\\Rightarrow}\n",
    "&\\stackrel{\\varphi}{\\Rightarrow}\n",
    "&\n",
    "&y1\\\\\n",
    "(?, 28, 28, 1)&(?, 28, 28, 32)&(?, 14, 14, 32)&(?, 14, 14, 32)&&(?, 14, 14, 32)\\\\\n",
    "\\\\\n",
    "&\\stackrel{\\mbox{conv}(w_2)}{\\Rightarrow}\n",
    "&\\stackrel{\\mbox{max_pooling}}{\\Rightarrow}\n",
    "&\\stackrel{\\varphi}{\\Rightarrow}\n",
    "&\\stackrel{\\mbox{flatten}}{\\Rightarrow}\n",
    "&y2\\\\\n",
    "&(?, 14, 14, 64)&(?, 7, 7, 64)&(?, 7, 7, 64)&(?, 3136)&(?, 3136)\\\\\n",
    "\\\\\n",
    "&&&&\\stackrel{\\varphi(y2w_3)}{\\Rightarrow}&y3\\\\\n",
    "&&&&(?, 100)&(?, 100)\\\\\n",
    "\\\\\n",
    "&&&&\\stackrel{y3w_4}{\\Rightarrow}&\\mbox{logits}\\\\\n",
    "&&&&(?, 10)&(?, 10)\\\\\n",
    "\\end{array}$$"
   ]
  },
  {
   "cell_type": "markdown",
   "metadata": {},
   "source": [
    "```\n",
    "x.shape = (?, 28, 28, 1) \n",
    "x.dtype = tf.float32 \n",
    "\n",
    "y.shape = (?, 10)\n",
    "y.dtype = tf.float32 \n",
    "\n",
    "y_cls.shape = (?,)\n",
    "y_cls.dtype = tf.int32 \n",
    "```"
   ]
  },
  {
   "cell_type": "code",
   "execution_count": null,
   "metadata": {},
   "outputs": [],
   "source": [
    "x = tf.placeholder(tf.float32, (None, 28, 28, 1)) # (?, 28, 28, 1)\n",
    "y = tf.placeholder(tf.float32, (None, 10)) # (?, 10)\n",
    "y_cls = tf.placeholder(tf.int32, (None,)) # (?,)"
   ]
  },
  {
   "cell_type": "markdown",
   "metadata": {},
   "source": [
    "```\n",
    "w1.shape = (5, 5, 1, 32) \n",
    "w1.dtype = tf.float32 \n",
    "\n",
    "y1_temp.shape = (?, 28, 28, 32)\n",
    "y1_temp.dtype = tf.float32 \n",
    "\n",
    "y1.shape = (?, 14, 14, 32)\n",
    "y1.dtype = tf.float32\n",
    "```"
   ]
  },
  {
   "cell_type": "code",
   "execution_count": null,
   "metadata": {},
   "outputs": [],
   "source": [
    "w1 = tf.get_variable(\"w1\", [5, 5, 1, 32], tf.float32, initializer_w)  \n",
    "y1_temp = tf.nn.conv2d(input=x, filter=w1, strides=[1, 1, 1, 1], padding='SAME')\n",
    "y1 = tf.nn.max_pool(value=y1_temp, ksize=[1, 2, 2, 1], strides=[1, 2, 2, 1], padding='SAME')\n",
    "y1 = tf.nn.relu(y1)"
   ]
  },
  {
   "cell_type": "markdown",
   "metadata": {},
   "source": [
    "```\n",
    "w2.shape = (5, 5, 32, 64) \n",
    "w2.dtype = tf.float32 \n",
    "\n",
    "y2_temp.shape = (?, 14, 14, 64)\n",
    "y2_temp.dtype = tf.float32 \n",
    "\n",
    "y2_temp_2.shape = (?, 7, 7, 64)\n",
    "y2_temp_2.dtype = tf.float32\n",
    "\n",
    "y2.shape = (?, 3136)\n",
    "y2.dtype = tf.float32 \n",
    "```"
   ]
  },
  {
   "cell_type": "code",
   "execution_count": null,
   "metadata": {},
   "outputs": [],
   "source": [
    "w2 = tf.get_variable(\"w2\", [5, 5, 32, 64], tf.float32, initializer_w)  \n",
    "y2_temp = tf.nn.conv2d(input=y1, filter=w2, strides=[1, 1, 1, 1], padding='SAME')\n",
    "y2_temp_2 = tf.nn.max_pool(value=y2_temp, ksize=[1, 2, 2, 1], strides=[1, 2, 2, 1], padding='SAME')\n",
    "y2_temp_2 = tf.nn.relu(y2_temp_2) \n",
    "y2 = tf.reshape(y2_temp_2, [-1, 3136])"
   ]
  },
  {
   "cell_type": "markdown",
   "metadata": {},
   "source": [
    "```\n",
    "w3.shape = (3136, 100) \n",
    "w3.dtype = tf.float32 \n",
    "\n",
    "y3.shape = (?, 100)\n",
    "y3.dtype = tf.float32 \n",
    "```"
   ]
  },
  {
   "cell_type": "code",
   "execution_count": null,
   "metadata": {},
   "outputs": [],
   "source": [
    "w3 = tf.get_variable(\"w3\", [3136, 100], tf.float32, initializer_w)\n",
    "y3 = tf.nn.relu(y2@w3) "
   ]
  },
  {
   "cell_type": "markdown",
   "metadata": {},
   "source": [
    "```\n",
    "w4.shape = (100, 10) \n",
    "w4.dtype = tf.float32 \n",
    "\n",
    "logits.shape = (?, 10)\n",
    "logits.dtype = tf.float32 \n",
    "```"
   ]
  },
  {
   "cell_type": "code",
   "execution_count": null,
   "metadata": {},
   "outputs": [],
   "source": [
    "w4 = tf.get_variable(\"w4\", [100, 10], tf.float32, initializer_w)\n",
    "logits = tf.identity(y3@w4, name='logits')"
   ]
  },
  {
   "cell_type": "markdown",
   "metadata": {},
   "source": [
    "```\n",
    "entropy.shape = (?,) \n",
    "entropy.dtype = tf.float32 \n",
    "\n",
    "loss.shape = ()\n",
    "loss.dtype = tf.float32 \n",
    "```"
   ]
  },
  {
   "cell_type": "code",
   "execution_count": null,
   "metadata": {},
   "outputs": [],
   "source": [
    "entropy = tf.nn.softmax_cross_entropy_with_logits_v2(labels=y, logits=logits) \n",
    "loss = tf.reduce_mean(entropy) "
   ]
  },
  {
   "cell_type": "code",
   "execution_count": null,
   "metadata": {},
   "outputs": [],
   "source": [
    "train = tf.train.GradientDescentOptimizer(learning_rate=lr).minimize(loss)"
   ]
  },
  {
   "cell_type": "markdown",
   "metadata": {},
   "source": [
    "```\n",
    "y_pred_cls.shape = (?,) \n",
    "y_pred_cls.dtype = tf.int32 \n",
    "\n",
    "correct_bool.shape = (?,)\n",
    "correct_bool.dtype = tf.bool \n",
    "\n",
    "accuracy.shape = ()\n",
    "accuracy.dtype = tf.float32 \n",
    "```"
   ]
  },
  {
   "cell_type": "code",
   "execution_count": 4,
   "metadata": {},
   "outputs": [
    {
     "name": "stdout",
     "output_type": "stream",
     "text": [
      "(?, 10) (?,) ()\n",
      "(?,) (?,) ()\n",
      "<dtype: 'int32'> <dtype: 'bool'> <dtype: 'float32'>\n"
     ]
    }
   ],
   "source": [
    "y_pred_cls = tf.cast(tf.argmax(logits, axis=1), tf.int32, name='y_pred_cls') \n",
    "correct_bool = tf.equal(y_pred_cls, y_cls, name='correct_bool') \n",
    "accuracy = tf.reduce_mean(tf.cast(correct_bool, tf.float32), name='accuracy') "
   ]
  },
  {
   "cell_type": "code",
   "execution_count": 5,
   "metadata": {},
   "outputs": [],
   "source": [
    "with tf.Session() as sess:\n",
    "    \n",
    "    tf.global_variables_initializer().run()\n",
    "    \n",
    "    loss_trace = []\n",
    "    accuracy_trace = []\n",
    "\n",
    "    for i in range(epoch):\n",
    "        idx = np.arange(x_train.shape[0])\n",
    "        np.random.shuffle(idx)\n",
    "        x_epoch = x_train[idx]\n",
    "        y_epoch = y_train[idx]\n",
    "        y_cls_epoch = y_train_cls[idx]\n",
    "        for k in range(x_train.shape[0]//batch_size):\n",
    "            x_batch = x_epoch[k*batch_size:(k+1)*batch_size]\n",
    "            y_batch = y_epoch[k*batch_size:(k+1)*batch_size]\n",
    "            y_cls_batch = y_cls_epoch[k*batch_size:(k+1)*batch_size]\n",
    "            feed_dict = {x:x_batch, y:y_batch, y_cls:y_cls_batch}\n",
    "            loss_run, accuracy_run, _ = sess.run([loss, accuracy, train], feed_dict=feed_dict)\n",
    "            loss_trace.append(loss_run)\n",
    "            accuracy_trace.append(accuracy_run)\n",
    "    \n",
    "    feed_dict = {x:x_test, y:y_test, y_cls:y_test_cls}\n",
    "    accuracy_run, y_test_cls_pred = sess.run([accuracy, y_pred_cls], feed_dict=feed_dict)"
   ]
  },
  {
   "cell_type": "code",
   "execution_count": 6,
   "metadata": {},
   "outputs": [
    {
     "data": {
      "image/png": "[encoded data removed]",
      "text/plain": [
       "<Figure size 432x288 with 2 Axes>"
      ]
     },
     "metadata": {
      "needs_background": "light"
     },
     "output_type": "display_data"
    }
   ],
   "source": [
    "%matplotlib inline\n",
    "import matplotlib.pyplot as plt\n",
    "fig, (ax1, ax2) = plt.subplots(1, 2)\n",
    "ax1.plot(loss_trace)\n",
    "ax2.plot(accuracy_trace)\n",
    "ax1.set_title('loss')\n",
    "ax2.set_title('accuracy')\n",
    "ax1.set_xlabel('grad_step')\n",
    "ax2.set_xlabel('grad_step')\n",
    "plt.tight_layout()\n",
    "plt.show()"
   ]
  },
  {
   "cell_type": "code",
   "execution_count": 7,
   "metadata": {},
   "outputs": [
    {
     "name": "stdout",
     "output_type": "stream",
     "text": [
      "Test Accuracy : 0.9244\n"
     ]
    }
   ],
   "source": [
    "print('Test Accuracy :', accuracy_run)"
   ]
  },
  {
   "cell_type": "code",
   "execution_count": 8,
   "metadata": {},
   "outputs": [
    {
     "name": "stdout",
     "output_type": "stream",
     "text": [
      "[[ 962    0    0    1    0    3    7    1    6    0]\n",
      " [   0 1106    3    3    1    2    4    0   16    0]\n",
      " [  13    0  931   13   17    1    9   15   33    0]\n",
      " [   3    3   14  905    0   31    0   18   31    5]\n",
      " [   1    2    6    0  901    0   14    2    9   47]\n",
      " [   9    5    3   23    7  806   15    1   20    3]\n",
      " [  15    5    5    0   12   24  893    1    3    0]\n",
      " [   0   10   28    4    7    0    0  927    7   45]\n",
      " [   5    2    4   17    5   16    4   10  906    5]\n",
      " [   7    5    6   10   32    7    0   22   13  907]]\n"
     ]
    }
   ],
   "source": [
    "from sklearn.metrics import confusion_matrix \n",
    "cm = confusion_matrix(y_true=y_test_cls, y_pred=y_test_cls_pred)\n",
    "print(cm)"
   ]
  },
  {
   "cell_type": "code",
   "execution_count": 9,
   "metadata": {},
   "outputs": [
    {
     "data": {
      "image/png": "[encoded data removed]",
      "text/plain": [
       "<Figure size 720x216 with 20 Axes>"
      ]
     },
     "metadata": {
      "needs_background": "light"
     },
     "output_type": "display_data"
    }
   ],
   "source": [
    "%matplotlib inline\n",
    "import matplotlib.pyplot as plt\n",
    "fig, axes = plt.subplots(2, 10, figsize=(10,3))\n",
    "idx = 0\n",
    "for ax in axes.reshape((-1,)):\n",
    "    while True:\n",
    "        if y_test_cls[idx]==y_test_cls_pred[idx]:\n",
    "            idx += 1\n",
    "        else:\n",
    "            ax.imshow(x_test[idx].reshape((28,28)), cmap=plt.cm.gray)\n",
    "            ax.set_title('True: {}\\nPred: {}'.format(y_test_cls[idx], y_test_cls_pred[idx]))\n",
    "            ax.axis('off')\n",
    "            idx += 1\n",
    "            break\n",
    "plt.tight_layout()\n",
    "plt.show()"
   ]
  }
 ],
 "metadata": {
  "kernelspec": {
   "display_name": "Python 3",
   "language": "python",
   "name": "python3"
  },
  "language_info": {
   "codemirror_mode": {
    "name": "ipython",
    "version": 3
   },
   "file_extension": ".py",
   "mimetype": "text/x-python",
   "name": "python",
   "nbconvert_exporter": "python",
   "pygments_lexer": "ipython3",
   "version": "3.6.9"
  }
 },
 "nbformat": 4,
 "nbformat_minor": 2
}
