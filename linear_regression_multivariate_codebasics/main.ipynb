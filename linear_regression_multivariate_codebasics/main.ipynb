{
 "cells": [
  {
   "cell_type": "markdown",
   "metadata": {},
   "source": [
    "[codebasics](https://www.youtube.com/watch?v=J_LnPL3Qg70&list=PLeo1K3hjS3uvCeTYTeyfe0-rN5r8zn9rw&index=3)"
   ]
  },
  {
   "cell_type": "code",
   "execution_count": 1,
   "metadata": {},
   "outputs": [],
   "source": [
    "%matplotlib inline"
   ]
  },
  {
   "cell_type": "code",
   "execution_count": 2,
   "metadata": {},
   "outputs": [],
   "source": [
    "import pandas as pd\n",
    "import numpy as np\n",
    "from sklearn import linear_model"
   ]
  },
  {
   "cell_type": "code",
   "execution_count": 3,
   "metadata": {
    "scrolled": true
   },
   "outputs": [
    {
     "name": "stdout",
     "output_type": "stream",
     "text": [
      "   area  bedrooms  age   price\n",
      "0  2600       3.0   20  550000\n",
      "1  3000       4.0   15  565000\n",
      "2  3200       NaN   18  610000\n",
      "3  3600       3.0   30  595000\n",
      "4  4000       5.0    8  760000\n",
      "5  4100       6.0    8  810000\n"
     ]
    }
   ],
   "source": [
    "df = pd.read_csv('homeprices.csv')\n",
    "print(df)"
   ]
  },
  {
   "cell_type": "code",
   "execution_count": 4,
   "metadata": {},
   "outputs": [
    {
     "name": "stdout",
     "output_type": "stream",
     "text": [
      "   area  bedrooms  age   price\n",
      "0  2600       3.0   20  550000\n",
      "1  3000       4.0   15  565000\n",
      "2  3200       4.0   18  610000\n",
      "3  3600       3.0   30  595000\n",
      "4  4000       5.0    8  760000\n",
      "5  4100       6.0    8  810000\n"
     ]
    }
   ],
   "source": [
    "#df.bedrooms = df.bedrooms.fillna(df.bedrooms.median())\n",
    "df.bedrooms.fillna(df.bedrooms.median(), inplace=True)\n",
    "print(df)"
   ]
  },
  {
   "cell_type": "code",
   "execution_count": 6,
   "metadata": {
    "scrolled": true
   },
   "outputs": [
    {
     "name": "stdout",
     "output_type": "stream",
     "text": [
      "   area  bedrooms  age   price     price_pred\n",
      "0  2600       3.0   20  550000  518217.632976\n",
      "1  3000       4.0   15  565000  602590.079374\n",
      "2  3200       4.0   18  610000  615307.414037\n",
      "3  3600       3.0   30  595000  597962.895832\n",
      "4  4000       5.0    8  760000  760663.426755\n",
      "5  4100       6.0    8  810000  795258.551027\n"
     ]
    }
   ],
   "source": [
    "reg = linear_model.LinearRegression()\n",
    "reg.fit(df[['area', 'bedrooms', 'age']], df.price)\n",
    "price_pred = reg.predict(df[['area', 'bedrooms', 'age']])\n",
    "df['price_pred'] = price_pred\n",
    "# df.price_pred = price_pred # this is not what I want\n",
    "print(df)"
   ]
  },
  {
   "cell_type": "code",
   "execution_count": 7,
   "metadata": {},
   "outputs": [
    {
     "name": "stdout",
     "output_type": "stream",
     "text": [
      "[498408.25158031]\n",
      "[  112.06244194 23388.88007794 -3231.71790863]\n",
      "221323.00186540408\n",
      "[498408.25158031]\n"
     ]
    }
   ],
   "source": [
    "x = [[3000, 3, 40]]\n",
    "y_hat = reg.predict(x)\n",
    "print(y_hat)\n",
    "\n",
    "y_hat2 = np.sum(reg.coef_ * x, axis=1) + reg.intercept_ \n",
    "print(reg.coef_) # [beta_1, beta_2, beta_3]\n",
    "print(reg.intercept_) # alpha\n",
    "print(y_hat2)"
   ]
  },
  {
   "cell_type": "code",
   "execution_count": 8,
   "metadata": {},
   "outputs": [
    {
     "name": "stdout",
     "output_type": "stream",
     "text": [
      "[498408.25158031 578876.03748933]\n",
      "[  112.06244194 23388.88007794 -3231.71790863]\n",
      "221323.00186540408\n",
      "[498408.25158031 578876.03748933]\n"
     ]
    }
   ],
   "source": [
    "x = [[3000, 3, 40],\n",
    "     [2500, 4,  5]]\n",
    "y_hat = reg.predict(x)\n",
    "print(y_hat)\n",
    "\n",
    "y_hat2 = np.sum(reg.coef_ * x, axis=1) + reg.intercept_  \n",
    "print(reg.coef_)\n",
    "print(reg.intercept_)\n",
    "print(y_hat2)"
   ]
  },
  {
   "cell_type": "markdown",
   "metadata": {},
   "source": [
    "<h3>Exercise<h3>"
   ]
  },
  {
   "cell_type": "markdown",
   "metadata": {},
   "source": [
    "In exercise folder (same level as this notebook on github) there is **hiring.csv**. This file contains hiring statics for a firm such as experience of candidate, his written test score and personal interview score. Based on these 3 factors, HR will decide the salary. Given this data, you need to build a machine learning model for HR department that can help them decide salaries for future candidates. Using this predict salaries for following candidates,\n",
    "\n",
    "\n",
    "**2 yr experience, 9 test score, 6 interview score**\n",
    "\n",
    "**12 yr experience, 10 test score, 10 interview score**\n"
   ]
  },
  {
   "cell_type": "markdown",
   "metadata": {},
   "source": [
    "<h3>Answer<h3>"
   ]
  },
  {
   "cell_type": "markdown",
   "metadata": {},
   "source": [
    "53713.86 and 93747.79"
   ]
  }
 ],
 "metadata": {
  "kernelspec": {
   "display_name": "Python 3",
   "language": "python",
   "name": "python3"
  },
  "language_info": {
   "codemirror_mode": {
    "name": "ipython",
    "version": 3
   },
   "file_extension": ".py",
   "mimetype": "text/x-python",
   "name": "python",
   "nbconvert_exporter": "python",
   "pygments_lexer": "ipython3",
   "version": "3.7.3"
  }
 },
 "nbformat": 4,
 "nbformat_minor": 2
}
