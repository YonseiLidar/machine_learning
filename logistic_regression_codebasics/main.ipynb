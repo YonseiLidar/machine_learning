{
 "cells": [
  {
   "cell_type": "markdown",
   "metadata": {},
   "source": [
    "[codebasics](https://www.youtube.com/watch?v=zM4VZR0px8E&list=PLeo1K3hjS3uvCeTYTeyfe0-rN5r8zn9rw&index=9&t=192s)"
   ]
  },
  {
   "cell_type": "code",
   "execution_count": 1,
   "metadata": {},
   "outputs": [],
   "source": [
    "%matplotlib inline"
   ]
  },
  {
   "cell_type": "code",
   "execution_count": 2,
   "metadata": {},
   "outputs": [
    {
     "name": "stdout",
     "output_type": "stream",
     "text": [
      "(27, 2)\n",
      "   age  bought_insurance\n",
      "0   22                 0\n",
      "1   25                 0\n",
      "2   47                 1\n",
      "3   52                 0\n",
      "4   46                 1\n"
     ]
    },
    {
     "data": {
      "image/png": "[encoded data removed]",
      "text/plain": [
       "<Figure size 432x288 with 1 Axes>"
      ]
     },
     "metadata": {
      "needs_background": "light"
     },
     "output_type": "display_data"
    }
   ],
   "source": [
    "import pandas as pd\n",
    "import numpy as np\n",
    "import matplotlib.pyplot as plt\n",
    "\n",
    "df = pd.read_csv(\"insurance_data.csv\")\n",
    "print(df.shape)\n",
    "print(df.head())\n",
    "\n",
    "plt.scatter(df.age, df.bought_insurance, marker='+', color='red')\n",
    "plt.show()"
   ]
  },
  {
   "cell_type": "code",
   "execution_count": 11,
   "metadata": {},
   "outputs": [
    {
     "name": "stdout",
     "output_type": "stream",
     "text": [
      "(24, 1) (3, 1) (24,) (3,)\n"
     ]
    }
   ],
   "source": [
    "from sklearn.model_selection import train_test_split\n",
    "\n",
    "if 1:\n",
    "    x_train, x_test, y_train, y_test = train_test_split(\n",
    "        df[['age']], \n",
    "        df.bought_insurance, \n",
    "        train_size=0.9\n",
    "    )\n",
    "elif 0:\n",
    "    x_train, x_test, y_train, y_test = train_test_split(\n",
    "        df[['age']], \n",
    "        df['bought_insurance'], \n",
    "        train_size=0.9\n",
    "    )\n",
    "elif 1:\n",
    "    x_train, x_test, y_train, y_test = train_test_split(\n",
    "        df[['age']], \n",
    "        df[['bought_insurance']], \n",
    "        train_size=0.9\n",
    "    )\n",
    "\n",
    "print(x_train.shape, x_test.shape, y_train.shape, y_test.shape)"
   ]
  },
  {
   "cell_type": "code",
   "execution_count": 12,
   "metadata": {},
   "outputs": [
    {
     "name": "stdout",
     "output_type": "stream",
     "text": [
      "    age\n",
      "19   18\n",
      "14   49\n",
      "7    60\n",
      "19    0\n",
      "14    1\n",
      "7     1\n",
      "Name: bought_insurance, dtype: int64\n",
      "[0 1 1]\n",
      "[[0.93756847 0.06243153]\n",
      " [0.227416   0.772584  ]\n",
      " [0.06797313 0.93202687]]\n",
      "    age  bought_insurance  bought_insurance_pred    prob_0    prob_1\n",
      "19   18                 0                      0  0.937568  0.062432\n",
      "14   49                 1                      1  0.227416  0.772584\n",
      "7    60                 1                      1  0.067973  0.932027\n",
      "1.0\n"
     ]
    }
   ],
   "source": [
    "from sklearn.linear_model import LogisticRegression\n",
    "\n",
    "model = LogisticRegression(solver='lbfgs')\n",
    "model.fit(x_train, y_train)\n",
    "y_pred = model.predict(x_test)\n",
    "y_pred_prob = model.predict_proba(x_test)\n",
    "print(x_test)\n",
    "print(y_test)\n",
    "print(y_pred)\n",
    "print(y_pred_prob)\n",
    "\n",
    "# print(x_test.age.shape) \n",
    "# print(y_test.shape) \n",
    "# print(y_test.shape) \n",
    "# print(y_pred_prob[:,0].shape) \n",
    "# print(y_pred_prob[:,1].shape) \n",
    "\n",
    "df_test = pd.DataFrame({\n",
    "    'age': x_test.age, \n",
    "    'bought_insurance': y_test, \n",
    "    'bought_insurance_pred': y_pred, \n",
    "    'prob_0': y_pred_prob[:,0], \n",
    "    'prob_1': y_pred_prob[:,1]\n",
    "    })\n",
    "\n",
    "print(df_test)\n",
    "print(model.score(x_test,y_test))"
   ]
  },
  {
   "cell_type": "markdown",
   "metadata": {},
   "source": [
    "<h2 style=\"color:purple\">Exercise</h2>\n",
    "\n",
    "Download employee retention dataset from here: https://www.kaggle.com/giripujar/hr-analytics. \n",
    "1. Now do some exploratory data analysis to figure out which variables have direct and clear impact on employee retention (i.e. whether they leave the company or continue to work)\n",
    "2. Plot bar charts showing impact of employee salaries on retention\n",
    "3. Plot bar charts showing corelation between department and employee retention\n",
    "4. Now build logistic regression model using variables that were narrowed down in step 1\n",
    "5. Measure the accuracy of the model"
   ]
  }
 ],
 "metadata": {
  "kernelspec": {
   "display_name": "Python 3",
   "language": "python",
   "name": "python3"
  },
  "language_info": {
   "codemirror_mode": {
    "name": "ipython",
    "version": 3
   },
   "file_extension": ".py",
   "mimetype": "text/x-python",
   "name": "python",
   "nbconvert_exporter": "python",
   "pygments_lexer": "ipython3",
   "version": "3.7.3"
  }
 },
 "nbformat": 4,
 "nbformat_minor": 2
}
