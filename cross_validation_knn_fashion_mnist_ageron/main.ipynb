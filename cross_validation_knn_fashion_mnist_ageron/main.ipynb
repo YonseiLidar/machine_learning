{
 "cells": [
  {
   "cell_type": "markdown",
   "metadata": {},
   "source": [
    "[handson-ml2](https://github.com/ageron/handson-ml2)"
   ]
  },
  {
   "cell_type": "code",
   "execution_count": 7,
   "metadata": {},
   "outputs": [],
   "source": [
    "%matplotlib inline"
   ]
  },
  {
   "cell_type": "code",
   "execution_count": 8,
   "metadata": {},
   "outputs": [],
   "source": [
    "from data_loading.mnist_flat_loader import data_loading\n",
    "\n",
    "X_train, y_train, y_train_cls, X_test, y_test, y_test_cls, cls_names = data_loading()"
   ]
  },
  {
   "cell_type": "code",
   "execution_count": 9,
   "metadata": {},
   "outputs": [
    {
     "name": "stdout",
     "output_type": "stream",
     "text": [
      "KNN Score : 0.9714\n",
      "[[ 973    1    1    0    0    1    3    1    0    0]\n",
      " [   0 1132    2    0    0    0    1    0    0    0]\n",
      " [  10    5  995    2    1    0    0   16    3    0]\n",
      " [   0    1    3  974    1   14    1    7    4    5]\n",
      " [   1    5    0    0  950    0    4    3    0   19]\n",
      " [   4    0    0    9    2  862    7    1    3    4]\n",
      " [   4    2    0    0    3    3  946    0    0    0]\n",
      " [   0   17    4    0    3    0    0  994    0   10]\n",
      " [   5    2    4   14    5   11    4    4  920    5]\n",
      " [   3    4    2    7    9    4    1   10    1  968]]\n"
     ]
    }
   ],
   "source": [
    "from sklearn.neighbors import KNeighborsClassifier\n",
    "from sklearn.metrics import accuracy_score\n",
    "from sklearn.metrics import confusion_matrix\n",
    "\n",
    "clf = KNeighborsClassifier(n_jobs=-1, weights='distance', n_neighbors=4)\n",
    "clf.fit(X_train, y_train_cls)\n",
    "y_pred = clf.predict(X_test)\n",
    "print('KNN Score : {}'.format(accuracy_score(y_test_cls, y_pred)))\n",
    "print(confusion_matrix(y_test_cls, y_pred))"
   ]
  },
  {
   "cell_type": "code",
   "execution_count": 10,
   "metadata": {},
   "outputs": [],
   "source": [
    "from data_loading.fashion_mnist_flat_loader import data_loading\n",
    "\n",
    "X_train, y_train, y_train_cls, X_test, y_test, y_test_cls, cls_names = data_loading()"
   ]
  },
  {
   "cell_type": "code",
   "execution_count": 11,
   "metadata": {},
   "outputs": [
    {
     "name": "stdout",
     "output_type": "stream",
     "text": [
      "KNN Score : 0.8597\n",
      "[[834   0  17  18   4   1 121   1   4   0]\n",
      " [  5 972   3  11   4   0   4   0   1   0]\n",
      " [ 19   1 800  11  87   0  82   0   0   0]\n",
      " [ 26   5  11 870  37   0  48   0   3   0]\n",
      " [  2   2 112  26 768   0  88   0   2   0]\n",
      " [  1   0   0   0   0 834   4  85   0  76]\n",
      " [145   1 118  25  72   0 628   0  11   0]\n",
      " [  0   0   0   0   0   2   0 961   0  37]\n",
      " [  0   0  11   4   3   0  18   6 957   1]\n",
      " [  0   0   0   0   0   1   0  25   1 973]]\n"
     ]
    }
   ],
   "source": [
    "from sklearn.neighbors import KNeighborsClassifier\n",
    "from sklearn.metrics import accuracy_score\n",
    "from sklearn.metrics import confusion_matrix\n",
    "\n",
    "clf = KNeighborsClassifier(n_jobs=-1, weights='distance', n_neighbors=4)\n",
    "clf.fit(X_train, y_train_cls)\n",
    "y_pred = clf.predict(X_test)\n",
    "print('KNN Score : {}'.format(accuracy_score(y_test_cls, y_pred)))\n",
    "print(confusion_matrix(y_test_cls, y_pred))"
   ]
  },
  {
   "cell_type": "code",
   "execution_count": 4,
   "metadata": {},
   "outputs": [
    {
     "name": "stdout",
     "output_type": "stream",
     "text": [
      "Fitting 5 folds for each of 6 candidates, totalling 30 fits\n"
     ]
    },
    {
     "name": "stderr",
     "output_type": "stream",
     "text": [
      "[Parallel(n_jobs=-1)]: Using backend LokyBackend with 12 concurrent workers.\n",
      "[Parallel(n_jobs=-1)]: Done  18 out of  30 | elapsed: 56.6min remaining: 37.7min\n",
      "[Parallel(n_jobs=-1)]: Done  30 out of  30 | elapsed: 72.8min finished\n"
     ]
    },
    {
     "name": "stdout",
     "output_type": "stream",
     "text": [
      "KNN Score : 0.8597\n",
      "[[834   0  17  18   4   1 121   1   4   0]\n",
      " [  5 972   3  11   4   0   4   0   1   0]\n",
      " [ 19   1 800  11  87   0  82   0   0   0]\n",
      " [ 26   5  11 870  37   0  48   0   3   0]\n",
      " [  2   2 112  26 768   0  88   0   2   0]\n",
      " [  1   0   0   0   0 834   4  85   0  76]\n",
      " [145   1 118  25  72   0 628   0  11   0]\n",
      " [  0   0   0   0   0   2   0 961   0  37]\n",
      " [  0   0  11   4   3   0  18   6 957   1]\n",
      " [  0   0   0   0   0   1   0  25   1 973]]\n"
     ]
    }
   ],
   "source": [
    "from sklearn.neighbors import KNeighborsClassifier\n",
    "from sklearn.model_selection import GridSearchCV\n",
    "from sklearn.metrics import accuracy_score\n",
    "from sklearn.metrics import confusion_matrix\n",
    "\n",
    "param_grid = {'weights': [\"uniform\", \"distance\"], 'n_neighbors': [3, 4, 5]}\n",
    "knn_clf = KNeighborsClassifier()\n",
    "grid_search = GridSearchCV(knn_clf, param_grid, cv=5, verbose=3, n_jobs=-1)\n",
    "grid_search.fit(X_train, y_train_cls)\n",
    "\n",
    "y_pred = grid_search.predict(X_test)\n",
    "print('KNN Score : {}'.format(accuracy_score(y_test_cls, y_pred)))\n",
    "print(confusion_matrix(y_test_cls, y_pred))"
   ]
  },
  {
   "cell_type": "code",
   "execution_count": 5,
   "metadata": {},
   "outputs": [
    {
     "data": {
      "text/plain": [
       "{'n_neighbors': 4, 'weights': 'distance'}"
      ]
     },
     "execution_count": 5,
     "metadata": {},
     "output_type": "execute_result"
    }
   ],
   "source": [
    "grid_search.best_params_"
   ]
  },
  {
   "cell_type": "code",
   "execution_count": 6,
   "metadata": {},
   "outputs": [
    {
     "data": {
      "text/plain": [
       "0.8574166666666667"
      ]
     },
     "execution_count": 6,
     "metadata": {},
     "output_type": "execute_result"
    }
   ],
   "source": [
    "grid_search.best_score_"
   ]
  },
  {
   "cell_type": "code",
   "execution_count": null,
   "metadata": {},
   "outputs": [],
   "source": []
  }
 ],
 "metadata": {
  "kernelspec": {
   "display_name": "Python 3",
   "language": "python",
   "name": "python3"
  },
  "language_info": {
   "codemirror_mode": {
    "name": "ipython",
    "version": 3
   },
   "file_extension": ".py",
   "mimetype": "text/x-python",
   "name": "python",
   "nbconvert_exporter": "python",
   "pygments_lexer": "ipython3",
   "version": "3.7.3"
  }
 },
 "nbformat": 4,
 "nbformat_minor": 2
}
