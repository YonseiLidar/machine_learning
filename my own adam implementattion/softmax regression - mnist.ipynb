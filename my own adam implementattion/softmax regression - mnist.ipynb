{
 "cells": [
  {
   "cell_type": "code",
   "execution_count": 1,
   "metadata": {},
   "outputs": [
    {
     "name": "stdout",
     "output_type": "stream",
     "text": [
      "<class 'numpy.ndarray'>\n",
      "<class 'numpy.ndarray'>\n",
      "<class 'numpy.ndarray'>\n",
      "<class 'numpy.ndarray'>\n",
      "(60000, 28, 28)\n",
      "(60000,)\n",
      "(10000, 28, 28)\n",
      "(10000,)\n",
      "uint8\n",
      "uint8\n",
      "uint8\n",
      "uint8\n"
     ]
    }
   ],
   "source": [
    "import tensorflow as tf\n",
    "mnist = tf.keras.datasets.mnist\n",
    "(x_train, y_train), (x_test, y_test) = mnist.load_data()\n",
    "\n",
    "print(type(x_train)) # 60000장의 28-28 흙백사진\n",
    "print(type(y_train)) # 60000개의 정답지\n",
    "print(type(x_test))  # 10000장의 28-28 흙백사진\n",
    "print(type(y_test))  # 60000개의 정답지\n",
    "\n",
    "print(x_train.shape) # 60000장의 28-28 흙백사진\n",
    "print(y_train.shape) # 60000개의 정답지\n",
    "print(x_test.shape)  # 10000장의 28-28 흙백사진\n",
    "print(y_test.shape)  # 60000개의 정답지\n",
    "\n",
    "print(x_train.dtype) # 60000장의 28-28 흙백사진\n",
    "print(y_train.dtype) # 60000개의 정답지\n",
    "print(x_test.dtype)  # 10000장의 28-28 흙백사진\n",
    "print(y_test.dtype)  # 60000개의 정답지"
   ]
  },
  {
   "cell_type": "code",
   "execution_count": 2,
   "metadata": {},
   "outputs": [
    {
     "name": "stdout",
     "output_type": "stream",
     "text": [
      "<class 'numpy.ndarray'>\n",
      "<class 'numpy.ndarray'>\n",
      "<class 'numpy.ndarray'>\n",
      "<class 'numpy.ndarray'>\n",
      "<class 'numpy.ndarray'>\n",
      "<class 'numpy.ndarray'>\n",
      "(60000, 784)\n",
      "(60000, 10)\n",
      "(60000,)\n",
      "(10000, 784)\n",
      "(10000, 10)\n",
      "(10000,)\n",
      "float32\n",
      "float32\n",
      "int32\n",
      "float32\n",
      "float32\n",
      "int32\n"
     ]
    }
   ],
   "source": [
    "import tensorflow as tf\n",
    "import numpy as np\n",
    "import copy\n",
    "\n",
    "mnist = tf.keras.datasets.mnist\n",
    "(x_train, y_train), (x_test, y_test) = mnist.load_data()\n",
    "\n",
    "x_train, x_test = x_train / 255.0, x_test / 255.0\n",
    "x_train, x_test = x_train.reshape((-1, 784)), x_test.reshape((-1, 784))\n",
    "x_train, x_test = x_train.astype(np.float32), x_test.astype(np.float32)\n",
    "\n",
    "y_train_cls = y_train.astype(np.int32)\n",
    "y_test_cls = y_test.astype(np.int32) \n",
    "\n",
    "y_train = np.eye(10)[y_train].astype(np.float32)\n",
    "y_test = np.eye(10)[y_test].astype(np.float32)\n",
    "\n",
    "print(type(x_train)) \n",
    "print(type(y_train)) \n",
    "print(type(y_train_cls)) \n",
    "print(type(x_test))  \n",
    "print(type(y_test))  \n",
    "print(type(y_test_cls))  \n",
    "\n",
    "print(x_train.shape) \n",
    "print(y_train.shape) \n",
    "print(y_train_cls.shape) \n",
    "print(x_test.shape)  \n",
    "print(y_test.shape)  \n",
    "print(y_test_cls.shape)\n",
    "\n",
    "print(x_train.dtype) \n",
    "print(y_train.dtype) \n",
    "print(y_train_cls.dtype) \n",
    "print(x_test.dtype)  \n",
    "print(y_test.dtype)  \n",
    "print(y_test_cls.dtype)"
   ]
  },
  {
   "cell_type": "code",
   "execution_count": 3,
   "metadata": {},
   "outputs": [
    {
     "name": "stdout",
     "output_type": "stream",
     "text": [
      "WARNING:tensorflow:From /Users/sungchullee/.local/lib/python3.7/site-packages/tensorflow/python/framework/op_def_library.py:263: colocate_with (from tensorflow.python.framework.ops) is deprecated and will be removed in a future version.\n",
      "Instructions for updating:\n",
      "Colocations handled automatically by placer.\n"
     ]
    }
   ],
   "source": [
    "lr = 1e-2\n",
    "epoch = int(3e1)\n",
    "batch_size = 100\n",
    "\n",
    "import numpy as np; np.random.seed(0)\n",
    "import tensorflow as tf; tf.reset_default_graph()\n",
    "\n",
    "x = tf.placeholder(tf.float32, (None, 784)) # (?, 784)\n",
    "y = tf.placeholder(tf.float32, (None, 10)) # (?, 10)\n",
    "y_cls = tf.placeholder(tf.int32, (None,)) # (?,)\n",
    "\n",
    "init_w = tf.keras.initializers.VarianceScaling(seed=0)\n",
    "init_b = tf.keras.initializers.zeros()\n",
    "w = tf.get_variable('w', (784, 10), tf.float32, init_w)\n",
    "b = tf.get_variable('b', (10,), tf.float32, init_b)\n",
    "\n",
    "logits = x @ w + b # (?,10) = (?, 784) @ (784, 10) + (10,) \n",
    "entropy = tf.nn.softmax_cross_entropy_with_logits_v2(labels=y, \n",
    "                                                     logits=logits) # (?,)\n",
    "loss = tf.reduce_mean(entropy) # ()\n",
    "\n",
    "opt = tf.train.AdamOptimizer(lr)\n",
    "train = opt.minimize(loss)\n",
    "\n",
    "y_pred_cls = tf.cast(tf.argmax(logits, axis=1), \n",
    "                     tf.int32, name='y_pred_cls') # (?,) int32\n",
    "correct_bool = tf.equal(y_pred_cls, y_cls, \n",
    "                        name='correct_bool') # (?,) bool\n",
    "accuracy = tf.reduce_mean(tf.cast(correct_bool, tf.float32), \n",
    "                          name='accuracy') # () float32\n",
    "\n",
    "init = tf.global_variables_initializer()"
   ]
  },
  {
   "cell_type": "code",
   "execution_count": 4,
   "metadata": {},
   "outputs": [
    {
     "name": "stdout",
     "output_type": "stream",
     "text": [
      "1/30 loss 0.3568369448184967, accuracy 0.8984333276748657 \n",
      "2/30 loss 0.29591622948646545, accuracy 0.9169334173202515 \n",
      "3/30 loss 0.2866867482662201, accuracy 0.9195333123207092 \n",
      "4/30 loss 0.2821144759654999, accuracy 0.921383261680603 \n",
      "5/30 loss 0.27895843982696533, accuracy 0.9226166605949402 \n",
      "6/30 loss 0.27760156989097595, accuracy 0.9229832887649536 \n",
      "7/30 loss 0.27395379543304443, accuracy 0.9243666529655457 \n",
      "8/30 loss 0.27362510561943054, accuracy 0.9243666529655457 \n",
      "9/30 loss 0.2716757357120514, accuracy 0.9245166182518005 \n",
      "10/30 loss 0.2714900076389313, accuracy 0.9247499704360962 \n",
      "11/30 loss 0.2712428867816925, accuracy 0.9250999689102173 \n",
      "12/30 loss 0.2716073989868164, accuracy 0.9250167012214661 \n",
      "13/30 loss 0.26563355326652527, accuracy 0.9261665940284729 \n",
      "14/30 loss 0.27085816860198975, accuracy 0.9251165986061096 \n",
      "15/30 loss 0.2673291862010956, accuracy 0.9249499440193176 \n",
      "16/30 loss 0.2659061551094055, accuracy 0.9271332621574402 \n",
      "17/30 loss 0.26546016335487366, accuracy 0.9266833662986755 \n",
      "18/30 loss 0.264359712600708, accuracy 0.9267333149909973 \n",
      "19/30 loss 0.2652074694633484, accuracy 0.9254998564720154 \n",
      "20/30 loss 0.2656377851963043, accuracy 0.9268999099731445 \n",
      "21/30 loss 0.26310598850250244, accuracy 0.9267833232879639 \n",
      "22/30 loss 0.2617136836051941, accuracy 0.9279166460037231 \n",
      "23/30 loss 0.2608388066291809, accuracy 0.92659991979599 \n",
      "24/30 loss 0.26345911622047424, accuracy 0.9256833791732788 \n",
      "25/30 loss 0.2596281170845032, accuracy 0.9272167086601257 \n",
      "26/30 loss 0.2612553834915161, accuracy 0.9262332916259766 \n",
      "27/30 loss 0.2591690123081207, accuracy 0.9280499219894409 \n",
      "28/30 loss 0.25848838686943054, accuracy 0.9278332591056824 \n",
      "29/30 loss 0.26112306118011475, accuracy 0.9268666505813599 \n",
      "30/30 loss 0.2612210810184479, accuracy 0.9267666339874268 \n"
     ]
    }
   ],
   "source": [
    "with tf.Session() as sess:\n",
    "    \n",
    "    sess.run(init)\n",
    "    \n",
    "    loss_trace = []\n",
    "    accuracy_trace = []\n",
    "\n",
    "    for i in range(epoch):\n",
    "        \n",
    "        idx = np.arange(x_train.shape[0])\n",
    "        np.random.shuffle(idx)\n",
    "        \n",
    "        x_epoch = x_train[idx]\n",
    "        y_epoch = y_train[idx]\n",
    "        y_cls_epoch = y_train_cls[idx]\n",
    "        \n",
    "        for k in range(x_train.shape[0]//batch_size):\n",
    "            \n",
    "            if k==0:\n",
    "                loss_temp = []\n",
    "                accuracy_temp = []\n",
    "                \n",
    "            x_batch = x_epoch[k*batch_size:(k+1)*batch_size]\n",
    "            y_batch = y_epoch[k*batch_size:(k+1)*batch_size]\n",
    "            y_cls_batch = y_cls_epoch[k*batch_size:(k+1)*batch_size]\n",
    "            \n",
    "            feed_dict = {x:x_batch, y:y_batch, y_cls:y_cls_batch}\n",
    "            \n",
    "            loss_run, accuracy_run, _ = sess.run([loss, accuracy, train], \n",
    "                                                 feed_dict=feed_dict)\n",
    "            \n",
    "            loss_temp.append(loss_run) \n",
    "            accuracy_temp.append(accuracy_run)\n",
    "        \n",
    "        loss_avg = np.array(loss_temp).mean()\n",
    "        accuracy_avg = np.array(accuracy_temp).mean()\n",
    "        loss_trace.append(loss_avg)\n",
    "        accuracy_trace.append(accuracy_avg)\n",
    "        \n",
    "#         if i%100 == 0:\n",
    "#             print(f'{i+1}/{epoch} loss {loss_avg}, accuracy {accuracy_avg}')\n",
    "#         elif i+1 == epoch:\n",
    "#             print(f'{i+1}/{epoch} loss {loss_avg}, accuracy {accuracy_avg}')\n",
    "        print(f'{i+1}/{epoch} loss {loss_avg}, accuracy {accuracy_avg} ')\n",
    "    \n",
    "    feed_dict = {x:x_test, y:y_test, y_cls:y_test_cls}\n",
    "    accuracy_run, y_test_cls_pred = sess.run([accuracy, y_pred_cls], \n",
    "                                             feed_dict=feed_dict)"
   ]
  },
  {
   "cell_type": "code",
   "execution_count": 5,
   "metadata": {},
   "outputs": [
    {
     "data": {
      "image/png": "[encoded data removed]",
      "text/plain": [
       "<Figure size 432x288 with 1 Axes>"
      ]
     },
     "metadata": {
      "needs_background": "light"
     },
     "output_type": "display_data"
    }
   ],
   "source": [
    "import matplotlib.pyplot as plt\n",
    "\n",
    "fig, ax1 = plt.subplots()\n",
    "\n",
    "ax1.plot(loss_trace, color='red', label='loss')\n",
    "plt.legend(loc='center left')\n",
    "\n",
    "# ax2 = ax1.twinx() \n",
    "# ax2.plot(accuracy_trace, color='blue', label='accuracy')\n",
    "# plt.legend(loc='center right')\n",
    "\n",
    "plt.show()"
   ]
  },
  {
   "cell_type": "code",
   "execution_count": 6,
   "metadata": {},
   "outputs": [
    {
     "name": "stdout",
     "output_type": "stream",
     "text": [
      "Test Period Accuracy : 0.9146999716758728\n"
     ]
    }
   ],
   "source": [
    "print(f'Test Period Accuracy : {accuracy_run}')"
   ]
  },
  {
   "cell_type": "code",
   "execution_count": 7,
   "metadata": {},
   "outputs": [
    {
     "name": "stdout",
     "output_type": "stream",
     "text": [
      "[[ 952    0    3    2    3    8    7    2    2    1]\n",
      " [   0 1119    4    2    0    1    3    1    5    0]\n",
      " [   9   16  896   22   10    3   10   10   52    4]\n",
      " [   4    1   14  929    4   19    2    9   23    5]\n",
      " [   1    3    7    6  930    0    4    4    6   21]\n",
      " [   6    3    3   39   10  744   13    4   64    6]\n",
      " [   7    3    7    2   12   32  888    1    6    0]\n",
      " [   1   13   17   14    7    2    0  932    4   38]\n",
      " [   6   15    3   26   13   23    5    9  859   15]\n",
      " [   7    8    2    8   46    9    0   20   11  898]]\n"
     ]
    }
   ],
   "source": [
    "from sklearn.metrics import confusion_matrix \n",
    "cm = confusion_matrix(y_true=y_test_cls, y_pred=y_test_cls_pred)\n",
    "print(cm)"
   ]
  },
  {
   "cell_type": "code",
   "execution_count": 8,
   "metadata": {},
   "outputs": [
    {
     "data": {
      "image/png": "[encoded data removed]",
      "text/plain": [
       "<Figure size 720x216 with 20 Axes>"
      ]
     },
     "metadata": {
      "needs_background": "light"
     },
     "output_type": "display_data"
    }
   ],
   "source": [
    "import matplotlib.pyplot as plt\n",
    "\n",
    "fig, axes = plt.subplots(2, 10, figsize=(10,3))\n",
    "\n",
    "idx = 0\n",
    "for ax in axes.reshape((-1,)):\n",
    "    while True:\n",
    "        if y_test_cls[idx]==y_test_cls_pred[idx]:\n",
    "            idx += 1\n",
    "        else:\n",
    "            ax.imshow(x_test[idx].reshape((28,28)), cmap=plt.cm.binary)\n",
    "            true_label = y_test_cls[idx]\n",
    "            pred_label = y_test_cls_pred[idx]\n",
    "            title = f'True: {true_label}\\nPred: {pred_label}'\n",
    "            ax.set_title(title)\n",
    "            ax.axis('off')\n",
    "            idx += 1\n",
    "            break\n",
    "            \n",
    "plt.tight_layout()\n",
    "\n",
    "plt.show()"
   ]
  },
  {
   "cell_type": "code",
   "execution_count": null,
   "metadata": {},
   "outputs": [],
   "source": []
  }
 ],
 "metadata": {
  "kernelspec": {
   "display_name": "Python 3",
   "language": "python",
   "name": "python3"
  },
  "language_info": {
   "codemirror_mode": {
    "name": "ipython",
    "version": 3
   },
   "file_extension": ".py",
   "mimetype": "text/x-python",
   "name": "python",
   "nbconvert_exporter": "python",
   "pygments_lexer": "ipython3",
   "version": "3.7.7"
  }
 },
 "nbformat": 4,
 "nbformat_minor": 2
}
