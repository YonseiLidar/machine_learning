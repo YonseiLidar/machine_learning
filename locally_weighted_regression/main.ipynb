{
 "cells": [
  {
   "cell_type": "markdown",
   "metadata": {},
   "source": [
    "[Ng](https://www.youtube.com/watch?v=HZ4cvaztQEs&list=PLA89DCFA6ADACE599&index=3)\n",
    "[Moore](https://www.researchgate.net/publication/2876413_An_Intoductory_Tutorial_on_Kd-Trees)"
   ]
  },
  {
   "cell_type": "markdown",
   "metadata": {},
   "source": [
    "<div align=\"center\"><img src=\"img/Screen Shot 2019-09-14 at 8.41.26 PM.png\" width=\"50%\" height=\"30%\"></div>\n",
    "<div align=\"center\"><img src=\"img/Screen Shot 2019-09-14 at 8.41.47 PM.png\" width=\"50%\" height=\"30%\"></div>\n",
    "<div align=\"center\"><img src=\"img/Screen Shot 2019-09-14 at 8.42.05 PM.png\" width=\"50%\" height=\"30%\"></div>\n",
    "<div align=\"center\"><img src=\"img/Screen Shot 2019-09-14 at 10.06.23 PM.png\" width=\"50%\" height=\"30%\"></div>\n",
    "\n",
    "[Ng](https://www.youtube.com/watch?v=HZ4cvaztQEs&list=PLA89DCFA6ADACE599&index=3)"
   ]
  },
  {
   "cell_type": "code",
   "execution_count": null,
   "metadata": {},
   "outputs": [],
   "source": []
  }
 ],
 "metadata": {
  "kernelspec": {
   "display_name": "Python 3",
   "language": "python",
   "name": "python3"
  },
  "language_info": {
   "codemirror_mode": {
    "name": "ipython",
    "version": 3
   },
   "file_extension": ".py",
   "mimetype": "text/x-python",
   "name": "python",
   "nbconvert_exporter": "python",
   "pygments_lexer": "ipython3",
   "version": "3.7.3"
  }
 },
 "nbformat": 4,
 "nbformat_minor": 2
}
