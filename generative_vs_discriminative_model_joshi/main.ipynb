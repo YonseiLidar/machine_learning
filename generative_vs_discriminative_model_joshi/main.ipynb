{
 "cells": [
  {
   "cell_type": "markdown",
   "metadata": {},
   "source": [
    "[Prathap_Manohar_Joshi](https://medium.com/@mlengineer/generative-and-discriminative-models-af5637a66a3)"
   ]
  },
  {
   "cell_type": "markdown",
   "metadata": {},
   "source": [
    "<div align=\"center\"><img src=\"img/Screen Shot 2019-09-02 at 1.15.00 PM.png\" width=\"100%\" height=\"30%\"></div>\n",
    "\n",
    "[Prathap_Manohar_Joshi](https://medium.com/@mlengineer/generative-and-discriminative-models-af5637a66a3)"
   ]
  },
  {
   "cell_type": "markdown",
   "metadata": {},
   "source": [
    "<div align=\"center\"><img src=\"img/Screen Shot 2019-09-02 at 1.17.19 PM.png\" width=\"40%\" height=\"30%\"></div>\n",
    "\n",
    "[Prathap_Manohar_Joshi](https://medium.com/@mlengineer/generative-and-discriminative-models-af5637a66a3)"
   ]
  },
  {
   "cell_type": "markdown",
   "metadata": {},
   "source": [
    "<div align=\"center\"><img src=\"img/Screen Shot 2019-09-02 at 1.17.26 PM.png\" width=\"40%\" height=\"30%\"></div>\n",
    "\n",
    "[Prathap_Manohar_Joshi](https://medium.com/@mlengineer/generative-and-discriminative-models-af5637a66a3)"
   ]
  },
  {
   "cell_type": "code",
   "execution_count": null,
   "metadata": {},
   "outputs": [],
   "source": []
  }
 ],
 "metadata": {
  "kernelspec": {
   "display_name": "Python 3",
   "language": "python",
   "name": "python3"
  },
  "language_info": {
   "codemirror_mode": {
    "name": "ipython",
    "version": 3
   },
   "file_extension": ".py",
   "mimetype": "text/x-python",
   "name": "python",
   "nbconvert_exporter": "python",
   "pygments_lexer": "ipython3",
   "version": "3.7.3"
  }
 },
 "nbformat": 4,
 "nbformat_minor": 2
}
