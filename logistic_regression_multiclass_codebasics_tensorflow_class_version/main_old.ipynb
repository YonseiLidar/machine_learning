{
 "cells": [
  {
   "cell_type": "markdown",
   "metadata": {},
   "source": [
    "[codebasics](https://www.youtube.com/watch?v=J5bXOOmkopc&list=PLeo1K3hjS3uvCeTYTeyfe0-rN5r8zn9rw&index=9)"
   ]
  },
  {
   "cell_type": "code",
   "execution_count": 10,
   "metadata": {},
   "outputs": [
    {
     "name": "stdout",
     "output_type": "stream",
     "text": [
      "(1797, 64)\n",
      "(1797,)\n"
     ]
    }
   ],
   "source": [
    "%matplotlib inline\n",
    "from sklearn.datasets import load_digits\n",
    "import matplotlib.pyplot as plt\n",
    "digits = load_digits()\n",
    "print(digits.data.shape)\n",
    "print(digits.target.shape)"
   ]
  },
  {
   "cell_type": "code",
   "execution_count": 1,
   "metadata": {},
   "outputs": [
    {
     "ename": "NameError",
     "evalue": "name 'lr' is not defined",
     "output_type": "error",
     "traceback": [
      "\u001b[0;31m---------------------------------------------------------------------------\u001b[0m",
      "\u001b[0;31mNameError\u001b[0m                                 Traceback (most recent call last)",
      "\u001b[0;32m<ipython-input-1-c426294ba8a5>\u001b[0m in \u001b[0;36m<module>\u001b[0;34m\u001b[0m\n\u001b[1;32m     25\u001b[0m \u001b[0mentropy\u001b[0m \u001b[0;34m=\u001b[0m \u001b[0mtf\u001b[0m\u001b[0;34m.\u001b[0m\u001b[0mnn\u001b[0m\u001b[0;34m.\u001b[0m\u001b[0msoftmax_cross_entropy_with_logits_v2\u001b[0m\u001b[0;34m(\u001b[0m\u001b[0mlogits\u001b[0m\u001b[0;34m=\u001b[0m\u001b[0mlogits\u001b[0m\u001b[0;34m,\u001b[0m \u001b[0mlabels\u001b[0m\u001b[0;34m=\u001b[0m\u001b[0my\u001b[0m\u001b[0;34m)\u001b[0m \u001b[0;31m# (?,)\u001b[0m\u001b[0;34m\u001b[0m\u001b[0;34m\u001b[0m\u001b[0m\n\u001b[1;32m     26\u001b[0m \u001b[0mloss\u001b[0m \u001b[0;34m=\u001b[0m \u001b[0mtf\u001b[0m\u001b[0;34m.\u001b[0m\u001b[0mreduce_mean\u001b[0m\u001b[0;34m(\u001b[0m\u001b[0mentropy\u001b[0m\u001b[0;34m)\u001b[0m \u001b[0;31m# ()\u001b[0m\u001b[0;34m\u001b[0m\u001b[0;34m\u001b[0m\u001b[0m\n\u001b[0;32m---> 27\u001b[0;31m \u001b[0mtrain\u001b[0m \u001b[0;34m=\u001b[0m \u001b[0mtf\u001b[0m\u001b[0;34m.\u001b[0m\u001b[0mtrain\u001b[0m\u001b[0;34m.\u001b[0m\u001b[0mGradientDescentOptimizer\u001b[0m\u001b[0;34m(\u001b[0m\u001b[0mlearning_rate\u001b[0m\u001b[0;34m=\u001b[0m\u001b[0mlr\u001b[0m\u001b[0;34m)\u001b[0m\u001b[0;34m.\u001b[0m\u001b[0mminimize\u001b[0m\u001b[0;34m(\u001b[0m\u001b[0mloss\u001b[0m\u001b[0;34m)\u001b[0m\u001b[0;34m\u001b[0m\u001b[0;34m\u001b[0m\u001b[0m\n\u001b[0m\u001b[1;32m     28\u001b[0m \u001b[0;34m\u001b[0m\u001b[0m\n\u001b[1;32m     29\u001b[0m \u001b[0my_pred_prob\u001b[0m \u001b[0;34m=\u001b[0m \u001b[0mtf\u001b[0m\u001b[0;34m.\u001b[0m\u001b[0mnn\u001b[0m\u001b[0;34m.\u001b[0m\u001b[0msoftmax\u001b[0m\u001b[0;34m(\u001b[0m\u001b[0mlogits\u001b[0m\u001b[0;34m)\u001b[0m\u001b[0;34m\u001b[0m\u001b[0;34m\u001b[0m\u001b[0m\n",
      "\u001b[0;31mNameError\u001b[0m: name 'lr' is not defined"
     ]
    }
   ],
   "source": [
    "%matplotlib inline\n",
    "import tensorflow as tf\n",
    "import pandas as pd\n",
    "import numpy as np\n",
    "import matplotlib.pyplot as plt\n",
    "\n",
    "np.random.seed(0)\n",
    "tf.set_random_seed(0)\n",
    "\n",
    "\n",
    "x = tf.placeholder(tf.float32, shape=(None,64)) \n",
    "y = tf.placeholder(tf.float32, shape=(None,10)) # 0001000000\n",
    "y_cls = tf.placeholder(tf.int32, shape=(None,)) # 3 \n",
    "\n",
    "if 1:\n",
    "    beta = tf.get_variable('beta', (64,10), dtype=tf.float32, initializer=tf.keras.initializers.constant(1.0))\n",
    "elif 0:\n",
    "    beta = tf.get_variable('beta', (64,10), dtype=tf.float32, initializer=tf.keras.initializers.constant(0.5))\n",
    "elif 1:\n",
    "    beta = tf.get_variable('beta', (64,10), dtype=tf.float32, initializer=tf.keras.initializers.RandomUniform())\n",
    "elif 1:\n",
    "    beta = tf.get_variable('beta', (64,10), dtype=tf.float32, initializer=tf.keras.initializers.RandomNormal())\n",
    "\n",
    "logits = x @ beta # (?,10) = (?,64) @ (64,10)\n",
    "entropy = tf.nn.softmax_cross_entropy_with_logits_v2(logits=logits, labels=y) # (?,) \n",
    "loss = tf.reduce_mean(entropy) # ()\n",
    "train = tf.train.GradientDescentOptimizer(learning_rate=lr).minimize(loss)\n",
    "\n",
    "y_pred_prob = tf.nn.softmax(logits)\n",
    "y_pred_cls = tf.cast(tf.argmax(logits, axis=1), tf.int32)\n",
    "correct_bool = tf.equal(y_pred_cls, y_cls)\n",
    "accuracy = tf.reduce_mean(tf.cast(correct_bool, tf.float32))\n",
    "\n",
    "with tf.Session() as sess:\n",
    "    \n",
    "    tf.global_variables_initializer().run()\n",
    "    \n",
    "    beta0_trace = []\n",
    "    beta1_trace = []\n",
    "    beta2_trace = []\n",
    "    beta3_trace = []\n",
    "    beta4_trace = []\n",
    "    beta5_trace = []\n",
    "    beta6_trace = []\n",
    "    beta7_trace = []\n",
    "    beta8_trace = []\n",
    "    beta9_trace = []\n",
    "    loss_trace = []\n",
    "    \n",
    "    gradient_step = -1\n",
    "    for i in range(epoch):\n",
    "        idx = np.arange(x_train.shape[0])\n",
    "        np.random.shuffle(idx)\n",
    "        x_data = x_train[idx]\n",
    "        y_data = y_train[idx]\n",
    "        for j in range((x_train.shape[0]//batch_size)-1):\n",
    "            gradient_step += 1\n",
    "            feed_dict = {x: x_data[j*batch_size:(j+1)*batch_size], \n",
    "                         y: y_data[j*batch_size:(j+1)*batch_size]}\n",
    "            if gradient_step == 0:\n",
    "                beta_run, loss_run = sess.run([beta, loss], feed_dict=feed_dict)\n",
    "                beta0_trace.append(beta_run[23,7])\n",
    "                beta1_trace.append(beta_run[15,7])\n",
    "                beta2_trace.append(beta_run[55,7])\n",
    "                beta3_trace.append(beta_run[33,7])\n",
    "                loss_trace.append(loss_run) \n",
    "            elif gradient_step % 100 == 0:\n",
    "                beta_run, loss_run, _ = sess.run([beta, loss, train], feed_dict=feed_dict)\n",
    "                beta0_trace.append(beta_run[23,7])\n",
    "                beta1_trace.append(beta_run[15,7])\n",
    "                beta2_trace.append(beta_run[55,7])\n",
    "                beta3_trace.append(beta_run[33,7])\n",
    "                loss_trace.append(loss_run) \n",
    "            else:\n",
    "                sess.run(train, feed_dict=feed_dict)\n",
    "                \n",
    "    feed_dict = {x: x_test, y: y_test, y_cls: y_test_cls}\n",
    "    test_accuracy = sess.run(accuracy, feed_dict=feed_dict)\n",
    "    print(test_accuracy)\n",
    "    y_test_pred_cls = sess.run(y_pred_cls, feed_dict=feed_dict)\n",
    "    from sklearn.metrics import confusion_matrix\n",
    "    cm = confusion_matrix(y_test_cls, y_test_pred_cls)\n",
    "    print(cm)\n",
    "\n",
    "fig, (ax0,ax1,ax2,ax3,ax4) = plt.subplots(1, 5)\n",
    "ax0.plot(beta0_trace)\n",
    "ax0.set_xlabel('epoch')\n",
    "ax0.set_title('beta0')\n",
    "ax1.plot(beta1_trace)\n",
    "ax1.set_xlabel('epoch')\n",
    "ax1.set_title('beta1')\n",
    "ax2.plot(beta2_trace)\n",
    "ax2.set_xlabel('epoch')\n",
    "ax2.set_title('beta2')\n",
    "ax3.plot(beta3_trace)\n",
    "ax3.set_xlabel('epoch')\n",
    "ax3.set_title('beta3')\n",
    "ax4.plot(loss_trace)\n",
    "ax4.set_xlabel('epoch')\n",
    "ax4.set_title('loss')\n",
    "plt.tight_layout()\n",
    "plt.show()"
   ]
  },
  {
   "cell_type": "code",
   "execution_count": null,
   "metadata": {},
   "outputs": [],
   "source": []
  }
 ],
 "metadata": {
  "kernelspec": {
   "display_name": "Python 3",
   "language": "python",
   "name": "python3"
  },
  "language_info": {
   "codemirror_mode": {
    "name": "ipython",
    "version": 3
   },
   "file_extension": ".py",
   "mimetype": "text/x-python",
   "name": "python",
   "nbconvert_exporter": "python",
   "pygments_lexer": "ipython3",
   "version": "3.6.9"
  }
 },
 "nbformat": 4,
 "nbformat_minor": 2
}
