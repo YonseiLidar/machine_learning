{
 "cells": [
  {
   "cell_type": "code",
   "execution_count": 1,
   "metadata": {},
   "outputs": [],
   "source": [
    "%matplotlib inline"
   ]
  },
  {
   "cell_type": "code",
   "execution_count": 2,
   "metadata": {},
   "outputs": [
    {
     "name": "stderr",
     "output_type": "stream",
     "text": [
      "WARNING: Logging before flag parsing goes to stderr.\n",
      "W0720 23:38:03.283215 4608394688 lazy_loader.py:50] \n",
      "The TensorFlow contrib module will not be included in TensorFlow 2.0.\n",
      "For more information, please see:\n",
      "  * https://github.com/tensorflow/community/blob/master/rfcs/20180907-contrib-sunset.md\n",
      "  * https://github.com/tensorflow/addons\n",
      "  * https://github.com/tensorflow/io (for I/O related ops)\n",
      "If you depend on functionality not listed there, please file an issue.\n",
      "\n",
      "W0720 23:38:03.290358 4608394688 deprecation_wrapper.py:119] From /Users/sungchul/Dropbox/Git/machine_learning/linear_regression_tensorflow_class_version/model/linear_regression.py:38: The name tf.set_random_seed is deprecated. Please use tf.compat.v1.set_random_seed instead.\n",
      "\n",
      "W0720 23:38:03.290935 4608394688 deprecation_wrapper.py:119] From /Users/sungchul/Dropbox/Git/machine_learning/linear_regression_tensorflow_class_version/model/linear_regression.py:42: The name tf.placeholder is deprecated. Please use tf.compat.v1.placeholder instead.\n",
      "\n",
      "W0720 23:38:03.294353 4608394688 deprecation_wrapper.py:119] From /Users/sungchul/Dropbox/Git/machine_learning/linear_regression_tensorflow_class_version/model/linear_regression.py:60: The name tf.get_variable is deprecated. Please use tf.compat.v1.get_variable instead.\n",
      "\n",
      "W0720 23:38:03.308425 4608394688 deprecation_wrapper.py:119] From /Users/sungchul/Dropbox/Git/machine_learning/linear_regression_tensorflow_class_version/model/linear_regression.py:48: The name tf.train.AdamOptimizer is deprecated. Please use tf.compat.v1.train.AdamOptimizer instead.\n",
      "\n",
      "W0720 23:38:03.354572 4608394688 deprecation_wrapper.py:119] From /Users/sungchul/Dropbox/Git/machine_learning/linear_regression_tensorflow_class_version/model/linear_regression.py:110: The name tf.global_variables_initializer is deprecated. Please use tf.compat.v1.global_variables_initializer instead.\n",
      "\n"
     ]
    },
    {
     "name": "stdout",
     "output_type": "stream",
     "text": [
      "[[1.76405235]\n",
      " [0.40015721]]\n"
     ]
    },
    {
     "name": "stderr",
     "output_type": "stream",
     "text": [
      "W0720 23:38:05.526162 4608394688 deprecation_wrapper.py:119] From /Users/sungchul/Dropbox/Git/machine_learning/linear_regression_tensorflow_class_version/model/linear_regression.py:94: The name tf.train.Saver is deprecated. Please use tf.compat.v1.train.Saver instead.\n",
      "\n"
     ]
    },
    {
     "name": "stdout",
     "output_type": "stream",
     "text": [
      "[[1.7584354 ]\n",
      " [0.40238902]]\n",
      "mean squared error :  0.008480569373069853\n",
      "R square           :  0.9533294586535458\n"
     ]
    },
    {
     "data": {
      "image/png": "[encoded data removed]",
      "text/plain": [
       "<Figure size 432x288 with 1 Axes>"
      ]
     },
     "metadata": {
      "needs_background": "light"
     },
     "output_type": "display_data"
    }
   ],
   "source": [
    "import tensorflow as tf\n",
    "from data_loading.generate_data import data_loading\n",
    "from model.linear_regression import LinearRegression \n",
    "    \n",
    "x_train, y_train, x_test, y_test, coeff = data_loading()\n",
    "print(coeff)\n",
    "\n",
    "with tf.Session() as sess:\n",
    "    a = LinearRegression(x_train, y_train, sess)\n",
    "    a.train()\n",
    "    print(a.coeff)\n",
    "\n",
    "    y_test_pred = a.predict(x_test)\n",
    "    a.fit_measure(y_test, y_test_pred)\n",
    "    a.plot_y_and_y_pred(x_test, y_test, y_test_pred)"
   ]
  },
  {
   "cell_type": "code",
   "execution_count": null,
   "metadata": {},
   "outputs": [],
   "source": []
  }
 ],
 "metadata": {
  "kernelspec": {
   "display_name": "Python 3",
   "language": "python",
   "name": "python3"
  },
  "language_info": {
   "codemirror_mode": {
    "name": "ipython",
    "version": 3
   },
   "file_extension": ".py",
   "mimetype": "text/x-python",
   "name": "python",
   "nbconvert_exporter": "python",
   "pygments_lexer": "ipython3",
   "version": "3.7.3"
  }
 },
 "nbformat": 4,
 "nbformat_minor": 2
}
