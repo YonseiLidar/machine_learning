{
 "cells": [
  {
   "cell_type": "code",
   "execution_count": 1,
   "metadata": {},
   "outputs": [],
   "source": [
    "import numpy as np\n",
    "\n",
    "# t = 0\n",
    "# batch_size = 4\n",
    "# n_features = 3\n",
    "x_0_batch = np.array(\n",
    "    [[0, 1, 2], \n",
    "     [3, 4, 5], \n",
    "     [6, 7, 8], \n",
    "     [9, 0, 1]]) "
   ]
  },
  {
   "cell_type": "code",
   "execution_count": 2,
   "metadata": {},
   "outputs": [],
   "source": [
    "# t = 1\n",
    "# batch_size = 4\n",
    "# n_features = 3\n",
    "x_1_batch = np.array(\n",
    "    [[9, 8, 7], \n",
    "     [0, 0, 0], \n",
    "     [6, 5, 4], \n",
    "     [3, 2, 1]]) "
   ]
  },
  {
   "cell_type": "code",
   "execution_count": 3,
   "metadata": {},
   "outputs": [],
   "source": [
    "import tensorflow as tf\n",
    "import numpy as np\n",
    "tf.reset_default_graph()\n",
    "tf.set_random_seed(0)\n",
    "np.random.seed(0)"
   ]
  },
  {
   "cell_type": "code",
   "execution_count": 4,
   "metadata": {},
   "outputs": [],
   "source": [
    "# for a time series data of batch_size = 1\n",
    "# at each time t\n",
    "# observation.shape = (n_inputs,)\n",
    "n_inputs = 3"
   ]
  },
  {
   "cell_type": "code",
   "execution_count": 5,
   "metadata": {},
   "outputs": [],
   "source": [
    "# internally current state is represented by neurons \n",
    "# n_neurons.shape = (n_neurons,)\n",
    "n_neurons = 5"
   ]
  },
  {
   "cell_type": "code",
   "execution_count": 6,
   "metadata": {},
   "outputs": [],
   "source": [
    "# placehoder to feed batch data of time 0\n",
    "x_0 = tf.placeholder(tf.float32, [None, n_inputs])"
   ]
  },
  {
   "cell_type": "code",
   "execution_count": 7,
   "metadata": {},
   "outputs": [],
   "source": [
    "# placehoder to feed batch data of time 1\n",
    "x_1 = tf.placeholder(tf.float32, [None, n_inputs])"
   ]
  },
  {
   "cell_type": "code",
   "execution_count": 8,
   "metadata": {},
   "outputs": [],
   "source": [
    "init_w = tf.keras.initializers.VarianceScaling(mode='fan_avg')\n",
    "init_b = tf.keras.initializers.zeros()\n",
    "\n",
    "w_x = tf.get_variable('w_x', [n_inputs, n_neurons], tf.float32, init_w)\n",
    "w_y = tf.get_variable('w_y', [n_neurons,n_neurons], tf.float32, init_w)\n",
    "b = tf.get_variable('b', [1, n_neurons], tf.float32, init_b)"
   ]
  },
  {
   "cell_type": "markdown",
   "metadata": {},
   "source": [
    "$$\n",
    "y_t = \\varphi\\left(y_{t-1}W_y+x_tW_x+b\\right)\n",
    "$$"
   ]
  },
  {
   "cell_type": "code",
   "execution_count": 9,
   "metadata": {},
   "outputs": [],
   "source": [
    "y__1 = tf.constant([[0., 0., 0., 0., 0.]]) # output at t = -1\n",
    "y_0 = tf.tanh(y__1@w_y+x_0@w_x+b)          # output at t = 0\n",
    "y_1 = tf.tanh(y_0@w_y+x_1@w_x+b)           # output at t = 1"
   ]
  },
  {
   "cell_type": "code",
   "execution_count": 10,
   "metadata": {},
   "outputs": [],
   "source": [
    "init = tf.global_variables_initializer()"
   ]
  },
  {
   "cell_type": "code",
   "execution_count": 11,
   "metadata": {},
   "outputs": [],
   "source": [
    "with tf.Session() as sess:\n",
    "    \n",
    "    init.run()\n",
    "    \n",
    "    feed_dict = {x_0: x_0_batch, x_1: x_1_batch}\n",
    "    y_0_val, y_1_val = sess.run([y_0, y_1], feed_dict=feed_dict)"
   ]
  },
  {
   "cell_type": "code",
   "execution_count": 12,
   "metadata": {},
   "outputs": [
    {
     "name": "stdout",
     "output_type": "stream",
     "text": [
      "[[-0.56105095  0.91834176  0.5135985  -0.6539502  -0.13548155]\n",
      " [-0.5136927   0.9940348   0.9864494  -0.9958844   0.31813723]\n",
      " [-0.4629826   0.9995796   0.9997104  -0.9999594   0.66149455]\n",
      " [ 0.81087196 -0.18508233  0.9615377  -0.9983009   0.9991952 ]]\n"
     ]
    }
   ],
   "source": [
    "print(y_0_val) # output at t = 0"
   ]
  },
  {
   "cell_type": "code",
   "execution_count": 13,
   "metadata": {},
   "outputs": [
    {
     "name": "stdout",
     "output_type": "stream",
     "text": [
      "[[ 0.8553927   0.96498966  0.9997008  -0.9999967   0.9578201 ]\n",
      " [ 0.22906882 -0.78643215 -0.73852944 -0.08315186  0.6745081 ]\n",
      " [ 0.75410056 -0.32146144  0.9891128  -0.9988326   0.9633329 ]\n",
      " [-0.34363183 -0.9705283   0.75431883  0.29336378  0.90682846]]\n"
     ]
    }
   ],
   "source": [
    "print(y_1_val) # output at t = 1"
   ]
  },
  {
   "cell_type": "code",
   "execution_count": null,
   "metadata": {},
   "outputs": [],
   "source": []
  },
  {
   "cell_type": "code",
   "execution_count": null,
   "metadata": {},
   "outputs": [],
   "source": []
  },
  {
   "cell_type": "code",
   "execution_count": null,
   "metadata": {},
   "outputs": [],
   "source": []
  }
 ],
 "metadata": {
  "kernelspec": {
   "display_name": "Python 3",
   "language": "python",
   "name": "python3"
  },
  "language_info": {
   "codemirror_mode": {
    "name": "ipython",
    "version": 3
   },
   "file_extension": ".py",
   "mimetype": "text/x-python",
   "name": "python",
   "nbconvert_exporter": "python",
   "pygments_lexer": "ipython3",
   "version": "3.6.9"
  }
 },
 "nbformat": 4,
 "nbformat_minor": 2
}
