{
 "cells": [
  {
   "cell_type": "markdown",
   "metadata": {},
   "source": [
    "$$\n",
    "D(p||q)=\\sum_i p_i\\log\\frac{p_i}{q_i}\n",
    "$$"
   ]
  },
  {
   "cell_type": "code",
   "execution_count": 17,
   "metadata": {},
   "outputs": [
    {
     "name": "stdout",
     "output_type": "stream",
     "text": [
      "[0.50235313 0.21151921 0.28612766]\n",
      "[0.16077333 0.29924492 0.53998174]\n",
      "[0.12697161 0.42070191 0.45232648]\n",
      "\n",
      "-0.06554312455380851\n"
     ]
    }
   ],
   "source": [
    "import numpy as np\n",
    "\n",
    "p = np.random.uniform(0.,1.,3)\n",
    "q = np.random.uniform(0.,1.,3) \n",
    "r = np.random.uniform(0.,1.,3) \n",
    "\n",
    "p = p / np.sum(p)\n",
    "q = q / np.sum(q)\n",
    "r = r / np.sum(r)\n",
    "print(p)\n",
    "print(q)\n",
    "print(r)\n",
    "print()\n",
    "\n",
    "d_pq = np.sum(p*np.log(p/q))\n",
    "d_qr = np.sum(q*np.log(q/r))\n",
    "d_pr = np.sum(p*np.log(p/r))\n",
    "print(d_pq+d_qr-d_pr)"
   ]
  },
  {
   "cell_type": "code",
   "execution_count": null,
   "metadata": {},
   "outputs": [],
   "source": []
  }
 ],
 "metadata": {
  "kernelspec": {
   "display_name": "Python 3",
   "language": "python",
   "name": "python3"
  },
  "language_info": {
   "codemirror_mode": {
    "name": "ipython",
    "version": 3
   },
   "file_extension": ".py",
   "mimetype": "text/x-python",
   "name": "python",
   "nbconvert_exporter": "python",
   "pygments_lexer": "ipython3",
   "version": "3.7.3"
  }
 },
 "nbformat": 4,
 "nbformat_minor": 2
}
