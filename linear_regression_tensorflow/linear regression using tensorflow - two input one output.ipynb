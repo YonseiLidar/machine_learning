{
 "cells": [
  {
   "cell_type": "code",
   "execution_count": 1,
   "metadata": {},
   "outputs": [],
   "source": [
    "def give_me_df(ticker):\n",
    "    import yfinance as yf\n",
    "    import pandas as pd\n",
    "    stock = yf.Ticker(ticker)\n",
    "    df = stock.history(period='max')\n",
    "    df[ticker] = df.Close.pct_change()\n",
    "    return df[[ticker]].iloc[1:]"
   ]
  },
  {
   "cell_type": "code",
   "execution_count": 2,
   "metadata": {},
   "outputs": [],
   "source": [
    "df1 = give_me_df('SPY') \n",
    "df2 = give_me_df('AAPL') \n",
    "df3 = give_me_df('FB') "
   ]
  },
  {
   "cell_type": "code",
   "execution_count": 5,
   "metadata": {},
   "outputs": [],
   "source": [
    "def join_dfs(*dfs):\n",
    "    import pandas as pd\n",
    "    for idx, df_ in enumerate(dfs):\n",
    "        if idx == 0:\n",
    "            df = df_\n",
    "        else:\n",
    "            df = df.join(df_, how='inner')\n",
    "    return df"
   ]
  },
  {
   "cell_type": "code",
   "execution_count": 6,
   "metadata": {},
   "outputs": [],
   "source": [
    "df = join_dfs(df1, df2, df3)"
   ]
  },
  {
   "cell_type": "code",
   "execution_count": 23,
   "metadata": {},
   "outputs": [],
   "source": [
    "def train_test_split(df, test_size_ratio=0.3):\n",
    "    import pandas as pd\n",
    "    import numpy as np\n",
    "    num_data = df.shape[0]\n",
    "    num_data_train = int(num_data * (1-test_size_ratio)) \n",
    "    xy_train = df.iloc[:num_data_train].values\n",
    "    xy_test = df.iloc[num_data_train:].values\n",
    "    x_train = xy_train[:,:-1].astype(np.float32)\n",
    "    y_train = xy_train[:,-1].astype(np.float32).reshape((-1,1))\n",
    "    x_test = xy_test[:,:-1].astype(np.float32)\n",
    "    y_test = xy_test[:,-1].astype(np.float32).reshape((-1,1))\n",
    "    return x_train, y_train, x_test, y_test"
   ]
  },
  {
   "cell_type": "code",
   "execution_count": 24,
   "metadata": {},
   "outputs": [
    {
     "name": "stdout",
     "output_type": "stream",
     "text": [
      "(1478, 2) (1478, 1) (634, 2) (634, 1)\n",
      "float32 float32 float32 float32\n"
     ]
    }
   ],
   "source": [
    "x_train, y_train, x_test, y_test = train_test_split(df) \n",
    "print(x_train.shape, y_train.shape, x_test.shape, y_test.shape)\n",
    "print(x_train.dtype, y_train.dtype, x_test.dtype, y_test.dtype)"
   ]
  },
  {
   "cell_type": "code",
   "execution_count": 17,
   "metadata": {},
   "outputs": [
    {
     "name": "stdout",
     "output_type": "stream",
     "text": [
      "Shape must be rank 2 but is rank 1 for 'matmul' (op: 'MatMul') with input shapes: [?,2], [2].\n"
     ]
    }
   ],
   "source": [
    "import tensorflow as tf\n",
    "tf.reset_default_graph()\n",
    "\n",
    "x = tf.placeholder(tf.float32, (None, 2), name='x')\n",
    "y = tf.placeholder(tf.float32, (None), name='y')\n",
    "\n",
    "init_w = tf.keras.initializers.VarianceScaling(seed=0)\n",
    "w = tf.get_variable('w', (2,), tf.float32, init_w)\n",
    "\n",
    "init_b = tf.keras.initializers.zeros()\n",
    "b = tf.get_variable('b', (), tf.float32, init_b)\n",
    "\n",
    "try:\n",
    "    y_pred = x @ w + b \n",
    "except ValueError as e:\n",
    "    print(e)"
   ]
  },
  {
   "cell_type": "code",
   "execution_count": 20,
   "metadata": {},
   "outputs": [
    {
     "name": "stdout",
     "output_type": "stream",
     "text": [
      "(?, 1) ()\n",
      "<dtype: 'float32'> <dtype: 'float32'>\n"
     ]
    }
   ],
   "source": [
    "import tensorflow as tf\n",
    "tf.reset_default_graph()\n",
    "\n",
    "x = tf.placeholder(tf.float32, (None, 2), name='x')\n",
    "y = tf.placeholder(tf.float32, (None, 1), name='y')\n",
    "\n",
    "init_w = tf.keras.initializers.VarianceScaling(seed=0)\n",
    "w = tf.get_variable('w', (2, 1), tf.float32, init_w)\n",
    "\n",
    "init_b = tf.keras.initializers.zeros()\n",
    "b = tf.get_variable('b', (), tf.float32, init_b)\n",
    "\n",
    "y_pred = x @ w + b # (None, 2) @ (2, 1) = (None, 1)\n",
    "\n",
    "diff = y - y_pred\n",
    "loss = tf.nn.l2_loss(diff)\n",
    "\n",
    "print(diff.shape, loss.shape)\n",
    "print(diff.dtype, loss.dtype)"
   ]
  },
  {
   "cell_type": "code",
   "execution_count": 28,
   "metadata": {},
   "outputs": [
    {
     "name": "stdout",
     "output_type": "stream",
     "text": [
      "[0.42124256, array([[-0.1151835 ],\n",
      "       [-0.10883532]], dtype=float32), -1.9513377]\n"
     ]
    }
   ],
   "source": [
    "import tensorflow as tf\n",
    "tf.reset_default_graph()\n",
    "\n",
    "x = tf.placeholder(tf.float32, (None, 2), name='x')\n",
    "y = tf.placeholder(tf.float32, (None, 1), name='y')\n",
    "\n",
    "init_w = tf.keras.initializers.VarianceScaling(seed=0)\n",
    "w = tf.get_variable('w', (2, 1), tf.float32, init_w)\n",
    "\n",
    "init_b = tf.keras.initializers.zeros()\n",
    "b = tf.get_variable('b', (), tf.float32, init_b)\n",
    "\n",
    "y_pred = x @ w + b # (None, 2) @ (2, 1) = (None, 1)\n",
    "\n",
    "diff = y - y_pred\n",
    "loss = tf.nn.l2_loss(diff)\n",
    "\n",
    "grads = tf.gradients(loss, [w, b])\n",
    "loss_w = grads[0]\n",
    "loss_b = grads[1]\n",
    "\n",
    "init = tf.global_variables_initializer()\n",
    "\n",
    "with tf.Session() as sess:\n",
    "    sess.run(init)\n",
    "    \n",
    "    feed_dict = {x: x_train, y: y_train}\n",
    "    print(sess.run([loss, loss_w, loss_b], feed_dict=feed_dict))"
   ]
  },
  {
   "cell_type": "code",
   "execution_count": 57,
   "metadata": {},
   "outputs": [
    {
     "name": "stdout",
     "output_type": "stream",
     "text": [
      "1/100000 : 0.4212425649166107\n",
      "10001/100000 : 0.36246925592422485\n",
      "20001/100000 : 0.3528771698474884\n",
      "30001/100000 : 0.3500916063785553\n",
      "40001/100000 : 0.3492817282676697\n",
      "50001/100000 : 0.3490462005138397\n",
      "60001/100000 : 0.3489777445793152\n",
      "70001/100000 : 0.3489578664302826\n",
      "80001/100000 : 0.348952054977417\n",
      "90001/100000 : 0.3489503562450409\n",
      "100000/100000 : 0.3489498794078827\n"
     ]
    }
   ],
   "source": [
    "lr = 1e-3\n",
    "epoch = int(1e5)\n",
    "\n",
    "import tensorflow as tf\n",
    "tf.reset_default_graph()\n",
    "\n",
    "x = tf.placeholder(tf.float32, (None, 2), name='x')\n",
    "y = tf.placeholder(tf.float32, (None, 1), name='y')\n",
    "\n",
    "init_w = tf.keras.initializers.VarianceScaling(seed=0)\n",
    "w = tf.get_variable('w', (2, 1), tf.float32, init_w)\n",
    "\n",
    "init_b = tf.keras.initializers.zeros()\n",
    "b = tf.get_variable('b', (), tf.float32, init_b)\n",
    "\n",
    "y_pred = x @ w + b # (None, 2) @ (2, 1) = (None, 1)\n",
    "\n",
    "diff = y - y_pred\n",
    "loss = tf.nn.l2_loss(diff)\n",
    "\n",
    "grads = tf.gradients(loss, [w, b])\n",
    "loss_w = grads[0]\n",
    "loss_b = grads[1]\n",
    "\n",
    "train = [tf.assign(w, w - lr * loss_w), tf.assign(b, b - lr * loss_b)]\n",
    "\n",
    "init = tf.global_variables_initializer()\n",
    "\n",
    "with tf.Session() as sess:\n",
    "    sess.run(init)\n",
    "    \n",
    "    feed_dict = {x: x_train, y: y_train}\n",
    "    loss_trace = []\n",
    "    w0_trace = []\n",
    "    w1_trace = []\n",
    "    b_trace = []\n",
    "    for i in range(epoch):\n",
    "        _, loss_run, w_run, b_run = sess.run([train, loss, w, b],\n",
    "                                             feed_dict=feed_dict)\n",
    "        loss_trace.append(loss_run)\n",
    "        w0_trace.append(w_run[0,0])\n",
    "        w1_trace.append(w_run[1,0])\n",
    "        b_trace.append(b_run)\n",
    "        if i%int(epoch/10)==0:\n",
    "            print(f'{i+1}/{epoch} : {loss_run}')\n",
    "        if i==(epoch-1):\n",
    "            print(f'{i+1}/{epoch} : {loss_run}')\n",
    "            \n",
    "    w_trained, b_trained = sess.run([w, b]) "
   ]
  },
  {
   "cell_type": "code",
   "execution_count": 58,
   "metadata": {},
   "outputs": [
    {
     "data": {
      "image/png": "[encoded data removed]",
      "text/plain": [
       "<Figure size 432x288 with 1 Axes>"
      ]
     },
     "metadata": {
      "needs_background": "light"
     },
     "output_type": "display_data"
    }
   ],
   "source": [
    "import matplotlib.pyplot as plt\n",
    "plt.plot(loss_trace)\n",
    "plt.show()"
   ]
  },
  {
   "cell_type": "code",
   "execution_count": 64,
   "metadata": {},
   "outputs": [
    {
     "data": {
      "image/png": "[encoded data removed]",
      "text/plain": [
       "<Figure size 432x288 with 1 Axes>"
      ]
     },
     "metadata": {
      "needs_background": "light"
     },
     "output_type": "display_data"
    }
   ],
   "source": [
    "import matplotlib.pyplot as plt\n",
    "plt.plot(w0_trace)\n",
    "plt.show()"
   ]
  },
  {
   "cell_type": "code",
   "execution_count": 65,
   "metadata": {},
   "outputs": [
    {
     "data": {
      "image/png": "[encoded data removed]",
      "text/plain": [
       "<Figure size 432x288 with 1 Axes>"
      ]
     },
     "metadata": {
      "needs_background": "light"
     },
     "output_type": "display_data"
    }
   ],
   "source": [
    "import matplotlib.pyplot as plt\n",
    "plt.plot(w1_trace)\n",
    "plt.show()"
   ]
  },
  {
   "cell_type": "code",
   "execution_count": 66,
   "metadata": {},
   "outputs": [
    {
     "data": {
      "image/png": "[encoded data removed]",
      "text/plain": [
       "<Figure size 432x288 with 1 Axes>"
      ]
     },
     "metadata": {
      "needs_background": "light"
     },
     "output_type": "display_data"
    }
   ],
   "source": [
    "import matplotlib.pyplot as plt\n",
    "plt.plot(b_trace)\n",
    "plt.show()"
   ]
  },
  {
   "cell_type": "code",
   "execution_count": 59,
   "metadata": {},
   "outputs": [],
   "source": [
    "with tf.Session() as sess:\n",
    "    feed_dict = {x: x_train, w: w_trained, b: b_trained}\n",
    "    y_train_pred = sess.run(y_pred, feed_dict=feed_dict)"
   ]
  },
  {
   "cell_type": "code",
   "execution_count": 61,
   "metadata": {},
   "outputs": [
    {
     "data": {
      "image/png": "[encoded data removed]",
      "text/plain": [
       "<Figure size 432x288 with 1 Axes>"
      ]
     },
     "metadata": {
      "needs_background": "light"
     },
     "output_type": "display_data"
    }
   ],
   "source": [
    "import matplotlib.pyplot as plt\n",
    "plt.plot(y_train.reshape((-1,)), y_train_pred.reshape((-1,)), '.')\n",
    "plt.show()"
   ]
  },
  {
   "cell_type": "code",
   "execution_count": 62,
   "metadata": {},
   "outputs": [],
   "source": [
    "with tf.Session() as sess:\n",
    "    feed_dict = {x: x_test, w: w_trained, b: b_trained}\n",
    "    y_test_pred = sess.run(y_pred, feed_dict=feed_dict)"
   ]
  },
  {
   "cell_type": "code",
   "execution_count": 63,
   "metadata": {},
   "outputs": [
    {
     "data": {
      "image/png": "[encoded data removed]",
      "text/plain": [
       "<Figure size 432x288 with 1 Axes>"
      ]
     },
     "metadata": {
      "needs_background": "light"
     },
     "output_type": "display_data"
    }
   ],
   "source": [
    "import matplotlib.pyplot as plt\n",
    "plt.plot(y_test.reshape((-1,)), y_test_pred.reshape((-1,)), '.')\n",
    "plt.show()"
   ]
  },
  {
   "cell_type": "code",
   "execution_count": null,
   "metadata": {},
   "outputs": [],
   "source": []
  }
 ],
 "metadata": {
  "kernelspec": {
   "display_name": "Python 3",
   "language": "python",
   "name": "python3"
  },
  "language_info": {
   "codemirror_mode": {
    "name": "ipython",
    "version": 3
   },
   "file_extension": ".py",
   "mimetype": "text/x-python",
   "name": "python",
   "nbconvert_exporter": "python",
   "pygments_lexer": "ipython3",
   "version": "3.7.5"
  }
 },
 "nbformat": 4,
 "nbformat_minor": 4
}
