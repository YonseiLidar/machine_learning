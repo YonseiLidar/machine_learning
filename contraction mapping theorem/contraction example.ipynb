{
 "cells": [
  {
   "cell_type": "markdown",
   "metadata": {},
   "source": [
    "$$a_{n+1}=\\sqrt{1+a_n},\\quad a_0=\\sqrt{2}$$"
   ]
  },
  {
   "cell_type": "markdown",
   "metadata": {},
   "source": [
    "$$\\begin{array}{lll}\n",
    "a=\\sqrt{1+a}\n",
    "&\\Rightarrow&a^2=1+a\\\\\n",
    "&\\Rightarrow&a^2-a-1=0\\\\\n",
    "&\\Rightarrow&a=\\frac{-(-1)\\pm\\sqrt{(-1)^2-4*1*(-1)}}{2*1}=\\frac{1\\pm\\sqrt{5}}{2}\\quad (\\mbox{since $a$ should be positive})\\\\\n",
    "&\\Rightarrow&a=\\frac{1+\\sqrt{5}}{2} \\\\\n",
    "\\end{array}$$"
   ]
  },
  {
   "cell_type": "markdown",
   "metadata": {},
   "source": [
    "With $f(x)=\\sqrt{1+x}$, $f'(x)=\\frac{1}{2\\sqrt{1+x}}$, and $|f'(x)|=\\frac{1}{2\\sqrt{1+x}}\\le \\frac{1}{2}$ for $x\\ge 0$ \n",
    "$$\\begin{array}{lll}\n",
    "|a_{n+2}-a_{n+1}|\n",
    "&=&\n",
    "|f(a_{n+1})-f(a_{n})|\\\\\n",
    "&=&\n",
    "|\\int_{\\min\\{a_n, a_{n+1}\\}}^{\\max\\{a_n, a_{n+1}\\}} f'(x)dx|\\\\\n",
    "&\\le&\n",
    "\\int_{\\min\\{a_n, a_{n+1}\\}}^{\\max\\{a_n, a_{n+1}\\}} |f'(x)|dx\\\\\n",
    "&\\le&\n",
    "\\int_{\\min\\{a_n, a_{n+1}\\}}^{\\max\\{a_n, a_{n+1}\\}} \\frac{1}{2}dx\\\\\n",
    "&=&\n",
    "\\frac{1}{2}|a_{n+1}-a_{n}|\\\\\n",
    "\\end{array}$$"
   ]
  },
  {
   "cell_type": "markdown",
   "metadata": {},
   "source": [
    "$$\\begin{array}{lll}\n",
    "|a_{n+m}-a_{n}|\n",
    "&\\le&\n",
    "\\sum_{i=1}^m|a_{n+i}-a_{n+(i-1)}|\\\\\n",
    "&\\le&\n",
    "\\sum_{i=1}^m2^{i-1}|a_{n+1}-a_{n}|\\\\\n",
    "&\\le&\n",
    "\\sum_{i=1}^\\infty2^{i-1}|a_{n+1}-a_{n}|\\\\\n",
    "&=&\n",
    "2|a_{n+1}-a_{n}|\\\\\n",
    "&\\le&\n",
    "2^{1-((n+1)-1)}|a_{1}-a_{0}|\\\\\n",
    "\\end{array}$$"
   ]
  },
  {
   "cell_type": "markdown",
   "metadata": {},
   "source": [
    "$$\n",
    "|a-a_n|\\le 2^{-n+1}|a_{1}-a_{0}|\n",
    "\\quad\\Rightarrow\\quad\n",
    "|a-a_n|\\le C2^{-n}\n",
    "$$"
   ]
  },
  {
   "cell_type": "code",
   "execution_count": 24,
   "metadata": {},
   "outputs": [
    {
     "data": {
      "image/png": "[encoded data removed]",
      "text/plain": [
       "<Figure size 432x288 with 1 Axes>"
      ]
     },
     "metadata": {
      "needs_background": "light"
     },
     "output_type": "display_data"
    }
   ],
   "source": [
    "import matplotlib.pyplot as plt\n",
    "import numpy as np\n",
    "\n",
    "n_terms = 5\n",
    "\n",
    "a_n = [np.sqrt(2)]\n",
    "xticks = [0]\n",
    "for i in range(1, n_terms):\n",
    "    last_term = a_n[-1]\n",
    "    next_term = np.sqrt(1 + last_term)\n",
    "    a_n.append(next_term)\n",
    "    xticks.append(i)\n",
    "a_n = np.array(a_n)\n",
    "\n",
    "target = ((1 + np.sqrt(5)) / 2) * np.ones_like(a_n)\n",
    "\n",
    "a_0 = a_n[0]\n",
    "a_1 = a_n[1]\n",
    "bound = 2.**(-np.arange(n_terms)+1) * (a_1-a_0)\n",
    "upper_bound = target + bound\n",
    "lower_bound = target - bound\n",
    "\n",
    "plt.fill_between(np.arange(n_terms), lower_bound, upper_bound, \n",
    "                 alpha=0.1, label='Bound')\n",
    "plt.plot(target, '--b', \n",
    "         alpha=0.2, label='Limit')\n",
    "plt.plot(a_n, '--or', \n",
    "         label='Sequence')\n",
    "plt.xticks(xticks)\n",
    "plt.legend()\n",
    "plt.show()"
   ]
  },
  {
   "cell_type": "code",
   "execution_count": null,
   "metadata": {},
   "outputs": [],
   "source": []
  }
 ],
 "metadata": {
  "kernelspec": {
   "display_name": "Python 3",
   "language": "python",
   "name": "python3"
  },
  "language_info": {
   "codemirror_mode": {
    "name": "ipython",
    "version": 3
   },
   "file_extension": ".py",
   "mimetype": "text/x-python",
   "name": "python",
   "nbconvert_exporter": "python",
   "pygments_lexer": "ipython3",
   "version": "3.7.7"
  }
 },
 "nbformat": 4,
 "nbformat_minor": 4
}
